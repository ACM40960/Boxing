{
 "cells": [
  {
   "cell_type": "markdown",
   "id": "28b75008",
   "metadata": {},
   "source": [
    "#### Data Collection"
   ]
  },
  {
   "cell_type": "markdown",
   "id": "ab1c5674",
   "metadata": {},
   "source": [
    "##### Punches\n"
   ]
  },
  {
   "cell_type": "code",
   "execution_count": null,
   "id": "a224e88b",
   "metadata": {},
   "outputs": [
    {
     "name": "stdout",
     "output_type": "stream",
     "text": [
      "\n",
      "🎥 IP Webcam Recorder (Preview Always On)\n",
      "  a → jab / orthodox / left\n",
      "  b → jab / orthodox / right\n",
      "  c → jab / southpaw / left\n",
      "  d → jab / southpaw / right\n",
      "  e → cross / orthodox / left\n",
      "  f → cross / orthodox / right\n",
      "  g → cross / southpaw / left\n",
      "  h → cross / southpaw / right\n",
      "  i → hook / orthodox / left\n",
      "  j → hook / orthodox / right\n",
      "  k → hook / southpaw / left\n",
      "  l → hook / southpaw / right\n",
      "  m → uppercut / orthodox / left\n",
      "  n → uppercut / orthodox / right\n",
      "  o → uppercut / southpaw / left\n",
      "  p → uppercut / southpaw / right\n",
      "  z → negative / orthodox / left\n",
      "  y → negative / southpaw / right\n",
      "  s → negative / orthodox / right\n",
      "  t → negative / southpaw / left\n",
      "  1 → block / orthodox / right\n",
      "  2 → block / southpaw / left\n",
      "  3 → block / orthodox / left\n",
      "  4 → block / southpaw / right\n",
      "Press 'q' to quit.\n",
      "\n",
      "\n",
      "🎬 Recording CROSS (orthodox, left) — Sample #001\n",
      "✅ Saved 2 clips to: boxing_dataset/raw/cross\n"
     ]
    },
    {
     "name": "stderr",
     "output_type": "stream",
     "text": [
      "[mjpeg @ 0x20dfa640] overread 8\n"
     ]
    },
    {
     "name": "stdout",
     "output_type": "stream",
     "text": [
      "\n",
      "🎬 Recording CROSS (orthodox, left) — Sample #002\n",
      "✅ Saved 2 clips to: boxing_dataset/raw/cross\n",
      "\n",
      "🎬 Recording CROSS (orthodox, left) — Sample #003\n",
      "✅ Saved 2 clips to: boxing_dataset/raw/cross\n"
     ]
    },
    {
     "name": "stderr",
     "output_type": "stream",
     "text": [
      "[mjpeg @ 0x202ffb00] overread 8\n",
      "[mjpeg @ 0x20dfa640] overread 8\n",
      "[mjpeg @ 0x202ffb00] overread 8\n",
      "[mjpeg @ 0x20dfa640] overread 8\n",
      "[mjpeg @ 0x20dfa640] overread 6\n",
      "[mjpeg @ 0x20dfa640] overread 8\n"
     ]
    },
    {
     "name": "stdout",
     "output_type": "stream",
     "text": [
      "\n",
      "🎬 Recording CROSS (orthodox, left) — Sample #001\n",
      "✅ Saved 2 clips to: boxing_dataset/raw/cross\n"
     ]
    },
    {
     "name": "stderr",
     "output_type": "stream",
     "text": [
      "[mjpeg @ 0x20dfa640] overread 8\n",
      "[mjpeg @ 0x20dfa640] overread 8\n",
      "[mjpeg @ 0x202ffb00] overread 8\n",
      "[mjpeg @ 0x20dfa640] overread 8\n",
      "[mjpeg @ 0x20dfa640] overread 8\n",
      "[mjpeg @ 0x20dfa640] overread 8\n",
      "[mjpeg @ 0x20dfa640] overread 8\n",
      "[mjpeg @ 0x20dfa640] overread 1\n",
      "[mjpeg @ 0x20dfa640] overread 8\n",
      "[mjpeg @ 0x20dfa640] overread 8\n"
     ]
    },
    {
     "name": "stdout",
     "output_type": "stream",
     "text": [
      "\n",
      "🎬 Recording CROSS (orthodox, left) — Sample #002\n",
      "✅ Saved 2 clips to: boxing_dataset/raw/cross\n",
      "\n",
      "🎬 Recording CROSS (orthodox, left) — Sample #003\n",
      "✅ Saved 2 clips to: boxing_dataset/raw/cross\n",
      "\n",
      "🎬 Recording CROSS (orthodox, left) — Sample #004\n",
      "✅ Saved 2 clips to: boxing_dataset/raw/cross\n",
      "\n",
      "🎬 Recording CROSS (orthodox, left) — Sample #005\n",
      "✅ Saved 2 clips to: boxing_dataset/raw/cross\n",
      "\n",
      "🎬 Recording CROSS (orthodox, left) — Sample #006\n",
      "✅ Saved 2 clips to: boxing_dataset/raw/cross\n",
      "\n",
      "🎬 Recording CROSS (orthodox, left) — Sample #007\n",
      "✅ Saved 2 clips to: boxing_dataset/raw/cross\n",
      "\n",
      "🎬 Recording CROSS (orthodox, left) — Sample #008\n",
      "✅ Saved 2 clips to: boxing_dataset/raw/cross\n",
      "\n",
      "🎬 Recording CROSS (orthodox, left) — Sample #009\n",
      "✅ Saved 2 clips to: boxing_dataset/raw/cross\n",
      "\n",
      "🎬 Recording CROSS (orthodox, left) — Sample #010\n",
      "✅ Saved 2 clips to: boxing_dataset/raw/cross\n",
      "\n",
      "🎬 Recording CROSS (orthodox, left) — Sample #011\n",
      "✅ Saved 2 clips to: boxing_dataset/raw/cross\n",
      "\n",
      "🎬 Recording CROSS (orthodox, left) — Sample #012\n",
      "✅ Saved 2 clips to: boxing_dataset/raw/cross\n",
      "\n",
      "🎬 Recording CROSS (orthodox, left) — Sample #013\n",
      "✅ Saved 2 clips to: boxing_dataset/raw/cross\n",
      "\n",
      "🎬 Recording CROSS (orthodox, left) — Sample #014\n",
      "✅ Saved 2 clips to: boxing_dataset/raw/cross\n",
      "\n",
      "🎬 Recording CROSS (orthodox, left) — Sample #015\n",
      "✅ Saved 2 clips to: boxing_dataset/raw/cross\n",
      "\n",
      "🎬 Recording CROSS (orthodox, left) — Sample #016\n",
      "✅ Saved 2 clips to: boxing_dataset/raw/cross\n",
      "\n",
      "🎬 Recording CROSS (orthodox, left) — Sample #017\n",
      "✅ Saved 2 clips to: boxing_dataset/raw/cross\n",
      "\n",
      "🎬 Recording CROSS (orthodox, left) — Sample #018\n",
      "✅ Saved 2 clips to: boxing_dataset/raw/cross\n",
      "\n",
      "🎬 Recording CROSS (orthodox, left) — Sample #019\n",
      "✅ Saved 2 clips to: boxing_dataset/raw/cross\n",
      "\n",
      "🎬 Recording CROSS (orthodox, left) — Sample #020\n",
      "✅ Saved 2 clips to: boxing_dataset/raw/cross\n"
     ]
    },
    {
     "name": "stderr",
     "output_type": "stream",
     "text": [
      "[mjpeg @ 0x20dfa640] overread 8\n"
     ]
    },
    {
     "name": "stdout",
     "output_type": "stream",
     "text": [
      "\n",
      "🎬 Recording CROSS (orthodox, left) — Sample #021\n",
      "✅ Saved 2 clips to: boxing_dataset/raw/cross\n",
      "\n",
      "🎬 Recording CROSS (orthodox, left) — Sample #022\n",
      "✅ Saved 2 clips to: boxing_dataset/raw/cross\n",
      "\n",
      "🎬 Recording CROSS (orthodox, left) — Sample #023\n",
      "✅ Saved 2 clips to: boxing_dataset/raw/cross\n",
      "\n",
      "🎬 Recording CROSS (orthodox, left) — Sample #024\n",
      "✅ Saved 2 clips to: boxing_dataset/raw/cross\n",
      "\n",
      "🎬 Recording CROSS (orthodox, left) — Sample #025\n",
      "✅ Saved 2 clips to: boxing_dataset/raw/cross\n",
      "\n",
      "🎬 Recording CROSS (orthodox, left) — Sample #026\n",
      "✅ Saved 2 clips to: boxing_dataset/raw/cross\n",
      "\n",
      "🎬 Recording CROSS (orthodox, left) — Sample #027\n",
      "✅ Saved 2 clips to: boxing_dataset/raw/cross\n",
      "\n",
      "🎬 Recording CROSS (orthodox, left) — Sample #028\n",
      "✅ Saved 2 clips to: boxing_dataset/raw/cross\n",
      "\n",
      "🎬 Recording CROSS (orthodox, left) — Sample #029\n",
      "✅ Saved 2 clips to: boxing_dataset/raw/cross\n",
      "\n",
      "🎬 Recording CROSS (orthodox, left) — Sample #030\n"
     ]
    },
    {
     "name": "stderr",
     "output_type": "stream",
     "text": [
      "[mjpeg @ 0x206bb0c0] overread 8\n"
     ]
    },
    {
     "name": "stdout",
     "output_type": "stream",
     "text": [
      "✅ Saved 2 clips to: boxing_dataset/raw/cross\n",
      "\n",
      "🎬 Recording CROSS (orthodox, left) — Sample #031\n",
      "✅ Saved 2 clips to: boxing_dataset/raw/cross\n",
      "\n",
      "🎬 Recording CROSS (orthodox, left) — Sample #032\n",
      "✅ Saved 2 clips to: boxing_dataset/raw/cross\n",
      "\n",
      "🎬 Recording CROSS (orthodox, left) — Sample #033\n",
      "✅ Saved 2 clips to: boxing_dataset/raw/cross\n",
      "\n",
      "🎬 Recording CROSS (orthodox, left) — Sample #034\n",
      "✅ Saved 2 clips to: boxing_dataset/raw/cross\n",
      "\n",
      "🎬 Recording CROSS (orthodox, left) — Sample #035\n",
      "✅ Saved 2 clips to: boxing_dataset/raw/cross\n",
      "\n",
      "🎬 Recording CROSS (orthodox, left) — Sample #036\n",
      "✅ Saved 2 clips to: boxing_dataset/raw/cross\n",
      "\n",
      "🎬 Recording CROSS (orthodox, left) — Sample #037\n",
      "✅ Saved 2 clips to: boxing_dataset/raw/cross\n",
      "\n",
      "🎬 Recording CROSS (orthodox, left) — Sample #038\n",
      "✅ Saved 2 clips to: boxing_dataset/raw/cross\n",
      "\n",
      "🎬 Recording CROSS (orthodox, left) — Sample #039\n",
      "✅ Saved 2 clips to: boxing_dataset/raw/cross\n",
      "\n",
      "🎬 Recording CROSS (orthodox, left) — Sample #040\n",
      "✅ Saved 2 clips to: boxing_dataset/raw/cross\n",
      "\n",
      "🎬 Recording CROSS (orthodox, left) — Sample #041\n",
      "✅ Saved 2 clips to: boxing_dataset/raw/cross\n",
      "\n",
      "🎬 Recording CROSS (orthodox, left) — Sample #042\n",
      "✅ Saved 2 clips to: boxing_dataset/raw/cross\n",
      "\n",
      "🎬 Recording CROSS (orthodox, left) — Sample #043\n",
      "✅ Saved 2 clips to: boxing_dataset/raw/cross\n",
      "\n",
      "🎬 Recording CROSS (orthodox, left) — Sample #044\n",
      "✅ Saved 2 clips to: boxing_dataset/raw/cross\n",
      "\n",
      "🎬 Recording CROSS (orthodox, left) — Sample #045\n",
      "✅ Saved 2 clips to: boxing_dataset/raw/cross\n",
      "\n",
      "🎬 Recording CROSS (orthodox, left) — Sample #046\n",
      "✅ Saved 2 clips to: boxing_dataset/raw/cross\n",
      "\n",
      "🎬 Recording CROSS (orthodox, left) — Sample #047\n",
      "✅ Saved 2 clips to: boxing_dataset/raw/cross\n",
      "\n",
      "🎬 Recording CROSS (orthodox, left) — Sample #048\n",
      "✅ Saved 2 clips to: boxing_dataset/raw/cross\n",
      "\n",
      "🎬 Recording CROSS (orthodox, left) — Sample #049\n",
      "✅ Saved 2 clips to: boxing_dataset/raw/cross\n",
      "\n",
      "🎬 Recording CROSS (orthodox, left) — Sample #050\n",
      "✅ Saved 2 clips to: boxing_dataset/raw/cross\n"
     ]
    },
    {
     "name": "stderr",
     "output_type": "stream",
     "text": [
      "[mjpeg @ 0x202ffb00] overread 8\n",
      "[mjpeg @ 0x20dfa640] overread 8\n",
      "[mjpeg @ 0x20dfa640] overread 8\n",
      "[mjpeg @ 0x20dfa640] overread 8\n",
      "[mjpeg @ 0x20dfa640] overread 8\n"
     ]
    },
    {
     "name": "stdout",
     "output_type": "stream",
     "text": [
      "\n",
      "🎬 Recording NEGATIVE (orthodox, right) — Sample #001\n",
      "✅ Saved 2 clips to: boxing_dataset/raw/negative\n",
      "\n",
      "🎬 Recording NEGATIVE (orthodox, right) — Sample #002\n"
     ]
    },
    {
     "name": "stderr",
     "output_type": "stream",
     "text": [
      "[mjpeg @ 0x25d0e240] overread 8\n"
     ]
    },
    {
     "name": "stdout",
     "output_type": "stream",
     "text": [
      "✅ Saved 2 clips to: boxing_dataset/raw/negative\n",
      "\n",
      "🎬 Recording NEGATIVE (orthodox, right) — Sample #003\n",
      "✅ Saved 2 clips to: boxing_dataset/raw/negative\n"
     ]
    },
    {
     "name": "stderr",
     "output_type": "stream",
     "text": [
      "[mjpeg @ 0x202ffb00] overread 8\n"
     ]
    },
    {
     "name": "stdout",
     "output_type": "stream",
     "text": [
      "\n",
      "🎬 Recording NEGATIVE (orthodox, right) — Sample #004\n",
      "✅ Saved 2 clips to: boxing_dataset/raw/negative\n",
      "\n",
      "🎬 Recording NEGATIVE (orthodox, right) — Sample #005\n",
      "✅ Saved 2 clips to: boxing_dataset/raw/negative\n",
      "\n",
      "🎬 Recording NEGATIVE (orthodox, right) — Sample #006\n"
     ]
    },
    {
     "name": "stderr",
     "output_type": "stream",
     "text": [
      "[mjpeg @ 0x20049dc0] overread 8\n"
     ]
    },
    {
     "name": "stdout",
     "output_type": "stream",
     "text": [
      "✅ Saved 2 clips to: boxing_dataset/raw/negative\n",
      "\n",
      "🎬 Recording NEGATIVE (orthodox, right) — Sample #007\n",
      "✅ Saved 2 clips to: boxing_dataset/raw/negative\n",
      "\n",
      "🎬 Recording NEGATIVE (orthodox, right) — Sample #008\n",
      "✅ Saved 2 clips to: boxing_dataset/raw/negative\n",
      "\n",
      "🎬 Recording NEGATIVE (orthodox, right) — Sample #009\n",
      "✅ Saved 2 clips to: boxing_dataset/raw/negative\n",
      "\n",
      "🎬 Recording NEGATIVE (orthodox, right) — Sample #010\n",
      "✅ Saved 2 clips to: boxing_dataset/raw/negative\n",
      "\n",
      "🎬 Recording NEGATIVE (orthodox, right) — Sample #011\n",
      "✅ Saved 2 clips to: boxing_dataset/raw/negative\n",
      "\n",
      "🎬 Recording NEGATIVE (orthodox, right) — Sample #012\n",
      "✅ Saved 2 clips to: boxing_dataset/raw/negative\n",
      "\n",
      "🎬 Recording NEGATIVE (orthodox, right) — Sample #013\n",
      "✅ Saved 2 clips to: boxing_dataset/raw/negative\n",
      "\n",
      "🎬 Recording NEGATIVE (orthodox, right) — Sample #014\n",
      "✅ Saved 2 clips to: boxing_dataset/raw/negative\n",
      "\n",
      "🎬 Recording NEGATIVE (orthodox, right) — Sample #015\n",
      "✅ Saved 2 clips to: boxing_dataset/raw/negative\n",
      "\n",
      "🎬 Recording NEGATIVE (orthodox, right) — Sample #016\n",
      "✅ Saved 2 clips to: boxing_dataset/raw/negative\n"
     ]
    },
    {
     "name": "stderr",
     "output_type": "stream",
     "text": [
      "[mjpeg @ 0x20dfa640] overread 8\n",
      "[mjpeg @ 0x20dfa640] overread 8\n",
      "[mjpeg @ 0x20dfa640] overread 8\n",
      "[mjpeg @ 0x20dfa640] overread 8\n",
      "[mjpeg @ 0x20dfa640] overread 8\n",
      "[mjpeg @ 0x202ffb00] overread 8\n"
     ]
    },
    {
     "name": "stdout",
     "output_type": "stream",
     "text": [
      "\n",
      "🎬 Recording NEGATIVE (orthodox, right) — Sample #017\n",
      "✅ Saved 2 clips to: boxing_dataset/raw/negative\n",
      "\n",
      "🎬 Recording NEGATIVE (orthodox, right) — Sample #018\n",
      "✅ Saved 2 clips to: boxing_dataset/raw/negative\n"
     ]
    },
    {
     "name": "stderr",
     "output_type": "stream",
     "text": [
      "[mjpeg @ 0x20dfa640] overread 8\n",
      "[mjpeg @ 0x20dfa640] overread 6\n",
      "[mjpeg @ 0x20dfa640] overread 8\n"
     ]
    },
    {
     "name": "stdout",
     "output_type": "stream",
     "text": [
      "\n",
      "🎬 Recording NEGATIVE (orthodox, right) — Sample #019\n",
      "✅ Saved 2 clips to: boxing_dataset/raw/negative\n",
      "\n",
      "🎬 Recording NEGATIVE (orthodox, right) — Sample #020\n",
      "✅ Saved 2 clips to: boxing_dataset/raw/negative\n",
      "\n",
      "🎬 Recording NEGATIVE (orthodox, right) — Sample #021\n",
      "✅ Saved 2 clips to: boxing_dataset/raw/negative\n",
      "\n",
      "🎬 Recording NEGATIVE (orthodox, right) — Sample #022\n",
      "✅ Saved 2 clips to: boxing_dataset/raw/negative\n",
      "\n",
      "🎬 Recording NEGATIVE (orthodox, right) — Sample #023\n",
      "✅ Saved 2 clips to: boxing_dataset/raw/negative\n",
      "\n",
      "🎬 Recording NEGATIVE (orthodox, right) — Sample #024\n",
      "✅ Saved 2 clips to: boxing_dataset/raw/negative\n",
      "\n",
      "🎬 Recording NEGATIVE (orthodox, right) — Sample #025\n",
      "✅ Saved 2 clips to: boxing_dataset/raw/negative\n",
      "\n",
      "🎬 Recording NEGATIVE (orthodox, right) — Sample #026\n",
      "✅ Saved 2 clips to: boxing_dataset/raw/negative\n",
      "\n",
      "🎬 Recording NEGATIVE (orthodox, right) — Sample #027\n",
      "✅ Saved 2 clips to: boxing_dataset/raw/negative\n",
      "\n",
      "🎬 Recording NEGATIVE (orthodox, right) — Sample #028\n",
      "✅ Saved 2 clips to: boxing_dataset/raw/negative\n",
      "\n",
      "🎬 Recording NEGATIVE (orthodox, right) — Sample #029\n",
      "✅ Saved 2 clips to: boxing_dataset/raw/negative\n"
     ]
    },
    {
     "name": "stderr",
     "output_type": "stream",
     "text": [
      "[mjpeg @ 0x202ffb00] overread 8\n"
     ]
    },
    {
     "name": "stdout",
     "output_type": "stream",
     "text": [
      "\n",
      "🎬 Recording NEGATIVE (orthodox, right) — Sample #030\n",
      "✅ Saved 2 clips to: boxing_dataset/raw/negative\n",
      "\n",
      "🎬 Recording NEGATIVE (orthodox, right) — Sample #031\n",
      "✅ Saved 2 clips to: boxing_dataset/raw/negative\n",
      "\n",
      "🎬 Recording NEGATIVE (orthodox, right) — Sample #032\n",
      "✅ Saved 2 clips to: boxing_dataset/raw/negative\n"
     ]
    },
    {
     "name": "stderr",
     "output_type": "stream",
     "text": [
      "[mjpeg @ 0x202ffb00] overread 8\n"
     ]
    },
    {
     "name": "stdout",
     "output_type": "stream",
     "text": [
      "\n",
      "🎬 Recording NEGATIVE (orthodox, right) — Sample #033\n",
      "✅ Saved 2 clips to: boxing_dataset/raw/negative\n",
      "\n",
      "🎬 Recording NEGATIVE (orthodox, right) — Sample #034\n",
      "✅ Saved 2 clips to: boxing_dataset/raw/negative\n",
      "\n",
      "🎬 Recording NEGATIVE (orthodox, right) — Sample #035\n",
      "✅ Saved 2 clips to: boxing_dataset/raw/negative\n",
      "\n",
      "🎬 Recording NEGATIVE (orthodox, right) — Sample #036\n",
      "✅ Saved 2 clips to: boxing_dataset/raw/negative\n",
      "\n",
      "🎬 Recording NEGATIVE (orthodox, right) — Sample #037\n"
     ]
    },
    {
     "name": "stderr",
     "output_type": "stream",
     "text": [
      "[mjpeg @ 0x20650d40] overread 7\n"
     ]
    },
    {
     "name": "stdout",
     "output_type": "stream",
     "text": [
      "✅ Saved 2 clips to: boxing_dataset/raw/negative\n",
      "\n",
      "🎬 Recording NEGATIVE (orthodox, right) — Sample #038\n",
      "✅ Saved 2 clips to: boxing_dataset/raw/negative\n",
      "\n",
      "🎬 Recording NEGATIVE (orthodox, right) — Sample #039\n",
      "✅ Saved 2 clips to: boxing_dataset/raw/negative\n",
      "\n",
      "🎬 Recording NEGATIVE (orthodox, right) — Sample #040\n",
      "✅ Saved 2 clips to: boxing_dataset/raw/negative\n",
      "\n",
      "🎬 Recording NEGATIVE (orthodox, right) — Sample #041\n",
      "✅ Saved 2 clips to: boxing_dataset/raw/negative\n",
      "\n",
      "🎬 Recording NEGATIVE (orthodox, right) — Sample #042\n",
      "✅ Saved 2 clips to: boxing_dataset/raw/negative\n",
      "\n",
      "🎬 Recording NEGATIVE (orthodox, right) — Sample #043\n",
      "✅ Saved 2 clips to: boxing_dataset/raw/negative\n",
      "\n",
      "🎬 Recording NEGATIVE (orthodox, right) — Sample #044\n",
      "✅ Saved 2 clips to: boxing_dataset/raw/negative\n",
      "\n",
      "🎬 Recording NEGATIVE (orthodox, right) — Sample #045\n",
      "✅ Saved 2 clips to: boxing_dataset/raw/negative\n",
      "\n",
      "🎬 Recording NEGATIVE (orthodox, right) — Sample #046\n",
      "✅ Saved 2 clips to: boxing_dataset/raw/negative\n",
      "\n",
      "🎬 Recording NEGATIVE (orthodox, right) — Sample #047\n",
      "✅ Saved 2 clips to: boxing_dataset/raw/negative\n",
      "\n",
      "🎬 Recording NEGATIVE (orthodox, right) — Sample #048\n",
      "✅ Saved 2 clips to: boxing_dataset/raw/negative\n",
      "\n",
      "🎬 Recording NEGATIVE (orthodox, right) — Sample #049\n",
      "✅ Saved 2 clips to: boxing_dataset/raw/negative\n",
      "\n",
      "🎬 Recording NEGATIVE (orthodox, right) — Sample #050\n",
      "✅ Saved 2 clips to: boxing_dataset/raw/negative\n"
     ]
    },
    {
     "name": "stderr",
     "output_type": "stream",
     "text": [
      "[mjpeg @ 0x20dfa640] overread 8\n",
      "[mjpeg @ 0x20dfa640] overread 8\n",
      "[mjpeg @ 0x202ffb00] overread 8\n",
      "[mjpeg @ 0x20dfa640] overread 8\n",
      "[mjpeg @ 0x20dfa640] overread 8\n",
      "[mjpeg @ 0x202ffb00] overread 8\n",
      "[mjpeg @ 0x202ffb00] overread 8\n",
      "[mjpeg @ 0x20dfa640] overread 8\n",
      "[mjpeg @ 0x20dfa640] overread 8\n",
      "[mjpeg @ 0x202ffb00] overread 8\n",
      "[mjpeg @ 0x20dfa640] overread 8\n"
     ]
    },
    {
     "name": "stdout",
     "output_type": "stream",
     "text": [
      "\n",
      "🎬 Recording NEGATIVE (southpaw, left) — Sample #001\n",
      "✅ Saved 2 clips to: boxing_dataset/raw/negative\n",
      "\n",
      "🎬 Recording NEGATIVE (southpaw, left) — Sample #002\n",
      "✅ Saved 2 clips to: boxing_dataset/raw/negative\n",
      "\n",
      "🎬 Recording NEGATIVE (southpaw, left) — Sample #003\n",
      "✅ Saved 2 clips to: boxing_dataset/raw/negative\n",
      "\n",
      "🎬 Recording NEGATIVE (southpaw, left) — Sample #004\n",
      "✅ Saved 2 clips to: boxing_dataset/raw/negative\n",
      "\n",
      "🎬 Recording NEGATIVE (southpaw, left) — Sample #005\n",
      "✅ Saved 2 clips to: boxing_dataset/raw/negative\n",
      "\n",
      "🎬 Recording NEGATIVE (southpaw, left) — Sample #006\n",
      "✅ Saved 2 clips to: boxing_dataset/raw/negative\n",
      "\n",
      "🎬 Recording NEGATIVE (southpaw, left) — Sample #007\n",
      "✅ Saved 2 clips to: boxing_dataset/raw/negative\n",
      "\n",
      "🎬 Recording NEGATIVE (southpaw, left) — Sample #008\n",
      "✅ Saved 2 clips to: boxing_dataset/raw/negative\n",
      "\n",
      "🎬 Recording NEGATIVE (southpaw, left) — Sample #009\n",
      "✅ Saved 2 clips to: boxing_dataset/raw/negative\n",
      "\n",
      "🎬 Recording NEGATIVE (southpaw, left) — Sample #010\n",
      "✅ Saved 2 clips to: boxing_dataset/raw/negative\n",
      "\n",
      "🎬 Recording NEGATIVE (southpaw, left) — Sample #011\n",
      "✅ Saved 2 clips to: boxing_dataset/raw/negative\n",
      "\n",
      "🎬 Recording NEGATIVE (southpaw, left) — Sample #012\n",
      "✅ Saved 2 clips to: boxing_dataset/raw/negative\n",
      "\n",
      "🎬 Recording NEGATIVE (southpaw, left) — Sample #013\n",
      "✅ Saved 2 clips to: boxing_dataset/raw/negative\n",
      "\n",
      "🎬 Recording NEGATIVE (southpaw, left) — Sample #014\n",
      "✅ Saved 2 clips to: boxing_dataset/raw/negative\n",
      "\n",
      "🎬 Recording NEGATIVE (southpaw, left) — Sample #015\n",
      "✅ Saved 2 clips to: boxing_dataset/raw/negative\n",
      "\n",
      "🎬 Recording NEGATIVE (southpaw, left) — Sample #016\n",
      "✅ Saved 2 clips to: boxing_dataset/raw/negative\n",
      "\n",
      "🎬 Recording NEGATIVE (southpaw, left) — Sample #017\n",
      "✅ Saved 2 clips to: boxing_dataset/raw/negative\n",
      "\n",
      "🎬 Recording NEGATIVE (southpaw, left) — Sample #018\n",
      "✅ Saved 2 clips to: boxing_dataset/raw/negative\n",
      "\n",
      "🎬 Recording NEGATIVE (southpaw, left) — Sample #019\n",
      "✅ Saved 2 clips to: boxing_dataset/raw/negative\n",
      "\n",
      "🎬 Recording NEGATIVE (southpaw, left) — Sample #020\n",
      "✅ Saved 2 clips to: boxing_dataset/raw/negative\n",
      "\n",
      "🎬 Recording NEGATIVE (southpaw, left) — Sample #021\n",
      "✅ Saved 2 clips to: boxing_dataset/raw/negative\n",
      "\n",
      "🎬 Recording NEGATIVE (southpaw, left) — Sample #022\n",
      "✅ Saved 2 clips to: boxing_dataset/raw/negative\n",
      "\n",
      "🎬 Recording NEGATIVE (southpaw, left) — Sample #023\n",
      "✅ Saved 2 clips to: boxing_dataset/raw/negative\n",
      "\n",
      "🎬 Recording NEGATIVE (southpaw, left) — Sample #024\n",
      "✅ Saved 2 clips to: boxing_dataset/raw/negative\n",
      "\n",
      "🎬 Recording NEGATIVE (southpaw, left) — Sample #025\n",
      "✅ Saved 2 clips to: boxing_dataset/raw/negative\n",
      "\n",
      "🎬 Recording NEGATIVE (southpaw, left) — Sample #026\n",
      "✅ Saved 2 clips to: boxing_dataset/raw/negative\n",
      "\n",
      "🎬 Recording NEGATIVE (southpaw, left) — Sample #027\n",
      "✅ Saved 2 clips to: boxing_dataset/raw/negative\n",
      "\n",
      "🎬 Recording NEGATIVE (southpaw, left) — Sample #028\n",
      "✅ Saved 2 clips to: boxing_dataset/raw/negative\n",
      "\n",
      "🎬 Recording NEGATIVE (southpaw, left) — Sample #029\n",
      "✅ Saved 2 clips to: boxing_dataset/raw/negative\n",
      "\n",
      "🎬 Recording NEGATIVE (southpaw, left) — Sample #030\n",
      "✅ Saved 2 clips to: boxing_dataset/raw/negative\n",
      "\n",
      "🎬 Recording NEGATIVE (southpaw, left) — Sample #031\n",
      "✅ Saved 2 clips to: boxing_dataset/raw/negative\n",
      "\n",
      "🎬 Recording NEGATIVE (southpaw, left) — Sample #032\n",
      "✅ Saved 2 clips to: boxing_dataset/raw/negative\n",
      "\n",
      "🎬 Recording NEGATIVE (southpaw, left) — Sample #033\n",
      "✅ Saved 2 clips to: boxing_dataset/raw/negative\n",
      "\n",
      "🎬 Recording NEGATIVE (southpaw, left) — Sample #034\n",
      "✅ Saved 2 clips to: boxing_dataset/raw/negative\n",
      "\n",
      "🎬 Recording NEGATIVE (southpaw, left) — Sample #035\n",
      "✅ Saved 2 clips to: boxing_dataset/raw/negative\n",
      "\n",
      "🎬 Recording NEGATIVE (southpaw, left) — Sample #036\n",
      "✅ Saved 2 clips to: boxing_dataset/raw/negative\n",
      "\n",
      "🎬 Recording NEGATIVE (southpaw, left) — Sample #037\n",
      "✅ Saved 2 clips to: boxing_dataset/raw/negative\n",
      "\n",
      "🎬 Recording NEGATIVE (southpaw, left) — Sample #038\n",
      "✅ Saved 2 clips to: boxing_dataset/raw/negative\n",
      "\n",
      "🎬 Recording NEGATIVE (southpaw, left) — Sample #039\n",
      "✅ Saved 2 clips to: boxing_dataset/raw/negative\n"
     ]
    },
    {
     "name": "stderr",
     "output_type": "stream",
     "text": [
      "[mjpeg @ 0x20dfa640] overread 8\n"
     ]
    },
    {
     "name": "stdout",
     "output_type": "stream",
     "text": [
      "\n",
      "🎬 Recording NEGATIVE (southpaw, left) — Sample #040\n",
      "✅ Saved 2 clips to: boxing_dataset/raw/negative\n"
     ]
    },
    {
     "name": "stderr",
     "output_type": "stream",
     "text": [
      "[mjpeg @ 0x202ffb00] overread 8\n",
      "[mjpeg @ 0x20dfa640] overread 8\n"
     ]
    },
    {
     "name": "stdout",
     "output_type": "stream",
     "text": [
      "\n",
      "🎬 Recording NEGATIVE (southpaw, left) — Sample #041\n",
      "✅ Saved 2 clips to: boxing_dataset/raw/negative\n",
      "\n",
      "🎬 Recording NEGATIVE (southpaw, left) — Sample #042\n"
     ]
    },
    {
     "name": "stderr",
     "output_type": "stream",
     "text": [
      "[mjpeg @ 0x20049cc0] overread 8\n"
     ]
    },
    {
     "name": "stdout",
     "output_type": "stream",
     "text": [
      "✅ Saved 2 clips to: boxing_dataset/raw/negative\n",
      "\n",
      "🎬 Recording NEGATIVE (southpaw, left) — Sample #043\n",
      "✅ Saved 2 clips to: boxing_dataset/raw/negative\n",
      "\n",
      "🎬 Recording NEGATIVE (southpaw, left) — Sample #044\n",
      "✅ Saved 2 clips to: boxing_dataset/raw/negative\n",
      "\n",
      "🎬 Recording NEGATIVE (southpaw, left) — Sample #045\n",
      "✅ Saved 2 clips to: boxing_dataset/raw/negative\n",
      "\n",
      "🎬 Recording NEGATIVE (southpaw, left) — Sample #046\n",
      "✅ Saved 2 clips to: boxing_dataset/raw/negative\n",
      "\n",
      "🎬 Recording NEGATIVE (southpaw, left) — Sample #047\n",
      "✅ Saved 2 clips to: boxing_dataset/raw/negative\n",
      "\n",
      "🎬 Recording NEGATIVE (southpaw, left) — Sample #048\n",
      "✅ Saved 2 clips to: boxing_dataset/raw/negative\n",
      "\n",
      "🎬 Recording NEGATIVE (southpaw, left) — Sample #049\n",
      "✅ Saved 2 clips to: boxing_dataset/raw/negative\n",
      "\n",
      "🎬 Recording NEGATIVE (southpaw, left) — Sample #050\n",
      "✅ Saved 2 clips to: boxing_dataset/raw/negative\n"
     ]
    },
    {
     "name": "stderr",
     "output_type": "stream",
     "text": [
      "[mjpeg @ 0x20dfa640] overread 8\n"
     ]
    },
    {
     "name": "stdout",
     "output_type": "stream",
     "text": [
      "🔚 Exiting.\n"
     ]
    }
   ],
   "source": [
    "import cv2\n",
    "import os\n",
    "import time\n",
    "import csv\n",
    "from collections import defaultdict\n",
    "\n",
    "BASE_DIR = \"punch/combined_dataset\"\n",
    "LABELS_FILE = \"labels/punch_label.csv\"\n",
    "PREVIEW_WIDTH = 360\n",
    "PREVIEW_HEIGHT = 640\n",
    "FULL_HD = (1080, 1920)\n",
    "FPS = 20\n",
    "RECORD_SECONDS = 3\n",
    "\n",
    "\n",
    "STREAM_URLS = {\n",
    "    \"cam 1\": \"http://192.168.39.134:8080/video\",\n",
    "    \"cam 2\": \"http://10.128.92.136:8080/video\",\n",
    "    \"cam 3\": \"http://192.168.67.89:8080/video\",\n",
    "    \"cam 4\": \"http://10.18.32.16:8080/video\",\n",
    "}\n",
    "\n",
    "key_map = {\n",
    "    'a': ('jab', 'orthodox', 'left'),\n",
    "    'b': ('jab', 'orthodox', 'right'),\n",
    "    'c': ('jab', 'southpaw', 'left'),\n",
    "    'd': ('jab', 'southpaw', 'right'),\n",
    "    'e': ('cross', 'orthodox', 'left'),\n",
    "    'f': ('cross', 'orthodox', 'right'),\n",
    "    'g': ('cross', 'southpaw', 'left'),\n",
    "    'h': ('cross', 'southpaw', 'right'),\n",
    "    'i': ('hook', 'orthodox', 'left'),\n",
    "    'j': ('hook', 'orthodox', 'right'),\n",
    "    'k': ('hook', 'southpaw', 'left'),\n",
    "    'l': ('hook', 'southpaw', 'right'),\n",
    "    'm': ('uppercut', 'orthodox', 'left'),\n",
    "    'n': ('uppercut', 'orthodox', 'right'),\n",
    "    'o': ('uppercut', 'southpaw', 'left'),\n",
    "    'p': ('uppercut', 'southpaw', 'right'),\n",
    "    'z': ('negative', 'orthodox', 'left'),\n",
    "    'y': ('negative', 'southpaw', 'right'),\n",
    "    's': ('negative', 'orthodox', 'right'),\n",
    "    't': ('negative', 'southpaw', 'left'),\n",
    "}\n",
    "\n",
    "def find_next_sample_number(label, stance, hand):\n",
    "    subdir = os.path.join(BASE_DIR, label)\n",
    "    os.makedirs(subdir, exist_ok=True)\n",
    "    used_numbers = set()\n",
    "\n",
    "    for fname in os.listdir(subdir):\n",
    "        if fname.startswith(f\"{label}_{stance}_{hand}_\") and fname.endswith('.mp4'):\n",
    "            try:\n",
    "                num_part = fname.split('_')[-1].split('.')[0]\n",
    "                num = int(num_part)\n",
    "                used_numbers.add(num)\n",
    "            except:\n",
    "                continue\n",
    "\n",
    "    for i in range(1, 1000):  \n",
    "        if i not in used_numbers:\n",
    "            return f\"{i:03d}\"\n",
    "    return f\"{max(used_numbers)+1:03d}\"  \n",
    "\n",
    "def create_writer(filename):\n",
    "    fourcc = cv2.VideoWriter_fourcc(*'mp4v')\n",
    "    return cv2.VideoWriter(filename, fourcc, FPS, FULL_HD)\n",
    "\n",
    "def record_punch(label, stance, hand):\n",
    "    count_str = find_next_sample_number(label, stance, hand)\n",
    "\n",
    "    subdir = os.path.join(BASE_DIR, label)\n",
    "    caps = {name: cv2.VideoCapture(url) for name, url in STREAM_URLS.items()}\n",
    "    for name, cap in caps.items():\n",
    "        if not cap.isOpened():\n",
    "            print(f\"Failed to open stream for {name}\")\n",
    "            return\n",
    "\n",
    "    writers = {}\n",
    "    out_paths = []\n",
    "    for name in STREAM_URLS:\n",
    "        fname = f\"{label}_{stance}_{hand}_{name}_{count_str}.mp4\"\n",
    "        path = os.path.join(subdir, fname)\n",
    "        writers[name] = create_writer(path)\n",
    "        out_paths.append(os.path.join(label, fname))\n",
    "\n",
    "    print(f\"\\nRecording {label.upper()} ({stance}, {hand}) — Sample #{count_str}\")\n",
    "\n",
    "    start = time.time()\n",
    "    while time.time() - start < RECORD_SECONDS:\n",
    "        for name, cap in caps.items():\n",
    "            ret, frame = cap.read()\n",
    "            if ret:\n",
    "                writers[name].write(frame)\n",
    "                preview_frame = cv2.resize(frame, (PREVIEW_WIDTH, PREVIEW_HEIGHT))\n",
    "                cv2.circle(preview_frame, (30, 30), 15, (0, 0, 255), -1)\n",
    "                cv2.imshow(name, preview_frame)\n",
    "            else:\n",
    "                print(f\"Failed to read from {name}\")\n",
    "        if cv2.waitKey(1) & 0xFF == ord('q'):\n",
    "            print(\"Early stop requested.\")\n",
    "            break\n",
    "        time.sleep(1 / FPS)\n",
    "\n",
    "    for cap in caps.values(): cap.release()\n",
    "    for writer in writers.values(): writer.release()\n",
    "\n",
    "    with open(LABELS_FILE, 'a', newline='') as f:\n",
    "        writer = csv.writer(f)\n",
    "        for fname in out_paths:\n",
    "            writer.writerow([fname, stance, hand, label])\n",
    "\n",
    "    print(f\"Saved {len(out_paths)} clips to: {subdir}\")\n",
    "\n",
    "def main():\n",
    "    os.makedirs(BASE_DIR, exist_ok=True)\n",
    "    if not os.path.exists(LABELS_FILE):\n",
    "        with open(LABELS_FILE, 'w', newline='') as f:\n",
    "            csv.writer(f).writerow([\"filename\", \"stance\", \"hand_used\", \"label\"])\n",
    "\n",
    "    print(\"\\nIP Webcam Recorder (Preview Always On)\")\n",
    "    for k, (label, stance, hand) in key_map.items():\n",
    "        print(f\"  {k} → {label} / {stance} / {hand}\")\n",
    "    print(\"Press 'q' to quit.\\n\")\n",
    "\n",
    "    caps = {name: cv2.VideoCapture(url) for name, url in STREAM_URLS.items()}\n",
    "    for name, cap in caps.items():\n",
    "        if not cap.isOpened():\n",
    "            print(f\"Failed to open preview stream: {name}\")\n",
    "            return\n",
    "\n",
    "    while True:\n",
    "        for name, cap in caps.items():\n",
    "            ret, frame = cap.read()\n",
    "            if ret:\n",
    "                preview = cv2.resize(frame, (PREVIEW_WIDTH, PREVIEW_HEIGHT))\n",
    "                cv2.imshow(name, preview)\n",
    "            else:\n",
    "                print(f\"Lost feed from {name}\")\n",
    "\n",
    "        key = cv2.waitKey(1) & 0xFF\n",
    "        if key == ord('q'):\n",
    "            print(\"Exiting.\")\n",
    "            break\n",
    "        elif key != 255:\n",
    "            key_char = chr(key).lower()\n",
    "            if key_char in key_map:\n",
    "                label, stance, hand = key_map[key_char]\n",
    "                record_punch(label, stance, hand)\n",
    "\n",
    "    for cap in caps.values():\n",
    "        cap.release()\n",
    "    cv2.destroyAllWindows()\n",
    "\n",
    "if __name__ == \"__main__\":\n",
    "    main()"
   ]
  },
  {
   "cell_type": "markdown",
   "id": "5a54c3f2",
   "metadata": {},
   "source": [
    "##### Block"
   ]
  },
  {
   "cell_type": "code",
   "execution_count": null,
   "id": "7cd40cd5",
   "metadata": {},
   "outputs": [
    {
     "name": "stdout",
     "output_type": "stream",
     "text": [
      "\n",
      "🎥 IP Webcam Recorder (Preview Always On)\n",
      "  a → parry / orthodox / left\n",
      "  b → parry / orthodox / right\n",
      "  c → parry / southpaw / left\n",
      "  d → parry / southpaw / right\n",
      "  e → high_guard / orthodox / left\n",
      "  f → high_guard / orthodox / right\n",
      "  g → high_guard / southpaw / left\n",
      "  h → high_guard / southpaw / right\n",
      "  i → elbow_block / orthodox / left\n",
      "  j → elbow_block / orthodox / right\n",
      "  k → elbow_block / southpaw / left\n",
      "  l → elbow_block / southpaw / right\n",
      "  m → forearm_block / orthodox / left\n",
      "  n → forearm_block / orthodox / right\n",
      "  o → forearm_block / southpaw / left\n",
      "  p → forearm_block / southpaw / right\n",
      "Press 'q' to quit.\n",
      "\n"
     ]
    },
    {
     "name": "stderr",
     "output_type": "stream",
     "text": [
      "[mjpeg @ 0x1258b280] overread 7\n"
     ]
    },
    {
     "name": "stdout",
     "output_type": "stream",
     "text": [
      "\n",
      "🎬 Recording PARRY (orthodox, left) — Sample #001\n",
      "✅ Saved 2 clips to: block_dataset/parry\n"
     ]
    },
    {
     "name": "stderr",
     "output_type": "stream",
     "text": [
      "[mjpeg @ 0x1258b280] overread 8\n",
      "[mjpeg @ 0x11683f40] overread 2\n"
     ]
    },
    {
     "name": "stdout",
     "output_type": "stream",
     "text": [
      "\n",
      "🎬 Recording PARRY (orthodox, left) — Sample #001\n",
      "✅ Saved 2 clips to: block_dataset/parry\n",
      "\n",
      "🎬 Recording PARRY (orthodox, left) — Sample #002\n",
      "✅ Saved 2 clips to: block_dataset/parry\n",
      "\n",
      "🎬 Recording PARRY (orthodox, left) — Sample #003\n",
      "✅ Saved 2 clips to: block_dataset/parry\n",
      "\n",
      "🎬 Recording PARRY (orthodox, left) — Sample #004\n",
      "✅ Saved 2 clips to: block_dataset/parry\n",
      "\n",
      "🎬 Recording PARRY (orthodox, left) — Sample #005\n",
      "✅ Saved 2 clips to: block_dataset/parry\n",
      "\n",
      "🎬 Recording PARRY (orthodox, left) — Sample #006\n",
      "✅ Saved 2 clips to: block_dataset/parry\n",
      "\n",
      "🎬 Recording PARRY (orthodox, left) — Sample #007\n",
      "✅ Saved 2 clips to: block_dataset/parry\n",
      "\n",
      "🎬 Recording PARRY (orthodox, left) — Sample #008\n",
      "✅ Saved 2 clips to: block_dataset/parry\n",
      "\n",
      "🎬 Recording PARRY (orthodox, left) — Sample #009\n",
      "✅ Saved 2 clips to: block_dataset/parry\n",
      "\n",
      "🎬 Recording PARRY (orthodox, left) — Sample #010\n",
      "✅ Saved 2 clips to: block_dataset/parry\n",
      "\n",
      "🎬 Recording PARRY (orthodox, left) — Sample #011\n",
      "✅ Saved 2 clips to: block_dataset/parry\n",
      "\n",
      "🎬 Recording PARRY (orthodox, left) — Sample #012\n",
      "✅ Saved 2 clips to: block_dataset/parry\n",
      "\n",
      "🎬 Recording PARRY (orthodox, left) — Sample #013\n"
     ]
    },
    {
     "name": "stderr",
     "output_type": "stream",
     "text": [
      "[mjpeg @ 0x11e31d80] overread 3\n"
     ]
    },
    {
     "name": "stdout",
     "output_type": "stream",
     "text": [
      "✅ Saved 2 clips to: block_dataset/parry\n",
      "\n",
      "🎬 Recording PARRY (orthodox, left) — Sample #014\n",
      "✅ Saved 2 clips to: block_dataset/parry\n",
      "\n",
      "🎬 Recording PARRY (orthodox, left) — Sample #015\n",
      "✅ Saved 2 clips to: block_dataset/parry\n",
      "\n",
      "🎬 Recording PARRY (orthodox, left) — Sample #016\n",
      "✅ Saved 2 clips to: block_dataset/parry\n",
      "\n",
      "🎬 Recording PARRY (orthodox, left) — Sample #017\n",
      "✅ Saved 2 clips to: block_dataset/parry\n",
      "\n",
      "🎬 Recording PARRY (orthodox, left) — Sample #018\n",
      "✅ Saved 2 clips to: block_dataset/parry\n",
      "\n",
      "🎬 Recording PARRY (orthodox, left) — Sample #019\n",
      "✅ Saved 2 clips to: block_dataset/parry\n",
      "\n",
      "🎬 Recording PARRY (orthodox, left) — Sample #020\n",
      "✅ Saved 2 clips to: block_dataset/parry\n",
      "\n",
      "🎬 Recording PARRY (orthodox, left) — Sample #021\n",
      "✅ Saved 2 clips to: block_dataset/parry\n",
      "\n",
      "🎬 Recording PARRY (orthodox, left) — Sample #022\n",
      "✅ Saved 2 clips to: block_dataset/parry\n",
      "\n",
      "🎬 Recording PARRY (orthodox, left) — Sample #023\n",
      "✅ Saved 2 clips to: block_dataset/parry\n",
      "\n",
      "🎬 Recording PARRY (orthodox, left) — Sample #024\n",
      "✅ Saved 2 clips to: block_dataset/parry\n",
      "\n",
      "🎬 Recording PARRY (orthodox, left) — Sample #025\n",
      "✅ Saved 2 clips to: block_dataset/parry\n",
      "\n",
      "🎬 Recording PARRY (orthodox, left) — Sample #026\n",
      "✅ Saved 2 clips to: block_dataset/parry\n",
      "\n",
      "🎬 Recording PARRY (orthodox, left) — Sample #027\n",
      "✅ Saved 2 clips to: block_dataset/parry\n",
      "\n",
      "🎬 Recording PARRY (orthodox, left) — Sample #028\n",
      "✅ Saved 2 clips to: block_dataset/parry\n",
      "\n",
      "🎬 Recording PARRY (orthodox, left) — Sample #029\n",
      "✅ Saved 2 clips to: block_dataset/parry\n",
      "\n",
      "🎬 Recording PARRY (orthodox, left) — Sample #030\n",
      "✅ Saved 2 clips to: block_dataset/parry\n",
      "\n",
      "🎬 Recording PARRY (orthodox, left) — Sample #031\n",
      "✅ Saved 2 clips to: block_dataset/parry\n",
      "\n",
      "🎬 Recording PARRY (orthodox, left) — Sample #032\n",
      "✅ Saved 2 clips to: block_dataset/parry\n",
      "\n",
      "🎬 Recording PARRY (orthodox, left) — Sample #033\n"
     ]
    },
    {
     "name": "stderr",
     "output_type": "stream",
     "text": [
      "[mjpeg @ 0x1121f100] overread 5\n"
     ]
    },
    {
     "name": "stdout",
     "output_type": "stream",
     "text": [
      "✅ Saved 2 clips to: block_dataset/parry\n",
      "\n",
      "🎬 Recording PARRY (orthodox, left) — Sample #034\n",
      "✅ Saved 2 clips to: block_dataset/parry\n",
      "\n",
      "🎬 Recording PARRY (orthodox, left) — Sample #035\n",
      "✅ Saved 2 clips to: block_dataset/parry\n",
      "\n",
      "🎬 Recording PARRY (orthodox, left) — Sample #036\n",
      "✅ Saved 2 clips to: block_dataset/parry\n",
      "\n",
      "🎬 Recording PARRY (orthodox, left) — Sample #037\n",
      "✅ Saved 2 clips to: block_dataset/parry\n",
      "\n",
      "🎬 Recording PARRY (orthodox, left) — Sample #038\n",
      "✅ Saved 2 clips to: block_dataset/parry\n",
      "\n",
      "🎬 Recording PARRY (orthodox, left) — Sample #039\n",
      "✅ Saved 2 clips to: block_dataset/parry\n",
      "\n",
      "🎬 Recording PARRY (orthodox, left) — Sample #040\n",
      "✅ Saved 2 clips to: block_dataset/parry\n",
      "\n",
      "🎬 Recording PARRY (orthodox, left) — Sample #041\n",
      "✅ Saved 2 clips to: block_dataset/parry\n",
      "\n",
      "🎬 Recording PARRY (orthodox, left) — Sample #042\n",
      "✅ Saved 2 clips to: block_dataset/parry\n",
      "\n",
      "🎬 Recording PARRY (orthodox, left) — Sample #043\n",
      "✅ Saved 2 clips to: block_dataset/parry\n",
      "\n",
      "🎬 Recording PARRY (orthodox, left) — Sample #044\n",
      "✅ Saved 2 clips to: block_dataset/parry\n",
      "\n",
      "🎬 Recording PARRY (orthodox, left) — Sample #045\n",
      "✅ Saved 2 clips to: block_dataset/parry\n",
      "\n",
      "🎬 Recording PARRY (orthodox, left) — Sample #046\n",
      "✅ Saved 2 clips to: block_dataset/parry\n",
      "\n",
      "🎬 Recording PARRY (orthodox, left) — Sample #047\n",
      "✅ Saved 2 clips to: block_dataset/parry\n",
      "\n",
      "🎬 Recording PARRY (orthodox, left) — Sample #048\n",
      "✅ Saved 2 clips to: block_dataset/parry\n",
      "\n",
      "🎬 Recording PARRY (orthodox, left) — Sample #049\n"
     ]
    },
    {
     "name": "stderr",
     "output_type": "stream",
     "text": [
      "[mjpeg @ 0x16753d40] overread 8\n",
      "[mjpeg @ 0x16753d40] overread 8\n"
     ]
    },
    {
     "name": "stdout",
     "output_type": "stream",
     "text": [
      "✅ Saved 2 clips to: block_dataset/parry\n",
      "\n",
      "🎬 Recording PARRY (orthodox, left) — Sample #050\n",
      "✅ Saved 2 clips to: block_dataset/parry\n"
     ]
    },
    {
     "name": "stderr",
     "output_type": "stream",
     "text": [
      "[mjpeg @ 0x1258b280] overread 8\n",
      "[mjpeg @ 0x1258b280] overread 7\n"
     ]
    },
    {
     "name": "stdout",
     "output_type": "stream",
     "text": [
      "\n",
      "🎬 Recording PARRY (orthodox, right) — Sample #001\n",
      "✅ Saved 2 clips to: block_dataset/parry\n",
      "\n",
      "🎬 Recording PARRY (orthodox, right) — Sample #002\n",
      "✅ Saved 2 clips to: block_dataset/parry\n",
      "\n",
      "🎬 Recording PARRY (orthodox, right) — Sample #003\n",
      "✅ Saved 2 clips to: block_dataset/parry\n",
      "\n",
      "🎬 Recording PARRY (orthodox, right) — Sample #004\n",
      "✅ Saved 2 clips to: block_dataset/parry\n",
      "\n",
      "🎬 Recording PARRY (orthodox, right) — Sample #005\n",
      "✅ Saved 2 clips to: block_dataset/parry\n",
      "\n",
      "🎬 Recording PARRY (orthodox, right) — Sample #006\n",
      "✅ Saved 2 clips to: block_dataset/parry\n"
     ]
    },
    {
     "name": "stderr",
     "output_type": "stream",
     "text": [
      "[mjpeg @ 0x11683f40] overread 8\n"
     ]
    },
    {
     "name": "stdout",
     "output_type": "stream",
     "text": [
      "\n",
      "🎬 Recording PARRY (orthodox, right) — Sample #007\n",
      "✅ Saved 2 clips to: block_dataset/parry\n",
      "\n",
      "🎬 Recording PARRY (orthodox, right) — Sample #008\n",
      "✅ Saved 2 clips to: block_dataset/parry\n",
      "\n",
      "🎬 Recording PARRY (orthodox, right) — Sample #009\n",
      "✅ Saved 2 clips to: block_dataset/parry\n",
      "\n",
      "🎬 Recording PARRY (orthodox, right) — Sample #010\n",
      "✅ Saved 2 clips to: block_dataset/parry\n",
      "\n",
      "🎬 Recording PARRY (orthodox, right) — Sample #011\n",
      "✅ Saved 2 clips to: block_dataset/parry\n",
      "\n",
      "🎬 Recording PARRY (orthodox, right) — Sample #012\n",
      "✅ Saved 2 clips to: block_dataset/parry\n",
      "\n",
      "🎬 Recording PARRY (orthodox, right) — Sample #013\n",
      "✅ Saved 2 clips to: block_dataset/parry\n",
      "\n",
      "🎬 Recording PARRY (orthodox, right) — Sample #014\n",
      "✅ Saved 2 clips to: block_dataset/parry\n",
      "\n",
      "🎬 Recording PARRY (orthodox, right) — Sample #015\n",
      "✅ Saved 2 clips to: block_dataset/parry\n",
      "\n",
      "🎬 Recording PARRY (orthodox, right) — Sample #016\n",
      "✅ Saved 2 clips to: block_dataset/parry\n",
      "\n",
      "🎬 Recording PARRY (orthodox, right) — Sample #017\n",
      "✅ Saved 2 clips to: block_dataset/parry\n",
      "\n",
      "🎬 Recording PARRY (orthodox, right) — Sample #018\n",
      "✅ Saved 2 clips to: block_dataset/parry\n",
      "\n",
      "🎬 Recording PARRY (orthodox, right) — Sample #019\n",
      "✅ Saved 2 clips to: block_dataset/parry\n",
      "\n",
      "🎬 Recording PARRY (orthodox, right) — Sample #020\n",
      "✅ Saved 2 clips to: block_dataset/parry\n",
      "\n",
      "🎬 Recording PARRY (orthodox, right) — Sample #021\n"
     ]
    },
    {
     "name": "stderr",
     "output_type": "stream",
     "text": [
      "[mjpeg @ 0x11f6ff80] overread 1\n"
     ]
    },
    {
     "name": "stdout",
     "output_type": "stream",
     "text": [
      "✅ Saved 2 clips to: block_dataset/parry\n",
      "\n",
      "🎬 Recording PARRY (orthodox, right) — Sample #022\n",
      "✅ Saved 2 clips to: block_dataset/parry\n",
      "\n",
      "🎬 Recording PARRY (orthodox, right) — Sample #023\n",
      "✅ Saved 2 clips to: block_dataset/parry\n",
      "\n",
      "🎬 Recording PARRY (orthodox, right) — Sample #024\n",
      "✅ Saved 2 clips to: block_dataset/parry\n",
      "\n",
      "🎬 Recording PARRY (orthodox, right) — Sample #025\n",
      "✅ Saved 2 clips to: block_dataset/parry\n",
      "\n",
      "🎬 Recording PARRY (orthodox, right) — Sample #026\n",
      "✅ Saved 2 clips to: block_dataset/parry\n",
      "\n",
      "🎬 Recording PARRY (orthodox, right) — Sample #027\n",
      "✅ Saved 2 clips to: block_dataset/parry\n",
      "\n",
      "🎬 Recording PARRY (orthodox, right) — Sample #028\n",
      "✅ Saved 2 clips to: block_dataset/parry\n",
      "\n",
      "🎬 Recording PARRY (orthodox, right) — Sample #029\n",
      "✅ Saved 2 clips to: block_dataset/parry\n",
      "\n",
      "🎬 Recording PARRY (orthodox, right) — Sample #030\n",
      "✅ Saved 2 clips to: block_dataset/parry\n",
      "\n",
      "🎬 Recording PARRY (orthodox, right) — Sample #031\n",
      "✅ Saved 2 clips to: block_dataset/parry\n",
      "\n",
      "🎬 Recording PARRY (orthodox, right) — Sample #032\n",
      "✅ Saved 2 clips to: block_dataset/parry\n",
      "\n",
      "🎬 Recording PARRY (orthodox, right) — Sample #033\n",
      "✅ Saved 2 clips to: block_dataset/parry\n",
      "\n",
      "🎬 Recording PARRY (orthodox, right) — Sample #034\n",
      "✅ Saved 2 clips to: block_dataset/parry\n",
      "\n",
      "🎬 Recording PARRY (orthodox, right) — Sample #035\n",
      "✅ Saved 2 clips to: block_dataset/parry\n",
      "\n",
      "🎬 Recording PARRY (orthodox, right) — Sample #036\n",
      "✅ Saved 2 clips to: block_dataset/parry\n",
      "\n",
      "🎬 Recording PARRY (orthodox, right) — Sample #037\n",
      "✅ Saved 2 clips to: block_dataset/parry\n",
      "\n",
      "🎬 Recording PARRY (orthodox, right) — Sample #038\n",
      "✅ Saved 2 clips to: block_dataset/parry\n"
     ]
    },
    {
     "name": "stderr",
     "output_type": "stream",
     "text": [
      "[mjpeg @ 0x11683f40] overread 8\n"
     ]
    },
    {
     "name": "stdout",
     "output_type": "stream",
     "text": [
      "\n",
      "🎬 Recording PARRY (orthodox, right) — Sample #039\n"
     ]
    },
    {
     "name": "stderr",
     "output_type": "stream",
     "text": [
      "[mjpeg @ 0x11549f80] overread 8\n"
     ]
    },
    {
     "name": "stdout",
     "output_type": "stream",
     "text": [
      "✅ Saved 2 clips to: block_dataset/parry\n",
      "\n",
      "🎬 Recording PARRY (orthodox, right) — Sample #040\n",
      "✅ Saved 2 clips to: block_dataset/parry\n",
      "\n",
      "🎬 Recording PARRY (orthodox, right) — Sample #041\n",
      "✅ Saved 2 clips to: block_dataset/parry\n",
      "\n",
      "🎬 Recording PARRY (orthodox, right) — Sample #042\n",
      "✅ Saved 2 clips to: block_dataset/parry\n",
      "\n",
      "🎬 Recording PARRY (orthodox, right) — Sample #043\n",
      "✅ Saved 2 clips to: block_dataset/parry\n",
      "\n",
      "🎬 Recording PARRY (orthodox, right) — Sample #044\n",
      "✅ Saved 2 clips to: block_dataset/parry\n",
      "\n",
      "🎬 Recording PARRY (orthodox, right) — Sample #045\n"
     ]
    },
    {
     "name": "stderr",
     "output_type": "stream",
     "text": [
      "[mjpeg @ 0x11f5aac0] overread 6\n"
     ]
    },
    {
     "name": "stdout",
     "output_type": "stream",
     "text": [
      "✅ Saved 2 clips to: block_dataset/parry\n",
      "\n",
      "🎬 Recording PARRY (orthodox, right) — Sample #046\n",
      "✅ Saved 2 clips to: block_dataset/parry\n",
      "\n",
      "🎬 Recording PARRY (orthodox, right) — Sample #047\n",
      "✅ Saved 2 clips to: block_dataset/parry\n",
      "\n",
      "🎬 Recording PARRY (orthodox, right) — Sample #048\n",
      "✅ Saved 2 clips to: block_dataset/parry\n",
      "\n",
      "🎬 Recording PARRY (orthodox, right) — Sample #049\n",
      "✅ Saved 2 clips to: block_dataset/parry\n",
      "\n",
      "🎬 Recording PARRY (orthodox, right) — Sample #050\n",
      "✅ Saved 2 clips to: block_dataset/parry\n"
     ]
    },
    {
     "name": "stderr",
     "output_type": "stream",
     "text": [
      "[mjpeg @ 0x11683f40] overread 8\n",
      "[mjpeg @ 0x1258b280] overread 8\n",
      "[mjpeg @ 0x1258b280] overread 8\n",
      "[mjpeg @ 0x1258b280] overread 8\n",
      "[mjpeg @ 0x11683f40] overread 8\n",
      "[mjpeg @ 0x1258b280] overread 8\n",
      "[mjpeg @ 0x1258b280] overread 7\n",
      "[mjpeg @ 0x11683f40] overread 8\n",
      "[mjpeg @ 0x11683f40] overread 8\n",
      "[mjpeg @ 0x1258b280] overread 8\n",
      "[mjpeg @ 0x1258b280] overread 3\n",
      "[mjpeg @ 0x1258b280] overread 8\n",
      "[mjpeg @ 0x1258b280] overread 8\n",
      "[mjpeg @ 0x1258b280] overread 8\n",
      "[mjpeg @ 0x1258b280] overread 8\n",
      "[mjpeg @ 0x1258b280] overread 8\n",
      "[mjpeg @ 0x1258b280] overread 8\n",
      "[mjpeg @ 0x1258b280] overread 8\n",
      "[mjpeg @ 0x1258b280] overread 8\n",
      "[mjpeg @ 0x11683f40] overread 8\n",
      "[mjpeg @ 0x11683f40] overread 8\n"
     ]
    },
    {
     "name": "stdout",
     "output_type": "stream",
     "text": [
      "\n",
      "🎬 Recording PARRY (southpaw, left) — Sample #001\n",
      "✅ Saved 2 clips to: block_dataset/parry\n",
      "\n",
      "🎬 Recording PARRY (southpaw, left) — Sample #002\n",
      "✅ Saved 2 clips to: block_dataset/parry\n"
     ]
    },
    {
     "name": "stderr",
     "output_type": "stream",
     "text": [
      "[mjpeg @ 0x1258b280] overread 8\n"
     ]
    },
    {
     "name": "stdout",
     "output_type": "stream",
     "text": [
      "\n",
      "🎬 Recording PARRY (southpaw, left) — Sample #003\n",
      "✅ Saved 2 clips to: block_dataset/parry\n",
      "\n",
      "🎬 Recording PARRY (southpaw, left) — Sample #004\n",
      "✅ Saved 2 clips to: block_dataset/parry\n",
      "\n",
      "🎬 Recording PARRY (southpaw, left) — Sample #005\n",
      "✅ Saved 2 clips to: block_dataset/parry\n",
      "\n",
      "🎬 Recording PARRY (southpaw, left) — Sample #006\n",
      "✅ Saved 2 clips to: block_dataset/parry\n",
      "\n",
      "🎬 Recording PARRY (southpaw, left) — Sample #007\n",
      "✅ Saved 2 clips to: block_dataset/parry\n",
      "\n",
      "🎬 Recording PARRY (southpaw, left) — Sample #008\n",
      "✅ Saved 2 clips to: block_dataset/parry\n",
      "\n",
      "🎬 Recording PARRY (southpaw, left) — Sample #009\n",
      "✅ Saved 2 clips to: block_dataset/parry\n",
      "\n",
      "🎬 Recording PARRY (southpaw, left) — Sample #010\n",
      "✅ Saved 2 clips to: block_dataset/parry\n",
      "\n",
      "🎬 Recording PARRY (southpaw, left) — Sample #011\n",
      "✅ Saved 2 clips to: block_dataset/parry\n",
      "\n",
      "🎬 Recording PARRY (southpaw, left) — Sample #012\n",
      "✅ Saved 2 clips to: block_dataset/parry\n",
      "\n",
      "🎬 Recording PARRY (southpaw, left) — Sample #013\n",
      "✅ Saved 2 clips to: block_dataset/parry\n",
      "\n",
      "🎬 Recording PARRY (southpaw, left) — Sample #014\n"
     ]
    },
    {
     "name": "stderr",
     "output_type": "stream",
     "text": [
      "[mjpeg @ 0x1235d480] overread 8\n"
     ]
    },
    {
     "name": "stdout",
     "output_type": "stream",
     "text": [
      "✅ Saved 2 clips to: block_dataset/parry\n",
      "\n",
      "🎬 Recording PARRY (southpaw, left) — Sample #015\n"
     ]
    },
    {
     "name": "stderr",
     "output_type": "stream",
     "text": [
      "[mjpeg @ 0x115dcbc0] overread 8\n"
     ]
    },
    {
     "name": "stdout",
     "output_type": "stream",
     "text": [
      "✅ Saved 2 clips to: block_dataset/parry\n",
      "\n",
      "🎬 Recording PARRY (southpaw, left) — Sample #016\n",
      "✅ Saved 2 clips to: block_dataset/parry\n",
      "\n",
      "🎬 Recording PARRY (southpaw, left) — Sample #017\n",
      "✅ Saved 2 clips to: block_dataset/parry\n",
      "\n",
      "🎬 Recording PARRY (southpaw, left) — Sample #018\n",
      "✅ Saved 2 clips to: block_dataset/parry\n",
      "\n",
      "🎬 Recording PARRY (southpaw, left) — Sample #019\n",
      "✅ Saved 2 clips to: block_dataset/parry\n",
      "\n",
      "🎬 Recording PARRY (southpaw, left) — Sample #020\n",
      "✅ Saved 2 clips to: block_dataset/parry\n",
      "\n",
      "🎬 Recording PARRY (southpaw, left) — Sample #021\n",
      "✅ Saved 2 clips to: block_dataset/parry\n",
      "\n",
      "🎬 Recording PARRY (southpaw, left) — Sample #022\n",
      "✅ Saved 2 clips to: block_dataset/parry\n",
      "\n",
      "🎬 Recording PARRY (southpaw, left) — Sample #023\n",
      "✅ Saved 2 clips to: block_dataset/parry\n",
      "\n",
      "🎬 Recording PARRY (southpaw, left) — Sample #024\n",
      "✅ Saved 2 clips to: block_dataset/parry\n",
      "\n",
      "🎬 Recording PARRY (southpaw, left) — Sample #025\n",
      "✅ Saved 2 clips to: block_dataset/parry\n",
      "\n",
      "🎬 Recording PARRY (southpaw, left) — Sample #026\n"
     ]
    },
    {
     "name": "stderr",
     "output_type": "stream",
     "text": [
      "[mjpeg @ 0x115dcfc0] overread 8\n"
     ]
    },
    {
     "name": "stdout",
     "output_type": "stream",
     "text": [
      "✅ Saved 2 clips to: block_dataset/parry\n",
      "\n",
      "🎬 Recording PARRY (southpaw, left) — Sample #027\n",
      "✅ Saved 2 clips to: block_dataset/parry\n",
      "\n",
      "🎬 Recording PARRY (southpaw, left) — Sample #028\n",
      "✅ Saved 2 clips to: block_dataset/parry\n",
      "\n",
      "🎬 Recording PARRY (southpaw, left) — Sample #029\n",
      "✅ Saved 2 clips to: block_dataset/parry\n",
      "\n",
      "🎬 Recording PARRY (southpaw, left) — Sample #030\n",
      "✅ Saved 2 clips to: block_dataset/parry\n",
      "\n",
      "🎬 Recording PARRY (southpaw, left) — Sample #031\n",
      "✅ Saved 2 clips to: block_dataset/parry\n",
      "\n",
      "🎬 Recording PARRY (southpaw, left) — Sample #032\n",
      "✅ Saved 2 clips to: block_dataset/parry\n",
      "\n",
      "🎬 Recording PARRY (southpaw, left) — Sample #033\n",
      "✅ Saved 2 clips to: block_dataset/parry\n",
      "\n",
      "🎬 Recording PARRY (southpaw, left) — Sample #034\n"
     ]
    },
    {
     "name": "stderr",
     "output_type": "stream",
     "text": [
      "[mjpeg @ 0x122281c0] overread 8\n"
     ]
    },
    {
     "name": "stdout",
     "output_type": "stream",
     "text": [
      "✅ Saved 2 clips to: block_dataset/parry\n",
      "\n",
      "🎬 Recording PARRY (southpaw, left) — Sample #035\n",
      "✅ Saved 2 clips to: block_dataset/parry\n",
      "\n",
      "🎬 Recording PARRY (southpaw, left) — Sample #036\n",
      "✅ Saved 2 clips to: block_dataset/parry\n",
      "\n",
      "🎬 Recording PARRY (southpaw, left) — Sample #037\n",
      "✅ Saved 2 clips to: block_dataset/parry\n",
      "\n",
      "🎬 Recording PARRY (southpaw, left) — Sample #038\n",
      "✅ Saved 2 clips to: block_dataset/parry\n",
      "\n",
      "🎬 Recording PARRY (southpaw, left) — Sample #039\n",
      "✅ Saved 2 clips to: block_dataset/parry\n",
      "\n",
      "🎬 Recording PARRY (southpaw, left) — Sample #040\n",
      "✅ Saved 2 clips to: block_dataset/parry\n",
      "\n",
      "🎬 Recording PARRY (southpaw, left) — Sample #041\n",
      "✅ Saved 2 clips to: block_dataset/parry\n",
      "\n",
      "🎬 Recording PARRY (southpaw, left) — Sample #042\n",
      "✅ Saved 2 clips to: block_dataset/parry\n",
      "\n",
      "🎬 Recording PARRY (southpaw, left) — Sample #043\n",
      "✅ Saved 2 clips to: block_dataset/parry\n",
      "\n",
      "🎬 Recording PARRY (southpaw, left) — Sample #044\n",
      "✅ Saved 2 clips to: block_dataset/parry\n",
      "\n",
      "🎬 Recording PARRY (southpaw, left) — Sample #045\n",
      "✅ Saved 2 clips to: block_dataset/parry\n",
      "\n",
      "🎬 Recording PARRY (southpaw, left) — Sample #046\n",
      "✅ Saved 2 clips to: block_dataset/parry\n",
      "\n",
      "🎬 Recording PARRY (southpaw, left) — Sample #047\n",
      "✅ Saved 2 clips to: block_dataset/parry\n"
     ]
    },
    {
     "name": "stderr",
     "output_type": "stream",
     "text": [
      "[mjpeg @ 0x1258b280] overread 8\n"
     ]
    },
    {
     "name": "stdout",
     "output_type": "stream",
     "text": [
      "\n",
      "🎬 Recording PARRY (southpaw, left) — Sample #048\n",
      "✅ Saved 2 clips to: block_dataset/parry\n",
      "\n",
      "🎬 Recording PARRY (southpaw, left) — Sample #049\n",
      "✅ Saved 2 clips to: block_dataset/parry\n"
     ]
    },
    {
     "name": "stderr",
     "output_type": "stream",
     "text": [
      "[mjpeg @ 0x11683f40] overread 8\n"
     ]
    },
    {
     "name": "stdout",
     "output_type": "stream",
     "text": [
      "\n",
      "🎬 Recording PARRY (southpaw, left) — Sample #050\n",
      "✅ Saved 2 clips to: block_dataset/parry\n"
     ]
    },
    {
     "name": "stderr",
     "output_type": "stream",
     "text": [
      "[mjpeg @ 0x1258b280] overread 8\n",
      "[mjpeg @ 0x1258b280] overread 8\n",
      "[mjpeg @ 0x1258b280] overread 8\n",
      "[mjpeg @ 0x1258b280] overread 8\n",
      "[mjpeg @ 0x1258b280] overread 7\n"
     ]
    },
    {
     "name": "stdout",
     "output_type": "stream",
     "text": [
      "\n",
      "🎬 Recording PARRY (southpaw, right) — Sample #001\n",
      "✅ Saved 2 clips to: block_dataset/parry\n",
      "\n",
      "🎬 Recording PARRY (southpaw, right) — Sample #002\n",
      "✅ Saved 2 clips to: block_dataset/parry\n"
     ]
    },
    {
     "name": "stderr",
     "output_type": "stream",
     "text": [
      "[mjpeg @ 0x11683f40] overread 8\n"
     ]
    },
    {
     "name": "stdout",
     "output_type": "stream",
     "text": [
      "\n",
      "🎬 Recording PARRY (southpaw, right) — Sample #003\n",
      "✅ Saved 2 clips to: block_dataset/parry\n",
      "\n",
      "🎬 Recording PARRY (southpaw, right) — Sample #004\n",
      "✅ Saved 2 clips to: block_dataset/parry\n",
      "\n",
      "🎬 Recording PARRY (southpaw, right) — Sample #005\n",
      "✅ Saved 2 clips to: block_dataset/parry\n",
      "\n",
      "🎬 Recording PARRY (southpaw, right) — Sample #006\n",
      "✅ Saved 2 clips to: block_dataset/parry\n",
      "\n",
      "🎬 Recording PARRY (southpaw, right) — Sample #007\n",
      "✅ Saved 2 clips to: block_dataset/parry\n",
      "\n",
      "🎬 Recording PARRY (southpaw, right) — Sample #008\n",
      "✅ Saved 2 clips to: block_dataset/parry\n",
      "\n",
      "🎬 Recording PARRY (southpaw, right) — Sample #009\n",
      "✅ Saved 2 clips to: block_dataset/parry\n"
     ]
    },
    {
     "name": "stderr",
     "output_type": "stream",
     "text": [
      "[mjpeg @ 0x1258b280] overread 8\n"
     ]
    },
    {
     "name": "stdout",
     "output_type": "stream",
     "text": [
      "\n",
      "🎬 Recording PARRY (southpaw, right) — Sample #010\n",
      "✅ Saved 2 clips to: block_dataset/parry\n",
      "\n",
      "🎬 Recording PARRY (southpaw, right) — Sample #011\n",
      "✅ Saved 2 clips to: block_dataset/parry\n",
      "\n",
      "🎬 Recording PARRY (southpaw, right) — Sample #012\n",
      "✅ Saved 2 clips to: block_dataset/parry\n"
     ]
    },
    {
     "name": "stderr",
     "output_type": "stream",
     "text": [
      "[mjpeg @ 0x1258b280] overread 8\n"
     ]
    },
    {
     "name": "stdout",
     "output_type": "stream",
     "text": [
      "\n",
      "🎬 Recording PARRY (southpaw, right) — Sample #013\n",
      "✅ Saved 2 clips to: block_dataset/parry\n",
      "\n",
      "🎬 Recording PARRY (southpaw, right) — Sample #014\n",
      "✅ Saved 2 clips to: block_dataset/parry\n",
      "\n",
      "🎬 Recording PARRY (southpaw, right) — Sample #015\n",
      "✅ Saved 2 clips to: block_dataset/parry\n",
      "\n",
      "🎬 Recording PARRY (southpaw, right) — Sample #016\n",
      "✅ Saved 2 clips to: block_dataset/parry\n",
      "\n",
      "🎬 Recording PARRY (southpaw, right) — Sample #017\n",
      "✅ Saved 2 clips to: block_dataset/parry\n",
      "\n",
      "🎬 Recording PARRY (southpaw, right) — Sample #018\n",
      "✅ Saved 2 clips to: block_dataset/parry\n"
     ]
    },
    {
     "name": "stderr",
     "output_type": "stream",
     "text": [
      "[mjpeg @ 0x1258b280] overread 8\n"
     ]
    },
    {
     "name": "stdout",
     "output_type": "stream",
     "text": [
      "\n",
      "🎬 Recording PARRY (southpaw, right) — Sample #019\n",
      "✅ Saved 2 clips to: block_dataset/parry\n",
      "\n",
      "🎬 Recording PARRY (southpaw, right) — Sample #020\n",
      "✅ Saved 2 clips to: block_dataset/parry\n",
      "\n",
      "🎬 Recording PARRY (southpaw, right) — Sample #021\n",
      "✅ Saved 2 clips to: block_dataset/parry\n",
      "\n",
      "🎬 Recording PARRY (southpaw, right) — Sample #022\n",
      "✅ Saved 2 clips to: block_dataset/parry\n",
      "\n",
      "🎬 Recording PARRY (southpaw, right) — Sample #023\n",
      "✅ Saved 2 clips to: block_dataset/parry\n",
      "\n",
      "🎬 Recording PARRY (southpaw, right) — Sample #024\n",
      "✅ Saved 2 clips to: block_dataset/parry\n",
      "\n",
      "🎬 Recording PARRY (southpaw, right) — Sample #025\n",
      "✅ Saved 2 clips to: block_dataset/parry\n"
     ]
    },
    {
     "name": "stderr",
     "output_type": "stream",
     "text": [
      "[mjpeg @ 0x11683f40] overread 7\n"
     ]
    },
    {
     "name": "stdout",
     "output_type": "stream",
     "text": [
      "\n",
      "🎬 Recording PARRY (southpaw, right) — Sample #026\n",
      "✅ Saved 2 clips to: block_dataset/parry\n",
      "\n",
      "🎬 Recording PARRY (southpaw, right) — Sample #027\n",
      "✅ Saved 2 clips to: block_dataset/parry\n",
      "\n",
      "🎬 Recording PARRY (southpaw, right) — Sample #028\n",
      "✅ Saved 2 clips to: block_dataset/parry\n",
      "\n",
      "🎬 Recording PARRY (southpaw, right) — Sample #029\n",
      "✅ Saved 2 clips to: block_dataset/parry\n",
      "\n",
      "🎬 Recording PARRY (southpaw, right) — Sample #030\n",
      "✅ Saved 2 clips to: block_dataset/parry\n"
     ]
    },
    {
     "name": "stderr",
     "output_type": "stream",
     "text": [
      "[mjpeg @ 0x1258b280] overread 8\n"
     ]
    },
    {
     "name": "stdout",
     "output_type": "stream",
     "text": [
      "\n",
      "🎬 Recording PARRY (southpaw, right) — Sample #031\n",
      "✅ Saved 2 clips to: block_dataset/parry\n",
      "\n",
      "🎬 Recording PARRY (southpaw, right) — Sample #032\n",
      "✅ Saved 2 clips to: block_dataset/parry\n"
     ]
    },
    {
     "name": "stderr",
     "output_type": "stream",
     "text": [
      "[mjpeg @ 0x1258b280] overread 8\n",
      "[mjpeg @ 0x1258b280] overread 8\n"
     ]
    },
    {
     "name": "stdout",
     "output_type": "stream",
     "text": [
      "\n",
      "🎬 Recording PARRY (southpaw, right) — Sample #033\n",
      "✅ Saved 2 clips to: block_dataset/parry\n",
      "\n",
      "🎬 Recording PARRY (southpaw, right) — Sample #034\n",
      "✅ Saved 2 clips to: block_dataset/parry\n",
      "\n",
      "🎬 Recording PARRY (southpaw, right) — Sample #035\n",
      "✅ Saved 2 clips to: block_dataset/parry\n",
      "\n",
      "🎬 Recording PARRY (southpaw, right) — Sample #036\n",
      "✅ Saved 2 clips to: block_dataset/parry\n",
      "\n",
      "🎬 Recording PARRY (southpaw, right) — Sample #037\n",
      "✅ Saved 2 clips to: block_dataset/parry\n",
      "\n",
      "🎬 Recording PARRY (southpaw, right) — Sample #038\n",
      "✅ Saved 2 clips to: block_dataset/parry\n",
      "\n",
      "🎬 Recording PARRY (southpaw, right) — Sample #039\n",
      "✅ Saved 2 clips to: block_dataset/parry\n",
      "\n",
      "🎬 Recording PARRY (southpaw, right) — Sample #040\n"
     ]
    },
    {
     "name": "stderr",
     "output_type": "stream",
     "text": [
      "[mjpeg @ 0x12224c80] overread 8\n"
     ]
    },
    {
     "name": "stdout",
     "output_type": "stream",
     "text": [
      "✅ Saved 2 clips to: block_dataset/parry\n",
      "\n",
      "🎬 Recording PARRY (southpaw, right) — Sample #041\n",
      "✅ Saved 2 clips to: block_dataset/parry\n",
      "\n",
      "🎬 Recording PARRY (southpaw, right) — Sample #042\n",
      "✅ Saved 2 clips to: block_dataset/parry\n"
     ]
    },
    {
     "name": "stderr",
     "output_type": "stream",
     "text": [
      "[mjpeg @ 0x1258b280] overread 8\n",
      "[mjpeg @ 0x1258b280] overread 8\n",
      "[mjpeg @ 0x11683f40] overread 8\n"
     ]
    },
    {
     "name": "stdout",
     "output_type": "stream",
     "text": [
      "\n",
      "🎬 Recording PARRY (southpaw, right) — Sample #042\n",
      "✅ Saved 2 clips to: block_dataset/parry\n",
      "\n",
      "🎬 Recording PARRY (southpaw, right) — Sample #043\n",
      "✅ Saved 2 clips to: block_dataset/parry\n"
     ]
    },
    {
     "name": "stderr",
     "output_type": "stream",
     "text": [
      "[mjpeg @ 0x1258b280] overread 8\n",
      "[mjpeg @ 0x1258b280] overread 8\n"
     ]
    },
    {
     "name": "stdout",
     "output_type": "stream",
     "text": [
      "\n",
      "🎬 Recording PARRY (southpaw, right) — Sample #044\n",
      "✅ Saved 2 clips to: block_dataset/parry\n"
     ]
    },
    {
     "name": "stderr",
     "output_type": "stream",
     "text": [
      "[mjpeg @ 0x1258b280] overread 8\n"
     ]
    },
    {
     "name": "stdout",
     "output_type": "stream",
     "text": [
      "\n",
      "🎬 Recording PARRY (southpaw, right) — Sample #045\n",
      "✅ Saved 2 clips to: block_dataset/parry\n",
      "\n",
      "🎬 Recording PARRY (southpaw, right) — Sample #046\n",
      "✅ Saved 2 clips to: block_dataset/parry\n",
      "\n",
      "🎬 Recording PARRY (southpaw, right) — Sample #047\n",
      "✅ Saved 2 clips to: block_dataset/parry\n",
      "\n",
      "🎬 Recording PARRY (southpaw, right) — Sample #048\n",
      "✅ Saved 2 clips to: block_dataset/parry\n",
      "\n",
      "🎬 Recording PARRY (southpaw, right) — Sample #049\n"
     ]
    },
    {
     "name": "stderr",
     "output_type": "stream",
     "text": [
      "[mjpeg @ 0x111a1780] overread 8\n"
     ]
    },
    {
     "name": "stdout",
     "output_type": "stream",
     "text": [
      "✅ Saved 2 clips to: block_dataset/parry\n",
      "\n",
      "🎬 Recording PARRY (southpaw, right) — Sample #050\n",
      "✅ Saved 2 clips to: block_dataset/parry\n"
     ]
    },
    {
     "name": "stderr",
     "output_type": "stream",
     "text": [
      "[mjpeg @ 0x1258b280] overread 8\n",
      "[mjpeg @ 0x1258b280] overread 6\n",
      "[mjpeg @ 0x1258b280] overread 8\n",
      "[mjpeg @ 0x1258b280] overread 8\n",
      "[mjpeg @ 0x1258b280] overread 8\n",
      "[mjpeg @ 0x1258b280] overread 8\n",
      "[mjpeg @ 0x1258b280] overread 8\n",
      "[mjpeg @ 0x1258b280] overread 8\n",
      "[mjpeg @ 0x1258b280] overread 8\n",
      "[mjpeg @ 0x11683f40] overread 8\n",
      "[mjpeg @ 0x1258b280] overread 8\n",
      "[mjpeg @ 0x1258b280] overread 2\n",
      "[mjpeg @ 0x11683f40] overread 8\n",
      "[mjpeg @ 0x1258b280] overread 8\n",
      "[mjpeg @ 0x1258b280] overread 8\n",
      "[mjpeg @ 0x1258b280] overread 8\n",
      "[mjpeg @ 0x1258b280] overread 8\n",
      "[mjpeg @ 0x1258b280] overread 8\n",
      "[mjpeg @ 0x1258b280] overread 8\n",
      "[mjpeg @ 0x11683f40] overread 8\n",
      "[mjpeg @ 0x11683f40] overread 8\n",
      "[mjpeg @ 0x1258b280] overread 8\n",
      "[mjpeg @ 0x1258b280] overread 8\n",
      "[mjpeg @ 0x1258b280] overread 8\n",
      "[mjpeg @ 0x1258b280] overread 8\n",
      "[mjpeg @ 0x11683f40] overread 8\n",
      "[mjpeg @ 0x1258b280] overread 8\n",
      "[mjpeg @ 0x1258b280] overread 8\n",
      "[mjpeg @ 0x1258b280] overread 8\n",
      "[mjpeg @ 0x1258b280] overread 8\n",
      "[mjpeg @ 0x1258b280] overread 8\n",
      "[mjpeg @ 0x1258b280] overread 8\n"
     ]
    },
    {
     "name": "stdout",
     "output_type": "stream",
     "text": [
      "\n",
      "🎬 Recording HIGH_GUARD (orthodox, left) — Sample #001\n",
      "✅ Saved 2 clips to: block_dataset/high_guard\n",
      "\n",
      "🎬 Recording HIGH_GUARD (orthodox, left) — Sample #002\n",
      "✅ Saved 2 clips to: block_dataset/high_guard\n",
      "\n",
      "🎬 Recording HIGH_GUARD (orthodox, left) — Sample #003\n",
      "✅ Saved 2 clips to: block_dataset/high_guard\n",
      "\n",
      "🎬 Recording HIGH_GUARD (orthodox, left) — Sample #004\n",
      "✅ Saved 2 clips to: block_dataset/high_guard\n",
      "\n",
      "🎬 Recording HIGH_GUARD (orthodox, left) — Sample #005\n",
      "✅ Saved 2 clips to: block_dataset/high_guard\n",
      "\n",
      "🎬 Recording HIGH_GUARD (orthodox, left) — Sample #006\n",
      "✅ Saved 2 clips to: block_dataset/high_guard\n",
      "\n",
      "🎬 Recording HIGH_GUARD (orthodox, left) — Sample #007\n",
      "✅ Saved 2 clips to: block_dataset/high_guard\n",
      "\n",
      "🎬 Recording HIGH_GUARD (orthodox, left) — Sample #008\n",
      "✅ Saved 2 clips to: block_dataset/high_guard\n",
      "\n",
      "🎬 Recording HIGH_GUARD (orthodox, left) — Sample #009\n",
      "✅ Saved 2 clips to: block_dataset/high_guard\n",
      "\n",
      "🎬 Recording HIGH_GUARD (orthodox, left) — Sample #010\n",
      "✅ Saved 2 clips to: block_dataset/high_guard\n",
      "\n",
      "🎬 Recording HIGH_GUARD (orthodox, left) — Sample #011\n",
      "✅ Saved 2 clips to: block_dataset/high_guard\n",
      "\n",
      "🎬 Recording HIGH_GUARD (orthodox, left) — Sample #012\n",
      "✅ Saved 2 clips to: block_dataset/high_guard\n",
      "\n",
      "🎬 Recording HIGH_GUARD (orthodox, left) — Sample #013\n",
      "✅ Saved 2 clips to: block_dataset/high_guard\n",
      "\n",
      "🎬 Recording HIGH_GUARD (orthodox, left) — Sample #014\n",
      "✅ Saved 2 clips to: block_dataset/high_guard\n",
      "\n",
      "🎬 Recording HIGH_GUARD (orthodox, left) — Sample #015\n",
      "✅ Saved 2 clips to: block_dataset/high_guard\n",
      "\n",
      "🎬 Recording HIGH_GUARD (orthodox, left) — Sample #016\n",
      "✅ Saved 2 clips to: block_dataset/high_guard\n",
      "\n",
      "🎬 Recording HIGH_GUARD (orthodox, left) — Sample #017\n",
      "✅ Saved 2 clips to: block_dataset/high_guard\n",
      "\n",
      "🎬 Recording HIGH_GUARD (orthodox, left) — Sample #018\n",
      "✅ Saved 2 clips to: block_dataset/high_guard\n",
      "\n",
      "🎬 Recording HIGH_GUARD (orthodox, left) — Sample #019\n",
      "✅ Saved 2 clips to: block_dataset/high_guard\n",
      "\n",
      "🎬 Recording HIGH_GUARD (orthodox, left) — Sample #020\n",
      "✅ Saved 2 clips to: block_dataset/high_guard\n",
      "\n",
      "🎬 Recording HIGH_GUARD (orthodox, left) — Sample #021\n",
      "✅ Saved 2 clips to: block_dataset/high_guard\n",
      "\n",
      "🎬 Recording HIGH_GUARD (orthodox, left) — Sample #022\n",
      "✅ Saved 2 clips to: block_dataset/high_guard\n",
      "\n",
      "🎬 Recording HIGH_GUARD (orthodox, left) — Sample #023\n",
      "✅ Saved 2 clips to: block_dataset/high_guard\n",
      "\n",
      "🎬 Recording HIGH_GUARD (orthodox, left) — Sample #024\n",
      "✅ Saved 2 clips to: block_dataset/high_guard\n",
      "\n",
      "🎬 Recording HIGH_GUARD (orthodox, left) — Sample #025\n",
      "✅ Saved 2 clips to: block_dataset/high_guard\n",
      "\n",
      "🎬 Recording HIGH_GUARD (orthodox, left) — Sample #026\n",
      "✅ Saved 2 clips to: block_dataset/high_guard\n",
      "\n",
      "🎬 Recording HIGH_GUARD (orthodox, left) — Sample #027\n",
      "✅ Saved 2 clips to: block_dataset/high_guard\n",
      "\n",
      "🎬 Recording HIGH_GUARD (orthodox, left) — Sample #028\n",
      "✅ Saved 2 clips to: block_dataset/high_guard\n",
      "\n",
      "🎬 Recording HIGH_GUARD (orthodox, left) — Sample #029\n",
      "✅ Saved 2 clips to: block_dataset/high_guard\n",
      "\n",
      "🎬 Recording HIGH_GUARD (orthodox, left) — Sample #030\n",
      "✅ Saved 2 clips to: block_dataset/high_guard\n",
      "\n",
      "🎬 Recording HIGH_GUARD (orthodox, left) — Sample #031\n",
      "✅ Saved 2 clips to: block_dataset/high_guard\n",
      "\n",
      "🎬 Recording HIGH_GUARD (orthodox, left) — Sample #032\n",
      "✅ Saved 2 clips to: block_dataset/high_guard\n",
      "\n",
      "🎬 Recording HIGH_GUARD (orthodox, left) — Sample #033\n",
      "✅ Saved 2 clips to: block_dataset/high_guard\n",
      "\n",
      "🎬 Recording HIGH_GUARD (orthodox, left) — Sample #034\n",
      "✅ Saved 2 clips to: block_dataset/high_guard\n",
      "\n",
      "🎬 Recording HIGH_GUARD (orthodox, left) — Sample #035\n",
      "✅ Saved 2 clips to: block_dataset/high_guard\n",
      "\n",
      "🎬 Recording HIGH_GUARD (orthodox, left) — Sample #036\n",
      "✅ Saved 2 clips to: block_dataset/high_guard\n"
     ]
    },
    {
     "name": "stderr",
     "output_type": "stream",
     "text": [
      "[mjpeg @ 0x1258b280] overread 8\n"
     ]
    },
    {
     "name": "stdout",
     "output_type": "stream",
     "text": [
      "\n",
      "🎬 Recording HIGH_GUARD (orthodox, left) — Sample #037\n",
      "✅ Saved 2 clips to: block_dataset/high_guard\n",
      "\n",
      "🎬 Recording HIGH_GUARD (orthodox, left) — Sample #038\n",
      "✅ Saved 2 clips to: block_dataset/high_guard\n",
      "\n",
      "🎬 Recording HIGH_GUARD (orthodox, left) — Sample #039\n",
      "✅ Saved 2 clips to: block_dataset/high_guard\n"
     ]
    },
    {
     "name": "stderr",
     "output_type": "stream",
     "text": [
      "[mjpeg @ 0x1258b280] overread 8\n",
      "[mjpeg @ 0x1258b280] overread 8\n",
      "[mjpeg @ 0x1258b280] overread 8\n"
     ]
    },
    {
     "name": "stdout",
     "output_type": "stream",
     "text": [
      "\n",
      "🎬 Recording HIGH_GUARD (orthodox, left) — Sample #040\n",
      "✅ Saved 2 clips to: block_dataset/high_guard\n",
      "\n",
      "🎬 Recording HIGH_GUARD (orthodox, left) — Sample #041\n",
      "✅ Saved 2 clips to: block_dataset/high_guard\n",
      "\n",
      "🎬 Recording HIGH_GUARD (orthodox, left) — Sample #042\n"
     ]
    },
    {
     "name": "stderr",
     "output_type": "stream",
     "text": [
      "[mjpeg @ 0x12cc2f40] overread 5\n"
     ]
    },
    {
     "name": "stdout",
     "output_type": "stream",
     "text": [
      "✅ Saved 2 clips to: block_dataset/high_guard\n",
      "\n",
      "🎬 Recording HIGH_GUARD (orthodox, left) — Sample #043\n",
      "✅ Saved 2 clips to: block_dataset/high_guard\n",
      "\n",
      "🎬 Recording HIGH_GUARD (orthodox, left) — Sample #044\n",
      "✅ Saved 2 clips to: block_dataset/high_guard\n"
     ]
    },
    {
     "name": "stderr",
     "output_type": "stream",
     "text": [
      "[mjpeg @ 0x11683f40] overread 8\n"
     ]
    },
    {
     "name": "stdout",
     "output_type": "stream",
     "text": [
      "\n",
      "🎬 Recording HIGH_GUARD (orthodox, left) — Sample #045\n",
      "✅ Saved 2 clips to: block_dataset/high_guard\n",
      "\n",
      "🎬 Recording HIGH_GUARD (orthodox, left) — Sample #046\n",
      "✅ Saved 2 clips to: block_dataset/high_guard\n",
      "\n",
      "🎬 Recording HIGH_GUARD (orthodox, left) — Sample #047\n",
      "✅ Saved 2 clips to: block_dataset/high_guard\n",
      "\n",
      "🎬 Recording HIGH_GUARD (orthodox, left) — Sample #048\n",
      "✅ Saved 2 clips to: block_dataset/high_guard\n",
      "\n",
      "🎬 Recording HIGH_GUARD (orthodox, left) — Sample #049\n",
      "✅ Saved 2 clips to: block_dataset/high_guard\n",
      "\n",
      "🎬 Recording HIGH_GUARD (orthodox, left) — Sample #050\n",
      "✅ Saved 2 clips to: block_dataset/high_guard\n"
     ]
    },
    {
     "name": "stderr",
     "output_type": "stream",
     "text": [
      "[mjpeg @ 0x1258b280] overread 8\n",
      "[mjpeg @ 0x1258b280] overread 8\n"
     ]
    },
    {
     "name": "stdout",
     "output_type": "stream",
     "text": [
      "\n",
      "🎬 Recording HIGH_GUARD (orthodox, right) — Sample #001\n",
      "✅ Saved 2 clips to: block_dataset/high_guard\n",
      "\n",
      "🎬 Recording HIGH_GUARD (orthodox, right) — Sample #002\n",
      "✅ Saved 2 clips to: block_dataset/high_guard\n",
      "\n",
      "🎬 Recording HIGH_GUARD (orthodox, right) — Sample #003\n",
      "✅ Saved 2 clips to: block_dataset/high_guard\n",
      "\n",
      "🎬 Recording HIGH_GUARD (orthodox, right) — Sample #004\n",
      "✅ Saved 2 clips to: block_dataset/high_guard\n",
      "\n",
      "🎬 Recording HIGH_GUARD (orthodox, right) — Sample #005\n",
      "✅ Saved 2 clips to: block_dataset/high_guard\n",
      "\n",
      "🎬 Recording HIGH_GUARD (orthodox, right) — Sample #006\n",
      "✅ Saved 2 clips to: block_dataset/high_guard\n",
      "\n",
      "🎬 Recording HIGH_GUARD (orthodox, right) — Sample #007\n",
      "✅ Saved 2 clips to: block_dataset/high_guard\n",
      "\n",
      "🎬 Recording HIGH_GUARD (orthodox, right) — Sample #008\n",
      "✅ Saved 2 clips to: block_dataset/high_guard\n",
      "\n",
      "🎬 Recording HIGH_GUARD (orthodox, right) — Sample #009\n",
      "✅ Saved 2 clips to: block_dataset/high_guard\n",
      "\n",
      "🎬 Recording HIGH_GUARD (orthodox, right) — Sample #010\n",
      "✅ Saved 2 clips to: block_dataset/high_guard\n",
      "\n",
      "🎬 Recording HIGH_GUARD (orthodox, right) — Sample #011\n",
      "✅ Saved 2 clips to: block_dataset/high_guard\n",
      "\n",
      "🎬 Recording HIGH_GUARD (orthodox, right) — Sample #012\n",
      "✅ Saved 2 clips to: block_dataset/high_guard\n",
      "\n",
      "🎬 Recording HIGH_GUARD (orthodox, right) — Sample #013\n",
      "✅ Saved 2 clips to: block_dataset/high_guard\n",
      "\n",
      "🎬 Recording HIGH_GUARD (orthodox, right) — Sample #014\n"
     ]
    },
    {
     "name": "stderr",
     "output_type": "stream",
     "text": [
      "[mjpeg @ 0x12228300] overread 8\n"
     ]
    },
    {
     "name": "stdout",
     "output_type": "stream",
     "text": [
      "✅ Saved 2 clips to: block_dataset/high_guard\n",
      "\n",
      "🎬 Recording HIGH_GUARD (orthodox, right) — Sample #015\n",
      "✅ Saved 2 clips to: block_dataset/high_guard\n",
      "\n",
      "🎬 Recording HIGH_GUARD (orthodox, right) — Sample #016\n",
      "✅ Saved 2 clips to: block_dataset/high_guard\n",
      "\n",
      "🎬 Recording HIGH_GUARD (orthodox, right) — Sample #017\n",
      "✅ Saved 2 clips to: block_dataset/high_guard\n",
      "\n",
      "🎬 Recording HIGH_GUARD (orthodox, right) — Sample #018\n",
      "✅ Saved 2 clips to: block_dataset/high_guard\n",
      "\n",
      "🎬 Recording HIGH_GUARD (orthodox, right) — Sample #019\n",
      "✅ Saved 2 clips to: block_dataset/high_guard\n",
      "\n",
      "🎬 Recording HIGH_GUARD (orthodox, right) — Sample #020\n",
      "✅ Saved 2 clips to: block_dataset/high_guard\n",
      "\n",
      "🎬 Recording HIGH_GUARD (orthodox, right) — Sample #021\n",
      "✅ Saved 2 clips to: block_dataset/high_guard\n",
      "\n",
      "🎬 Recording HIGH_GUARD (orthodox, right) — Sample #022\n",
      "✅ Saved 2 clips to: block_dataset/high_guard\n",
      "\n",
      "🎬 Recording HIGH_GUARD (orthodox, right) — Sample #023\n",
      "✅ Saved 2 clips to: block_dataset/high_guard\n",
      "\n",
      "🎬 Recording HIGH_GUARD (orthodox, right) — Sample #024\n",
      "✅ Saved 2 clips to: block_dataset/high_guard\n",
      "\n",
      "🎬 Recording HIGH_GUARD (orthodox, right) — Sample #025\n",
      "✅ Saved 2 clips to: block_dataset/high_guard\n",
      "\n",
      "🎬 Recording HIGH_GUARD (orthodox, right) — Sample #026\n",
      "✅ Saved 2 clips to: block_dataset/high_guard\n",
      "\n",
      "🎬 Recording HIGH_GUARD (orthodox, right) — Sample #027\n",
      "✅ Saved 2 clips to: block_dataset/high_guard\n",
      "\n",
      "🎬 Recording HIGH_GUARD (orthodox, right) — Sample #028\n",
      "✅ Saved 2 clips to: block_dataset/high_guard\n",
      "\n",
      "🎬 Recording HIGH_GUARD (orthodox, right) — Sample #029\n",
      "✅ Saved 2 clips to: block_dataset/high_guard\n",
      "\n",
      "🎬 Recording HIGH_GUARD (orthodox, right) — Sample #030\n",
      "✅ Saved 2 clips to: block_dataset/high_guard\n",
      "\n",
      "🎬 Recording HIGH_GUARD (orthodox, right) — Sample #031\n",
      "✅ Saved 2 clips to: block_dataset/high_guard\n",
      "\n",
      "🎬 Recording HIGH_GUARD (orthodox, right) — Sample #032\n",
      "✅ Saved 2 clips to: block_dataset/high_guard\n",
      "\n",
      "🎬 Recording HIGH_GUARD (orthodox, right) — Sample #033\n",
      "✅ Saved 2 clips to: block_dataset/high_guard\n",
      "\n",
      "🎬 Recording HIGH_GUARD (orthodox, right) — Sample #034\n",
      "✅ Saved 2 clips to: block_dataset/high_guard\n"
     ]
    },
    {
     "name": "stderr",
     "output_type": "stream",
     "text": [
      "[mjpeg @ 0x11683f40] overread 8\n"
     ]
    },
    {
     "name": "stdout",
     "output_type": "stream",
     "text": [
      "\n",
      "🎬 Recording HIGH_GUARD (orthodox, right) — Sample #035\n",
      "✅ Saved 2 clips to: block_dataset/high_guard\n",
      "\n",
      "🎬 Recording HIGH_GUARD (orthodox, right) — Sample #036\n",
      "✅ Saved 2 clips to: block_dataset/high_guard\n",
      "\n",
      "🎬 Recording HIGH_GUARD (orthodox, right) — Sample #037\n",
      "✅ Saved 2 clips to: block_dataset/high_guard\n",
      "\n",
      "🎬 Recording HIGH_GUARD (orthodox, right) — Sample #038\n",
      "✅ Saved 2 clips to: block_dataset/high_guard\n",
      "\n",
      "🎬 Recording HIGH_GUARD (orthodox, right) — Sample #039\n",
      "✅ Saved 2 clips to: block_dataset/high_guard\n",
      "\n",
      "🎬 Recording HIGH_GUARD (orthodox, right) — Sample #040\n",
      "✅ Saved 2 clips to: block_dataset/high_guard\n",
      "\n",
      "🎬 Recording HIGH_GUARD (orthodox, right) — Sample #041\n",
      "✅ Saved 2 clips to: block_dataset/high_guard\n",
      "\n",
      "🎬 Recording HIGH_GUARD (orthodox, right) — Sample #042\n",
      "✅ Saved 2 clips to: block_dataset/high_guard\n",
      "\n",
      "🎬 Recording HIGH_GUARD (orthodox, right) — Sample #043\n",
      "✅ Saved 2 clips to: block_dataset/high_guard\n",
      "\n",
      "🎬 Recording HIGH_GUARD (orthodox, right) — Sample #044\n",
      "✅ Saved 2 clips to: block_dataset/high_guard\n",
      "\n",
      "🎬 Recording HIGH_GUARD (orthodox, right) — Sample #045\n",
      "✅ Saved 2 clips to: block_dataset/high_guard\n",
      "\n",
      "🎬 Recording HIGH_GUARD (orthodox, right) — Sample #046\n",
      "✅ Saved 2 clips to: block_dataset/high_guard\n",
      "\n",
      "🎬 Recording HIGH_GUARD (orthodox, right) — Sample #047\n"
     ]
    },
    {
     "name": "stderr",
     "output_type": "stream",
     "text": [
      "[mjpeg @ 0x12228500] overread 8\n"
     ]
    },
    {
     "name": "stdout",
     "output_type": "stream",
     "text": [
      "✅ Saved 2 clips to: block_dataset/high_guard\n",
      "\n",
      "🎬 Recording HIGH_GUARD (orthodox, right) — Sample #048\n",
      "✅ Saved 2 clips to: block_dataset/high_guard\n",
      "\n",
      "🎬 Recording HIGH_GUARD (orthodox, right) — Sample #049\n",
      "✅ Saved 2 clips to: block_dataset/high_guard\n"
     ]
    },
    {
     "name": "stderr",
     "output_type": "stream",
     "text": [
      "[mjpeg @ 0x11683f40] overread 8\n"
     ]
    },
    {
     "name": "stdout",
     "output_type": "stream",
     "text": [
      "\n",
      "🎬 Recording HIGH_GUARD (orthodox, right) — Sample #050\n",
      "✅ Saved 2 clips to: block_dataset/high_guard\n"
     ]
    },
    {
     "name": "stderr",
     "output_type": "stream",
     "text": [
      "[mjpeg @ 0x1258b280] overread 8\n",
      "[mjpeg @ 0x1258b280] overread 6\n",
      "[mjpeg @ 0x1258b280] overread 3\n",
      "[mjpeg @ 0x1258b280] overread 8\n",
      "[mjpeg @ 0x11683f40] overread 8\n",
      "[mjpeg @ 0x1258b280] overread 8\n",
      "[mjpeg @ 0x1258b280] overread 8\n",
      "[mjpeg @ 0x1258b280] overread 8\n",
      "[mjpeg @ 0x1258b280] overread 8\n",
      "[mjpeg @ 0x1258b280] overread 8\n"
     ]
    },
    {
     "name": "stdout",
     "output_type": "stream",
     "text": [
      "\n",
      "🎬 Recording HIGH_GUARD (southpaw, left) — Sample #001\n",
      "✅ Saved 2 clips to: block_dataset/high_guard\n"
     ]
    },
    {
     "name": "stderr",
     "output_type": "stream",
     "text": [
      "[mjpeg @ 0x1258b280] overread 8\n"
     ]
    },
    {
     "name": "stdout",
     "output_type": "stream",
     "text": [
      "\n",
      "🎬 Recording HIGH_GUARD (southpaw, left) — Sample #002\n",
      "✅ Saved 2 clips to: block_dataset/high_guard\n",
      "\n",
      "🎬 Recording HIGH_GUARD (southpaw, left) — Sample #003\n",
      "✅ Saved 2 clips to: block_dataset/high_guard\n",
      "\n",
      "🎬 Recording HIGH_GUARD (southpaw, left) — Sample #004\n",
      "✅ Saved 2 clips to: block_dataset/high_guard\n",
      "\n",
      "🎬 Recording HIGH_GUARD (southpaw, left) — Sample #005\n",
      "✅ Saved 2 clips to: block_dataset/high_guard\n",
      "\n",
      "🎬 Recording HIGH_GUARD (southpaw, left) — Sample #006\n",
      "✅ Saved 2 clips to: block_dataset/high_guard\n",
      "\n",
      "🎬 Recording HIGH_GUARD (southpaw, left) — Sample #007\n",
      "✅ Saved 2 clips to: block_dataset/high_guard\n"
     ]
    },
    {
     "name": "stderr",
     "output_type": "stream",
     "text": [
      "[mjpeg @ 0x1258b280] overread 8\n"
     ]
    },
    {
     "name": "stdout",
     "output_type": "stream",
     "text": [
      "\n",
      "🎬 Recording HIGH_GUARD (southpaw, left) — Sample #008\n",
      "✅ Saved 2 clips to: block_dataset/high_guard\n",
      "\n",
      "🎬 Recording HIGH_GUARD (southpaw, left) — Sample #009\n",
      "✅ Saved 2 clips to: block_dataset/high_guard\n",
      "\n",
      "🎬 Recording HIGH_GUARD (southpaw, left) — Sample #010\n",
      "✅ Saved 2 clips to: block_dataset/high_guard\n",
      "\n",
      "🎬 Recording HIGH_GUARD (southpaw, left) — Sample #011\n",
      "✅ Saved 2 clips to: block_dataset/high_guard\n",
      "\n",
      "🎬 Recording HIGH_GUARD (southpaw, left) — Sample #012\n",
      "✅ Saved 2 clips to: block_dataset/high_guard\n",
      "\n",
      "🎬 Recording HIGH_GUARD (southpaw, left) — Sample #013\n",
      "✅ Saved 2 clips to: block_dataset/high_guard\n",
      "\n",
      "🎬 Recording HIGH_GUARD (southpaw, left) — Sample #014\n",
      "✅ Saved 2 clips to: block_dataset/high_guard\n",
      "\n",
      "🎬 Recording HIGH_GUARD (southpaw, left) — Sample #015\n",
      "✅ Saved 2 clips to: block_dataset/high_guard\n",
      "\n",
      "🎬 Recording HIGH_GUARD (southpaw, left) — Sample #016\n"
     ]
    },
    {
     "name": "stderr",
     "output_type": "stream",
     "text": [
      "[mjpeg @ 0x1121b100] overread 8\n"
     ]
    },
    {
     "name": "stdout",
     "output_type": "stream",
     "text": [
      "✅ Saved 2 clips to: block_dataset/high_guard\n",
      "\n",
      "🎬 Recording HIGH_GUARD (southpaw, left) — Sample #017\n",
      "✅ Saved 2 clips to: block_dataset/high_guard\n",
      "\n",
      "🎬 Recording HIGH_GUARD (southpaw, left) — Sample #018\n",
      "✅ Saved 2 clips to: block_dataset/high_guard\n",
      "\n",
      "🎬 Recording HIGH_GUARD (southpaw, left) — Sample #019\n",
      "✅ Saved 2 clips to: block_dataset/high_guard\n",
      "\n",
      "🎬 Recording HIGH_GUARD (southpaw, left) — Sample #020\n",
      "✅ Saved 2 clips to: block_dataset/high_guard\n",
      "\n",
      "🎬 Recording HIGH_GUARD (southpaw, left) — Sample #021\n",
      "✅ Saved 2 clips to: block_dataset/high_guard\n",
      "\n",
      "🎬 Recording HIGH_GUARD (southpaw, left) — Sample #022\n",
      "✅ Saved 2 clips to: block_dataset/high_guard\n",
      "\n",
      "🎬 Recording HIGH_GUARD (southpaw, left) — Sample #023\n",
      "✅ Saved 2 clips to: block_dataset/high_guard\n"
     ]
    },
    {
     "name": "stderr",
     "output_type": "stream",
     "text": [
      "[mjpeg @ 0x1258b280] overread 8\n",
      "[mjpeg @ 0x11683f40] overread 7\n",
      "[mjpeg @ 0x1258b280] overread 8\n"
     ]
    },
    {
     "name": "stdout",
     "output_type": "stream",
     "text": [
      "\n",
      "🎬 Recording HIGH_GUARD (southpaw, left) — Sample #024\n",
      "✅ Saved 2 clips to: block_dataset/high_guard\n",
      "\n",
      "🎬 Recording HIGH_GUARD (southpaw, left) — Sample #025\n",
      "✅ Saved 2 clips to: block_dataset/high_guard\n",
      "\n",
      "🎬 Recording HIGH_GUARD (southpaw, left) — Sample #026\n",
      "✅ Saved 2 clips to: block_dataset/high_guard\n",
      "\n",
      "🎬 Recording HIGH_GUARD (southpaw, left) — Sample #027\n",
      "✅ Saved 2 clips to: block_dataset/high_guard\n",
      "\n",
      "🎬 Recording HIGH_GUARD (southpaw, left) — Sample #028\n",
      "✅ Saved 2 clips to: block_dataset/high_guard\n",
      "\n",
      "🎬 Recording HIGH_GUARD (southpaw, left) — Sample #029\n",
      "✅ Saved 2 clips to: block_dataset/high_guard\n",
      "\n",
      "🎬 Recording HIGH_GUARD (southpaw, left) — Sample #030\n",
      "✅ Saved 2 clips to: block_dataset/high_guard\n",
      "\n",
      "🎬 Recording HIGH_GUARD (southpaw, left) — Sample #031\n",
      "✅ Saved 2 clips to: block_dataset/high_guard\n",
      "\n",
      "🎬 Recording HIGH_GUARD (southpaw, left) — Sample #032\n",
      "✅ Saved 2 clips to: block_dataset/high_guard\n",
      "\n",
      "🎬 Recording HIGH_GUARD (southpaw, left) — Sample #033\n",
      "✅ Saved 2 clips to: block_dataset/high_guard\n",
      "\n",
      "🎬 Recording HIGH_GUARD (southpaw, left) — Sample #034\n",
      "✅ Saved 2 clips to: block_dataset/high_guard\n",
      "\n",
      "🎬 Recording HIGH_GUARD (southpaw, left) — Sample #035\n",
      "✅ Saved 2 clips to: block_dataset/high_guard\n",
      "\n",
      "🎬 Recording HIGH_GUARD (southpaw, left) — Sample #036\n",
      "✅ Saved 2 clips to: block_dataset/high_guard\n",
      "\n",
      "🎬 Recording HIGH_GUARD (southpaw, left) — Sample #037\n",
      "✅ Saved 2 clips to: block_dataset/high_guard\n",
      "\n",
      "🎬 Recording HIGH_GUARD (southpaw, left) — Sample #038\n",
      "✅ Saved 2 clips to: block_dataset/high_guard\n",
      "\n",
      "🎬 Recording HIGH_GUARD (southpaw, left) — Sample #039\n",
      "✅ Saved 2 clips to: block_dataset/high_guard\n",
      "\n",
      "🎬 Recording HIGH_GUARD (southpaw, left) — Sample #040\n",
      "✅ Saved 2 clips to: block_dataset/high_guard\n",
      "\n",
      "🎬 Recording HIGH_GUARD (southpaw, left) — Sample #041\n",
      "✅ Saved 2 clips to: block_dataset/high_guard\n",
      "\n",
      "🎬 Recording HIGH_GUARD (southpaw, left) — Sample #042\n",
      "✅ Saved 2 clips to: block_dataset/high_guard\n",
      "\n",
      "🎬 Recording HIGH_GUARD (southpaw, left) — Sample #043\n",
      "✅ Saved 2 clips to: block_dataset/high_guard\n",
      "\n",
      "🎬 Recording HIGH_GUARD (southpaw, left) — Sample #044\n",
      "✅ Saved 2 clips to: block_dataset/high_guard\n",
      "\n",
      "🎬 Recording HIGH_GUARD (southpaw, left) — Sample #045\n",
      "✅ Saved 2 clips to: block_dataset/high_guard\n",
      "\n",
      "🎬 Recording HIGH_GUARD (southpaw, left) — Sample #046\n",
      "✅ Saved 2 clips to: block_dataset/high_guard\n",
      "\n",
      "🎬 Recording HIGH_GUARD (southpaw, left) — Sample #047\n",
      "✅ Saved 2 clips to: block_dataset/high_guard\n",
      "\n",
      "🎬 Recording HIGH_GUARD (southpaw, left) — Sample #048\n",
      "✅ Saved 2 clips to: block_dataset/high_guard\n",
      "\n",
      "🎬 Recording HIGH_GUARD (southpaw, left) — Sample #049\n",
      "✅ Saved 2 clips to: block_dataset/high_guard\n",
      "\n",
      "🎬 Recording HIGH_GUARD (southpaw, left) — Sample #050\n",
      "✅ Saved 2 clips to: block_dataset/high_guard\n",
      "\n",
      "🎬 Recording HIGH_GUARD (southpaw, right) — Sample #001\n"
     ]
    },
    {
     "name": "stderr",
     "output_type": "stream",
     "text": [
      "[mjpeg @ 0x11b9a480] overread 8\n"
     ]
    },
    {
     "name": "stdout",
     "output_type": "stream",
     "text": [
      "✅ Saved 2 clips to: block_dataset/high_guard\n",
      "\n",
      "🎬 Recording HIGH_GUARD (southpaw, right) — Sample #002\n",
      "✅ Saved 2 clips to: block_dataset/high_guard\n",
      "\n",
      "🎬 Recording HIGH_GUARD (southpaw, right) — Sample #003\n",
      "✅ Saved 2 clips to: block_dataset/high_guard\n",
      "\n",
      "🎬 Recording HIGH_GUARD (southpaw, right) — Sample #004\n",
      "✅ Saved 2 clips to: block_dataset/high_guard\n",
      "\n",
      "🎬 Recording HIGH_GUARD (southpaw, right) — Sample #005\n",
      "✅ Saved 2 clips to: block_dataset/high_guard\n",
      "\n",
      "🎬 Recording HIGH_GUARD (southpaw, right) — Sample #006\n",
      "✅ Saved 2 clips to: block_dataset/high_guard\n",
      "\n",
      "🎬 Recording HIGH_GUARD (southpaw, right) — Sample #007\n",
      "✅ Saved 2 clips to: block_dataset/high_guard\n"
     ]
    },
    {
     "name": "stderr",
     "output_type": "stream",
     "text": [
      "[mjpeg @ 0x1258b280] overread 8\n",
      "[mjpeg @ 0x1258b280] overread 8\n",
      "[mjpeg @ 0x1258b280] overread 8\n",
      "[mjpeg @ 0x11683f40] overread 8\n",
      "[mjpeg @ 0x1258b280] overread 8\n",
      "[mjpeg @ 0x1258b280] overread 8\n",
      "[mjpeg @ 0x11683f40] overread 8\n"
     ]
    },
    {
     "name": "stdout",
     "output_type": "stream",
     "text": [
      "\n",
      "🎬 Recording HIGH_GUARD (southpaw, right) — Sample #008\n",
      "✅ Saved 2 clips to: block_dataset/high_guard\n",
      "\n",
      "🎬 Recording HIGH_GUARD (southpaw, right) — Sample #009\n",
      "✅ Saved 2 clips to: block_dataset/high_guard\n",
      "\n",
      "🎬 Recording HIGH_GUARD (southpaw, right) — Sample #010\n",
      "✅ Saved 2 clips to: block_dataset/high_guard\n",
      "\n",
      "🎬 Recording HIGH_GUARD (southpaw, right) — Sample #011\n",
      "✅ Saved 2 clips to: block_dataset/high_guard\n",
      "\n",
      "🎬 Recording HIGH_GUARD (southpaw, right) — Sample #012\n",
      "✅ Saved 2 clips to: block_dataset/high_guard\n",
      "\n",
      "🎬 Recording HIGH_GUARD (southpaw, right) — Sample #013\n",
      "✅ Saved 2 clips to: block_dataset/high_guard\n",
      "\n",
      "🎬 Recording HIGH_GUARD (southpaw, right) — Sample #014\n",
      "✅ Saved 2 clips to: block_dataset/high_guard\n",
      "\n",
      "🎬 Recording HIGH_GUARD (southpaw, right) — Sample #015\n",
      "✅ Saved 2 clips to: block_dataset/high_guard\n",
      "\n",
      "🎬 Recording HIGH_GUARD (southpaw, right) — Sample #016\n",
      "✅ Saved 2 clips to: block_dataset/high_guard\n"
     ]
    },
    {
     "name": "stderr",
     "output_type": "stream",
     "text": [
      "[mjpeg @ 0x11683f40] overread 3\n"
     ]
    },
    {
     "name": "stdout",
     "output_type": "stream",
     "text": [
      "\n",
      "🎬 Recording HIGH_GUARD (southpaw, right) — Sample #017\n",
      "✅ Saved 2 clips to: block_dataset/high_guard\n",
      "\n",
      "🎬 Recording HIGH_GUARD (southpaw, right) — Sample #018\n",
      "✅ Saved 2 clips to: block_dataset/high_guard\n"
     ]
    },
    {
     "name": "stderr",
     "output_type": "stream",
     "text": [
      "[mjpeg @ 0x1258b280] overread 8\n"
     ]
    },
    {
     "name": "stdout",
     "output_type": "stream",
     "text": [
      "\n",
      "🎬 Recording HIGH_GUARD (southpaw, right) — Sample #019\n"
     ]
    },
    {
     "name": "stderr",
     "output_type": "stream",
     "text": [
      "[mjpeg @ 0x12225080] overread 8\n"
     ]
    },
    {
     "name": "stdout",
     "output_type": "stream",
     "text": [
      "✅ Saved 2 clips to: block_dataset/high_guard\n",
      "\n",
      "🎬 Recording HIGH_GUARD (southpaw, right) — Sample #020\n",
      "✅ Saved 2 clips to: block_dataset/high_guard\n",
      "\n",
      "🎬 Recording HIGH_GUARD (southpaw, right) — Sample #021\n",
      "✅ Saved 2 clips to: block_dataset/high_guard\n",
      "\n",
      "🎬 Recording HIGH_GUARD (southpaw, right) — Sample #022\n",
      "✅ Saved 2 clips to: block_dataset/high_guard\n",
      "\n",
      "🎬 Recording HIGH_GUARD (southpaw, right) — Sample #023\n",
      "✅ Saved 2 clips to: block_dataset/high_guard\n",
      "\n",
      "🎬 Recording HIGH_GUARD (southpaw, right) — Sample #024\n",
      "✅ Saved 2 clips to: block_dataset/high_guard\n",
      "\n",
      "🎬 Recording HIGH_GUARD (southpaw, right) — Sample #025\n",
      "✅ Saved 2 clips to: block_dataset/high_guard\n",
      "\n",
      "🎬 Recording HIGH_GUARD (southpaw, right) — Sample #026\n"
     ]
    },
    {
     "name": "stderr",
     "output_type": "stream",
     "text": [
      "[mjpeg @ 0x111a1780] overread 8\n",
      "[mjpeg @ 0x111a1780] overread 8\n"
     ]
    },
    {
     "name": "stdout",
     "output_type": "stream",
     "text": [
      "✅ Saved 2 clips to: block_dataset/high_guard\n",
      "\n",
      "🎬 Recording HIGH_GUARD (southpaw, right) — Sample #027\n",
      "✅ Saved 2 clips to: block_dataset/high_guard\n",
      "\n",
      "🎬 Recording HIGH_GUARD (southpaw, right) — Sample #028\n",
      "✅ Saved 2 clips to: block_dataset/high_guard\n",
      "\n",
      "🎬 Recording HIGH_GUARD (southpaw, right) — Sample #029\n",
      "✅ Saved 2 clips to: block_dataset/high_guard\n",
      "\n",
      "🎬 Recording HIGH_GUARD (southpaw, right) — Sample #030\n",
      "✅ Saved 2 clips to: block_dataset/high_guard\n"
     ]
    },
    {
     "name": "stderr",
     "output_type": "stream",
     "text": [
      "[mjpeg @ 0x11683f40] overread 8\n",
      "[mjpeg @ 0x1258b280] overread 4\n",
      "[mjpeg @ 0x1258b280] overread 8\n"
     ]
    },
    {
     "name": "stdout",
     "output_type": "stream",
     "text": [
      "\n",
      "🎬 Recording HIGH_GUARD (southpaw, right) — Sample #030\n",
      "✅ Saved 2 clips to: block_dataset/high_guard\n",
      "\n",
      "🎬 Recording HIGH_GUARD (southpaw, right) — Sample #031\n"
     ]
    },
    {
     "name": "stderr",
     "output_type": "stream",
     "text": [
      "[mjpeg @ 0x112922c0] overread 8\n"
     ]
    },
    {
     "name": "stdout",
     "output_type": "stream",
     "text": [
      "✅ Saved 2 clips to: block_dataset/high_guard\n",
      "\n",
      "🎬 Recording HIGH_GUARD (southpaw, right) — Sample #032\n",
      "✅ Saved 2 clips to: block_dataset/high_guard\n",
      "\n",
      "🎬 Recording HIGH_GUARD (southpaw, right) — Sample #033\n",
      "✅ Saved 2 clips to: block_dataset/high_guard\n",
      "\n",
      "🎬 Recording HIGH_GUARD (southpaw, right) — Sample #034\n",
      "✅ Saved 2 clips to: block_dataset/high_guard\n",
      "\n",
      "🎬 Recording HIGH_GUARD (southpaw, right) — Sample #035\n",
      "✅ Saved 2 clips to: block_dataset/high_guard\n",
      "\n",
      "🎬 Recording HIGH_GUARD (southpaw, right) — Sample #036\n",
      "✅ Saved 2 clips to: block_dataset/high_guard\n"
     ]
    },
    {
     "name": "stderr",
     "output_type": "stream",
     "text": [
      "[mjpeg @ 0x11683f40] overread 8\n"
     ]
    },
    {
     "name": "stdout",
     "output_type": "stream",
     "text": [
      "\n",
      "🎬 Recording HIGH_GUARD (southpaw, right) — Sample #037\n",
      "✅ Saved 2 clips to: block_dataset/high_guard\n",
      "\n",
      "🎬 Recording HIGH_GUARD (southpaw, right) — Sample #038\n",
      "✅ Saved 2 clips to: block_dataset/high_guard\n",
      "\n",
      "🎬 Recording HIGH_GUARD (southpaw, right) — Sample #039\n",
      "✅ Saved 2 clips to: block_dataset/high_guard\n",
      "\n",
      "🎬 Recording HIGH_GUARD (southpaw, right) — Sample #040\n",
      "✅ Saved 2 clips to: block_dataset/high_guard\n",
      "\n",
      "🎬 Recording HIGH_GUARD (southpaw, right) — Sample #041\n",
      "✅ Saved 2 clips to: block_dataset/high_guard\n",
      "\n",
      "🎬 Recording HIGH_GUARD (southpaw, right) — Sample #042\n",
      "✅ Saved 2 clips to: block_dataset/high_guard\n",
      "\n",
      "🎬 Recording HIGH_GUARD (southpaw, right) — Sample #043\n",
      "✅ Saved 2 clips to: block_dataset/high_guard\n",
      "\n",
      "🎬 Recording HIGH_GUARD (southpaw, right) — Sample #044\n"
     ]
    },
    {
     "name": "stderr",
     "output_type": "stream",
     "text": [
      "[mjpeg @ 0x11cf1940] overread 8\n"
     ]
    },
    {
     "name": "stdout",
     "output_type": "stream",
     "text": [
      "✅ Saved 2 clips to: block_dataset/high_guard\n",
      "\n",
      "🎬 Recording HIGH_GUARD (southpaw, right) — Sample #045\n",
      "✅ Saved 2 clips to: block_dataset/high_guard\n",
      "\n",
      "🎬 Recording HIGH_GUARD (southpaw, right) — Sample #046\n",
      "✅ Saved 2 clips to: block_dataset/high_guard\n",
      "\n",
      "🎬 Recording HIGH_GUARD (southpaw, right) — Sample #047\n",
      "✅ Saved 2 clips to: block_dataset/high_guard\n",
      "\n",
      "🎬 Recording HIGH_GUARD (southpaw, right) — Sample #048\n",
      "✅ Saved 2 clips to: block_dataset/high_guard\n",
      "\n",
      "🎬 Recording HIGH_GUARD (southpaw, right) — Sample #049\n",
      "✅ Saved 2 clips to: block_dataset/high_guard\n",
      "\n",
      "🎬 Recording HIGH_GUARD (southpaw, right) — Sample #050\n",
      "✅ Saved 2 clips to: block_dataset/high_guard\n"
     ]
    },
    {
     "name": "stderr",
     "output_type": "stream",
     "text": [
      "[mjpeg @ 0x11683f40] overread 8\n",
      "[mjpeg @ 0x1258b280] overread 8\n",
      "[mjpeg @ 0x1258b280] overread 8\n",
      "[mjpeg @ 0x1258b280] overread 8\n",
      "[mjpeg @ 0x11683f40] overread 8\n",
      "[mjpeg @ 0x1258b280] overread 8\n",
      "[mjpeg @ 0x1258b280] overread 8\n",
      "[mjpeg @ 0x1258b280] overread 8\n",
      "[mjpeg @ 0x1258b280] overread 8\n",
      "[mjpeg @ 0x11683f40] overread 8\n",
      "[mjpeg @ 0x1258b280] overread 8\n",
      "[mjpeg @ 0x1258b280] overread 8\n",
      "[mjpeg @ 0x11683f40] overread 8\n",
      "[mjpeg @ 0x1258b280] overread 8\n",
      "[mjpeg @ 0x1258b280] overread 8\n",
      "[mjpeg @ 0x1258b280] overread 8\n",
      "[mjpeg @ 0x1258b280] overread 8\n",
      "[mjpeg @ 0x1258b280] overread 8\n",
      "[mjpeg @ 0x1258b280] overread 8\n",
      "[mjpeg @ 0x11683f40] overread 8\n",
      "[mjpeg @ 0x1258b280] overread 8\n",
      "[mjpeg @ 0x1258b280] overread 8\n",
      "[mjpeg @ 0x11683f40] overread 8\n",
      "[mjpeg @ 0x1258b280] overread 8\n",
      "[mjpeg @ 0x11683f40] overread 8\n",
      "[mjpeg @ 0x1258b280] overread 8\n",
      "[mjpeg @ 0x1258b280] overread 8\n",
      "[mjpeg @ 0x11683f40] overread 8\n",
      "[mjpeg @ 0x1258b280] overread 8\n",
      "[mjpeg @ 0x11683f40] overread 8\n",
      "[mjpeg @ 0x1258b280] overread 8\n",
      "[mjpeg @ 0x1258b280] overread 8\n",
      "[mjpeg @ 0x1258b280] overread 8\n",
      "[mjpeg @ 0x11683f40] overread 8\n",
      "[mjpeg @ 0x11683f40] overread 5\n",
      "[mjpeg @ 0x1258b280] overread 8\n",
      "[mjpeg @ 0x1258b280] overread 3\n",
      "[mjpeg @ 0x11683f40] overread 8\n",
      "[mjpeg @ 0x1258b280] overread 8\n",
      "[mjpeg @ 0x1258b280] overread 8\n",
      "[mjpeg @ 0x1258b280] overread 8\n",
      "[mjpeg @ 0x11683f40] overread 8\n",
      "[mjpeg @ 0x1258b280] overread 8\n"
     ]
    },
    {
     "name": "stdout",
     "output_type": "stream",
     "text": [
      "\n",
      "🎬 Recording FOREARM_BLOCK (orthodox, left) — Sample #001\n",
      "✅ Saved 2 clips to: block_dataset/forearm_block\n",
      "\n",
      "🎬 Recording FOREARM_BLOCK (orthodox, left) — Sample #002\n"
     ]
    },
    {
     "name": "stderr",
     "output_type": "stream",
     "text": [
      "[mjpeg @ 0x12228300] overread 2\n"
     ]
    },
    {
     "name": "stdout",
     "output_type": "stream",
     "text": [
      "✅ Saved 2 clips to: block_dataset/forearm_block\n",
      "\n",
      "🎬 Recording FOREARM_BLOCK (orthodox, left) — Sample #003\n",
      "✅ Saved 2 clips to: block_dataset/forearm_block\n",
      "\n",
      "🎬 Recording FOREARM_BLOCK (orthodox, left) — Sample #004\n",
      "✅ Saved 2 clips to: block_dataset/forearm_block\n",
      "\n",
      "🎬 Recording FOREARM_BLOCK (orthodox, left) — Sample #005\n",
      "✅ Saved 2 clips to: block_dataset/forearm_block\n",
      "\n",
      "🎬 Recording FOREARM_BLOCK (orthodox, left) — Sample #006\n",
      "✅ Saved 2 clips to: block_dataset/forearm_block\n",
      "\n",
      "🎬 Recording FOREARM_BLOCK (orthodox, left) — Sample #007\n",
      "✅ Saved 2 clips to: block_dataset/forearm_block\n",
      "\n",
      "🎬 Recording FOREARM_BLOCK (orthodox, left) — Sample #008\n",
      "✅ Saved 2 clips to: block_dataset/forearm_block\n",
      "\n",
      "🎬 Recording FOREARM_BLOCK (orthodox, left) — Sample #009\n",
      "✅ Saved 2 clips to: block_dataset/forearm_block\n",
      "\n",
      "🎬 Recording FOREARM_BLOCK (orthodox, left) — Sample #010\n",
      "✅ Saved 2 clips to: block_dataset/forearm_block\n",
      "\n",
      "🎬 Recording FOREARM_BLOCK (orthodox, left) — Sample #011\n"
     ]
    },
    {
     "name": "stderr",
     "output_type": "stream",
     "text": [
      "[mjpeg @ 0x122281c0] overread 8\n"
     ]
    },
    {
     "name": "stdout",
     "output_type": "stream",
     "text": [
      "✅ Saved 2 clips to: block_dataset/forearm_block\n",
      "\n",
      "🎬 Recording FOREARM_BLOCK (orthodox, left) — Sample #012\n",
      "✅ Saved 2 clips to: block_dataset/forearm_block\n",
      "\n",
      "🎬 Recording FOREARM_BLOCK (orthodox, left) — Sample #013\n",
      "✅ Saved 2 clips to: block_dataset/forearm_block\n",
      "\n",
      "🎬 Recording FOREARM_BLOCK (orthodox, left) — Sample #014\n",
      "✅ Saved 2 clips to: block_dataset/forearm_block\n",
      "\n",
      "🎬 Recording FOREARM_BLOCK (orthodox, left) — Sample #015\n",
      "✅ Saved 2 clips to: block_dataset/forearm_block\n",
      "\n",
      "🎬 Recording FOREARM_BLOCK (orthodox, left) — Sample #016\n",
      "✅ Saved 2 clips to: block_dataset/forearm_block\n",
      "\n",
      "🎬 Recording FOREARM_BLOCK (orthodox, left) — Sample #017\n",
      "✅ Saved 2 clips to: block_dataset/forearm_block\n",
      "\n",
      "🎬 Recording FOREARM_BLOCK (orthodox, left) — Sample #018\n",
      "✅ Saved 2 clips to: block_dataset/forearm_block\n",
      "\n",
      "🎬 Recording FOREARM_BLOCK (orthodox, left) — Sample #019\n",
      "✅ Saved 2 clips to: block_dataset/forearm_block\n",
      "\n",
      "🎬 Recording FOREARM_BLOCK (orthodox, left) — Sample #020\n",
      "✅ Saved 2 clips to: block_dataset/forearm_block\n",
      "\n",
      "🎬 Recording FOREARM_BLOCK (orthodox, left) — Sample #021\n",
      "✅ Saved 2 clips to: block_dataset/forearm_block\n"
     ]
    },
    {
     "name": "stderr",
     "output_type": "stream",
     "text": [
      "[mjpeg @ 0x11683f40] overread 8\n",
      "[mjpeg @ 0x1258b280] overread 8\n"
     ]
    },
    {
     "name": "stdout",
     "output_type": "stream",
     "text": [
      "\n",
      "🎬 Recording FOREARM_BLOCK (orthodox, left) — Sample #022\n",
      "✅ Saved 2 clips to: block_dataset/forearm_block\n"
     ]
    },
    {
     "name": "stderr",
     "output_type": "stream",
     "text": [
      "[mjpeg @ 0x1258b280] overread 5\n"
     ]
    },
    {
     "name": "stdout",
     "output_type": "stream",
     "text": [
      "\n",
      "🎬 Recording FOREARM_BLOCK (orthodox, left) — Sample #023\n",
      "✅ Saved 2 clips to: block_dataset/forearm_block\n",
      "\n",
      "🎬 Recording FOREARM_BLOCK (orthodox, left) — Sample #024\n",
      "✅ Saved 2 clips to: block_dataset/forearm_block\n",
      "\n",
      "🎬 Recording FOREARM_BLOCK (orthodox, left) — Sample #025\n",
      "✅ Saved 2 clips to: block_dataset/forearm_block\n",
      "\n",
      "🎬 Recording FOREARM_BLOCK (orthodox, left) — Sample #026\n",
      "✅ Saved 2 clips to: block_dataset/forearm_block\n",
      "\n",
      "🎬 Recording FOREARM_BLOCK (orthodox, left) — Sample #027\n",
      "✅ Saved 2 clips to: block_dataset/forearm_block\n",
      "\n",
      "🎬 Recording FOREARM_BLOCK (orthodox, left) — Sample #028\n",
      "✅ Saved 2 clips to: block_dataset/forearm_block\n",
      "\n",
      "🎬 Recording FOREARM_BLOCK (orthodox, left) — Sample #029\n",
      "✅ Saved 2 clips to: block_dataset/forearm_block\n",
      "\n",
      "🎬 Recording FOREARM_BLOCK (orthodox, left) — Sample #030\n",
      "✅ Saved 2 clips to: block_dataset/forearm_block\n",
      "\n",
      "🎬 Recording FOREARM_BLOCK (orthodox, left) — Sample #031\n",
      "✅ Saved 2 clips to: block_dataset/forearm_block\n",
      "\n",
      "🎬 Recording FOREARM_BLOCK (orthodox, left) — Sample #032\n",
      "✅ Saved 2 clips to: block_dataset/forearm_block\n",
      "\n",
      "🎬 Recording FOREARM_BLOCK (orthodox, left) — Sample #033\n",
      "✅ Saved 2 clips to: block_dataset/forearm_block\n",
      "\n",
      "🎬 Recording FOREARM_BLOCK (orthodox, left) — Sample #034\n",
      "✅ Saved 2 clips to: block_dataset/forearm_block\n",
      "\n",
      "🎬 Recording FOREARM_BLOCK (orthodox, left) — Sample #035\n",
      "✅ Saved 2 clips to: block_dataset/forearm_block\n",
      "\n",
      "🎬 Recording FOREARM_BLOCK (orthodox, left) — Sample #036\n",
      "✅ Saved 2 clips to: block_dataset/forearm_block\n",
      "\n",
      "🎬 Recording FOREARM_BLOCK (orthodox, left) — Sample #037\n",
      "✅ Saved 2 clips to: block_dataset/forearm_block\n",
      "\n",
      "🎬 Recording FOREARM_BLOCK (orthodox, left) — Sample #038\n",
      "✅ Saved 2 clips to: block_dataset/forearm_block\n",
      "\n",
      "🎬 Recording FOREARM_BLOCK (orthodox, left) — Sample #039\n",
      "✅ Saved 2 clips to: block_dataset/forearm_block\n",
      "\n",
      "🎬 Recording FOREARM_BLOCK (orthodox, left) — Sample #040\n",
      "✅ Saved 2 clips to: block_dataset/forearm_block\n",
      "\n",
      "🎬 Recording FOREARM_BLOCK (orthodox, left) — Sample #041\n",
      "✅ Saved 2 clips to: block_dataset/forearm_block\n",
      "\n",
      "🎬 Recording FOREARM_BLOCK (orthodox, left) — Sample #042\n",
      "✅ Saved 2 clips to: block_dataset/forearm_block\n",
      "\n",
      "🎬 Recording FOREARM_BLOCK (orthodox, left) — Sample #043\n",
      "✅ Saved 2 clips to: block_dataset/forearm_block\n",
      "\n",
      "🎬 Recording FOREARM_BLOCK (orthodox, left) — Sample #044\n"
     ]
    },
    {
     "name": "stderr",
     "output_type": "stream",
     "text": [
      "[mjpeg @ 0x1122f200] overread 8\n"
     ]
    },
    {
     "name": "stdout",
     "output_type": "stream",
     "text": [
      "✅ Saved 2 clips to: block_dataset/forearm_block\n",
      "\n",
      "🎬 Recording FOREARM_BLOCK (orthodox, left) — Sample #045\n",
      "✅ Saved 2 clips to: block_dataset/forearm_block\n",
      "\n",
      "🎬 Recording FOREARM_BLOCK (orthodox, left) — Sample #046\n",
      "✅ Saved 2 clips to: block_dataset/forearm_block\n",
      "\n",
      "🎬 Recording FOREARM_BLOCK (orthodox, left) — Sample #047\n",
      "✅ Saved 2 clips to: block_dataset/forearm_block\n",
      "\n",
      "🎬 Recording FOREARM_BLOCK (orthodox, left) — Sample #048\n",
      "✅ Saved 2 clips to: block_dataset/forearm_block\n",
      "\n",
      "🎬 Recording FOREARM_BLOCK (orthodox, left) — Sample #049\n"
     ]
    },
    {
     "name": "stderr",
     "output_type": "stream",
     "text": [
      "[mjpeg @ 0x122281c0] overread 8\n"
     ]
    },
    {
     "name": "stdout",
     "output_type": "stream",
     "text": [
      "✅ Saved 2 clips to: block_dataset/forearm_block\n",
      "\n",
      "🎬 Recording FOREARM_BLOCK (orthodox, left) — Sample #050\n",
      "✅ Saved 2 clips to: block_dataset/forearm_block\n"
     ]
    },
    {
     "name": "stderr",
     "output_type": "stream",
     "text": [
      "[mjpeg @ 0x1258b280] overread 8\n",
      "[mjpeg @ 0x1258b280] overread 8\n",
      "[mjpeg @ 0x1258b280] overread 8\n",
      "[mjpeg @ 0x1258b280] overread 8\n",
      "[mjpeg @ 0x1258b280] overread 8\n"
     ]
    },
    {
     "name": "stdout",
     "output_type": "stream",
     "text": [
      "\n",
      "🎬 Recording FOREARM_BLOCK (orthodox, right) — Sample #001\n",
      "✅ Saved 2 clips to: block_dataset/forearm_block\n"
     ]
    },
    {
     "name": "stderr",
     "output_type": "stream",
     "text": [
      "[mjpeg @ 0x1258b280] overread 8\n",
      "[mjpeg @ 0x1258b280] overread 8\n",
      "[mjpeg @ 0x1258b280] overread 8\n",
      "[mjpeg @ 0x1258b280] overread 8\n"
     ]
    },
    {
     "name": "stdout",
     "output_type": "stream",
     "text": [
      "\n",
      "🎬 Recording FOREARM_BLOCK (orthodox, right) — Sample #002\n",
      "✅ Saved 2 clips to: block_dataset/forearm_block\n",
      "\n",
      "🎬 Recording FOREARM_BLOCK (orthodox, right) — Sample #003\n",
      "✅ Saved 2 clips to: block_dataset/forearm_block\n",
      "\n",
      "🎬 Recording FOREARM_BLOCK (orthodox, right) — Sample #004\n",
      "✅ Saved 2 clips to: block_dataset/forearm_block\n",
      "\n",
      "🎬 Recording FOREARM_BLOCK (orthodox, right) — Sample #005\n",
      "✅ Saved 2 clips to: block_dataset/forearm_block\n",
      "\n",
      "🎬 Recording FOREARM_BLOCK (orthodox, right) — Sample #006\n",
      "✅ Saved 2 clips to: block_dataset/forearm_block\n"
     ]
    },
    {
     "name": "stderr",
     "output_type": "stream",
     "text": [
      "[mjpeg @ 0x11683f40] overread 8\n"
     ]
    },
    {
     "name": "stdout",
     "output_type": "stream",
     "text": [
      "\n",
      "🎬 Recording FOREARM_BLOCK (orthodox, right) — Sample #007\n",
      "✅ Saved 2 clips to: block_dataset/forearm_block\n",
      "\n",
      "🎬 Recording FOREARM_BLOCK (orthodox, right) — Sample #008\n",
      "✅ Saved 2 clips to: block_dataset/forearm_block\n",
      "\n",
      "🎬 Recording FOREARM_BLOCK (orthodox, right) — Sample #009\n",
      "✅ Saved 2 clips to: block_dataset/forearm_block\n",
      "\n",
      "🎬 Recording FOREARM_BLOCK (orthodox, right) — Sample #010\n"
     ]
    },
    {
     "name": "stderr",
     "output_type": "stream",
     "text": [
      "[mjpeg @ 0x125716c0] overread 8\n"
     ]
    },
    {
     "name": "stdout",
     "output_type": "stream",
     "text": [
      "✅ Saved 2 clips to: block_dataset/forearm_block\n",
      "\n",
      "🎬 Recording FOREARM_BLOCK (orthodox, right) — Sample #011\n"
     ]
    },
    {
     "name": "stderr",
     "output_type": "stream",
     "text": [
      "[mjpeg @ 0x121ffec0] overread 8\n"
     ]
    },
    {
     "name": "stdout",
     "output_type": "stream",
     "text": [
      "✅ Saved 2 clips to: block_dataset/forearm_block\n",
      "\n",
      "🎬 Recording FOREARM_BLOCK (orthodox, right) — Sample #012\n",
      "✅ Saved 2 clips to: block_dataset/forearm_block\n",
      "\n",
      "🎬 Recording FOREARM_BLOCK (orthodox, right) — Sample #013\n",
      "✅ Saved 2 clips to: block_dataset/forearm_block\n",
      "\n",
      "🎬 Recording FOREARM_BLOCK (orthodox, right) — Sample #014\n",
      "✅ Saved 2 clips to: block_dataset/forearm_block\n",
      "\n",
      "🎬 Recording FOREARM_BLOCK (orthodox, right) — Sample #015\n",
      "✅ Saved 2 clips to: block_dataset/forearm_block\n",
      "\n",
      "🎬 Recording FOREARM_BLOCK (orthodox, right) — Sample #016\n",
      "✅ Saved 2 clips to: block_dataset/forearm_block\n",
      "\n",
      "🎬 Recording FOREARM_BLOCK (orthodox, right) — Sample #017\n",
      "✅ Saved 2 clips to: block_dataset/forearm_block\n",
      "\n",
      "🎬 Recording FOREARM_BLOCK (orthodox, right) — Sample #018\n",
      "✅ Saved 2 clips to: block_dataset/forearm_block\n",
      "\n",
      "🎬 Recording FOREARM_BLOCK (orthodox, right) — Sample #019\n",
      "✅ Saved 2 clips to: block_dataset/forearm_block\n",
      "\n",
      "🎬 Recording FOREARM_BLOCK (orthodox, right) — Sample #020\n",
      "✅ Saved 2 clips to: block_dataset/forearm_block\n",
      "\n",
      "🎬 Recording FOREARM_BLOCK (orthodox, right) — Sample #021\n",
      "✅ Saved 2 clips to: block_dataset/forearm_block\n",
      "\n",
      "🎬 Recording FOREARM_BLOCK (orthodox, right) — Sample #022\n",
      "✅ Saved 2 clips to: block_dataset/forearm_block\n",
      "\n",
      "🎬 Recording FOREARM_BLOCK (orthodox, right) — Sample #023\n",
      "✅ Saved 2 clips to: block_dataset/forearm_block\n",
      "\n",
      "🎬 Recording FOREARM_BLOCK (orthodox, right) — Sample #024\n",
      "✅ Saved 2 clips to: block_dataset/forearm_block\n",
      "\n",
      "🎬 Recording FOREARM_BLOCK (orthodox, right) — Sample #025\n",
      "✅ Saved 2 clips to: block_dataset/forearm_block\n",
      "\n",
      "🎬 Recording FOREARM_BLOCK (orthodox, right) — Sample #026\n",
      "✅ Saved 2 clips to: block_dataset/forearm_block\n",
      "\n",
      "🎬 Recording FOREARM_BLOCK (orthodox, right) — Sample #027\n",
      "✅ Saved 2 clips to: block_dataset/forearm_block\n",
      "\n",
      "🎬 Recording FOREARM_BLOCK (orthodox, right) — Sample #028\n",
      "✅ Saved 2 clips to: block_dataset/forearm_block\n",
      "\n",
      "🎬 Recording FOREARM_BLOCK (orthodox, right) — Sample #029\n",
      "✅ Saved 2 clips to: block_dataset/forearm_block\n",
      "\n",
      "🎬 Recording FOREARM_BLOCK (orthodox, right) — Sample #030\n",
      "✅ Saved 2 clips to: block_dataset/forearm_block\n",
      "\n",
      "🎬 Recording FOREARM_BLOCK (orthodox, right) — Sample #031\n",
      "✅ Saved 2 clips to: block_dataset/forearm_block\n",
      "\n",
      "🎬 Recording FOREARM_BLOCK (orthodox, right) — Sample #032\n",
      "✅ Saved 2 clips to: block_dataset/forearm_block\n",
      "\n",
      "🎬 Recording FOREARM_BLOCK (orthodox, right) — Sample #033\n",
      "✅ Saved 2 clips to: block_dataset/forearm_block\n",
      "\n",
      "🎬 Recording FOREARM_BLOCK (orthodox, right) — Sample #034\n",
      "✅ Saved 2 clips to: block_dataset/forearm_block\n",
      "\n",
      "🎬 Recording FOREARM_BLOCK (orthodox, right) — Sample #035\n",
      "✅ Saved 2 clips to: block_dataset/forearm_block\n",
      "\n",
      "🎬 Recording FOREARM_BLOCK (orthodox, right) — Sample #036\n",
      "✅ Saved 2 clips to: block_dataset/forearm_block\n",
      "\n",
      "🎬 Recording FOREARM_BLOCK (orthodox, right) — Sample #037\n"
     ]
    },
    {
     "name": "stderr",
     "output_type": "stream",
     "text": [
      "[mjpeg @ 0x121ff5c0] overread 8\n"
     ]
    },
    {
     "name": "stdout",
     "output_type": "stream",
     "text": [
      "✅ Saved 2 clips to: block_dataset/forearm_block\n",
      "\n",
      "🎬 Recording FOREARM_BLOCK (orthodox, right) — Sample #038\n"
     ]
    },
    {
     "name": "stderr",
     "output_type": "stream",
     "text": [
      "[mjpeg @ 0x12225200] overread 8\n"
     ]
    },
    {
     "name": "stdout",
     "output_type": "stream",
     "text": [
      "✅ Saved 2 clips to: block_dataset/forearm_block\n",
      "\n",
      "🎬 Recording FOREARM_BLOCK (orthodox, right) — Sample #039\n",
      "✅ Saved 2 clips to: block_dataset/forearm_block\n",
      "\n",
      "🎬 Recording FOREARM_BLOCK (orthodox, right) — Sample #040\n"
     ]
    },
    {
     "name": "stderr",
     "output_type": "stream",
     "text": [
      "[mjpeg @ 0x111a1780] overread 8\n",
      "[mjpeg @ 0x111a1780] overread 8\n"
     ]
    },
    {
     "name": "stdout",
     "output_type": "stream",
     "text": [
      "✅ Saved 2 clips to: block_dataset/forearm_block\n",
      "\n",
      "🎬 Recording FOREARM_BLOCK (orthodox, right) — Sample #041\n",
      "✅ Saved 2 clips to: block_dataset/forearm_block\n",
      "\n",
      "🎬 Recording FOREARM_BLOCK (orthodox, right) — Sample #042\n",
      "✅ Saved 2 clips to: block_dataset/forearm_block\n",
      "\n",
      "🎬 Recording FOREARM_BLOCK (orthodox, right) — Sample #043\n",
      "✅ Saved 2 clips to: block_dataset/forearm_block\n",
      "\n",
      "🎬 Recording FOREARM_BLOCK (orthodox, right) — Sample #044\n",
      "✅ Saved 2 clips to: block_dataset/forearm_block\n",
      "\n",
      "🎬 Recording FOREARM_BLOCK (orthodox, right) — Sample #045\n",
      "✅ Saved 2 clips to: block_dataset/forearm_block\n",
      "\n",
      "🎬 Recording FOREARM_BLOCK (orthodox, right) — Sample #046\n",
      "✅ Saved 2 clips to: block_dataset/forearm_block\n",
      "\n",
      "🎬 Recording FOREARM_BLOCK (orthodox, right) — Sample #047\n",
      "✅ Saved 2 clips to: block_dataset/forearm_block\n",
      "\n",
      "🎬 Recording FOREARM_BLOCK (orthodox, right) — Sample #048\n",
      "✅ Saved 2 clips to: block_dataset/forearm_block\n",
      "\n",
      "🎬 Recording FOREARM_BLOCK (orthodox, right) — Sample #049\n",
      "✅ Saved 2 clips to: block_dataset/forearm_block\n",
      "\n",
      "🎬 Recording FOREARM_BLOCK (orthodox, right) — Sample #050\n",
      "✅ Saved 2 clips to: block_dataset/forearm_block\n"
     ]
    },
    {
     "name": "stderr",
     "output_type": "stream",
     "text": [
      "[mjpeg @ 0x1258b280] overread 7\n",
      "[mjpeg @ 0x1258b280] overread 8\n",
      "[mjpeg @ 0x1258b280] overread 8\n",
      "[mjpeg @ 0x1258b280] overread 8\n",
      "[mjpeg @ 0x11683f40] overread 8\n",
      "[mjpeg @ 0x1258b280] overread 8\n",
      "[mjpeg @ 0x1258b280] overread 8\n",
      "[mjpeg @ 0x1258b280] overread 8\n",
      "[mjpeg @ 0x1258b280] overread 8\n",
      "[mjpeg @ 0x1258b280] overread 8\n",
      "[mjpeg @ 0x11683f40] overread 8\n",
      "[mjpeg @ 0x1258b280] overread 8\n",
      "[mjpeg @ 0x1258b280] overread 8\n",
      "[mjpeg @ 0x1258b280] overread 8\n",
      "[mjpeg @ 0x1258b280] overread 8\n",
      "[mjpeg @ 0x1258b280] overread 8\n",
      "[mjpeg @ 0x1258b280] overread 8\n",
      "[mjpeg @ 0x1258b280] overread 8\n",
      "[mjpeg @ 0x1258b280] overread 8\n",
      "[mjpeg @ 0x1258b280] overread 8\n",
      "[mjpeg @ 0x1258b280] overread 8\n",
      "[mjpeg @ 0x1258b280] overread 8\n"
     ]
    },
    {
     "name": "stdout",
     "output_type": "stream",
     "text": [
      "\n",
      "🎬 Recording FOREARM_BLOCK (southpaw, left) — Sample #001\n",
      "✅ Saved 2 clips to: block_dataset/forearm_block\n",
      "\n",
      "🎬 Recording FOREARM_BLOCK (southpaw, left) — Sample #002\n",
      "✅ Saved 2 clips to: block_dataset/forearm_block\n",
      "\n",
      "🎬 Recording FOREARM_BLOCK (southpaw, left) — Sample #003\n",
      "✅ Saved 2 clips to: block_dataset/forearm_block\n",
      "\n",
      "🎬 Recording FOREARM_BLOCK (southpaw, left) — Sample #004\n",
      "✅ Saved 2 clips to: block_dataset/forearm_block\n",
      "\n",
      "🎬 Recording FOREARM_BLOCK (southpaw, left) — Sample #005\n",
      "✅ Saved 2 clips to: block_dataset/forearm_block\n",
      "\n",
      "🎬 Recording FOREARM_BLOCK (southpaw, left) — Sample #006\n"
     ]
    },
    {
     "name": "stderr",
     "output_type": "stream",
     "text": [
      "[mjpeg @ 0x11f70880] overread 8\n"
     ]
    },
    {
     "name": "stdout",
     "output_type": "stream",
     "text": [
      "✅ Saved 2 clips to: block_dataset/forearm_block\n",
      "\n",
      "🎬 Recording FOREARM_BLOCK (southpaw, left) — Sample #007\n"
     ]
    },
    {
     "name": "stderr",
     "output_type": "stream",
     "text": [
      "[mjpeg @ 0x122283c0] overread 8\n"
     ]
    },
    {
     "name": "stdout",
     "output_type": "stream",
     "text": [
      "✅ Saved 2 clips to: block_dataset/forearm_block\n",
      "\n",
      "🎬 Recording FOREARM_BLOCK (southpaw, left) — Sample #008\n",
      "✅ Saved 2 clips to: block_dataset/forearm_block\n",
      "\n",
      "🎬 Recording FOREARM_BLOCK (southpaw, left) — Sample #009\n",
      "✅ Saved 2 clips to: block_dataset/forearm_block\n",
      "\n",
      "🎬 Recording FOREARM_BLOCK (southpaw, left) — Sample #010\n",
      "✅ Saved 2 clips to: block_dataset/forearm_block\n",
      "\n",
      "🎬 Recording FOREARM_BLOCK (southpaw, left) — Sample #011\n",
      "✅ Saved 2 clips to: block_dataset/forearm_block\n",
      "\n",
      "🎬 Recording FOREARM_BLOCK (southpaw, left) — Sample #012\n",
      "✅ Saved 2 clips to: block_dataset/forearm_block\n",
      "\n",
      "🎬 Recording FOREARM_BLOCK (southpaw, left) — Sample #013\n",
      "✅ Saved 2 clips to: block_dataset/forearm_block\n",
      "\n",
      "🎬 Recording FOREARM_BLOCK (southpaw, left) — Sample #014\n",
      "✅ Saved 2 clips to: block_dataset/forearm_block\n",
      "\n",
      "🎬 Recording FOREARM_BLOCK (southpaw, left) — Sample #015\n",
      "✅ Saved 2 clips to: block_dataset/forearm_block\n",
      "\n",
      "🎬 Recording FOREARM_BLOCK (southpaw, left) — Sample #016\n",
      "✅ Saved 2 clips to: block_dataset/forearm_block\n",
      "\n",
      "🎬 Recording FOREARM_BLOCK (southpaw, left) — Sample #017\n",
      "✅ Saved 2 clips to: block_dataset/forearm_block\n",
      "\n",
      "🎬 Recording FOREARM_BLOCK (southpaw, left) — Sample #018\n",
      "✅ Saved 2 clips to: block_dataset/forearm_block\n",
      "\n",
      "🎬 Recording FOREARM_BLOCK (southpaw, left) — Sample #019\n",
      "✅ Saved 2 clips to: block_dataset/forearm_block\n",
      "\n",
      "🎬 Recording FOREARM_BLOCK (southpaw, left) — Sample #020\n",
      "✅ Saved 2 clips to: block_dataset/forearm_block\n",
      "\n",
      "🎬 Recording FOREARM_BLOCK (southpaw, left) — Sample #021\n",
      "✅ Saved 2 clips to: block_dataset/forearm_block\n",
      "\n",
      "🎬 Recording FOREARM_BLOCK (southpaw, left) — Sample #022\n",
      "✅ Saved 2 clips to: block_dataset/forearm_block\n",
      "\n",
      "🎬 Recording FOREARM_BLOCK (southpaw, left) — Sample #023\n",
      "✅ Saved 2 clips to: block_dataset/forearm_block\n"
     ]
    },
    {
     "name": "stderr",
     "output_type": "stream",
     "text": [
      "[mjpeg @ 0x11683f40] overread 8\n"
     ]
    },
    {
     "name": "stdout",
     "output_type": "stream",
     "text": [
      "\n",
      "🎬 Recording FOREARM_BLOCK (southpaw, left) — Sample #024\n",
      "✅ Saved 2 clips to: block_dataset/forearm_block\n",
      "\n",
      "🎬 Recording FOREARM_BLOCK (southpaw, left) — Sample #025\n"
     ]
    },
    {
     "name": "stderr",
     "output_type": "stream",
     "text": [
      "[mjpeg @ 0x11716040] overread 8\n"
     ]
    },
    {
     "name": "stdout",
     "output_type": "stream",
     "text": [
      "✅ Saved 2 clips to: block_dataset/forearm_block\n",
      "\n",
      "🎬 Recording FOREARM_BLOCK (southpaw, left) — Sample #026\n",
      "✅ Saved 2 clips to: block_dataset/forearm_block\n",
      "\n",
      "🎬 Recording FOREARM_BLOCK (southpaw, left) — Sample #027\n",
      "✅ Saved 2 clips to: block_dataset/forearm_block\n",
      "\n",
      "🎬 Recording FOREARM_BLOCK (southpaw, left) — Sample #028\n",
      "✅ Saved 2 clips to: block_dataset/forearm_block\n"
     ]
    },
    {
     "name": "stderr",
     "output_type": "stream",
     "text": [
      "[mjpeg @ 0x11683f40] overread 1\n"
     ]
    },
    {
     "name": "stdout",
     "output_type": "stream",
     "text": [
      "\n",
      "🎬 Recording FOREARM_BLOCK (southpaw, left) — Sample #029\n",
      "✅ Saved 2 clips to: block_dataset/forearm_block\n",
      "\n",
      "🎬 Recording FOREARM_BLOCK (southpaw, left) — Sample #030\n",
      "✅ Saved 2 clips to: block_dataset/forearm_block\n",
      "\n",
      "🎬 Recording FOREARM_BLOCK (southpaw, left) — Sample #031\n"
     ]
    },
    {
     "name": "stderr",
     "output_type": "stream",
     "text": [
      "[mjpeg @ 0x111a1780] overread 8\n"
     ]
    },
    {
     "name": "stdout",
     "output_type": "stream",
     "text": [
      "✅ Saved 2 clips to: block_dataset/forearm_block\n",
      "\n",
      "🎬 Recording FOREARM_BLOCK (southpaw, left) — Sample #032\n"
     ]
    },
    {
     "name": "stderr",
     "output_type": "stream",
     "text": [
      "[mjpeg @ 0x12228300] overread 8\n",
      "[mjpeg @ 0x12228300] overread 8\n"
     ]
    },
    {
     "name": "stdout",
     "output_type": "stream",
     "text": [
      "✅ Saved 2 clips to: block_dataset/forearm_block\n",
      "\n",
      "🎬 Recording FOREARM_BLOCK (southpaw, left) — Sample #033\n",
      "✅ Saved 2 clips to: block_dataset/forearm_block\n",
      "\n",
      "🎬 Recording FOREARM_BLOCK (southpaw, left) — Sample #034\n",
      "✅ Saved 2 clips to: block_dataset/forearm_block\n",
      "\n",
      "🎬 Recording FOREARM_BLOCK (southpaw, left) — Sample #035\n"
     ]
    },
    {
     "name": "stderr",
     "output_type": "stream",
     "text": [
      "[mjpeg @ 0x12225200] overread 8\n"
     ]
    },
    {
     "name": "stdout",
     "output_type": "stream",
     "text": [
      "✅ Saved 2 clips to: block_dataset/forearm_block\n",
      "\n",
      "🎬 Recording FOREARM_BLOCK (southpaw, left) — Sample #036\n",
      "✅ Saved 2 clips to: block_dataset/forearm_block\n",
      "\n",
      "🎬 Recording FOREARM_BLOCK (southpaw, left) — Sample #037\n",
      "✅ Saved 2 clips to: block_dataset/forearm_block\n",
      "\n",
      "🎬 Recording FOREARM_BLOCK (southpaw, left) — Sample #038\n",
      "✅ Saved 2 clips to: block_dataset/forearm_block\n",
      "\n",
      "🎬 Recording FOREARM_BLOCK (southpaw, left) — Sample #039\n",
      "✅ Saved 2 clips to: block_dataset/forearm_block\n",
      "\n",
      "🎬 Recording FOREARM_BLOCK (southpaw, left) — Sample #040\n",
      "✅ Saved 2 clips to: block_dataset/forearm_block\n",
      "\n",
      "🎬 Recording FOREARM_BLOCK (southpaw, left) — Sample #041\n",
      "✅ Saved 2 clips to: block_dataset/forearm_block\n"
     ]
    },
    {
     "name": "stderr",
     "output_type": "stream",
     "text": [
      "[mjpeg @ 0x11683f40] overread 8\n"
     ]
    },
    {
     "name": "stdout",
     "output_type": "stream",
     "text": [
      "\n",
      "🎬 Recording FOREARM_BLOCK (southpaw, left) — Sample #042\n",
      "✅ Saved 2 clips to: block_dataset/forearm_block\n",
      "\n",
      "🎬 Recording FOREARM_BLOCK (southpaw, left) — Sample #043\n",
      "✅ Saved 2 clips to: block_dataset/forearm_block\n"
     ]
    },
    {
     "name": "stderr",
     "output_type": "stream",
     "text": [
      "[mjpeg @ 0x11683f40] overread 8\n"
     ]
    },
    {
     "name": "stdout",
     "output_type": "stream",
     "text": [
      "\n",
      "🎬 Recording FOREARM_BLOCK (southpaw, left) — Sample #044\n",
      "✅ Saved 2 clips to: block_dataset/forearm_block\n",
      "\n",
      "🎬 Recording FOREARM_BLOCK (southpaw, left) — Sample #045\n",
      "✅ Saved 2 clips to: block_dataset/forearm_block\n",
      "\n",
      "🎬 Recording FOREARM_BLOCK (southpaw, left) — Sample #046\n",
      "✅ Saved 2 clips to: block_dataset/forearm_block\n",
      "\n",
      "🎬 Recording FOREARM_BLOCK (southpaw, left) — Sample #047\n",
      "✅ Saved 2 clips to: block_dataset/forearm_block\n",
      "\n",
      "🎬 Recording FOREARM_BLOCK (southpaw, left) — Sample #048\n",
      "✅ Saved 2 clips to: block_dataset/forearm_block\n",
      "\n",
      "🎬 Recording FOREARM_BLOCK (southpaw, left) — Sample #049\n",
      "✅ Saved 2 clips to: block_dataset/forearm_block\n"
     ]
    },
    {
     "name": "stderr",
     "output_type": "stream",
     "text": [
      "[mjpeg @ 0x11683f40] overread 8\n"
     ]
    },
    {
     "name": "stdout",
     "output_type": "stream",
     "text": [
      "\n",
      "🎬 Recording FOREARM_BLOCK (southpaw, left) — Sample #050\n",
      "✅ Saved 2 clips to: block_dataset/forearm_block\n",
      "\n",
      "🎬 Recording FOREARM_BLOCK (southpaw, right) — Sample #001\n",
      "✅ Saved 2 clips to: block_dataset/forearm_block\n",
      "\n",
      "🎬 Recording FOREARM_BLOCK (southpaw, right) — Sample #002\n",
      "✅ Saved 2 clips to: block_dataset/forearm_block\n",
      "\n",
      "🎬 Recording FOREARM_BLOCK (southpaw, right) — Sample #003\n",
      "✅ Saved 2 clips to: block_dataset/forearm_block\n",
      "\n",
      "🎬 Recording FOREARM_BLOCK (southpaw, right) — Sample #004\n",
      "✅ Saved 2 clips to: block_dataset/forearm_block\n",
      "\n",
      "🎬 Recording FOREARM_BLOCK (southpaw, right) — Sample #005\n"
     ]
    },
    {
     "name": "stderr",
     "output_type": "stream",
     "text": [
      "[mjpeg @ 0x121fa300] overread 8\n"
     ]
    },
    {
     "name": "stdout",
     "output_type": "stream",
     "text": [
      "✅ Saved 2 clips to: block_dataset/forearm_block\n",
      "\n",
      "🎬 Recording FOREARM_BLOCK (southpaw, right) — Sample #006\n"
     ]
    },
    {
     "name": "stderr",
     "output_type": "stream",
     "text": [
      "[mjpeg @ 0x1140a540] overread 8\n"
     ]
    },
    {
     "name": "stdout",
     "output_type": "stream",
     "text": [
      "✅ Saved 2 clips to: block_dataset/forearm_block\n",
      "\n",
      "🎬 Recording FOREARM_BLOCK (southpaw, right) — Sample #007\n",
      "✅ Saved 2 clips to: block_dataset/forearm_block\n"
     ]
    },
    {
     "name": "stderr",
     "output_type": "stream",
     "text": [
      "[mjpeg @ 0x11683f40] overread 8\n"
     ]
    },
    {
     "name": "stdout",
     "output_type": "stream",
     "text": [
      "\n",
      "🎬 Recording FOREARM_BLOCK (southpaw, right) — Sample #008\n",
      "✅ Saved 2 clips to: block_dataset/forearm_block\n",
      "\n",
      "🎬 Recording FOREARM_BLOCK (southpaw, right) — Sample #009\n",
      "✅ Saved 2 clips to: block_dataset/forearm_block\n",
      "\n",
      "🎬 Recording FOREARM_BLOCK (southpaw, right) — Sample #010\n",
      "✅ Saved 2 clips to: block_dataset/forearm_block\n",
      "\n",
      "🎬 Recording FOREARM_BLOCK (southpaw, right) — Sample #011\n",
      "✅ Saved 2 clips to: block_dataset/forearm_block\n",
      "\n",
      "🎬 Recording FOREARM_BLOCK (southpaw, right) — Sample #012\n",
      "✅ Saved 2 clips to: block_dataset/forearm_block\n",
      "\n",
      "🎬 Recording FOREARM_BLOCK (southpaw, right) — Sample #013\n",
      "✅ Saved 2 clips to: block_dataset/forearm_block\n",
      "\n",
      "🎬 Recording FOREARM_BLOCK (southpaw, right) — Sample #014\n",
      "✅ Saved 2 clips to: block_dataset/forearm_block\n",
      "\n",
      "🎬 Recording FOREARM_BLOCK (southpaw, right) — Sample #015\n",
      "✅ Saved 2 clips to: block_dataset/forearm_block\n",
      "\n",
      "🎬 Recording FOREARM_BLOCK (southpaw, right) — Sample #016\n",
      "✅ Saved 2 clips to: block_dataset/forearm_block\n",
      "\n",
      "🎬 Recording FOREARM_BLOCK (southpaw, right) — Sample #017\n",
      "✅ Saved 2 clips to: block_dataset/forearm_block\n",
      "\n",
      "🎬 Recording FOREARM_BLOCK (southpaw, right) — Sample #018\n",
      "✅ Saved 2 clips to: block_dataset/forearm_block\n",
      "\n",
      "🎬 Recording FOREARM_BLOCK (southpaw, right) — Sample #019\n",
      "✅ Saved 2 clips to: block_dataset/forearm_block\n",
      "\n",
      "🎬 Recording FOREARM_BLOCK (southpaw, right) — Sample #020\n",
      "✅ Saved 2 clips to: block_dataset/forearm_block\n",
      "\n",
      "🎬 Recording FOREARM_BLOCK (southpaw, right) — Sample #021\n",
      "✅ Saved 2 clips to: block_dataset/forearm_block\n",
      "\n",
      "🎬 Recording FOREARM_BLOCK (southpaw, right) — Sample #022\n",
      "✅ Saved 2 clips to: block_dataset/forearm_block\n",
      "\n",
      "🎬 Recording FOREARM_BLOCK (southpaw, right) — Sample #023\n",
      "✅ Saved 2 clips to: block_dataset/forearm_block\n",
      "\n",
      "🎬 Recording FOREARM_BLOCK (southpaw, right) — Sample #024\n",
      "✅ Saved 2 clips to: block_dataset/forearm_block\n",
      "\n",
      "🎬 Recording FOREARM_BLOCK (southpaw, right) — Sample #025\n",
      "✅ Saved 2 clips to: block_dataset/forearm_block\n",
      "\n",
      "🎬 Recording FOREARM_BLOCK (southpaw, right) — Sample #026\n",
      "✅ Saved 2 clips to: block_dataset/forearm_block\n",
      "\n",
      "🎬 Recording FOREARM_BLOCK (southpaw, right) — Sample #027\n",
      "✅ Saved 2 clips to: block_dataset/forearm_block\n",
      "\n",
      "🎬 Recording FOREARM_BLOCK (southpaw, right) — Sample #028\n",
      "✅ Saved 2 clips to: block_dataset/forearm_block\n",
      "\n",
      "🎬 Recording FOREARM_BLOCK (southpaw, right) — Sample #029\n",
      "✅ Saved 2 clips to: block_dataset/forearm_block\n",
      "\n",
      "🎬 Recording FOREARM_BLOCK (southpaw, right) — Sample #030\n",
      "✅ Saved 2 clips to: block_dataset/forearm_block\n",
      "\n",
      "🎬 Recording FOREARM_BLOCK (southpaw, right) — Sample #031\n",
      "✅ Saved 2 clips to: block_dataset/forearm_block\n",
      "\n",
      "🎬 Recording FOREARM_BLOCK (southpaw, right) — Sample #032\n",
      "✅ Saved 2 clips to: block_dataset/forearm_block\n",
      "\n",
      "🎬 Recording FOREARM_BLOCK (southpaw, right) — Sample #033\n",
      "✅ Saved 2 clips to: block_dataset/forearm_block\n",
      "\n",
      "🎬 Recording FOREARM_BLOCK (southpaw, right) — Sample #034\n",
      "✅ Saved 2 clips to: block_dataset/forearm_block\n",
      "\n",
      "🎬 Recording FOREARM_BLOCK (southpaw, right) — Sample #035\n",
      "✅ Saved 2 clips to: block_dataset/forearm_block\n",
      "\n",
      "🎬 Recording FOREARM_BLOCK (southpaw, right) — Sample #036\n",
      "✅ Saved 2 clips to: block_dataset/forearm_block\n",
      "\n",
      "🎬 Recording FOREARM_BLOCK (southpaw, right) — Sample #037\n",
      "✅ Saved 2 clips to: block_dataset/forearm_block\n",
      "\n",
      "🎬 Recording FOREARM_BLOCK (southpaw, right) — Sample #038\n",
      "✅ Saved 2 clips to: block_dataset/forearm_block\n",
      "\n",
      "🎬 Recording FOREARM_BLOCK (southpaw, right) — Sample #039\n",
      "✅ Saved 2 clips to: block_dataset/forearm_block\n",
      "\n",
      "🎬 Recording FOREARM_BLOCK (southpaw, right) — Sample #040\n",
      "✅ Saved 2 clips to: block_dataset/forearm_block\n",
      "\n",
      "🎬 Recording FOREARM_BLOCK (southpaw, right) — Sample #041\n",
      "✅ Saved 2 clips to: block_dataset/forearm_block\n",
      "\n",
      "🎬 Recording FOREARM_BLOCK (southpaw, right) — Sample #042\n",
      "✅ Saved 2 clips to: block_dataset/forearm_block\n",
      "\n",
      "🎬 Recording FOREARM_BLOCK (southpaw, right) — Sample #043\n",
      "✅ Saved 2 clips to: block_dataset/forearm_block\n"
     ]
    },
    {
     "name": "stderr",
     "output_type": "stream",
     "text": [
      "[mjpeg @ 0x1258b280] overread 8\n"
     ]
    },
    {
     "name": "stdout",
     "output_type": "stream",
     "text": [
      "\n",
      "🎬 Recording FOREARM_BLOCK (southpaw, right) — Sample #044\n",
      "✅ Saved 2 clips to: block_dataset/forearm_block\n",
      "\n",
      "🎬 Recording FOREARM_BLOCK (southpaw, right) — Sample #045\n",
      "✅ Saved 2 clips to: block_dataset/forearm_block\n",
      "\n",
      "🎬 Recording FOREARM_BLOCK (southpaw, right) — Sample #046\n",
      "✅ Saved 2 clips to: block_dataset/forearm_block\n",
      "\n",
      "🎬 Recording FOREARM_BLOCK (southpaw, right) — Sample #047\n",
      "✅ Saved 2 clips to: block_dataset/forearm_block\n",
      "\n",
      "🎬 Recording FOREARM_BLOCK (southpaw, right) — Sample #048\n",
      "✅ Saved 2 clips to: block_dataset/forearm_block\n"
     ]
    },
    {
     "name": "stderr",
     "output_type": "stream",
     "text": [
      "[mjpeg @ 0x1258b280] overread 8\n"
     ]
    },
    {
     "name": "stdout",
     "output_type": "stream",
     "text": [
      "\n",
      "🎬 Recording FOREARM_BLOCK (southpaw, right) — Sample #049\n",
      "✅ Saved 2 clips to: block_dataset/forearm_block\n",
      "\n",
      "🎬 Recording FOREARM_BLOCK (southpaw, right) — Sample #050\n",
      "✅ Saved 2 clips to: block_dataset/forearm_block\n",
      "🔚 Exiting.\n"
     ]
    }
   ],
   "source": [
    "import cv2\n",
    "import os\n",
    "import time\n",
    "import csv\n",
    "from collections import defaultdict\n",
    "\n",
    "BASE_DIR = \"block_negative/block_dataset\"\n",
    "LABELS_FILE = \"labels/block_labels.csv\"\n",
    "PREVIEW_WIDTH = 360\n",
    "PREVIEW_HEIGHT = 640\n",
    "FULL_HD = (1080, 1920)\n",
    "FPS = 20\n",
    "RECORD_SECONDS = 3\n",
    "\n",
    "\n",
    "STREAM_URLS = {\n",
    "    \"cam 1\": \"http://192.168.39.134:8080/video\",\n",
    "    \"cam 2\": \"http://10.128.92.136:8080/video\",\n",
    "    \"cam 3\": \"http://192.168.67.89:8080/video\",\n",
    "    \"cam 4\": \"http://10.18.32.16:8080/video\",\n",
    "}\n",
    "\n",
    "\n",
    "key_map = {\n",
    "    'a': ('parry', 'orthodox', 'left'),\n",
    "    'b': ('parry', 'orthodox', 'right'),\n",
    "    'c': ('parry', 'southpaw', 'left'),\n",
    "    'd': ('parry', 'southpaw', 'right'),\n",
    "\n",
    "    'e': ('high_guard', 'orthodox', 'left'),\n",
    "    'f': ('high_guard', 'orthodox', 'right'),\n",
    "    'g': ('high_guard', 'southpaw', 'left'),\n",
    "    'h': ('high_guard', 'southpaw', 'right'),\n",
    "\n",
    "    'i': ('elbow_block', 'orthodox', 'left'),\n",
    "    'j': ('elbow_block', 'orthodox', 'right'),\n",
    "    'k': ('elbow_block', 'southpaw', 'left'),\n",
    "    'l': ('elbow_block', 'southpaw', 'right'),\n",
    "\n",
    "    'm': ('forearm_block', 'orthodox', 'left'),\n",
    "    'n': ('forearm_block', 'orthodox', 'right'),\n",
    "    'o': ('forearm_block', 'southpaw', 'left'),\n",
    "    'p': ('forearm_block', 'southpaw', 'right'),\n",
    "}\n",
    "\n",
    "\n",
    "def find_next_sample_number(label, stance, hand):\n",
    "    subdir = os.path.join(BASE_DIR, label)\n",
    "    os.makedirs(subdir, exist_ok=True)\n",
    "    used_numbers = set()\n",
    "\n",
    "    for fname in os.listdir(subdir):\n",
    "        if fname.startswith(f\"{label}_{stance}_{hand}_\") and fname.endswith('.mp4'):\n",
    "            try:\n",
    "                num_part = fname.split('_')[-1].split('.')[0]\n",
    "                num = int(num_part)\n",
    "                used_numbers.add(num)\n",
    "            except:\n",
    "                continue\n",
    "\n",
    "    for i in range(1, 1000):  \n",
    "        if i not in used_numbers:\n",
    "            return f\"{i:03d}\"\n",
    "    return f\"{max(used_numbers)+1:03d}\"  \n",
    "\n",
    "def create_writer(filename):\n",
    "    fourcc = cv2.VideoWriter_fourcc(*'mp4v')\n",
    "    return cv2.VideoWriter(filename, fourcc, FPS, FULL_HD)\n",
    "\n",
    "def record_Block(label, stance, hand):\n",
    "    count_str = find_next_sample_number(label, stance, hand)\n",
    "\n",
    "    subdir = os.path.join(BASE_DIR, label)\n",
    "    caps = {name: cv2.VideoCapture(url) for name, url in STREAM_URLS.items()}\n",
    "    for name, cap in caps.items():\n",
    "        if not cap.isOpened():\n",
    "            print(f\"Failed to open stream for {name}\")\n",
    "            return\n",
    "\n",
    "    writers = {}\n",
    "    out_paths = []\n",
    "    for name in STREAM_URLS:\n",
    "        fname = f\"{label}_{stance}_{hand}_{name}_{count_str}.mp4\"\n",
    "        path = os.path.join(subdir, fname)\n",
    "        writers[name] = create_writer(path)\n",
    "        out_paths.append(os.path.join(label, fname))\n",
    "\n",
    "    print(f\"\\nRecording {label.upper()} ({stance}, {hand}) — Sample #{count_str}\")\n",
    "\n",
    "    start = time.time()\n",
    "    while time.time() - start < RECORD_SECONDS:\n",
    "        for name, cap in caps.items():\n",
    "            ret, frame = cap.read()\n",
    "            if ret:\n",
    "                writers[name].write(frame)\n",
    "                preview_frame = cv2.resize(frame, (PREVIEW_WIDTH, PREVIEW_HEIGHT))\n",
    "                cv2.circle(preview_frame, (30, 30), 15, (0, 0, 255), -1)\n",
    "                cv2.imshow(name, preview_frame)\n",
    "            else:\n",
    "                print(f\"Failed to read from {name}\")\n",
    "        if cv2.waitKey(1) & 0xFF == ord('q'):\n",
    "            print(\"Early stop requested.\")\n",
    "            break\n",
    "        time.sleep(1 / FPS)\n",
    "\n",
    "    for cap in caps.values(): cap.release()\n",
    "    for writer in writers.values(): writer.release()\n",
    "\n",
    "    with open(LABELS_FILE, 'a', newline='') as f:\n",
    "        writer = csv.writer(f)\n",
    "        for fname in out_paths:\n",
    "            writer.writerow([fname, stance, hand, label])\n",
    "\n",
    "    print(f\"Saved {len(out_paths)} clips to: {subdir}\")\n",
    "\n",
    "def main():\n",
    "    os.makedirs(BASE_DIR, exist_ok=True)\n",
    "    if not os.path.exists(LABELS_FILE):\n",
    "        with open(LABELS_FILE, 'w', newline='') as f:\n",
    "            csv.writer(f).writerow([\"filename\", \"stance\", \"hand_used\", \"label\"])\n",
    "\n",
    "    print(\"\\nIP Webcam Recorder (Preview Always On)\")\n",
    "    for k, (label, stance, hand) in key_map.items():\n",
    "        print(f\"  {k} → {label} / {stance} / {hand}\")\n",
    "    print(\"Press 'q' to quit.\\n\")\n",
    "\n",
    "    caps = {name: cv2.VideoCapture(url) for name, url in STREAM_URLS.items()}\n",
    "    for name, cap in caps.items():\n",
    "        if not cap.isOpened():\n",
    "            print(f\"Failed to open preview stream: {name}\")\n",
    "            return\n",
    "\n",
    "    while True:\n",
    "        for name, cap in caps.items():\n",
    "            ret, frame = cap.read()\n",
    "            if ret:\n",
    "                preview = cv2.resize(frame, (PREVIEW_WIDTH, PREVIEW_HEIGHT))\n",
    "                cv2.imshow(name, preview)\n",
    "            else:\n",
    "                print(f\"Lost feed from {name}\")\n",
    "\n",
    "        key = cv2.waitKey(1) & 0xFF\n",
    "        if key == ord('q'):\n",
    "            print(\"Exiting.\")\n",
    "            break\n",
    "        elif key != 255:\n",
    "            key_char = chr(key).lower()\n",
    "            if key_char in key_map:\n",
    "                label, stance, hand = key_map[key_char]\n",
    "                record_Block(label, stance, hand)\n",
    "\n",
    "    for cap in caps.values():\n",
    "        cap.release()\n",
    "    cv2.destroyAllWindows()\n",
    "\n",
    "if __name__ == \"__main__\":\n",
    "    main()"
   ]
  },
  {
   "cell_type": "markdown",
   "id": "ee85ca48",
   "metadata": {},
   "source": [
    "#### Data Augmentation"
   ]
  },
  {
   "cell_type": "markdown",
   "id": "566405bd",
   "metadata": {},
   "source": [
    "##### Punch Augmentation"
   ]
  },
  {
   "cell_type": "code",
   "execution_count": null,
   "id": "4902bf1e",
   "metadata": {},
   "outputs": [
    {
     "name": "stdout",
     "output_type": "stream",
     "text": [
      "--- Starting Full Video Augmentation Process ---\n",
      "\n",
      "Processing action: 'jab' (800 videos)\n"
     ]
    },
    {
     "name": "stderr",
     "output_type": "stream",
     "text": [
      "Augmenting 'jab': 100%|██████████| 800/800 [1:47:13<00:00,  8.04s/it]\n"
     ]
    },
    {
     "name": "stdout",
     "output_type": "stream",
     "text": [
      "\n",
      "Processing action: 'cross' (800 videos)\n"
     ]
    },
    {
     "name": "stderr",
     "output_type": "stream",
     "text": [
      "Augmenting 'cross': 100%|██████████| 800/800 [1:44:12<00:00,  7.82s/it]\n"
     ]
    },
    {
     "name": "stdout",
     "output_type": "stream",
     "text": [
      "\n",
      "Processing action: 'hook' (800 videos)\n"
     ]
    },
    {
     "name": "stderr",
     "output_type": "stream",
     "text": [
      "Augmenting 'hook': 100%|██████████| 800/800 [1:43:53<00:00,  7.79s/it]\n"
     ]
    },
    {
     "name": "stdout",
     "output_type": "stream",
     "text": [
      "\n",
      "Processing action: 'uppercut' (800 videos)\n"
     ]
    },
    {
     "name": "stderr",
     "output_type": "stream",
     "text": [
      "Augmenting 'uppercut': 100%|██████████| 800/800 [1:39:44<00:00,  7.48s/it]\n"
     ]
    },
    {
     "name": "stdout",
     "output_type": "stream",
     "text": [
      "\n",
      "Processing action: 'negative' (800 videos)\n"
     ]
    },
    {
     "name": "stderr",
     "output_type": "stream",
     "text": [
      "Augmenting 'negative': 100%|██████████| 800/800 [1:39:17<00:00,  7.45s/it]"
     ]
    },
    {
     "name": "stdout",
     "output_type": "stream",
     "text": [
      "\n",
      "✅ Finished augmenting all specified video folders.\n",
      "Augmented videos saved in: augmented_data\n"
     ]
    },
    {
     "name": "stderr",
     "output_type": "stream",
     "text": [
      "\n"
     ]
    }
   ],
   "source": [
    "import os\n",
    "import cv2\n",
    "import numpy as np\n",
    "from tqdm import tqdm\n",
    "\n",
    "BASE_RAW_DATA_DIR = \"punch/combined_dataset\"\n",
    "BASE_AUGMENTED_DATA_DIR = \"punch/augmented_data\"\n",
    "\n",
    "ACTIONS_TO_PROCESS = [\n",
    "    'jab', 'cross', 'hook', 'uppercut']\n",
    "\n",
    "AUGMENTATION_TYPES = {\n",
    "    \"rot_pos15\": {\"angle\": 15},\n",
    "    \"rot_neg15\": {\"angle\": -15},\n",
    "    \"scale_80\": {\"scale\": 0.8},\n",
    "    \"scale_120\": {\"scale\": 1.2},\n",
    "\n",
    "    \"noise_5_percent\": {\"add_noise\": True},\n",
    "    \"brightness_up\": {\"brightness\": 40},\n",
    "    \"brightness_down\": {\"brightness\": -40},\n",
    "\n",
    "    \"slow_motion_50_percent\": {\"slowdown_factor\": 2.0},\n",
    "    \"random_erase\": {\"random_erase\": True}\n",
    "}\n",
    "\n",
    "def augment_and_save_video(video_path, output_path, **kwargs):\n",
    "\n",
    "    cap = cv2.VideoCapture(video_path)\n",
    "    if not cap.isOpened():\n",
    "        print(f\"Warning: Could not open video {video_path}\")\n",
    "        return\n",
    "\n",
    "    frame_width = int(cap.get(cv2.CAP_PROP_FRAME_WIDTH))\n",
    "    frame_height = int(cap.get(cv2.CAP_PROP_FRAME_HEIGHT))\n",
    "    original_fps = cap.get(cv2.CAP_PROP_FPS)\n",
    "\n",
    "    angle = kwargs.get(\"angle\", 0)\n",
    "    scale = kwargs.get(\"scale\", 1.0)\n",
    "    add_noise = kwargs.get(\"add_noise\", False)\n",
    "    brightness = kwargs.get(\"brightness\", 0)\n",
    "    slowdown_factor = kwargs.get(\"slowdown_factor\", 1.0)\n",
    "    random_erase = kwargs.get(\"random_erase\", False)\n",
    "\n",
    "    output_fps = max(1.0, original_fps / slowdown_factor)\n",
    "\n",
    "    fourcc = cv2.VideoWriter_fourcc(*'mp4v')\n",
    "    out = cv2.VideoWriter(output_path, fourcc, output_fps, (frame_width, frame_height))\n",
    "\n",
    "    center = (frame_width // 2, frame_height // 2)\n",
    "    rot_matrix = cv2.getRotationMatrix2D(center, angle, scale)\n",
    "\n",
    "    while True:\n",
    "        success, frame = cap.read()\n",
    "        if not success:\n",
    "            break\n",
    "\n",
    "        augmented_frame = frame.copy()\n",
    "\n",
    "        if angle != 0 or scale != 1.0:\n",
    "            augmented_frame = cv2.warpAffine(augmented_frame, rot_matrix, (frame_width, frame_height))\n",
    "\n",
    "\n",
    "        if brightness != 0:\n",
    "            hsv = cv2.cvtColor(augmented_frame, cv2.COLOR_BGR2HSV)\n",
    "            h, s, v = cv2.split(hsv)\n",
    "            v = np.clip(cv2.add(v, brightness), 0, 255)\n",
    "            final_hsv = cv2.merge((h, s, v))\n",
    "            augmented_frame = cv2.cvtColor(final_hsv, cv2.COLOR_HSV2BGR)\n",
    "\n",
    "        if add_noise:\n",
    "            noise = np.random.normal(0, 13, augmented_frame.shape).astype(np.uint8)\n",
    "            augmented_frame = cv2.add(augmented_frame, noise)\n",
    "\n",
    "        if random_erase:\n",
    "            erase_h, erase_w = int(frame_height * 0.15), int(frame_width * 0.15)\n",
    "            x1 = np.random.randint(0, frame_width - erase_w)\n",
    "            y1 = np.random.randint(0, frame_height - erase_h)\n",
    "            augmented_frame[y1:y1+erase_h, x1:x1+erase_w] = (0, 0, 0) \n",
    "\n",
    "        out.write(augmented_frame)\n",
    "\n",
    "    cap.release()\n",
    "    out.release()\n",
    "\n",
    "\n",
    "def process_and_augment_videos():\n",
    "    print(\"--- Starting Full Video Augmentation Process ---\")\n",
    "\n",
    "    for action_name in ACTIONS_TO_PROCESS:\n",
    "        raw_data_dir = os.path.join(BASE_RAW_DATA_DIR, action_name)\n",
    "\n",
    "        if not os.path.isdir(raw_data_dir):\n",
    "            print(f\"\\nWarning: Directory not found for '{action_name}', skipping.\")\n",
    "            continue\n",
    "\n",
    "        video_files = [f for f in os.listdir(raw_data_dir) if f.lower().endswith('.mp4')]\n",
    "        if not video_files:\n",
    "            print(f\"\\nInfo: No videos found for '{action_name}', skipping.\")\n",
    "            continue\n",
    "            \n",
    "        print(f\"\\nProcessing action: '{action_name}' ({len(video_files)} videos)\")\n",
    "\n",
    "        for video_name in tqdm(video_files, desc=f\"Augmenting '{action_name}'\"):\n",
    "            video_path = os.path.join(raw_data_dir, video_name)\n",
    "\n",
    "            for aug_name, aug_params in AUGMENTATION_TYPES.items():\n",
    "                output_dir = os.path.join(BASE_AUGMENTED_DATA_DIR, action_name, aug_name)\n",
    "                os.makedirs(output_dir, exist_ok=True)\n",
    "                output_path = os.path.join(output_dir, video_name)\n",
    "\n",
    "                augment_and_save_video(video_path, output_path, **aug_params)\n",
    "\n",
    "    print(f\"\\nFinished augmenting all specified video folders.\")\n",
    "    print(f\"Augmented videos saved in: {BASE_AUGMENTED_DATA_DIR}\")\n",
    "\n",
    "if __name__ == '__main__':\n",
    "    process_and_augment_videos()"
   ]
  },
  {
   "cell_type": "markdown",
   "id": "c05b7cae",
   "metadata": {},
   "source": [
    "#### Block Augumentation"
   ]
  },
  {
   "cell_type": "code",
   "execution_count": null,
   "id": "27a8a81e",
   "metadata": {},
   "outputs": [
    {
     "name": "stdout",
     "output_type": "stream",
     "text": [
      "--- Starting Full Video Augmentation Process ---\n",
      "\n",
      "Processing action: 'forearm_block' (800 videos)\n"
     ]
    },
    {
     "name": "stderr",
     "output_type": "stream",
     "text": [
      "Augmenting 'forearm_block': 100%|██████████| 800/800 [2:00:44<00:00,  9.06s/it]  \n"
     ]
    },
    {
     "name": "stdout",
     "output_type": "stream",
     "text": [
      "\n",
      "Processing action: 'high_guard' (800 videos)\n"
     ]
    },
    {
     "name": "stderr",
     "output_type": "stream",
     "text": [
      "Augmenting 'high_guard': 100%|██████████| 800/800 [1:51:31<00:00,  8.36s/it]\n"
     ]
    },
    {
     "name": "stdout",
     "output_type": "stream",
     "text": [
      "\n",
      "Processing action: 'parry' (800 videos)\n"
     ]
    },
    {
     "name": "stderr",
     "output_type": "stream",
     "text": [
      "Augmenting 'parry': 100%|██████████| 800/800 [1:52:02<00:00,  8.40s/it]"
     ]
    },
    {
     "name": "stdout",
     "output_type": "stream",
     "text": [
      "\n",
      "✅ Finished augmenting all specified video folders.\n",
      "Augmented videos saved in: block_augmented_data\n"
     ]
    },
    {
     "name": "stderr",
     "output_type": "stream",
     "text": [
      "\n"
     ]
    }
   ],
   "source": [
    "import os\n",
    "import cv2\n",
    "import numpy as np\n",
    "from tqdm import tqdm\n",
    "\n",
    "BASE_RAW_DATA_DIR = \"block_negative/block_dataset\"\n",
    "BASE_AUGMENTED_DATA_DIR = \"block_negative/block_augmented_data\"\n",
    "\n",
    "\n",
    "ACTIONS_TO_PROCESS = [\n",
    "    'forearm_block', 'high_guard', 'parry' , 'negative'\n",
    "]\n",
    "\n",
    "AUGMENTATION_TYPES = {\n",
    "    \"rot_pos15\": {\"angle\": 15},\n",
    "    \"rot_neg15\": {\"angle\": -15},\n",
    "    \"scale_80\": {\"scale\": 0.8},\n",
    "    \"scale_120\": {\"scale\": 1.2},\n",
    "\n",
    "    \"noise_5_percent\": {\"add_noise\": True},\n",
    "    \"brightness_up\": {\"brightness\": 40},\n",
    "    \"brightness_down\": {\"brightness\": -40},\n",
    "\n",
    "    \"slow_motion_50_percent\": {\"slowdown_factor\": 2.0},\n",
    "    \"random_erase\": {\"random_erase\": True}\n",
    "}\n",
    "\n",
    "def augment_and_save_video(video_path, output_path, **kwargs):\n",
    "    cap = cv2.VideoCapture(video_path)\n",
    "    if not cap.isOpened():\n",
    "        print(f\"Warning: Could not open video {video_path}\")\n",
    "        return\n",
    "\n",
    "    frame_width = int(cap.get(cv2.CAP_PROP_FRAME_WIDTH))\n",
    "    frame_height = int(cap.get(cv2.CAP_PROP_FRAME_HEIGHT))\n",
    "    original_fps = cap.get(cv2.CAP_PROP_FPS)\n",
    "\n",
    "    angle = kwargs.get(\"angle\", 0)\n",
    "    scale = kwargs.get(\"scale\", 1.0)\n",
    "    add_noise = kwargs.get(\"add_noise\", False)\n",
    "    brightness = kwargs.get(\"brightness\", 0)\n",
    "    slowdown_factor = kwargs.get(\"slowdown_factor\", 1.0)\n",
    "    random_erase = kwargs.get(\"random_erase\", False)\n",
    "\n",
    "    output_fps = max(1.0, original_fps / slowdown_factor)\n",
    "\n",
    "    fourcc = cv2.VideoWriter_fourcc(*'mp4v')\n",
    "    out = cv2.VideoWriter(output_path, fourcc, output_fps, (frame_width, frame_height))\n",
    "\n",
    "    center = (frame_width // 2, frame_height // 2)\n",
    "    rot_matrix = cv2.getRotationMatrix2D(center, angle, scale)\n",
    "\n",
    "    while True:\n",
    "        success, frame = cap.read()\n",
    "        if not success:\n",
    "            break\n",
    "\n",
    "        augmented_frame = frame.copy()\n",
    "\n",
    "        if angle != 0 or scale != 1.0:\n",
    "            augmented_frame = cv2.warpAffine(augmented_frame, rot_matrix, (frame_width, frame_height))\n",
    "\n",
    "\n",
    "        if brightness != 0:\n",
    "            hsv = cv2.cvtColor(augmented_frame, cv2.COLOR_BGR2HSV)\n",
    "            h, s, v = cv2.split(hsv)\n",
    "            v = np.clip(cv2.add(v, brightness), 0, 255)\n",
    "            final_hsv = cv2.merge((h, s, v))\n",
    "            augmented_frame = cv2.cvtColor(final_hsv, cv2.COLOR_HSV2BGR)\n",
    "\n",
    "        if add_noise:\n",
    "            noise = np.random.normal(0, 13, augmented_frame.shape).astype(np.uint8)\n",
    "            augmented_frame = cv2.add(augmented_frame, noise)\n",
    "\n",
    "        if random_erase:\n",
    "            erase_h, erase_w = int(frame_height * 0.15), int(frame_width * 0.15)\n",
    "            x1 = np.random.randint(0, frame_width - erase_w)\n",
    "            y1 = np.random.randint(0, frame_height - erase_h)\n",
    "            augmented_frame[y1:y1+erase_h, x1:x1+erase_w] = (0, 0, 0) \n",
    "\n",
    "        out.write(augmented_frame)\n",
    "\n",
    "    cap.release()\n",
    "    out.release()\n",
    "\n",
    "\n",
    "def process_and_augment_videos():\n",
    "    print(\"--- Starting Full Video Augmentation Process ---\")\n",
    "\n",
    "    for action_name in ACTIONS_TO_PROCESS:\n",
    "        raw_data_dir = os.path.join(BASE_RAW_DATA_DIR, action_name)\n",
    "\n",
    "        if not os.path.isdir(raw_data_dir):\n",
    "            print(f\"\\nWarning: Directory not found for '{action_name}', skipping.\")\n",
    "            continue\n",
    "\n",
    "        video_files = [f for f in os.listdir(raw_data_dir) if f.lower().endswith('.mp4')]\n",
    "        if not video_files:\n",
    "            print(f\"\\nInfo: No videos found for '{action_name}', skipping.\")\n",
    "            continue\n",
    "            \n",
    "        print(f\"\\nProcessing action: '{action_name}' ({len(video_files)} videos)\")\n",
    "\n",
    "        for video_name in tqdm(video_files, desc=f\"Augmenting '{action_name}'\"):\n",
    "            video_path = os.path.join(raw_data_dir, video_name)\n",
    "\n",
    "            for aug_name, aug_params in AUGMENTATION_TYPES.items():\n",
    "                output_dir = os.path.join(BASE_AUGMENTED_DATA_DIR, action_name, aug_name)\n",
    "                os.makedirs(output_dir, exist_ok=True)\n",
    "                output_path = os.path.join(output_dir, video_name)\n",
    "\n",
    "                augment_and_save_video(video_path, output_path, **aug_params)\n",
    "\n",
    "    print(f\"\\nFinished augmenting all specified video folders.\")\n",
    "    print(f\"Augmented videos saved in: {BASE_AUGMENTED_DATA_DIR}\")\n",
    "\n",
    "if __name__ == '__main__':\n",
    "    process_and_augment_videos()"
   ]
  },
  {
   "cell_type": "markdown",
   "id": "a8fd6187",
   "metadata": {},
   "source": [
    "##### Mirroring Everthing (PUNCH + PUNCH_AUGUMENTATION)"
   ]
  },
  {
   "cell_type": "code",
   "execution_count": null,
   "id": "d4f2f78e",
   "metadata": {},
   "outputs": [
    {
     "name": "stdout",
     "output_type": "stream",
     "text": [
      "\n",
      "--- Mirroring videos from 'combined_dataset' to 'mirrored_combined_dataset' ---\n"
     ]
    },
    {
     "name": "stderr",
     "output_type": "stream",
     "text": [
      "Mirroring combined_dataset:   0%|          | 0/4000 [00:00<?, ?it/s]"
     ]
    },
    {
     "name": "stderr",
     "output_type": "stream",
     "text": [
      "Mirroring combined_dataset: 100%|██████████| 4000/4000 [36:41<00:00,  1.82it/s] \n"
     ]
    },
    {
     "name": "stdout",
     "output_type": "stream",
     "text": [
      "✅ Finished mirroring dataset: combined_dataset\n",
      "\n",
      "--- Mirroring videos from 'augmented_data' to 'mirrored_augmented_data' ---\n"
     ]
    },
    {
     "name": "stderr",
     "output_type": "stream",
     "text": [
      "Mirroring augmented_data: 100%|██████████| 36000/36000 [5:20:09<00:00,  1.87it/s]   "
     ]
    },
    {
     "name": "stdout",
     "output_type": "stream",
     "text": [
      "✅ Finished mirroring dataset: augmented_data\n",
      "\n",
      "All mirroring processes complete.\n"
     ]
    },
    {
     "name": "stderr",
     "output_type": "stream",
     "text": [
      "\n"
     ]
    }
   ],
   "source": [
    "import os\n",
    "import cv2\n",
    "from tqdm import tqdm\n",
    "\n",
    "SOURCE_COMBINED_DIR = \"punch/combined_dataset\"\n",
    "SOURCE_AUGMENTED_DIR = \"punch/augmented_data\"\n",
    "\n",
    "TARGET_MIRRORED_COMBINED_DIR = \"punch/mirrored_combined_dataset\"\n",
    "TARGET_MIRRORED_AUGMENTED_DIR = \"punch/mirrored_augmented_data\"\n",
    "\n",
    "def mirror_and_save_video(video_path, output_path):\n",
    "\n",
    "    cap = cv2.VideoCapture(video_path)\n",
    "    if not cap.isOpened():\n",
    "        print(f\"Warning: Could not open video {video_path}\")\n",
    "        return\n",
    "\n",
    "    frame_width = int(cap.get(cv2.CAP_PROP_FRAME_WIDTH))\n",
    "    frame_height = int(cap.get(cv2.CAP_PROP_FRAME_HEIGHT))\n",
    "    fps = cap.get(cv2.CAP_PROP_FPS)\n",
    "\n",
    "    fourcc = cv2.VideoWriter_fourcc(*'mp4v')\n",
    "    out = cv2.VideoWriter(output_path, fourcc, fps, (frame_width, frame_height))\n",
    "\n",
    "    while True:\n",
    "        success, frame = cap.read()\n",
    "        if not success:\n",
    "            break\n",
    "\n",
    "        mirrored_frame = cv2.flip(frame, 1)\n",
    "        \n",
    "        out.write(mirrored_frame)\n",
    "\n",
    "    cap.release()\n",
    "    out.release()\n",
    "\n",
    "def mirror_dataset(source_base_dir, target_base_dir):\n",
    "\n",
    "    if not os.path.isdir(source_base_dir):\n",
    "        print(f\"Error: Source directory not found: {source_base_dir}\")\n",
    "        return\n",
    "\n",
    "    print(f\"\\n--- Mirroring videos from '{source_base_dir}' to '{target_base_dir}' ---\")\n",
    "\n",
    "    video_paths = []\n",
    "    for root, _, files in os.walk(source_base_dir):\n",
    "        for file in files:\n",
    "            if file.lower().endswith('.mp4'):\n",
    "                video_paths.append(os.path.join(root, file))\n",
    "\n",
    "    for video_path in tqdm(video_paths, desc=f\"Mirroring {os.path.basename(source_base_dir)}\"):\n",
    "        relative_path = os.path.relpath(video_path, source_base_dir)\n",
    "        output_path = os.path.join(target_base_dir, relative_path)\n",
    "        \n",
    "        output_dir = os.path.dirname(output_path)\n",
    "        os.makedirs(output_dir, exist_ok=True)\n",
    "        \n",
    "        mirror_and_save_video(video_path, output_path)\n",
    "\n",
    "    print(f\"Finished mirroring dataset: {source_base_dir}\")\n",
    "\n",
    "if __name__ == '__main__':\n",
    "    mirror_dataset(SOURCE_COMBINED_DIR, TARGET_MIRRORED_COMBINED_DIR)\n",
    "    mirror_dataset(SOURCE_AUGMENTED_DIR, TARGET_MIRRORED_AUGMENTED_DIR)\n",
    "\n",
    "    print(\"\\nAll mirroring processes complete.\")"
   ]
  },
  {
   "cell_type": "markdown",
   "id": "594b897c",
   "metadata": {},
   "source": [
    "##### Mirroring Everthing (BLOCK + BLOCK_AUGUMENTATION)"
   ]
  },
  {
   "cell_type": "code",
   "execution_count": null,
   "id": "42d251a6",
   "metadata": {},
   "outputs": [
    {
     "name": "stdout",
     "output_type": "stream",
     "text": [
      "\n",
      "--- Mirroring videos from 'block_dataset' to 'mirrored_block_dataset' ---\n"
     ]
    },
    {
     "name": "stderr",
     "output_type": "stream",
     "text": [
      "Mirroring block_dataset: 100%|██████████| 2400/2400 [23:59<00:00,  1.67it/s]\n"
     ]
    },
    {
     "name": "stdout",
     "output_type": "stream",
     "text": [
      "✅ Finished mirroring dataset: block_dataset\n",
      "\n",
      "--- Mirroring videos from 'block_augmented_data' to 'mirrored_block_augmented_data' ---\n"
     ]
    },
    {
     "name": "stderr",
     "output_type": "stream",
     "text": [
      "Mirroring block_augmented_data: 100%|██████████| 21600/21600 [3:36:55<00:00,  1.66it/s]  "
     ]
    },
    {
     "name": "stdout",
     "output_type": "stream",
     "text": [
      "✅ Finished mirroring dataset: block_augmented_data\n",
      "\n",
      "All mirroring processes complete.\n"
     ]
    },
    {
     "name": "stderr",
     "output_type": "stream",
     "text": [
      "\n"
     ]
    }
   ],
   "source": [
    "import os\n",
    "import cv2\n",
    "from tqdm import tqdm\n",
    "\n",
    "SOURCE_COMBINED_DIR = \"block_negative/block_dataset\"\n",
    "SOURCE_AUGMENTED_DIR = \"block_negative/block_augmented_data\"\n",
    "\n",
    "TARGET_MIRRORED_COMBINED_DIR = \"block_negative/mirrored_block_dataset\"\n",
    "TARGET_MIRRORED_AUGMENTED_DIR = \"block_negative/mirrored_block_augmented_data\"\n",
    "\n",
    "def mirror_and_save_video(video_path, output_path):\n",
    "    cap = cv2.VideoCapture(video_path)\n",
    "    if not cap.isOpened():\n",
    "        print(f\"Warning: Could not open video {video_path}\")\n",
    "        return\n",
    "\n",
    "    frame_width = int(cap.get(cv2.CAP_PROP_FRAME_WIDTH))\n",
    "    frame_height = int(cap.get(cv2.CAP_PROP_FRAME_HEIGHT))\n",
    "    fps = cap.get(cv2.CAP_PROP_FPS)\n",
    "\n",
    "    fourcc = cv2.VideoWriter_fourcc(*'mp4v')\n",
    "    out = cv2.VideoWriter(output_path, fourcc, fps, (frame_width, frame_height))\n",
    "\n",
    "    while True:\n",
    "        success, frame = cap.read()\n",
    "        if not success:\n",
    "            break\n",
    "\n",
    "        mirrored_frame = cv2.flip(frame, 1)\n",
    "        \n",
    "        out.write(mirrored_frame)\n",
    "\n",
    "    cap.release()\n",
    "    out.release()\n",
    "\n",
    "def mirror_dataset(source_base_dir, target_base_dir):\n",
    "    if not os.path.isdir(source_base_dir):\n",
    "        print(f\"Error: Source directory not found: {source_base_dir}\")\n",
    "        return\n",
    "\n",
    "    print(f\"\\n--- Mirroring videos from '{source_base_dir}' to '{target_base_dir}' ---\")\n",
    "\n",
    "    video_paths = []\n",
    "    for root, _, files in os.walk(source_base_dir):\n",
    "        for file in files:\n",
    "            if file.lower().endswith('.mp4'):\n",
    "                video_paths.append(os.path.join(root, file))\n",
    "\n",
    "    for video_path in tqdm(video_paths, desc=f\"Mirroring {os.path.basename(source_base_dir)}\"):\n",
    "        relative_path = os.path.relpath(video_path, source_base_dir)\n",
    "        output_path = os.path.join(target_base_dir, relative_path)\n",
    "        \n",
    "        output_dir = os.path.dirname(output_path)\n",
    "        os.makedirs(output_dir, exist_ok=True)\n",
    "        \n",
    "        mirror_and_save_video(video_path, output_path)\n",
    "\n",
    "    print(f\"Finished mirroring dataset: {source_base_dir}\")\n",
    "\n",
    "if __name__ == '__main__':\n",
    "    mirror_dataset(SOURCE_COMBINED_DIR, TARGET_MIRRORED_COMBINED_DIR)\n",
    "    mirror_dataset(SOURCE_AUGMENTED_DIR, TARGET_MIRRORED_AUGMENTED_DIR)\n",
    "\n",
    "    print(\"\\nAll mirroring processes complete.\")"
   ]
  },
  {
   "cell_type": "markdown",
   "id": "f076bd63",
   "metadata": {},
   "source": [
    "#### Data Processing"
   ]
  },
  {
   "cell_type": "markdown",
   "id": "e66a39ab",
   "metadata": {},
   "source": [
    "##### Keypoints Without Mirroring (FOR PUNCH)"
   ]
  },
  {
   "cell_type": "code",
   "execution_count": null,
   "id": "7ac0d04d",
   "metadata": {},
   "outputs": [
    {
     "name": "stdout",
     "output_type": "stream",
     "text": [
      "Loading YOLO model: yolo11m-pose.pt...\n",
      "Model loaded on cuda.\n",
      "\n",
      "===== Processing RAW Data =====\n"
     ]
    },
    {
     "name": "stderr",
     "output_type": "stream",
     "text": [
      "Raw 'jab':   0%|          | 0/800 [00:02<?, ?it/s]\n"
     ]
    },
    {
     "ename": "KeyboardInterrupt",
     "evalue": "",
     "output_type": "error",
     "traceback": [
      "\u001b[0;31m---------------------------------------------------------------------------\u001b[0m",
      "\u001b[0;31mKeyboardInterrupt\u001b[0m                         Traceback (most recent call last)",
      "Cell \u001b[0;32mIn[2], line 175\u001b[0m\n\u001b[1;32m    172\u001b[0m     \u001b[38;5;28mprint\u001b[39m(\u001b[38;5;124mf\u001b[39m\u001b[38;5;124m\"\u001b[39m\u001b[38;5;130;01m\\n\u001b[39;00m\u001b[38;5;124m✅ All processing complete. Processed keypoints saved in: \u001b[39m\u001b[38;5;132;01m{\u001b[39;00mBASE_NPY_DIR\u001b[38;5;132;01m}\u001b[39;00m\u001b[38;5;124m\"\u001b[39m)\n\u001b[1;32m    174\u001b[0m \u001b[38;5;28;01mif\u001b[39;00m \u001b[38;5;18m__name__\u001b[39m \u001b[38;5;241m==\u001b[39m \u001b[38;5;124m'\u001b[39m\u001b[38;5;124m__main__\u001b[39m\u001b[38;5;124m'\u001b[39m:\n\u001b[0;32m--> 175\u001b[0m     \u001b[43mmain\u001b[49m\u001b[43m(\u001b[49m\u001b[43m)\u001b[49m\n",
      "Cell \u001b[0;32mIn[2], line 125\u001b[0m, in \u001b[0;36mmain\u001b[0;34m()\u001b[0m\n\u001b[1;32m    122\u001b[0m video_path \u001b[38;5;241m=\u001b[39m os\u001b[38;5;241m.\u001b[39mpath\u001b[38;5;241m.\u001b[39mjoin(action_input_dir, video_name)\n\u001b[1;32m    124\u001b[0m \u001b[38;5;66;03m# Get the sequence of normalized keypoints\u001b[39;00m\n\u001b[0;32m--> 125\u001b[0m sequence \u001b[38;5;241m=\u001b[39m \u001b[43mprocess_video_to_sequence\u001b[49m\u001b[43m(\u001b[49m\u001b[43mvideo_path\u001b[49m\u001b[43m,\u001b[49m\u001b[43m \u001b[49m\u001b[43mmodel\u001b[49m\u001b[43m)\u001b[49m\n\u001b[1;32m    127\u001b[0m \u001b[38;5;28;01mif\u001b[39;00m sequence \u001b[38;5;129;01mand\u001b[39;00m \u001b[38;5;28mlen\u001b[39m(sequence) \u001b[38;5;241m>\u001b[39m \u001b[38;5;241m0\u001b[39m:\n\u001b[1;32m    128\u001b[0m     num_features \u001b[38;5;241m=\u001b[39m sequence[\u001b[38;5;241m0\u001b[39m]\u001b[38;5;241m.\u001b[39mshape[\u001b[38;5;241m0\u001b[39m]\n",
      "Cell \u001b[0;32mIn[2], line 81\u001b[0m, in \u001b[0;36mprocess_video_to_sequence\u001b[0;34m(video_path, model)\u001b[0m\n\u001b[1;32m     78\u001b[0m     \u001b[38;5;28;01mbreak\u001b[39;00m\n\u001b[1;32m     80\u001b[0m \u001b[38;5;66;03m# Run YOLOv11 pose estimation\u001b[39;00m\n\u001b[0;32m---> 81\u001b[0m results \u001b[38;5;241m=\u001b[39m \u001b[43mmodel\u001b[49m\u001b[43m(\u001b[49m\u001b[43mframe\u001b[49m\u001b[43m,\u001b[49m\u001b[43m \u001b[49m\u001b[43mverbose\u001b[49m\u001b[38;5;241;43m=\u001b[39;49m\u001b[38;5;28;43;01mFalse\u001b[39;49;00m\u001b[43m)\u001b[49m\n\u001b[1;32m     83\u001b[0m \u001b[38;5;66;03m# Check if any person was detected\u001b[39;00m\n\u001b[1;32m     84\u001b[0m \u001b[38;5;28;01mif\u001b[39;00m \u001b[38;5;28mlen\u001b[39m(results) \u001b[38;5;241m>\u001b[39m \u001b[38;5;241m0\u001b[39m \u001b[38;5;129;01mand\u001b[39;00m \u001b[38;5;28mlen\u001b[39m(results[\u001b[38;5;241m0\u001b[39m]\u001b[38;5;241m.\u001b[39mkeypoints\u001b[38;5;241m.\u001b[39mxy) \u001b[38;5;241m>\u001b[39m \u001b[38;5;241m0\u001b[39m:\n\u001b[1;32m     85\u001b[0m     \u001b[38;5;66;03m# Get keypoints for the first detected person\u001b[39;00m\n",
      "File \u001b[0;32m~/miniconda3/envs/boxingtf/lib/python3.10/site-packages/ultralytics/engine/model.py:185\u001b[0m, in \u001b[0;36mModel.__call__\u001b[0;34m(self, source, stream, **kwargs)\u001b[0m\n\u001b[1;32m    156\u001b[0m \u001b[38;5;28;01mdef\u001b[39;00m\u001b[38;5;250m \u001b[39m\u001b[38;5;21m__call__\u001b[39m(\n\u001b[1;32m    157\u001b[0m     \u001b[38;5;28mself\u001b[39m,\n\u001b[1;32m    158\u001b[0m     source: Union[\u001b[38;5;28mstr\u001b[39m, Path, \u001b[38;5;28mint\u001b[39m, Image\u001b[38;5;241m.\u001b[39mImage, \u001b[38;5;28mlist\u001b[39m, \u001b[38;5;28mtuple\u001b[39m, np\u001b[38;5;241m.\u001b[39mndarray, torch\u001b[38;5;241m.\u001b[39mTensor] \u001b[38;5;241m=\u001b[39m \u001b[38;5;28;01mNone\u001b[39;00m,\n\u001b[1;32m    159\u001b[0m     stream: \u001b[38;5;28mbool\u001b[39m \u001b[38;5;241m=\u001b[39m \u001b[38;5;28;01mFalse\u001b[39;00m,\n\u001b[1;32m    160\u001b[0m     \u001b[38;5;241m*\u001b[39m\u001b[38;5;241m*\u001b[39mkwargs: Any,\n\u001b[1;32m    161\u001b[0m ) \u001b[38;5;241m-\u001b[39m\u001b[38;5;241m>\u001b[39m \u001b[38;5;28mlist\u001b[39m:\n\u001b[1;32m    162\u001b[0m \u001b[38;5;250m    \u001b[39m\u001b[38;5;124;03m\"\"\"\u001b[39;00m\n\u001b[1;32m    163\u001b[0m \u001b[38;5;124;03m    Alias for the predict method, enabling the model instance to be callable for predictions.\u001b[39;00m\n\u001b[1;32m    164\u001b[0m \n\u001b[0;32m   (...)\u001b[0m\n\u001b[1;32m    183\u001b[0m \u001b[38;5;124;03m        ...     print(f\"Detected {len(r)} objects in image\")\u001b[39;00m\n\u001b[1;32m    184\u001b[0m \u001b[38;5;124;03m    \"\"\"\u001b[39;00m\n\u001b[0;32m--> 185\u001b[0m     \u001b[38;5;28;01mreturn\u001b[39;00m \u001b[38;5;28;43mself\u001b[39;49m\u001b[38;5;241;43m.\u001b[39;49m\u001b[43mpredict\u001b[49m\u001b[43m(\u001b[49m\u001b[43msource\u001b[49m\u001b[43m,\u001b[49m\u001b[43m \u001b[49m\u001b[43mstream\u001b[49m\u001b[43m,\u001b[49m\u001b[43m \u001b[49m\u001b[38;5;241;43m*\u001b[39;49m\u001b[38;5;241;43m*\u001b[39;49m\u001b[43mkwargs\u001b[49m\u001b[43m)\u001b[49m\n",
      "File \u001b[0;32m~/miniconda3/envs/boxingtf/lib/python3.10/site-packages/ultralytics/engine/model.py:555\u001b[0m, in \u001b[0;36mModel.predict\u001b[0;34m(self, source, stream, predictor, **kwargs)\u001b[0m\n\u001b[1;32m    553\u001b[0m \u001b[38;5;28;01mif\u001b[39;00m prompts \u001b[38;5;129;01mand\u001b[39;00m \u001b[38;5;28mhasattr\u001b[39m(\u001b[38;5;28mself\u001b[39m\u001b[38;5;241m.\u001b[39mpredictor, \u001b[38;5;124m\"\u001b[39m\u001b[38;5;124mset_prompts\u001b[39m\u001b[38;5;124m\"\u001b[39m):  \u001b[38;5;66;03m# for SAM-type models\u001b[39;00m\n\u001b[1;32m    554\u001b[0m     \u001b[38;5;28mself\u001b[39m\u001b[38;5;241m.\u001b[39mpredictor\u001b[38;5;241m.\u001b[39mset_prompts(prompts)\n\u001b[0;32m--> 555\u001b[0m \u001b[38;5;28;01mreturn\u001b[39;00m \u001b[38;5;28mself\u001b[39m\u001b[38;5;241m.\u001b[39mpredictor\u001b[38;5;241m.\u001b[39mpredict_cli(source\u001b[38;5;241m=\u001b[39msource) \u001b[38;5;28;01mif\u001b[39;00m is_cli \u001b[38;5;28;01melse\u001b[39;00m \u001b[38;5;28;43mself\u001b[39;49m\u001b[38;5;241;43m.\u001b[39;49m\u001b[43mpredictor\u001b[49m\u001b[43m(\u001b[49m\u001b[43msource\u001b[49m\u001b[38;5;241;43m=\u001b[39;49m\u001b[43msource\u001b[49m\u001b[43m,\u001b[49m\u001b[43m \u001b[49m\u001b[43mstream\u001b[49m\u001b[38;5;241;43m=\u001b[39;49m\u001b[43mstream\u001b[49m\u001b[43m)\u001b[49m\n",
      "File \u001b[0;32m~/miniconda3/envs/boxingtf/lib/python3.10/site-packages/ultralytics/engine/predictor.py:227\u001b[0m, in \u001b[0;36mBasePredictor.__call__\u001b[0;34m(self, source, model, stream, *args, **kwargs)\u001b[0m\n\u001b[1;32m    225\u001b[0m     \u001b[38;5;28;01mreturn\u001b[39;00m \u001b[38;5;28mself\u001b[39m\u001b[38;5;241m.\u001b[39mstream_inference(source, model, \u001b[38;5;241m*\u001b[39margs, \u001b[38;5;241m*\u001b[39m\u001b[38;5;241m*\u001b[39mkwargs)\n\u001b[1;32m    226\u001b[0m \u001b[38;5;28;01melse\u001b[39;00m:\n\u001b[0;32m--> 227\u001b[0m     \u001b[38;5;28;01mreturn\u001b[39;00m \u001b[38;5;28;43mlist\u001b[39;49m\u001b[43m(\u001b[49m\u001b[38;5;28;43mself\u001b[39;49m\u001b[38;5;241;43m.\u001b[39;49m\u001b[43mstream_inference\u001b[49m\u001b[43m(\u001b[49m\u001b[43msource\u001b[49m\u001b[43m,\u001b[49m\u001b[43m \u001b[49m\u001b[43mmodel\u001b[49m\u001b[43m,\u001b[49m\u001b[43m \u001b[49m\u001b[38;5;241;43m*\u001b[39;49m\u001b[43margs\u001b[49m\u001b[43m,\u001b[49m\u001b[43m \u001b[49m\u001b[38;5;241;43m*\u001b[39;49m\u001b[38;5;241;43m*\u001b[39;49m\u001b[43mkwargs\u001b[49m\u001b[43m)\u001b[49m\u001b[43m)\u001b[49m\n",
      "File \u001b[0;32m~/miniconda3/envs/boxingtf/lib/python3.10/site-packages/torch/utils/_contextlib.py:36\u001b[0m, in \u001b[0;36m_wrap_generator.<locals>.generator_context\u001b[0;34m(*args, **kwargs)\u001b[0m\n\u001b[1;32m     33\u001b[0m \u001b[38;5;28;01mtry\u001b[39;00m:\n\u001b[1;32m     34\u001b[0m     \u001b[38;5;66;03m# Issuing `None` to a generator fires it up\u001b[39;00m\n\u001b[1;32m     35\u001b[0m     \u001b[38;5;28;01mwith\u001b[39;00m ctx_factory():\n\u001b[0;32m---> 36\u001b[0m         response \u001b[38;5;241m=\u001b[39m \u001b[43mgen\u001b[49m\u001b[38;5;241;43m.\u001b[39;49m\u001b[43msend\u001b[49m\u001b[43m(\u001b[49m\u001b[38;5;28;43;01mNone\u001b[39;49;00m\u001b[43m)\u001b[49m\n\u001b[1;32m     38\u001b[0m     \u001b[38;5;28;01mwhile\u001b[39;00m \u001b[38;5;28;01mTrue\u001b[39;00m:\n\u001b[1;32m     39\u001b[0m         \u001b[38;5;28;01mtry\u001b[39;00m:\n\u001b[1;32m     40\u001b[0m             \u001b[38;5;66;03m# Forward the response to our caller and get its next request\u001b[39;00m\n",
      "File \u001b[0;32m~/miniconda3/envs/boxingtf/lib/python3.10/site-packages/ultralytics/engine/predictor.py:308\u001b[0m, in \u001b[0;36mBasePredictor.stream_inference\u001b[0;34m(self, source, model, *args, **kwargs)\u001b[0m\n\u001b[1;32m    306\u001b[0m \u001b[38;5;66;03m# Warmup model\u001b[39;00m\n\u001b[1;32m    307\u001b[0m \u001b[38;5;28;01mif\u001b[39;00m \u001b[38;5;129;01mnot\u001b[39;00m \u001b[38;5;28mself\u001b[39m\u001b[38;5;241m.\u001b[39mdone_warmup:\n\u001b[0;32m--> 308\u001b[0m     \u001b[38;5;28;43mself\u001b[39;49m\u001b[38;5;241;43m.\u001b[39;49m\u001b[43mmodel\u001b[49m\u001b[38;5;241;43m.\u001b[39;49m\u001b[43mwarmup\u001b[49m\u001b[43m(\u001b[49m\n\u001b[1;32m    309\u001b[0m \u001b[43m        \u001b[49m\u001b[43mimgsz\u001b[49m\u001b[38;5;241;43m=\u001b[39;49m\u001b[43m(\u001b[49m\u001b[38;5;241;43m1\u001b[39;49m\u001b[43m \u001b[49m\u001b[38;5;28;43;01mif\u001b[39;49;00m\u001b[43m \u001b[49m\u001b[38;5;28;43mself\u001b[39;49m\u001b[38;5;241;43m.\u001b[39;49m\u001b[43mmodel\u001b[49m\u001b[38;5;241;43m.\u001b[39;49m\u001b[43mpt\u001b[49m\u001b[43m \u001b[49m\u001b[38;5;129;43;01mor\u001b[39;49;00m\u001b[43m \u001b[49m\u001b[38;5;28;43mself\u001b[39;49m\u001b[38;5;241;43m.\u001b[39;49m\u001b[43mmodel\u001b[49m\u001b[38;5;241;43m.\u001b[39;49m\u001b[43mtriton\u001b[49m\u001b[43m \u001b[49m\u001b[38;5;28;43;01melse\u001b[39;49;00m\u001b[43m \u001b[49m\u001b[38;5;28;43mself\u001b[39;49m\u001b[38;5;241;43m.\u001b[39;49m\u001b[43mdataset\u001b[49m\u001b[38;5;241;43m.\u001b[39;49m\u001b[43mbs\u001b[49m\u001b[43m,\u001b[49m\u001b[43m \u001b[49m\u001b[38;5;28;43mself\u001b[39;49m\u001b[38;5;241;43m.\u001b[39;49m\u001b[43mmodel\u001b[49m\u001b[38;5;241;43m.\u001b[39;49m\u001b[43mch\u001b[49m\u001b[43m,\u001b[49m\u001b[43m \u001b[49m\u001b[38;5;241;43m*\u001b[39;49m\u001b[38;5;28;43mself\u001b[39;49m\u001b[38;5;241;43m.\u001b[39;49m\u001b[43mimgsz\u001b[49m\u001b[43m)\u001b[49m\n\u001b[1;32m    310\u001b[0m \u001b[43m    \u001b[49m\u001b[43m)\u001b[49m\n\u001b[1;32m    311\u001b[0m     \u001b[38;5;28mself\u001b[39m\u001b[38;5;241m.\u001b[39mdone_warmup \u001b[38;5;241m=\u001b[39m \u001b[38;5;28;01mTrue\u001b[39;00m\n\u001b[1;32m    313\u001b[0m \u001b[38;5;28mself\u001b[39m\u001b[38;5;241m.\u001b[39mseen, \u001b[38;5;28mself\u001b[39m\u001b[38;5;241m.\u001b[39mwindows, \u001b[38;5;28mself\u001b[39m\u001b[38;5;241m.\u001b[39mbatch \u001b[38;5;241m=\u001b[39m \u001b[38;5;241m0\u001b[39m, [], \u001b[38;5;28;01mNone\u001b[39;00m\n",
      "File \u001b[0;32m~/miniconda3/envs/boxingtf/lib/python3.10/site-packages/ultralytics/nn/autobackend.py:855\u001b[0m, in \u001b[0;36mAutoBackend.warmup\u001b[0;34m(self, imgsz)\u001b[0m\n\u001b[1;32m    848\u001b[0m \u001b[38;5;28;01mdef\u001b[39;00m\u001b[38;5;250m \u001b[39m\u001b[38;5;21mwarmup\u001b[39m(\u001b[38;5;28mself\u001b[39m, imgsz: Tuple[\u001b[38;5;28mint\u001b[39m, \u001b[38;5;28mint\u001b[39m, \u001b[38;5;28mint\u001b[39m, \u001b[38;5;28mint\u001b[39m] \u001b[38;5;241m=\u001b[39m (\u001b[38;5;241m1\u001b[39m, \u001b[38;5;241m3\u001b[39m, \u001b[38;5;241m640\u001b[39m, \u001b[38;5;241m640\u001b[39m)) \u001b[38;5;241m-\u001b[39m\u001b[38;5;241m>\u001b[39m \u001b[38;5;28;01mNone\u001b[39;00m:\n\u001b[1;32m    849\u001b[0m \u001b[38;5;250m    \u001b[39m\u001b[38;5;124;03m\"\"\"\u001b[39;00m\n\u001b[1;32m    850\u001b[0m \u001b[38;5;124;03m    Warm up the model by running one forward pass with a dummy input.\u001b[39;00m\n\u001b[1;32m    851\u001b[0m \n\u001b[1;32m    852\u001b[0m \u001b[38;5;124;03m    Args:\u001b[39;00m\n\u001b[1;32m    853\u001b[0m \u001b[38;5;124;03m        imgsz (tuple): The shape of the dummy input tensor in the format (batch_size, channels, height, width)\u001b[39;00m\n\u001b[1;32m    854\u001b[0m \u001b[38;5;124;03m    \"\"\"\u001b[39;00m\n\u001b[0;32m--> 855\u001b[0m     \u001b[38;5;28;01mimport\u001b[39;00m\u001b[38;5;250m \u001b[39m\u001b[38;5;21;01mtorchvision\u001b[39;00m  \u001b[38;5;66;03m# noqa (import here so torchvision import time not recorded in postprocess time)\u001b[39;00m\n\u001b[1;32m    857\u001b[0m     warmup_types \u001b[38;5;241m=\u001b[39m \u001b[38;5;28mself\u001b[39m\u001b[38;5;241m.\u001b[39mpt, \u001b[38;5;28mself\u001b[39m\u001b[38;5;241m.\u001b[39mjit, \u001b[38;5;28mself\u001b[39m\u001b[38;5;241m.\u001b[39monnx, \u001b[38;5;28mself\u001b[39m\u001b[38;5;241m.\u001b[39mengine, \u001b[38;5;28mself\u001b[39m\u001b[38;5;241m.\u001b[39msaved_model, \u001b[38;5;28mself\u001b[39m\u001b[38;5;241m.\u001b[39mpb, \u001b[38;5;28mself\u001b[39m\u001b[38;5;241m.\u001b[39mtriton, \u001b[38;5;28mself\u001b[39m\u001b[38;5;241m.\u001b[39mnn_module\n\u001b[1;32m    858\u001b[0m     \u001b[38;5;28;01mif\u001b[39;00m \u001b[38;5;28many\u001b[39m(warmup_types) \u001b[38;5;129;01mand\u001b[39;00m (\u001b[38;5;28mself\u001b[39m\u001b[38;5;241m.\u001b[39mdevice\u001b[38;5;241m.\u001b[39mtype \u001b[38;5;241m!=\u001b[39m \u001b[38;5;124m\"\u001b[39m\u001b[38;5;124mcpu\u001b[39m\u001b[38;5;124m\"\u001b[39m \u001b[38;5;129;01mor\u001b[39;00m \u001b[38;5;28mself\u001b[39m\u001b[38;5;241m.\u001b[39mtriton):\n",
      "File \u001b[0;32m~/miniconda3/envs/boxingtf/lib/python3.10/site-packages/torchvision/__init__.py:10\u001b[0m\n\u001b[1;32m      7\u001b[0m \u001b[38;5;66;03m# Don't re-order these, we need to load the _C extension (done when importing\u001b[39;00m\n\u001b[1;32m      8\u001b[0m \u001b[38;5;66;03m# .extensions) before entering _meta_registrations.\u001b[39;00m\n\u001b[1;32m      9\u001b[0m \u001b[38;5;28;01mfrom\u001b[39;00m\u001b[38;5;250m \u001b[39m\u001b[38;5;21;01m.\u001b[39;00m\u001b[38;5;21;01mextension\u001b[39;00m\u001b[38;5;250m \u001b[39m\u001b[38;5;28;01mimport\u001b[39;00m _HAS_OPS  \u001b[38;5;66;03m# usort:skip\u001b[39;00m\n\u001b[0;32m---> 10\u001b[0m \u001b[38;5;28;01mfrom\u001b[39;00m\u001b[38;5;250m \u001b[39m\u001b[38;5;21;01mtorchvision\u001b[39;00m\u001b[38;5;250m \u001b[39m\u001b[38;5;28;01mimport\u001b[39;00m _meta_registrations, datasets, io, models, ops, transforms, utils  \u001b[38;5;66;03m# usort:skip\u001b[39;00m\n\u001b[1;32m     12\u001b[0m \u001b[38;5;28;01mtry\u001b[39;00m:\n\u001b[1;32m     13\u001b[0m     \u001b[38;5;28;01mfrom\u001b[39;00m\u001b[38;5;250m \u001b[39m\u001b[38;5;21;01m.\u001b[39;00m\u001b[38;5;21;01mversion\u001b[39;00m\u001b[38;5;250m \u001b[39m\u001b[38;5;28;01mimport\u001b[39;00m __version__  \u001b[38;5;66;03m# noqa: F401\u001b[39;00m\n",
      "File \u001b[0;32m~/miniconda3/envs/boxingtf/lib/python3.10/site-packages/torchvision/models/__init__.py:2\u001b[0m\n\u001b[1;32m      1\u001b[0m \u001b[38;5;28;01mfrom\u001b[39;00m\u001b[38;5;250m \u001b[39m\u001b[38;5;21;01m.\u001b[39;00m\u001b[38;5;21;01malexnet\u001b[39;00m\u001b[38;5;250m \u001b[39m\u001b[38;5;28;01mimport\u001b[39;00m \u001b[38;5;241m*\u001b[39m\n\u001b[0;32m----> 2\u001b[0m \u001b[38;5;28;01mfrom\u001b[39;00m\u001b[38;5;250m \u001b[39m\u001b[38;5;21;01m.\u001b[39;00m\u001b[38;5;21;01mconvnext\u001b[39;00m\u001b[38;5;250m \u001b[39m\u001b[38;5;28;01mimport\u001b[39;00m \u001b[38;5;241m*\u001b[39m\n\u001b[1;32m      3\u001b[0m \u001b[38;5;28;01mfrom\u001b[39;00m\u001b[38;5;250m \u001b[39m\u001b[38;5;21;01m.\u001b[39;00m\u001b[38;5;21;01mdensenet\u001b[39;00m\u001b[38;5;250m \u001b[39m\u001b[38;5;28;01mimport\u001b[39;00m \u001b[38;5;241m*\u001b[39m\n\u001b[1;32m      4\u001b[0m \u001b[38;5;28;01mfrom\u001b[39;00m\u001b[38;5;250m \u001b[39m\u001b[38;5;21;01m.\u001b[39;00m\u001b[38;5;21;01mefficientnet\u001b[39;00m\u001b[38;5;250m \u001b[39m\u001b[38;5;28;01mimport\u001b[39;00m \u001b[38;5;241m*\u001b[39m\n",
      "File \u001b[0;32m~/miniconda3/envs/boxingtf/lib/python3.10/site-packages/torchvision/models/convnext.py:8\u001b[0m\n\u001b[1;32m      5\u001b[0m \u001b[38;5;28;01mfrom\u001b[39;00m\u001b[38;5;250m \u001b[39m\u001b[38;5;21;01mtorch\u001b[39;00m\u001b[38;5;250m \u001b[39m\u001b[38;5;28;01mimport\u001b[39;00m nn, Tensor\n\u001b[1;32m      6\u001b[0m \u001b[38;5;28;01mfrom\u001b[39;00m\u001b[38;5;250m \u001b[39m\u001b[38;5;21;01mtorch\u001b[39;00m\u001b[38;5;21;01m.\u001b[39;00m\u001b[38;5;21;01mnn\u001b[39;00m\u001b[38;5;250m \u001b[39m\u001b[38;5;28;01mimport\u001b[39;00m functional \u001b[38;5;28;01mas\u001b[39;00m F\n\u001b[0;32m----> 8\u001b[0m \u001b[38;5;28;01mfrom\u001b[39;00m\u001b[38;5;250m \u001b[39m\u001b[38;5;21;01m.\u001b[39;00m\u001b[38;5;21;01m.\u001b[39;00m\u001b[38;5;21;01mops\u001b[39;00m\u001b[38;5;21;01m.\u001b[39;00m\u001b[38;5;21;01mmisc\u001b[39;00m\u001b[38;5;250m \u001b[39m\u001b[38;5;28;01mimport\u001b[39;00m Conv2dNormActivation, Permute\n\u001b[1;32m      9\u001b[0m \u001b[38;5;28;01mfrom\u001b[39;00m\u001b[38;5;250m \u001b[39m\u001b[38;5;21;01m.\u001b[39;00m\u001b[38;5;21;01m.\u001b[39;00m\u001b[38;5;21;01mops\u001b[39;00m\u001b[38;5;21;01m.\u001b[39;00m\u001b[38;5;21;01mstochastic_depth\u001b[39;00m\u001b[38;5;250m \u001b[39m\u001b[38;5;28;01mimport\u001b[39;00m StochasticDepth\n\u001b[1;32m     10\u001b[0m \u001b[38;5;28;01mfrom\u001b[39;00m\u001b[38;5;250m \u001b[39m\u001b[38;5;21;01m.\u001b[39;00m\u001b[38;5;21;01m.\u001b[39;00m\u001b[38;5;21;01mtransforms\u001b[39;00m\u001b[38;5;21;01m.\u001b[39;00m\u001b[38;5;21;01m_presets\u001b[39;00m\u001b[38;5;250m \u001b[39m\u001b[38;5;28;01mimport\u001b[39;00m ImageClassification\n",
      "File \u001b[0;32m~/miniconda3/envs/boxingtf/lib/python3.10/site-packages/torchvision/ops/__init__.py:23\u001b[0m\n\u001b[1;32m     21\u001b[0m \u001b[38;5;28;01mfrom\u001b[39;00m\u001b[38;5;250m \u001b[39m\u001b[38;5;21;01m.\u001b[39;00m\u001b[38;5;21;01mgiou_loss\u001b[39;00m\u001b[38;5;250m \u001b[39m\u001b[38;5;28;01mimport\u001b[39;00m generalized_box_iou_loss\n\u001b[1;32m     22\u001b[0m \u001b[38;5;28;01mfrom\u001b[39;00m\u001b[38;5;250m \u001b[39m\u001b[38;5;21;01m.\u001b[39;00m\u001b[38;5;21;01mmisc\u001b[39;00m\u001b[38;5;250m \u001b[39m\u001b[38;5;28;01mimport\u001b[39;00m Conv2dNormActivation, Conv3dNormActivation, FrozenBatchNorm2d, MLP, Permute, SqueezeExcitation\n\u001b[0;32m---> 23\u001b[0m \u001b[38;5;28;01mfrom\u001b[39;00m\u001b[38;5;250m \u001b[39m\u001b[38;5;21;01m.\u001b[39;00m\u001b[38;5;21;01mpoolers\u001b[39;00m\u001b[38;5;250m \u001b[39m\u001b[38;5;28;01mimport\u001b[39;00m MultiScaleRoIAlign\n\u001b[1;32m     24\u001b[0m \u001b[38;5;28;01mfrom\u001b[39;00m\u001b[38;5;250m \u001b[39m\u001b[38;5;21;01m.\u001b[39;00m\u001b[38;5;21;01mps_roi_align\u001b[39;00m\u001b[38;5;250m \u001b[39m\u001b[38;5;28;01mimport\u001b[39;00m ps_roi_align, PSRoIAlign\n\u001b[1;32m     25\u001b[0m \u001b[38;5;28;01mfrom\u001b[39;00m\u001b[38;5;250m \u001b[39m\u001b[38;5;21;01m.\u001b[39;00m\u001b[38;5;21;01mps_roi_pool\u001b[39;00m\u001b[38;5;250m \u001b[39m\u001b[38;5;28;01mimport\u001b[39;00m ps_roi_pool, PSRoIPool\n",
      "File \u001b[0;32m~/miniconda3/envs/boxingtf/lib/python3.10/site-packages/torchvision/ops/poolers.py:10\u001b[0m\n\u001b[1;32m      7\u001b[0m \u001b[38;5;28;01mfrom\u001b[39;00m\u001b[38;5;250m \u001b[39m\u001b[38;5;21;01mtorchvision\u001b[39;00m\u001b[38;5;21;01m.\u001b[39;00m\u001b[38;5;21;01mops\u001b[39;00m\u001b[38;5;21;01m.\u001b[39;00m\u001b[38;5;21;01mboxes\u001b[39;00m\u001b[38;5;250m \u001b[39m\u001b[38;5;28;01mimport\u001b[39;00m box_area\n\u001b[1;32m      9\u001b[0m \u001b[38;5;28;01mfrom\u001b[39;00m\u001b[38;5;250m \u001b[39m\u001b[38;5;21;01m.\u001b[39;00m\u001b[38;5;21;01m.\u001b[39;00m\u001b[38;5;21;01mutils\u001b[39;00m\u001b[38;5;250m \u001b[39m\u001b[38;5;28;01mimport\u001b[39;00m _log_api_usage_once\n\u001b[0;32m---> 10\u001b[0m \u001b[38;5;28;01mfrom\u001b[39;00m\u001b[38;5;250m \u001b[39m\u001b[38;5;21;01m.\u001b[39;00m\u001b[38;5;21;01mroi_align\u001b[39;00m\u001b[38;5;250m \u001b[39m\u001b[38;5;28;01mimport\u001b[39;00m roi_align\n\u001b[1;32m     13\u001b[0m \u001b[38;5;66;03m# copying result_idx_in_level to a specific index in result[]\u001b[39;00m\n\u001b[1;32m     14\u001b[0m \u001b[38;5;66;03m# is not supported by ONNX tracing yet.\u001b[39;00m\n\u001b[1;32m     15\u001b[0m \u001b[38;5;66;03m# _onnx_merge_levels() is an implementation supported by ONNX\u001b[39;00m\n\u001b[1;32m     16\u001b[0m \u001b[38;5;66;03m# that merges the levels to the right indices\u001b[39;00m\n\u001b[1;32m     17\u001b[0m \u001b[38;5;129m@torch\u001b[39m\u001b[38;5;241m.\u001b[39mjit\u001b[38;5;241m.\u001b[39munused\n\u001b[1;32m     18\u001b[0m \u001b[38;5;28;01mdef\u001b[39;00m\u001b[38;5;250m \u001b[39m\u001b[38;5;21m_onnx_merge_levels\u001b[39m(levels: Tensor, unmerged_results: List[Tensor]) \u001b[38;5;241m-\u001b[39m\u001b[38;5;241m>\u001b[39m Tensor:\n",
      "File \u001b[0;32m~/miniconda3/envs/boxingtf/lib/python3.10/site-packages/torchvision/ops/roi_align.py:7\u001b[0m\n\u001b[1;32m      5\u001b[0m \u001b[38;5;28;01mimport\u001b[39;00m\u001b[38;5;250m \u001b[39m\u001b[38;5;21;01mtorch\u001b[39;00m\u001b[38;5;21;01m.\u001b[39;00m\u001b[38;5;21;01mfx\u001b[39;00m\n\u001b[1;32m      6\u001b[0m \u001b[38;5;28;01mfrom\u001b[39;00m\u001b[38;5;250m \u001b[39m\u001b[38;5;21;01mtorch\u001b[39;00m\u001b[38;5;250m \u001b[39m\u001b[38;5;28;01mimport\u001b[39;00m nn, Tensor\n\u001b[0;32m----> 7\u001b[0m \u001b[38;5;28;01mfrom\u001b[39;00m\u001b[38;5;250m \u001b[39m\u001b[38;5;21;01mtorch\u001b[39;00m\u001b[38;5;21;01m.\u001b[39;00m\u001b[38;5;21;01m_dynamo\u001b[39;00m\u001b[38;5;21;01m.\u001b[39;00m\u001b[38;5;21;01mutils\u001b[39;00m\u001b[38;5;250m \u001b[39m\u001b[38;5;28;01mimport\u001b[39;00m is_compile_supported\n\u001b[1;32m      8\u001b[0m \u001b[38;5;28;01mfrom\u001b[39;00m\u001b[38;5;250m \u001b[39m\u001b[38;5;21;01mtorch\u001b[39;00m\u001b[38;5;21;01m.\u001b[39;00m\u001b[38;5;21;01mjit\u001b[39;00m\u001b[38;5;21;01m.\u001b[39;00m\u001b[38;5;21;01mannotations\u001b[39;00m\u001b[38;5;250m \u001b[39m\u001b[38;5;28;01mimport\u001b[39;00m BroadcastingList2\n\u001b[1;32m      9\u001b[0m \u001b[38;5;28;01mfrom\u001b[39;00m\u001b[38;5;250m \u001b[39m\u001b[38;5;21;01mtorch\u001b[39;00m\u001b[38;5;21;01m.\u001b[39;00m\u001b[38;5;21;01mnn\u001b[39;00m\u001b[38;5;21;01m.\u001b[39;00m\u001b[38;5;21;01mmodules\u001b[39;00m\u001b[38;5;21;01m.\u001b[39;00m\u001b[38;5;21;01mutils\u001b[39;00m\u001b[38;5;250m \u001b[39m\u001b[38;5;28;01mimport\u001b[39;00m _pair\n",
      "File \u001b[0;32m~/miniconda3/envs/boxingtf/lib/python3.10/site-packages/torch/_dynamo/__init__.py:53\u001b[0m\n\u001b[1;32m     49\u001b[0m \u001b[38;5;28;01mfrom\u001b[39;00m\u001b[38;5;250m \u001b[39m\u001b[38;5;21;01m.\u001b[39;00m\u001b[38;5;21;01mutils\u001b[39;00m\u001b[38;5;250m \u001b[39m\u001b[38;5;28;01mimport\u001b[39;00m graph_break_reasons, guard_failures, orig_code_map, reset_frame_count\n\u001b[1;32m     52\u001b[0m \u001b[38;5;66;03m# Register polyfill functions\u001b[39;00m\n\u001b[0;32m---> 53\u001b[0m \u001b[38;5;28;01mfrom\u001b[39;00m\u001b[38;5;250m \u001b[39m\u001b[38;5;21;01m.\u001b[39;00m\u001b[38;5;21;01mpolyfills\u001b[39;00m\u001b[38;5;250m \u001b[39m\u001b[38;5;28;01mimport\u001b[39;00m loader \u001b[38;5;28;01mas\u001b[39;00m _  \u001b[38;5;66;03m# usort: skip # noqa: F401\u001b[39;00m\n\u001b[1;32m     56\u001b[0m __all__ \u001b[38;5;241m=\u001b[39m [\n\u001b[1;32m     57\u001b[0m     \u001b[38;5;124m\"\u001b[39m\u001b[38;5;124mallow_in_graph\u001b[39m\u001b[38;5;124m\"\u001b[39m,\n\u001b[1;32m     58\u001b[0m     \u001b[38;5;124m\"\u001b[39m\u001b[38;5;124massume_constant_result\u001b[39m\u001b[38;5;124m\"\u001b[39m,\n\u001b[0;32m   (...)\u001b[0m\n\u001b[1;32m     82\u001b[0m     \u001b[38;5;124m\"\u001b[39m\u001b[38;5;124mconfig\u001b[39m\u001b[38;5;124m\"\u001b[39m,\n\u001b[1;32m     83\u001b[0m ]\n\u001b[1;32m     85\u001b[0m \u001b[38;5;66;03m# allowlist this for weights_only load of NJTs\u001b[39;00m\n",
      "File \u001b[0;32m~/miniconda3/envs/boxingtf/lib/python3.10/site-packages/torch/_dynamo/polyfills/loader.py:25\u001b[0m\n\u001b[1;32m     14\u001b[0m \u001b[38;5;66;03m# See also the TYPE_CHECKING block in torch/_dynamo/polyfills/__init__.py\u001b[39;00m\n\u001b[1;32m     15\u001b[0m POLYFILLED_MODULE_NAMES: \u001b[38;5;28mtuple\u001b[39m[\u001b[38;5;28mstr\u001b[39m, \u001b[38;5;241m.\u001b[39m\u001b[38;5;241m.\u001b[39m\u001b[38;5;241m.\u001b[39m] \u001b[38;5;241m=\u001b[39m (\n\u001b[1;32m     16\u001b[0m     \u001b[38;5;124m\"\u001b[39m\u001b[38;5;124mbuiltins\u001b[39m\u001b[38;5;124m\"\u001b[39m,\n\u001b[1;32m     17\u001b[0m     \u001b[38;5;124m\"\u001b[39m\u001b[38;5;124mfunctools\u001b[39m\u001b[38;5;124m\"\u001b[39m,\n\u001b[0;32m   (...)\u001b[0m\n\u001b[1;32m     23\u001b[0m     \u001b[38;5;124m\"\u001b[39m\u001b[38;5;124mfx\u001b[39m\u001b[38;5;124m\"\u001b[39m,\n\u001b[1;32m     24\u001b[0m )\n\u001b[0;32m---> 25\u001b[0m POLYFILLED_MODULES: \u001b[38;5;28mtuple\u001b[39m[\u001b[38;5;124m\"\u001b[39m\u001b[38;5;124mModuleType\u001b[39m\u001b[38;5;124m\"\u001b[39m, \u001b[38;5;241m.\u001b[39m\u001b[38;5;241m.\u001b[39m\u001b[38;5;241m.\u001b[39m] \u001b[38;5;241m=\u001b[39m \u001b[38;5;28;43mtuple\u001b[39;49m\u001b[43m(\u001b[49m\n\u001b[1;32m     26\u001b[0m \u001b[43m    \u001b[49m\u001b[43mimportlib\u001b[49m\u001b[38;5;241;43m.\u001b[39;49m\u001b[43mimport_module\u001b[49m\u001b[43m(\u001b[49m\u001b[38;5;124;43mf\u001b[39;49m\u001b[38;5;124;43m\"\u001b[39;49m\u001b[38;5;124;43m.\u001b[39;49m\u001b[38;5;132;43;01m{\u001b[39;49;00m\u001b[43msubmodule\u001b[49m\u001b[38;5;132;43;01m}\u001b[39;49;00m\u001b[38;5;124;43m\"\u001b[39;49m\u001b[43m,\u001b[49m\u001b[43m \u001b[49m\u001b[43mpackage\u001b[49m\u001b[38;5;241;43m=\u001b[39;49m\u001b[43mpolyfills\u001b[49m\u001b[38;5;241;43m.\u001b[39;49m\u001b[38;5;18;43m__name__\u001b[39;49m\u001b[43m)\u001b[49m\n\u001b[1;32m     27\u001b[0m \u001b[43m    \u001b[49m\u001b[38;5;28;43;01mfor\u001b[39;49;00m\u001b[43m \u001b[49m\u001b[43msubmodule\u001b[49m\u001b[43m \u001b[49m\u001b[38;5;129;43;01min\u001b[39;49;00m\u001b[43m \u001b[49m\u001b[43mPOLYFILLED_MODULE_NAMES\u001b[49m\n\u001b[1;32m     28\u001b[0m \u001b[43m)\u001b[49m\n\u001b[1;32m     31\u001b[0m \u001b[38;5;66;03m# Unregister the builtin functions from _builtin_function_ids to let them to be\u001b[39;00m\n\u001b[1;32m     32\u001b[0m \u001b[38;5;66;03m# dispatched with the appropriate VariableTracker type. Otherwise, they will be\u001b[39;00m\n\u001b[1;32m     33\u001b[0m \u001b[38;5;66;03m# dispatched with BuiltinVariable if present in _builtin_function_ids.\u001b[39;00m\n\u001b[1;32m     34\u001b[0m \u001b[38;5;28;01mfor\u001b[39;00m polyfill_module \u001b[38;5;129;01min\u001b[39;00m POLYFILLED_MODULES:\n",
      "File \u001b[0;32m~/miniconda3/envs/boxingtf/lib/python3.10/site-packages/torch/_dynamo/polyfills/loader.py:26\u001b[0m, in \u001b[0;36m<genexpr>\u001b[0;34m(.0)\u001b[0m\n\u001b[1;32m     14\u001b[0m \u001b[38;5;66;03m# See also the TYPE_CHECKING block in torch/_dynamo/polyfills/__init__.py\u001b[39;00m\n\u001b[1;32m     15\u001b[0m POLYFILLED_MODULE_NAMES: \u001b[38;5;28mtuple\u001b[39m[\u001b[38;5;28mstr\u001b[39m, \u001b[38;5;241m.\u001b[39m\u001b[38;5;241m.\u001b[39m\u001b[38;5;241m.\u001b[39m] \u001b[38;5;241m=\u001b[39m (\n\u001b[1;32m     16\u001b[0m     \u001b[38;5;124m\"\u001b[39m\u001b[38;5;124mbuiltins\u001b[39m\u001b[38;5;124m\"\u001b[39m,\n\u001b[1;32m     17\u001b[0m     \u001b[38;5;124m\"\u001b[39m\u001b[38;5;124mfunctools\u001b[39m\u001b[38;5;124m\"\u001b[39m,\n\u001b[0;32m   (...)\u001b[0m\n\u001b[1;32m     23\u001b[0m     \u001b[38;5;124m\"\u001b[39m\u001b[38;5;124mfx\u001b[39m\u001b[38;5;124m\"\u001b[39m,\n\u001b[1;32m     24\u001b[0m )\n\u001b[1;32m     25\u001b[0m POLYFILLED_MODULES: \u001b[38;5;28mtuple\u001b[39m[\u001b[38;5;124m\"\u001b[39m\u001b[38;5;124mModuleType\u001b[39m\u001b[38;5;124m\"\u001b[39m, \u001b[38;5;241m.\u001b[39m\u001b[38;5;241m.\u001b[39m\u001b[38;5;241m.\u001b[39m] \u001b[38;5;241m=\u001b[39m \u001b[38;5;28mtuple\u001b[39m(\n\u001b[0;32m---> 26\u001b[0m     \u001b[43mimportlib\u001b[49m\u001b[38;5;241;43m.\u001b[39;49m\u001b[43mimport_module\u001b[49m\u001b[43m(\u001b[49m\u001b[38;5;124;43mf\u001b[39;49m\u001b[38;5;124;43m\"\u001b[39;49m\u001b[38;5;124;43m.\u001b[39;49m\u001b[38;5;132;43;01m{\u001b[39;49;00m\u001b[43msubmodule\u001b[49m\u001b[38;5;132;43;01m}\u001b[39;49;00m\u001b[38;5;124;43m\"\u001b[39;49m\u001b[43m,\u001b[49m\u001b[43m \u001b[49m\u001b[43mpackage\u001b[49m\u001b[38;5;241;43m=\u001b[39;49m\u001b[43mpolyfills\u001b[49m\u001b[38;5;241;43m.\u001b[39;49m\u001b[38;5;18;43m__name__\u001b[39;49m\u001b[43m)\u001b[49m\n\u001b[1;32m     27\u001b[0m     \u001b[38;5;28;01mfor\u001b[39;00m submodule \u001b[38;5;129;01min\u001b[39;00m POLYFILLED_MODULE_NAMES\n\u001b[1;32m     28\u001b[0m )\n\u001b[1;32m     31\u001b[0m \u001b[38;5;66;03m# Unregister the builtin functions from _builtin_function_ids to let them to be\u001b[39;00m\n\u001b[1;32m     32\u001b[0m \u001b[38;5;66;03m# dispatched with the appropriate VariableTracker type. Otherwise, they will be\u001b[39;00m\n\u001b[1;32m     33\u001b[0m \u001b[38;5;66;03m# dispatched with BuiltinVariable if present in _builtin_function_ids.\u001b[39;00m\n\u001b[1;32m     34\u001b[0m \u001b[38;5;28;01mfor\u001b[39;00m polyfill_module \u001b[38;5;129;01min\u001b[39;00m POLYFILLED_MODULES:\n",
      "File \u001b[0;32m~/miniconda3/envs/boxingtf/lib/python3.10/importlib/__init__.py:126\u001b[0m, in \u001b[0;36mimport_module\u001b[0;34m(name, package)\u001b[0m\n\u001b[1;32m    124\u001b[0m             \u001b[38;5;28;01mbreak\u001b[39;00m\n\u001b[1;32m    125\u001b[0m         level \u001b[38;5;241m+\u001b[39m\u001b[38;5;241m=\u001b[39m \u001b[38;5;241m1\u001b[39m\n\u001b[0;32m--> 126\u001b[0m \u001b[38;5;28;01mreturn\u001b[39;00m \u001b[43m_bootstrap\u001b[49m\u001b[38;5;241;43m.\u001b[39;49m\u001b[43m_gcd_import\u001b[49m\u001b[43m(\u001b[49m\u001b[43mname\u001b[49m\u001b[43m[\u001b[49m\u001b[43mlevel\u001b[49m\u001b[43m:\u001b[49m\u001b[43m]\u001b[49m\u001b[43m,\u001b[49m\u001b[43m \u001b[49m\u001b[43mpackage\u001b[49m\u001b[43m,\u001b[49m\u001b[43m \u001b[49m\u001b[43mlevel\u001b[49m\u001b[43m)\u001b[49m\n",
      "File \u001b[0;32m~/miniconda3/envs/boxingtf/lib/python3.10/site-packages/torch/_dynamo/polyfills/builtins.py:31\u001b[0m\n\u001b[1;32m     19\u001b[0m __all__ \u001b[38;5;241m=\u001b[39m [\n\u001b[1;32m     20\u001b[0m     \u001b[38;5;124m\"\u001b[39m\u001b[38;5;124mall\u001b[39m\u001b[38;5;124m\"\u001b[39m,\n\u001b[1;32m     21\u001b[0m     \u001b[38;5;124m\"\u001b[39m\u001b[38;5;124many\u001b[39m\u001b[38;5;124m\"\u001b[39m,\n\u001b[1;32m     22\u001b[0m     \u001b[38;5;124m\"\u001b[39m\u001b[38;5;124menumerate\u001b[39m\u001b[38;5;124m\"\u001b[39m,\n\u001b[1;32m     23\u001b[0m     \u001b[38;5;124m\"\u001b[39m\u001b[38;5;124msum\u001b[39m\u001b[38;5;124m\"\u001b[39m,\n\u001b[1;32m     24\u001b[0m ]\n\u001b[1;32m     27\u001b[0m _T \u001b[38;5;241m=\u001b[39m TypeVar(\u001b[38;5;124m\"\u001b[39m\u001b[38;5;124m_T\u001b[39m\u001b[38;5;124m\"\u001b[39m)\n\u001b[1;32m     30\u001b[0m \u001b[38;5;129;43m@substitute_in_graph\u001b[39;49m\u001b[43m(\u001b[49m\u001b[43mbuiltins\u001b[49m\u001b[38;5;241;43m.\u001b[39;49m\u001b[43mall\u001b[49m\u001b[43m,\u001b[49m\u001b[43m \u001b[49m\u001b[43mcan_constant_fold_through\u001b[49m\u001b[38;5;241;43m=\u001b[39;49m\u001b[38;5;28;43;01mTrue\u001b[39;49;00m\u001b[43m)\u001b[49m\n\u001b[0;32m---> 31\u001b[0m \u001b[38;5;28;43;01mdef\u001b[39;49;00m\u001b[38;5;250;43m \u001b[39;49m\u001b[38;5;21;43mall\u001b[39;49m\u001b[43m(\u001b[49m\u001b[43miterable\u001b[49m\u001b[43m:\u001b[49m\u001b[43m \u001b[49m\u001b[43mIterable\u001b[49m\u001b[43m[\u001b[49m\u001b[38;5;28;43mobject\u001b[39;49m\u001b[43m]\u001b[49m\u001b[43m,\u001b[49m\u001b[43m \u001b[49m\u001b[38;5;241;43m/\u001b[39;49m\u001b[43m)\u001b[49m\u001b[43m \u001b[49m\u001b[38;5;241;43m-\u001b[39;49m\u001b[38;5;241;43m>\u001b[39;49m\u001b[43m \u001b[49m\u001b[38;5;28;43mbool\u001b[39;49m\u001b[43m:\u001b[49m\n\u001b[1;32m     32\u001b[0m \u001b[43m    \u001b[49m\u001b[38;5;28;43;01mfor\u001b[39;49;00m\u001b[43m \u001b[49m\u001b[43melem\u001b[49m\u001b[43m \u001b[49m\u001b[38;5;129;43;01min\u001b[39;49;00m\u001b[43m \u001b[49m\u001b[43miterable\u001b[49m\u001b[43m:\u001b[49m\n\u001b[1;32m     33\u001b[0m \u001b[43m        \u001b[49m\u001b[38;5;28;43;01mif\u001b[39;49;00m\u001b[43m \u001b[49m\u001b[38;5;129;43;01mnot\u001b[39;49;00m\u001b[43m \u001b[49m\u001b[43melem\u001b[49m\u001b[43m:\u001b[49m\n",
      "File \u001b[0;32m~/miniconda3/envs/boxingtf/lib/python3.10/site-packages/torch/_dynamo/decorators.py:427\u001b[0m, in \u001b[0;36msubstitute_in_graph.<locals>.wrapper\u001b[0;34m(traceable_fn)\u001b[0m\n\u001b[1;32m    424\u001b[0m \u001b[38;5;28;01mif\u001b[39;00m \u001b[38;5;28mid\u001b[39m(original_fn) \u001b[38;5;129;01min\u001b[39;00m _polyfilled_function_ids:\n\u001b[1;32m    425\u001b[0m     \u001b[38;5;28;01mraise\u001b[39;00m \u001b[38;5;167;01mValueError\u001b[39;00m(\u001b[38;5;124mf\u001b[39m\u001b[38;5;124m\"\u001b[39m\u001b[38;5;124mDuplicate polyfilled object \u001b[39m\u001b[38;5;132;01m{\u001b[39;00moriginal_fn\u001b[38;5;132;01m}\u001b[39;00m\u001b[38;5;124m\"\u001b[39m)\n\u001b[0;32m--> 427\u001b[0m rule_map: \u001b[38;5;28mdict\u001b[39m[Any, \u001b[38;5;28mtype\u001b[39m[VariableTracker]] \u001b[38;5;241m=\u001b[39m \u001b[43mget_torch_obj_rule_map\u001b[49m\u001b[43m(\u001b[49m\u001b[43m)\u001b[49m\n\u001b[1;32m    428\u001b[0m \u001b[38;5;28;01mif\u001b[39;00m original_fn \u001b[38;5;129;01min\u001b[39;00m rule_map:\n\u001b[1;32m    429\u001b[0m     \u001b[38;5;28;01mraise\u001b[39;00m \u001b[38;5;167;01mValueError\u001b[39;00m(\n\u001b[1;32m    430\u001b[0m         \u001b[38;5;124mf\u001b[39m\u001b[38;5;124m\"\u001b[39m\u001b[38;5;124mDuplicate object \u001b[39m\u001b[38;5;132;01m{\u001b[39;00moriginal_fn\u001b[38;5;132;01m}\u001b[39;00m\u001b[38;5;124m with different rules: \u001b[39m\u001b[38;5;124m\"\u001b[39m\n\u001b[1;32m    431\u001b[0m         \u001b[38;5;124mf\u001b[39m\u001b[38;5;124m\"\u001b[39m\u001b[38;5;132;01m{\u001b[39;00mPolyfilledFunctionVariable\u001b[38;5;132;01m}\u001b[39;00m\u001b[38;5;124m, \u001b[39m\u001b[38;5;132;01m{\u001b[39;00mrule_map[original_fn]\u001b[38;5;132;01m}\u001b[39;00m\u001b[38;5;124m\"\u001b[39m\n\u001b[1;32m    432\u001b[0m     )\n",
      "File \u001b[0;32m~/miniconda3/envs/boxingtf/lib/python3.10/site-packages/torch/_dynamo/trace_rules.py:2870\u001b[0m, in \u001b[0;36mget_torch_obj_rule_map\u001b[0;34m()\u001b[0m\n\u001b[1;32m   2868\u001b[0m \u001b[38;5;28;01mfor\u001b[39;00m k, v \u001b[38;5;129;01min\u001b[39;00m m\u001b[38;5;241m.\u001b[39mitems():  \u001b[38;5;66;03m# type: ignore[attr-defined]\u001b[39;00m\n\u001b[1;32m   2869\u001b[0m     \u001b[38;5;28;01mif\u001b[39;00m \u001b[38;5;124m\"\u001b[39m\u001b[38;5;124m.py#\u001b[39m\u001b[38;5;124m\"\u001b[39m \u001b[38;5;129;01mnot\u001b[39;00m \u001b[38;5;129;01min\u001b[39;00m k:\n\u001b[0;32m-> 2870\u001b[0m         obj \u001b[38;5;241m=\u001b[39m \u001b[43mload_object\u001b[49m\u001b[43m(\u001b[49m\u001b[43mk\u001b[49m\u001b[43m)\u001b[49m\n\u001b[1;32m   2871\u001b[0m     \u001b[38;5;28;01melse\u001b[39;00m:\n\u001b[1;32m   2872\u001b[0m         obj \u001b[38;5;241m=\u001b[39m _module_dir(torch) \u001b[38;5;241m+\u001b[39m k[\u001b[38;5;28mlen\u001b[39m(\u001b[38;5;124m\"\u001b[39m\u001b[38;5;124mtorch/\u001b[39m\u001b[38;5;124m\"\u001b[39m) :]\n",
      "File \u001b[0;32m~/miniconda3/envs/boxingtf/lib/python3.10/site-packages/torch/_dynamo/trace_rules.py:2901\u001b[0m, in \u001b[0;36mload_object\u001b[0;34m(name)\u001b[0m\n\u001b[1;32m   2899\u001b[0m     \u001b[38;5;28;01melse\u001b[39;00m:\n\u001b[1;32m   2900\u001b[0m         \u001b[38;5;28;01massert\u001b[39;00m \u001b[38;5;28mlen\u001b[39m(x) \u001b[38;5;241m==\u001b[39m \u001b[38;5;241m1\u001b[39m, \u001b[38;5;124mf\u001b[39m\u001b[38;5;124m\"\u001b[39m\u001b[38;5;124mInvalid obj name \u001b[39m\u001b[38;5;132;01m{\u001b[39;00mname\u001b[38;5;132;01m}\u001b[39;00m\u001b[38;5;124m\"\u001b[39m\n\u001b[0;32m-> 2901\u001b[0m         val \u001b[38;5;241m=\u001b[39m \u001b[43m_load_obj_from_str\u001b[49m\u001b[43m(\u001b[49m\u001b[43mx\u001b[49m\u001b[43m[\u001b[49m\u001b[38;5;241;43m0\u001b[39;49m\u001b[43m]\u001b[49m\u001b[43m)\u001b[49m\n\u001b[1;32m   2902\u001b[0m     val \u001b[38;5;241m=\u001b[39m unwrap_if_wrapper(val)\n\u001b[1;32m   2903\u001b[0m \u001b[38;5;28;01mexcept\u001b[39;00m (\u001b[38;5;167;01mAttributeError\u001b[39;00m, \u001b[38;5;167;01mImportError\u001b[39;00m):\n",
      "File \u001b[0;32m~/miniconda3/envs/boxingtf/lib/python3.10/site-packages/torch/_dynamo/trace_rules.py:2885\u001b[0m, in \u001b[0;36m_load_obj_from_str\u001b[0;34m(fully_qualified_name)\u001b[0m\n\u001b[1;32m   2883\u001b[0m \u001b[38;5;28;01mdef\u001b[39;00m\u001b[38;5;250m \u001b[39m\u001b[38;5;21m_load_obj_from_str\u001b[39m(fully_qualified_name):\n\u001b[1;32m   2884\u001b[0m     module, obj_name \u001b[38;5;241m=\u001b[39m fully_qualified_name\u001b[38;5;241m.\u001b[39mrsplit(\u001b[38;5;124m\"\u001b[39m\u001b[38;5;124m.\u001b[39m\u001b[38;5;124m\"\u001b[39m, maxsplit\u001b[38;5;241m=\u001b[39m\u001b[38;5;241m1\u001b[39m)\n\u001b[0;32m-> 2885\u001b[0m     \u001b[38;5;28;01mreturn\u001b[39;00m \u001b[38;5;28mgetattr\u001b[39m(\u001b[43mimportlib\u001b[49m\u001b[38;5;241;43m.\u001b[39;49m\u001b[43mimport_module\u001b[49m\u001b[43m(\u001b[49m\u001b[43mmodule\u001b[49m\u001b[43m)\u001b[49m, obj_name)\n",
      "File \u001b[0;32m~/miniconda3/envs/boxingtf/lib/python3.10/importlib/__init__.py:126\u001b[0m, in \u001b[0;36mimport_module\u001b[0;34m(name, package)\u001b[0m\n\u001b[1;32m    124\u001b[0m             \u001b[38;5;28;01mbreak\u001b[39;00m\n\u001b[1;32m    125\u001b[0m         level \u001b[38;5;241m+\u001b[39m\u001b[38;5;241m=\u001b[39m \u001b[38;5;241m1\u001b[39m\n\u001b[0;32m--> 126\u001b[0m \u001b[38;5;28;01mreturn\u001b[39;00m \u001b[43m_bootstrap\u001b[49m\u001b[38;5;241;43m.\u001b[39;49m\u001b[43m_gcd_import\u001b[49m\u001b[43m(\u001b[49m\u001b[43mname\u001b[49m\u001b[43m[\u001b[49m\u001b[43mlevel\u001b[49m\u001b[43m:\u001b[49m\u001b[43m]\u001b[49m\u001b[43m,\u001b[49m\u001b[43m \u001b[49m\u001b[43mpackage\u001b[49m\u001b[43m,\u001b[49m\u001b[43m \u001b[49m\u001b[43mlevel\u001b[49m\u001b[43m)\u001b[49m\n",
      "File \u001b[0;32m~/miniconda3/envs/boxingtf/lib/python3.10/site-packages/torch/_higher_order_ops/map.py:6\u001b[0m\n\u001b[1;32m      4\u001b[0m \u001b[38;5;28;01mfrom\u001b[39;00m\u001b[38;5;250m \u001b[39m\u001b[38;5;21;01mtorch\u001b[39;00m\u001b[38;5;21;01m.\u001b[39;00m\u001b[38;5;21;01m_C\u001b[39;00m\u001b[38;5;250m \u001b[39m\u001b[38;5;28;01mimport\u001b[39;00m DispatchKey\n\u001b[1;32m      5\u001b[0m \u001b[38;5;28;01mfrom\u001b[39;00m\u001b[38;5;250m \u001b[39m\u001b[38;5;21;01mtorch\u001b[39;00m\u001b[38;5;21;01m.\u001b[39;00m\u001b[38;5;21;01m_dispatch\u001b[39;00m\u001b[38;5;21;01m.\u001b[39;00m\u001b[38;5;21;01mpython\u001b[39;00m\u001b[38;5;250m \u001b[39m\u001b[38;5;28;01mimport\u001b[39;00m suspend_functionalization\n\u001b[0;32m----> 6\u001b[0m \u001b[38;5;28;01mfrom\u001b[39;00m\u001b[38;5;250m \u001b[39m\u001b[38;5;21;01mtorch\u001b[39;00m\u001b[38;5;21;01m.\u001b[39;00m\u001b[38;5;21;01m_functorch\u001b[39;00m\u001b[38;5;21;01m.\u001b[39;00m\u001b[38;5;21;01maot_autograd\u001b[39;00m\u001b[38;5;250m \u001b[39m\u001b[38;5;28;01mimport\u001b[39;00m AOTConfig, create_joint\n\u001b[1;32m      7\u001b[0m \u001b[38;5;28;01mfrom\u001b[39;00m\u001b[38;5;250m \u001b[39m\u001b[38;5;21;01mtorch\u001b[39;00m\u001b[38;5;21;01m.\u001b[39;00m\u001b[38;5;21;01m_higher_order_ops\u001b[39;00m\u001b[38;5;21;01m.\u001b[39;00m\u001b[38;5;21;01mutils\u001b[39;00m\u001b[38;5;250m \u001b[39m\u001b[38;5;28;01mimport\u001b[39;00m (\n\u001b[1;32m      8\u001b[0m     _has_potential_branch_input_alias,\n\u001b[1;32m      9\u001b[0m     _has_potential_branch_input_mutation,\n\u001b[0;32m   (...)\u001b[0m\n\u001b[1;32m     12\u001b[0m     UnsupportedAliasMutationException,\n\u001b[1;32m     13\u001b[0m )\n\u001b[1;32m     14\u001b[0m \u001b[38;5;28;01mfrom\u001b[39;00m\u001b[38;5;250m \u001b[39m\u001b[38;5;21;01mtorch\u001b[39;00m\u001b[38;5;21;01m.\u001b[39;00m\u001b[38;5;21;01m_ops\u001b[39;00m\u001b[38;5;250m \u001b[39m\u001b[38;5;28;01mimport\u001b[39;00m HigherOrderOperator\n",
      "File \u001b[0;32m~/miniconda3/envs/boxingtf/lib/python3.10/site-packages/torch/_functorch/aot_autograd.py:135\u001b[0m\n\u001b[1;32m    112\u001b[0m \u001b[38;5;28;01mfrom\u001b[39;00m\u001b[38;5;250m \u001b[39m\u001b[38;5;21;01m.\u001b[39;00m\u001b[38;5;21;01m_aot_autograd\u001b[39;00m\u001b[38;5;21;01m.\u001b[39;00m\u001b[38;5;21;01mtraced_function_transforms\u001b[39;00m\u001b[38;5;250m \u001b[39m\u001b[38;5;28;01mimport\u001b[39;00m (  \u001b[38;5;66;03m# noqa: F401\u001b[39;00m\n\u001b[1;32m    113\u001b[0m     aot_dispatch_subclass,\n\u001b[1;32m    114\u001b[0m     create_functional_call,\n\u001b[0;32m   (...)\u001b[0m\n\u001b[1;32m    119\u001b[0m     fn_prepped_for_autograd,\n\u001b[1;32m    120\u001b[0m )\n\u001b[1;32m    121\u001b[0m \u001b[38;5;28;01mfrom\u001b[39;00m\u001b[38;5;250m \u001b[39m\u001b[38;5;21;01m.\u001b[39;00m\u001b[38;5;21;01m_aot_autograd\u001b[39;00m\u001b[38;5;21;01m.\u001b[39;00m\u001b[38;5;21;01mutils\u001b[39;00m\u001b[38;5;250m \u001b[39m\u001b[38;5;28;01mimport\u001b[39;00m (  \u001b[38;5;66;03m# noqa: F401\u001b[39;00m\n\u001b[1;32m    122\u001b[0m     _get_autocast_states,\n\u001b[1;32m    123\u001b[0m     _get_symint_hints,\n\u001b[0;32m   (...)\u001b[0m\n\u001b[1;32m    133\u001b[0m     strict_zip,\n\u001b[1;32m    134\u001b[0m )\n\u001b[0;32m--> 135\u001b[0m \u001b[38;5;28;01mfrom\u001b[39;00m\u001b[38;5;250m \u001b[39m\u001b[38;5;21;01m.\u001b[39;00m\u001b[38;5;21;01mpartitioners\u001b[39;00m\u001b[38;5;250m \u001b[39m\u001b[38;5;28;01mimport\u001b[39;00m default_partition\n\u001b[1;32m    138\u001b[0m \u001b[38;5;28mzip\u001b[39m \u001b[38;5;241m=\u001b[39m strict_zip\n\u001b[1;32m    140\u001b[0m \u001b[38;5;66;03m# This global counter increments every time we compile a graph with\u001b[39;00m\n\u001b[1;32m    141\u001b[0m \u001b[38;5;66;03m# AOTAutograd.  You can use this to correlate runtime error messages\u001b[39;00m\n\u001b[1;32m    142\u001b[0m \u001b[38;5;66;03m# with compile time (e.g., if you get an error at runtime saying\u001b[39;00m\n\u001b[0;32m   (...)\u001b[0m\n\u001b[1;32m    149\u001b[0m \u001b[38;5;66;03m# one counter is allocated per entire compiled block (but this block\u001b[39;00m\n\u001b[1;32m    150\u001b[0m \u001b[38;5;66;03m# may involve compiling multiple subgraphs; e.g., for forwards/backwards)\u001b[39;00m\n",
      "File \u001b[0;32m~/miniconda3/envs/boxingtf/lib/python3.10/site-packages/torch/_functorch/partitioners.py:37\u001b[0m\n\u001b[1;32m     34\u001b[0m \u001b[38;5;28;01mfrom\u001b[39;00m\u001b[38;5;250m \u001b[39m\u001b[38;5;21;01mtorch\u001b[39;00m\u001b[38;5;21;01m.\u001b[39;00m\u001b[38;5;21;01mutils\u001b[39;00m\u001b[38;5;21;01m.\u001b[39;00m\u001b[38;5;21;01mcheckpoint\u001b[39;00m\u001b[38;5;250m \u001b[39m\u001b[38;5;28;01mimport\u001b[39;00m CheckpointPolicy\n\u001b[1;32m     36\u001b[0m \u001b[38;5;28;01mfrom\u001b[39;00m\u001b[38;5;250m \u001b[39m\u001b[38;5;21;01m.\u001b[39;00m\u001b[38;5;250m \u001b[39m\u001b[38;5;28;01mimport\u001b[39;00m config\n\u001b[0;32m---> 37\u001b[0m \u001b[38;5;28;01mfrom\u001b[39;00m\u001b[38;5;250m \u001b[39m\u001b[38;5;21;01m.\u001b[39;00m\u001b[38;5;21;01m_activation_checkpointing\u001b[39;00m\u001b[38;5;21;01m.\u001b[39;00m\u001b[38;5;21;01mgraph_info_provider\u001b[39;00m\u001b[38;5;250m \u001b[39m\u001b[38;5;28;01mimport\u001b[39;00m GraphInfoProvider\n\u001b[1;32m     38\u001b[0m \u001b[38;5;28;01mfrom\u001b[39;00m\u001b[38;5;250m \u001b[39m\u001b[38;5;21;01m.\u001b[39;00m\u001b[38;5;21;01m_activation_checkpointing\u001b[39;00m\u001b[38;5;21;01m.\u001b[39;00m\u001b[38;5;21;01mknapsack\u001b[39;00m\u001b[38;5;250m \u001b[39m\u001b[38;5;28;01mimport\u001b[39;00m (\n\u001b[1;32m     39\u001b[0m     dp_knapsack,\n\u001b[1;32m     40\u001b[0m     greedy_knapsack,\n\u001b[1;32m     41\u001b[0m     ilp_knapsack,\n\u001b[1;32m     42\u001b[0m )\n\u001b[1;32m     43\u001b[0m \u001b[38;5;28;01mfrom\u001b[39;00m\u001b[38;5;250m \u001b[39m\u001b[38;5;21;01m.\u001b[39;00m\u001b[38;5;21;01m_activation_checkpointing\u001b[39;00m\u001b[38;5;21;01m.\u001b[39;00m\u001b[38;5;21;01mknapsack_evaluator\u001b[39;00m\u001b[38;5;250m \u001b[39m\u001b[38;5;28;01mimport\u001b[39;00m KnapsackEvaluator\n",
      "File \u001b[0;32m~/miniconda3/envs/boxingtf/lib/python3.10/site-packages/torch/_functorch/_activation_checkpointing/graph_info_provider.py:3\u001b[0m\n\u001b[1;32m      1\u001b[0m \u001b[38;5;28;01mfrom\u001b[39;00m\u001b[38;5;250m \u001b[39m\u001b[38;5;21;01mtyping\u001b[39;00m\u001b[38;5;250m \u001b[39m\u001b[38;5;28;01mimport\u001b[39;00m Any, Optional\n\u001b[0;32m----> 3\u001b[0m \u001b[38;5;28;01mimport\u001b[39;00m\u001b[38;5;250m \u001b[39m\u001b[38;5;21;01mnetworkx\u001b[39;00m\u001b[38;5;250m \u001b[39m\u001b[38;5;28;01mas\u001b[39;00m\u001b[38;5;250m \u001b[39m\u001b[38;5;21;01mnx\u001b[39;00m\n\u001b[1;32m      5\u001b[0m \u001b[38;5;28;01mfrom\u001b[39;00m\u001b[38;5;250m \u001b[39m\u001b[38;5;21;01mtorch\u001b[39;00m\u001b[38;5;21;01m.\u001b[39;00m\u001b[38;5;21;01mfx\u001b[39;00m\u001b[38;5;250m \u001b[39m\u001b[38;5;28;01mimport\u001b[39;00m Graph, Node\n\u001b[1;32m      8\u001b[0m \u001b[38;5;28;01mclass\u001b[39;00m\u001b[38;5;250m \u001b[39m\u001b[38;5;21;01mGraphInfoProvider\u001b[39;00m:\n",
      "File \u001b[0;32m~/miniconda3/envs/boxingtf/lib/python3.10/site-packages/networkx/__init__.py:42\u001b[0m\n\u001b[1;32m     39\u001b[0m \u001b[38;5;28;01mfrom\u001b[39;00m\u001b[38;5;250m \u001b[39m\u001b[38;5;21;01mnetworkx\u001b[39;00m\u001b[38;5;21;01m.\u001b[39;00m\u001b[38;5;21;01mreadwrite\u001b[39;00m\u001b[38;5;250m \u001b[39m\u001b[38;5;28;01mimport\u001b[39;00m \u001b[38;5;241m*\u001b[39m\n\u001b[1;32m     41\u001b[0m \u001b[38;5;66;03m# Need to test with SciPy, when available\u001b[39;00m\n\u001b[0;32m---> 42\u001b[0m \u001b[38;5;28;01mfrom\u001b[39;00m\u001b[38;5;250m \u001b[39m\u001b[38;5;21;01mnetworkx\u001b[39;00m\u001b[38;5;250m \u001b[39m\u001b[38;5;28;01mimport\u001b[39;00m algorithms\n\u001b[1;32m     43\u001b[0m \u001b[38;5;28;01mfrom\u001b[39;00m\u001b[38;5;250m \u001b[39m\u001b[38;5;21;01mnetworkx\u001b[39;00m\u001b[38;5;21;01m.\u001b[39;00m\u001b[38;5;21;01malgorithms\u001b[39;00m\u001b[38;5;250m \u001b[39m\u001b[38;5;28;01mimport\u001b[39;00m \u001b[38;5;241m*\u001b[39m\n\u001b[1;32m     45\u001b[0m \u001b[38;5;28;01mfrom\u001b[39;00m\u001b[38;5;250m \u001b[39m\u001b[38;5;21;01mnetworkx\u001b[39;00m\u001b[38;5;250m \u001b[39m\u001b[38;5;28;01mimport\u001b[39;00m linalg\n",
      "File \u001b[0;32m~/miniconda3/envs/boxingtf/lib/python3.10/site-packages/networkx/algorithms/__init__.py:52\u001b[0m\n\u001b[1;32m     50\u001b[0m \u001b[38;5;28;01mfrom\u001b[39;00m\u001b[38;5;250m \u001b[39m\u001b[38;5;21;01mnetworkx\u001b[39;00m\u001b[38;5;21;01m.\u001b[39;00m\u001b[38;5;21;01malgorithms\u001b[39;00m\u001b[38;5;21;01m.\u001b[39;00m\u001b[38;5;21;01msmetric\u001b[39;00m\u001b[38;5;250m \u001b[39m\u001b[38;5;28;01mimport\u001b[39;00m \u001b[38;5;241m*\u001b[39m\n\u001b[1;32m     51\u001b[0m \u001b[38;5;28;01mfrom\u001b[39;00m\u001b[38;5;250m \u001b[39m\u001b[38;5;21;01mnetworkx\u001b[39;00m\u001b[38;5;21;01m.\u001b[39;00m\u001b[38;5;21;01malgorithms\u001b[39;00m\u001b[38;5;21;01m.\u001b[39;00m\u001b[38;5;21;01mstructuralholes\u001b[39;00m\u001b[38;5;250m \u001b[39m\u001b[38;5;28;01mimport\u001b[39;00m \u001b[38;5;241m*\u001b[39m\n\u001b[0;32m---> 52\u001b[0m \u001b[38;5;28;01mfrom\u001b[39;00m\u001b[38;5;250m \u001b[39m\u001b[38;5;21;01mnetworkx\u001b[39;00m\u001b[38;5;21;01m.\u001b[39;00m\u001b[38;5;21;01malgorithms\u001b[39;00m\u001b[38;5;21;01m.\u001b[39;00m\u001b[38;5;21;01msparsifiers\u001b[39;00m\u001b[38;5;250m \u001b[39m\u001b[38;5;28;01mimport\u001b[39;00m \u001b[38;5;241m*\u001b[39m\n\u001b[1;32m     53\u001b[0m \u001b[38;5;28;01mfrom\u001b[39;00m\u001b[38;5;250m \u001b[39m\u001b[38;5;21;01mnetworkx\u001b[39;00m\u001b[38;5;21;01m.\u001b[39;00m\u001b[38;5;21;01malgorithms\u001b[39;00m\u001b[38;5;21;01m.\u001b[39;00m\u001b[38;5;21;01msummarization\u001b[39;00m\u001b[38;5;250m \u001b[39m\u001b[38;5;28;01mimport\u001b[39;00m \u001b[38;5;241m*\u001b[39m\n\u001b[1;32m     54\u001b[0m \u001b[38;5;28;01mfrom\u001b[39;00m\u001b[38;5;250m \u001b[39m\u001b[38;5;21;01mnetworkx\u001b[39;00m\u001b[38;5;21;01m.\u001b[39;00m\u001b[38;5;21;01malgorithms\u001b[39;00m\u001b[38;5;21;01m.\u001b[39;00m\u001b[38;5;21;01mswap\u001b[39;00m\u001b[38;5;250m \u001b[39m\u001b[38;5;28;01mimport\u001b[39;00m \u001b[38;5;241m*\u001b[39m\n",
      "File \u001b[0;32m<frozen importlib._bootstrap>:1027\u001b[0m, in \u001b[0;36m_find_and_load\u001b[0;34m(name, import_)\u001b[0m\n",
      "File \u001b[0;32m<frozen importlib._bootstrap>:1006\u001b[0m, in \u001b[0;36m_find_and_load_unlocked\u001b[0;34m(name, import_)\u001b[0m\n",
      "File \u001b[0;32m<frozen importlib._bootstrap>:688\u001b[0m, in \u001b[0;36m_load_unlocked\u001b[0;34m(spec)\u001b[0m\n",
      "File \u001b[0;32m<frozen importlib._bootstrap_external>:879\u001b[0m, in \u001b[0;36mexec_module\u001b[0;34m(self, module)\u001b[0m\n",
      "File \u001b[0;32m<frozen importlib._bootstrap_external>:1012\u001b[0m, in \u001b[0;36mget_code\u001b[0;34m(self, fullname)\u001b[0m\n",
      "File \u001b[0;32m<frozen importlib._bootstrap_external>:672\u001b[0m, in \u001b[0;36m_compile_bytecode\u001b[0;34m(data, name, bytecode_path, source_path)\u001b[0m\n",
      "\u001b[0;31mKeyboardInterrupt\u001b[0m: "
     ]
    }
   ],
   "source": [
    "import os\n",
    "import cv2\n",
    "import torch\n",
    "import numpy as np\n",
    "from ultralytics import YOLO\n",
    "from tqdm import tqdm\n",
    "\n",
    "RAW_DATA_DIR = \"punch/combined_dataset\"\n",
    "AUGMENTED_DATA_DIR = \"punch/augmented_data\"\n",
    "BASE_NPY_DIR = \"punch/processed_keypoints\"\n",
    "MODEL_NAME = \"yolo11m-pose.pt\"\n",
    "\n",
    "ACTIONS_TO_PROCESS = ['jab', 'cross', 'hook', 'uppercut']\n",
    "SEQUENCE_LENGTH = 25\n",
    "KEYPOINT_INDICES = [5, 6, 7, 8, 9, 10, 11, 12]\n",
    "\n",
    "def normalize_keypoints(keypoints_xy):\n",
    "    left_shoulder = keypoints_xy[KEYPOINT_INDICES.index(5)]\n",
    "    right_shoulder = keypoints_xy[KEYPOINT_INDICES.index(6)]\n",
    "\n",
    "    if np.all(left_shoulder == 0) or np.all(right_shoulder == 0):\n",
    "        return None\n",
    "\n",
    "    scale_dist = np.linalg.norm(left_shoulder - right_shoulder)\n",
    "    if scale_dist < 1e-4:  \n",
    "        return None\n",
    "\n",
    "    center_point = (left_shoulder + right_shoulder) / 2\n",
    "\n",
    "    normalized_kps = (keypoints_xy - center_point) / scale_dist\n",
    "    return normalized_kps.flatten() \n",
    "\n",
    "def process_video_to_sequence(video_path, model):\n",
    "    cap = cv2.VideoCapture(video_path)\n",
    "    if not cap.isOpened():\n",
    "        return None\n",
    "\n",
    "    frame_keypoints_list = []\n",
    "    while cap.isOpened():\n",
    "        ret, frame = cap.read()\n",
    "        if not ret:\n",
    "            break\n",
    "\n",
    "        results = model(frame, verbose=False)\n",
    "\n",
    "        if len(results) > 0 and len(results[0].keypoints.xy) > 0:\n",
    "            kps_xy = results[0].keypoints.xy[0].cpu().numpy()\n",
    "            \n",
    "            if kps_xy.shape[0] == 17:\n",
    "                relevant_kps = kps_xy[KEYPOINT_INDICES]\n",
    "                normalized = normalize_keypoints(relevant_kps)\n",
    "                if normalized is not None:\n",
    "                    frame_keypoints_list.append(normalized)\n",
    "    cap.release()\n",
    "    \n",
    "    return frame_keypoints_list\n",
    "\n",
    "def main():\n",
    "    print(f\"Loading YOLO model: {MODEL_NAME}...\")\n",
    "    device = 'cuda' if torch.cuda.is_available() else 'cpu'\n",
    "    model = YOLO(MODEL_NAME).to(device)\n",
    "    print(f\"Model loaded on {device}.\")\n",
    "\n",
    "    print(\"\\n===== Processing RAW Data =====\")\n",
    "    for action in ACTIONS_TO_PROCESS:\n",
    "        action_input_dir = os.path.join(RAW_DATA_DIR, action)\n",
    "        action_output_dir = os.path.join(BASE_NPY_DIR, action)\n",
    "        os.makedirs(action_output_dir, exist_ok=True)\n",
    "\n",
    "        if not os.path.isdir(action_input_dir): continue\n",
    "\n",
    "        videos = [v for v in os.listdir(action_input_dir) if v.endswith('.mp4')]\n",
    "        for video_name in tqdm(videos, desc=f\"Raw '{action}'\"):\n",
    "            video_path = os.path.join(action_input_dir, video_name)\n",
    "            \n",
    "            sequence = process_video_to_sequence(video_path, model)\n",
    "            \n",
    "            if sequence and len(sequence) > 0:\n",
    "                num_features = sequence[0].shape[0]\n",
    "                if len(sequence) < SEQUENCE_LENGTH:\n",
    "                    padding = np.zeros((SEQUENCE_LENGTH - len(sequence), num_features))\n",
    "                    final_sequence = np.vstack((sequence, padding))\n",
    "                else:\n",
    "                    final_sequence = np.array(sequence[:SEQUENCE_LENGTH])\n",
    "                \n",
    "                base_name = os.path.splitext(video_name)[0]\n",
    "                output_path = os.path.join(action_output_dir, f\"raw_{base_name}.npy\")\n",
    "                np.save(output_path, final_sequence)\n",
    "\n",
    "    print(\"\\n===== Processing AUGMENTED Data =====\")\n",
    "    for action in ACTIONS_TO_PROCESS:\n",
    "        action_input_dir = os.path.join(AUGMENTED_DATA_DIR, action)\n",
    "        action_output_dir = os.path.join(BASE_NPY_DIR, action)\n",
    "        os.makedirs(action_output_dir, exist_ok=True)\n",
    "\n",
    "        if not os.path.isdir(action_input_dir): continue\n",
    "        \n",
    "        for aug_type_folder in os.listdir(action_input_dir):\n",
    "            aug_folder_path = os.path.join(action_input_dir, aug_type_folder)\n",
    "            if not os.path.isdir(aug_folder_path): continue\n",
    "\n",
    "            videos = [v for v in os.listdir(aug_folder_path) if v.endswith('.mp4')]\n",
    "            for video_name in tqdm(videos, desc=f\"Aug '{action}/{aug_type_folder}'\"):\n",
    "                video_path = os.path.join(aug_folder_path, video_name)\n",
    "                \n",
    "                sequence = process_video_to_sequence(video_path, model)\n",
    "\n",
    "                if sequence and len(sequence) > 0:\n",
    "                    num_features = sequence[0].shape[0]\n",
    "                    if len(sequence) < SEQUENCE_LENGTH:\n",
    "                        padding = np.zeros((SEQUENCE_LENGTH - len(sequence), num_features))\n",
    "                        final_sequence = np.vstack((sequence, padding))\n",
    "                    else:\n",
    "                        final_sequence = np.array(sequence[:SEQUENCE_LENGTH])\n",
    "                    \n",
    "                    base_name = os.path.splitext(video_name)[0]\n",
    "                    output_path = os.path.join(action_output_dir, f\"aug_{aug_type_folder}_{base_name}.npy\")\n",
    "                    np.save(output_path, final_sequence)\n",
    "\n",
    "    print(f\"\\nAll processing complete. Processed keypoints saved in: {BASE_NPY_DIR}\")\n",
    "\n",
    "if __name__ == '__main__':\n",
    "    main()"
   ]
  },
  {
   "cell_type": "markdown",
   "id": "7328da99",
   "metadata": {},
   "source": [
    "##### Keypoints with mirroring (FOR PUNCH)"
   ]
  },
  {
   "cell_type": "code",
   "execution_count": null,
   "id": "087d7608",
   "metadata": {},
   "outputs": [
    {
     "name": "stdout",
     "output_type": "stream",
     "text": [
      "Loading YOLO model: yolo11m-pose.pt...\n",
      "Model loaded on cuda.\n",
      "\n",
      "===== Processing Raw Data from 'combined_dataset' =====\n"
     ]
    },
    {
     "name": "stderr",
     "output_type": "stream",
     "text": [
      "Raw 'jab': 100%|██████████| 800/800 [06:33<00:00,  2.03it/s]\n",
      "Raw 'cross': 100%|██████████| 800/800 [06:41<00:00,  1.99it/s]\n",
      "Raw 'hook': 100%|██████████| 800/800 [06:40<00:00,  2.00it/s]\n",
      "Raw 'uppercut': 100%|██████████| 800/800 [06:31<00:00,  2.04it/s]\n",
      "Raw 'negative': 100%|██████████| 800/800 [06:47<00:00,  1.96it/s]\n"
     ]
    },
    {
     "name": "stdout",
     "output_type": "stream",
     "text": [
      "\n",
      "===== Processing Augmented Data from 'augmented_data' =====\n"
     ]
    },
    {
     "name": "stderr",
     "output_type": "stream",
     "text": [
      "Augmented 'jab/brightness_down': 100%|██████████| 800/800 [06:29<00:00,  2.05it/s]\n",
      "Augmented 'jab/brightness_up': 100%|██████████| 800/800 [06:29<00:00,  2.05it/s]\n",
      "Augmented 'jab/noise_5_percent': 100%|██████████| 800/800 [06:45<00:00,  1.97it/s]\n",
      "Augmented 'jab/random_erase': 100%|██████████| 800/800 [06:28<00:00,  2.06it/s]\n",
      "Augmented 'jab/rot_neg15': 100%|██████████| 800/800 [06:28<00:00,  2.06it/s]\n",
      "Augmented 'jab/rot_pos15': 100%|██████████| 800/800 [06:27<00:00,  2.06it/s]\n",
      "Augmented 'jab/scale_120': 100%|██████████| 800/800 [06:27<00:00,  2.07it/s]\n",
      "Augmented 'jab/scale_80': 100%|██████████| 800/800 [06:28<00:00,  2.06it/s]\n",
      "Augmented 'jab/slow_motion_50_percent': 100%|██████████| 800/800 [06:30<00:00,  2.05it/s]\n",
      "Augmented 'cross/brightness_down': 100%|██████████| 800/800 [06:38<00:00,  2.01it/s]\n",
      "Augmented 'cross/brightness_up': 100%|██████████| 800/800 [06:38<00:00,  2.01it/s]\n",
      "Augmented 'cross/noise_5_percent': 100%|██████████| 800/800 [06:56<00:00,  1.92it/s]\n",
      "Augmented 'cross/random_erase': 100%|██████████| 800/800 [06:38<00:00,  2.01it/s]\n",
      "Augmented 'cross/rot_neg15': 100%|██████████| 800/800 [06:37<00:00,  2.01it/s]\n",
      "Augmented 'cross/rot_pos15': 100%|██████████| 800/800 [06:36<00:00,  2.02it/s]\n",
      "Augmented 'cross/scale_120': 100%|██████████| 800/800 [06:38<00:00,  2.01it/s]\n",
      "Augmented 'cross/scale_80': 100%|██████████| 800/800 [06:36<00:00,  2.02it/s]\n",
      "Augmented 'cross/slow_motion_50_percent': 100%|██████████| 800/800 [06:39<00:00,  2.00it/s]\n",
      "Augmented 'hook/brightness_down': 100%|██████████| 800/800 [06:38<00:00,  2.01it/s]\n",
      "Augmented 'hook/brightness_up': 100%|██████████| 800/800 [06:36<00:00,  2.02it/s]\n",
      "Augmented 'hook/noise_5_percent': 100%|██████████| 800/800 [06:58<00:00,  1.91it/s]\n",
      "Augmented 'hook/random_erase': 100%|██████████| 800/800 [06:38<00:00,  2.01it/s]\n",
      "Augmented 'hook/rot_neg15': 100%|██████████| 800/800 [06:37<00:00,  2.01it/s]\n",
      "Augmented 'hook/rot_pos15': 100%|██████████| 800/800 [06:35<00:00,  2.02it/s]\n",
      "Augmented 'hook/scale_120': 100%|██████████| 800/800 [06:38<00:00,  2.01it/s]\n",
      "Augmented 'hook/scale_80': 100%|██████████| 800/800 [06:37<00:00,  2.01it/s]\n",
      "Augmented 'hook/slow_motion_50_percent': 100%|██████████| 800/800 [06:39<00:00,  2.00it/s]\n",
      "Augmented 'uppercut/brightness_down': 100%|██████████| 800/800 [06:28<00:00,  2.06it/s]\n",
      "Augmented 'uppercut/brightness_up': 100%|██████████| 800/800 [06:30<00:00,  2.05it/s]\n",
      "Augmented 'uppercut/noise_5_percent': 100%|██████████| 800/800 [06:47<00:00,  1.96it/s]\n",
      "Augmented 'uppercut/random_erase': 100%|██████████| 800/800 [06:29<00:00,  2.05it/s]\n",
      "Augmented 'uppercut/rot_neg15': 100%|██████████| 800/800 [06:27<00:00,  2.06it/s]\n",
      "Augmented 'uppercut/rot_pos15': 100%|██████████| 800/800 [06:24<00:00,  2.08it/s]\n",
      "Augmented 'uppercut/scale_120': 100%|██████████| 800/800 [06:27<00:00,  2.07it/s]\n",
      "Augmented 'uppercut/scale_80': 100%|██████████| 800/800 [06:07<00:00,  2.17it/s]\n",
      "Augmented 'uppercut/slow_motion_50_percent': 100%|██████████| 800/800 [06:13<00:00,  2.14it/s]\n",
      "Augmented 'negative/brightness_down': 100%|██████████| 800/800 [06:30<00:00,  2.05it/s]\n",
      "Augmented 'negative/brightness_up': 100%|██████████| 800/800 [06:29<00:00,  2.06it/s]\n",
      "Augmented 'negative/noise_5_percent': 100%|██████████| 800/800 [06:45<00:00,  1.97it/s]\n",
      "Augmented 'negative/random_erase': 100%|██████████| 800/800 [06:30<00:00,  2.05it/s]\n",
      "Augmented 'negative/rot_neg15': 100%|██████████| 800/800 [06:30<00:00,  2.05it/s]\n",
      "Augmented 'negative/rot_pos15': 100%|██████████| 800/800 [06:28<00:00,  2.06it/s]\n",
      "Augmented 'negative/scale_120': 100%|██████████| 800/800 [06:33<00:00,  2.03it/s]\n",
      "Augmented 'negative/scale_80': 100%|██████████| 800/800 [06:26<00:00,  2.07it/s]\n",
      "Augmented 'negative/slow_motion_50_percent': 100%|██████████| 800/800 [06:46<00:00,  1.97it/s]\n"
     ]
    },
    {
     "name": "stdout",
     "output_type": "stream",
     "text": [
      "\n",
      "===== Processing Mirrored Raw Data from 'mirrored_combined_dataset' =====\n"
     ]
    },
    {
     "name": "stderr",
     "output_type": "stream",
     "text": [
      "Mirrored Raw 'jab': 100%|██████████| 800/800 [06:17<00:00,  2.12it/s]\n",
      "Mirrored Raw 'cross': 100%|██████████| 800/800 [06:26<00:00,  2.07it/s]\n",
      "Mirrored Raw 'hook': 100%|██████████| 800/800 [06:22<00:00,  2.09it/s]\n",
      "Mirrored Raw 'uppercut': 100%|██████████| 800/800 [06:10<00:00,  2.16it/s]\n",
      "Mirrored Raw 'negative': 100%|██████████| 800/800 [06:25<00:00,  2.08it/s]\n"
     ]
    },
    {
     "name": "stdout",
     "output_type": "stream",
     "text": [
      "\n",
      "===== Processing Mirrored Augmented Data from 'mirrored_augmented_data' =====\n"
     ]
    },
    {
     "name": "stderr",
     "output_type": "stream",
     "text": [
      "Mirrored Augmented 'jab/brightness_down': 100%|██████████| 800/800 [06:15<00:00,  2.13it/s]\n",
      "Mirrored Augmented 'jab/brightness_up': 100%|██████████| 800/800 [06:13<00:00,  2.14it/s]\n",
      "Mirrored Augmented 'jab/noise_5_percent': 100%|██████████| 800/800 [06:27<00:00,  2.06it/s]\n",
      "Mirrored Augmented 'jab/random_erase': 100%|██████████| 800/800 [06:13<00:00,  2.14it/s]\n",
      "Mirrored Augmented 'jab/rot_neg15': 100%|██████████| 800/800 [06:12<00:00,  2.15it/s]\n",
      "Mirrored Augmented 'jab/rot_pos15': 100%|██████████| 800/800 [06:21<00:00,  2.09it/s]\n",
      "Mirrored Augmented 'jab/scale_120': 100%|██████████| 800/800 [06:15<00:00,  2.13it/s]\n",
      "Mirrored Augmented 'jab/scale_80': 100%|██████████| 800/800 [06:18<00:00,  2.11it/s]\n",
      "Mirrored Augmented 'jab/slow_motion_50_percent': 100%|██████████| 800/800 [06:17<00:00,  2.12it/s]\n",
      "Mirrored Augmented 'cross/brightness_down': 100%|██████████| 800/800 [06:35<00:00,  2.02it/s]\n",
      "Mirrored Augmented 'cross/brightness_up': 100%|██████████| 800/800 [06:34<00:00,  2.03it/s]\n",
      "Mirrored Augmented 'cross/noise_5_percent': 100%|██████████| 800/800 [07:00<00:00,  1.90it/s]\n",
      "Mirrored Augmented 'cross/random_erase': 100%|██████████| 800/800 [06:38<00:00,  2.01it/s]\n",
      "Mirrored Augmented 'cross/rot_neg15': 100%|██████████| 800/800 [06:32<00:00,  2.04it/s]\n",
      "Mirrored Augmented 'cross/rot_pos15': 100%|██████████| 800/800 [06:33<00:00,  2.04it/s]\n",
      "Mirrored Augmented 'cross/scale_120': 100%|██████████| 800/800 [06:34<00:00,  2.03it/s]\n",
      "Mirrored Augmented 'cross/scale_80': 100%|██████████| 800/800 [06:35<00:00,  2.02it/s]\n",
      "Mirrored Augmented 'cross/slow_motion_50_percent': 100%|██████████| 800/800 [06:31<00:00,  2.04it/s]\n",
      "Mirrored Augmented 'hook/brightness_down': 100%|██████████| 800/800 [06:32<00:00,  2.04it/s]\n",
      "Mirrored Augmented 'hook/brightness_up': 100%|██████████| 800/800 [06:30<00:00,  2.05it/s]\n",
      "Mirrored Augmented 'hook/noise_5_percent': 100%|██████████| 800/800 [06:57<00:00,  1.91it/s]\n",
      "Mirrored Augmented 'hook/random_erase': 100%|██████████| 800/800 [06:31<00:00,  2.04it/s]\n",
      "Mirrored Augmented 'hook/rot_neg15': 100%|██████████| 800/800 [06:31<00:00,  2.04it/s]\n",
      "Mirrored Augmented 'hook/rot_pos15': 100%|██████████| 800/800 [06:29<00:00,  2.05it/s]\n",
      "Mirrored Augmented 'hook/scale_120': 100%|██████████| 800/800 [06:32<00:00,  2.04it/s]\n",
      "Mirrored Augmented 'hook/scale_80': 100%|██████████| 800/800 [06:31<00:00,  2.04it/s]\n",
      "Mirrored Augmented 'hook/slow_motion_50_percent': 100%|██████████| 800/800 [06:34<00:00,  2.03it/s]\n",
      "Mirrored Augmented 'uppercut/brightness_down': 100%|██████████| 800/800 [06:20<00:00,  2.10it/s]\n",
      "Mirrored Augmented 'uppercut/brightness_up': 100%|██████████| 800/800 [06:24<00:00,  2.08it/s]\n",
      "Mirrored Augmented 'uppercut/noise_5_percent': 100%|██████████| 800/800 [06:45<00:00,  1.98it/s]\n",
      "Mirrored Augmented 'uppercut/random_erase': 100%|██████████| 800/800 [06:29<00:00,  2.05it/s]\n",
      "Mirrored Augmented 'uppercut/rot_neg15': 100%|██████████| 800/800 [06:29<00:00,  2.05it/s]\n",
      "Mirrored Augmented 'uppercut/rot_pos15': 100%|██████████| 800/800 [06:31<00:00,  2.05it/s]\n",
      "Mirrored Augmented 'uppercut/scale_120': 100%|██████████| 800/800 [06:40<00:00,  2.00it/s]\n",
      "Mirrored Augmented 'uppercut/scale_80': 100%|██████████| 800/800 [06:45<00:00,  1.97it/s]\n",
      "Mirrored Augmented 'uppercut/slow_motion_50_percent': 100%|██████████| 800/800 [06:48<00:00,  1.96it/s]\n",
      "Mirrored Augmented 'negative/brightness_down': 100%|██████████| 800/800 [07:09<00:00,  1.86it/s]\n",
      "Mirrored Augmented 'negative/brightness_up': 100%|██████████| 800/800 [07:12<00:00,  1.85it/s]\n",
      "Mirrored Augmented 'negative/noise_5_percent': 100%|██████████| 800/800 [07:32<00:00,  1.77it/s]\n",
      "Mirrored Augmented 'negative/random_erase': 100%|██████████| 800/800 [07:14<00:00,  1.84it/s]\n",
      "Mirrored Augmented 'negative/rot_neg15': 100%|██████████| 800/800 [07:13<00:00,  1.85it/s]\n",
      "Mirrored Augmented 'negative/rot_pos15': 100%|██████████| 800/800 [07:13<00:00,  1.85it/s]\n",
      "Mirrored Augmented 'negative/scale_120': 100%|██████████| 800/800 [07:15<00:00,  1.84it/s]\n",
      "Mirrored Augmented 'negative/scale_80': 100%|██████████| 800/800 [07:12<00:00,  1.85it/s]\n",
      "Mirrored Augmented 'negative/slow_motion_50_percent': 100%|██████████| 800/800 [07:18<00:00,  1.83it/s]"
     ]
    },
    {
     "name": "stdout",
     "output_type": "stream",
     "text": [
      "\n",
      "✅ All processing complete. Processed keypoints saved in: all_processed_keypoints\n"
     ]
    },
    {
     "name": "stderr",
     "output_type": "stream",
     "text": [
      "\n"
     ]
    }
   ],
   "source": [
    "import os\n",
    "import cv2\n",
    "import torch\n",
    "import numpy as np\n",
    "from ultralytics import YOLO\n",
    "from tqdm import tqdm\n",
    "\n",
    "RAW_DATA_DIR = \"punch/combined_dataset\"\n",
    "AUGMENTED_DATA_DIR = \"punch/augmented_data\"\n",
    "MIRRORED_RAW_DATA_DIR = \"punch/mirrored_combined_dataset\"\n",
    "MIRRORED_AUGMENTED_DATA_DIR = \"punch/mirrored_augmented_data\"\n",
    "BASE_NPY_DIR = \"punch/processed_keypoints\"\n",
    "MODEL_NAME = \"yolo11m-pose.pt\"\n",
    "ACTIONS_TO_PROCESS = ['jab', 'cross', 'hook', 'uppercut']\n",
    "SEQUENCE_LENGTH = 25\n",
    "KEYPOINT_INDICES = [5, 6, 7, 8, 9, 10, 11, 12]  \n",
    "\n",
    "\n",
    "def normalize_keypoints(keypoints_xy):\n",
    "    left_shoulder = keypoints_xy[0]\n",
    "    right_shoulder = keypoints_xy[1]\n",
    "\n",
    "    if np.all(left_shoulder == 0) or np.all(right_shoulder == 0):\n",
    "        return None\n",
    "\n",
    "    scale_dist = np.linalg.norm(left_shoulder - right_shoulder)\n",
    "    if scale_dist < 1e-4:  \n",
    "        return None\n",
    "\n",
    "    center_point = (left_shoulder + right_shoulder) / 2\n",
    "\n",
    "    normalized_kps = (keypoints_xy - center_point) / scale_dist\n",
    "    return normalized_kps.flatten() \n",
    "\n",
    "def process_video_to_sequence(video_path, model):\n",
    "    cap = cv2.VideoCapture(video_path)\n",
    "    if not cap.isOpened():\n",
    "        return None\n",
    "\n",
    "    frame_keypoints_list = []\n",
    "    while cap.isOpened():\n",
    "        ret, frame = cap.read()\n",
    "        if not ret:\n",
    "            break\n",
    "\n",
    "        results = model(frame, verbose=False)\n",
    "\n",
    "        if len(results) > 0 and hasattr(results[0].keypoints, 'xy') and len(results[0].keypoints.xy) > 0:\n",
    "            kps_xy = results[0].keypoints.xy[0].cpu().numpy()\n",
    "            \n",
    "            if kps_xy.shape[0] == 17:\n",
    "                relevant_kps = kps_xy[KEYPOINT_INDICES]\n",
    "                normalized = normalize_keypoints(relevant_kps)\n",
    "                if normalized is not None:\n",
    "                    frame_keypoints_list.append(normalized)\n",
    "    cap.release()\n",
    "    \n",
    "    return frame_keypoints_list\n",
    "\n",
    "def main():\n",
    "    print(f\"Loading YOLO model: {MODEL_NAME}...\")\n",
    "    device = 'cuda' if torch.cuda.is_available() else 'cpu'\n",
    "    model = YOLO(MODEL_NAME).to(device)\n",
    "    print(f\"Model loaded on {device}.\")\n",
    "\n",
    "    all_data_sources = {\n",
    "        \"Raw\": (RAW_DATA_DIR, \"raw_\"),\n",
    "        \"Augmented\": (AUGMENTED_DATA_DIR, \"aug_\"),\n",
    "        \"Mirrored Raw\": (MIRRORED_RAW_DATA_DIR, \"mirrored_raw_\"),\n",
    "        \"Mirrored Augmented\": (MIRRORED_AUGMENTED_DATA_DIR, \"mirrored_aug_\")\n",
    "    }\n",
    "\n",
    "    for source_name, (source_dir, prefix) in all_data_sources.items():\n",
    "        print(f\"\\n===== Processing {source_name} Data from '{source_dir}' =====\")\n",
    "        if not os.path.isdir(source_dir):\n",
    "            print(f\"Directory not found, skipping.\")\n",
    "            continue\n",
    "\n",
    "        for action in ACTIONS_TO_PROCESS:\n",
    "            action_input_dir = os.path.join(source_dir, action)\n",
    "            action_output_dir = os.path.join(BASE_NPY_DIR, action)\n",
    "            os.makedirs(action_output_dir, exist_ok=True)\n",
    "\n",
    "            if not os.path.isdir(action_input_dir): continue\n",
    "\n",
    "            if \"Augmented\" in source_name:\n",
    "                for aug_type_folder in os.listdir(action_input_dir):\n",
    "                    aug_folder_path = os.path.join(action_input_dir, aug_type_folder)\n",
    "                    if not os.path.isdir(aug_folder_path): continue\n",
    "                    \n",
    "                    videos = [v for v in os.listdir(aug_folder_path) if v.endswith('.mp4')]\n",
    "                    desc = f\"{source_name} '{action}/{aug_type_folder}'\"\n",
    "                    \n",
    "                    for video_name in tqdm(videos, desc=desc):\n",
    "                        video_path = os.path.join(aug_folder_path, video_name)\n",
    "                        sequence = process_video_to_sequence(video_path, model)\n",
    "                        \n",
    "                        if sequence and len(sequence) > 0:\n",
    "                            num_features = sequence[0].shape[0]\n",
    "                            if len(sequence) < SEQUENCE_LENGTH:\n",
    "                                padding = np.zeros((SEQUENCE_LENGTH - len(sequence), num_features))\n",
    "                                final_sequence = np.vstack((sequence, padding))\n",
    "                            else:\n",
    "                                final_sequence = np.array(sequence[:SEQUENCE_LENGTH])\n",
    "                            \n",
    "                            base_name = os.path.splitext(video_name)[0]\n",
    "                            \n",
    "                            output_prefix = f\"{prefix}{aug_type_folder}_\"\n",
    "                            output_path = os.path.join(action_output_dir, f\"{output_prefix}{base_name}.npy\")\n",
    "                            np.save(output_path, final_sequence)\n",
    "            else: \n",
    "                videos = [v for v in os.listdir(action_input_dir) if v.endswith('.mp4')]\n",
    "                desc = f\"{source_name} '{action}'\"\n",
    "\n",
    "                for video_name in tqdm(videos, desc=desc):\n",
    "                    video_path = os.path.join(action_input_dir, video_name)\n",
    "                    sequence = process_video_to_sequence(video_path, model)\n",
    "                    \n",
    "                    if sequence and len(sequence) > 0:\n",
    "                        num_features = sequence[0].shape[0]\n",
    "                        if len(sequence) < SEQUENCE_LENGTH:\n",
    "                            padding = np.zeros((SEQUENCE_LENGTH - len(sequence), num_features))\n",
    "                            final_sequence = np.vstack((sequence, padding))\n",
    "                        else:\n",
    "                            final_sequence = np.array(sequence[:SEQUENCE_LENGTH])\n",
    "                        \n",
    "                        base_name = os.path.splitext(video_name)[0]\n",
    "                        output_path = os.path.join(action_output_dir, f\"{prefix}{base_name}.npy\")\n",
    "                        np.save(output_path, final_sequence)\n",
    "\n",
    "\n",
    "    print(f\"\\nAll processing complete. Processed keypoints saved in: {BASE_NPY_DIR}\")\n",
    "\n",
    "if __name__ == '__main__':\n",
    "    main()"
   ]
  },
  {
   "cell_type": "markdown",
   "id": "99002053",
   "metadata": {},
   "source": [
    "#### KEY POINTS WITH MIRRORING (FOR BLOCK)"
   ]
  },
  {
   "cell_type": "code",
   "execution_count": null,
   "id": "20102624",
   "metadata": {},
   "outputs": [
    {
     "name": "stdout",
     "output_type": "stream",
     "text": [
      "Loading YOLO model: yolo11m-pose.pt...\n",
      "Model loaded on cuda.\n",
      "\n",
      "===== Processing Raw Data from 'block_dataset' =====\n"
     ]
    },
    {
     "name": "stderr",
     "output_type": "stream",
     "text": [
      "Raw 'forearm_block': 100%|██████████| 800/800 [06:19<00:00,  2.11it/s]\n",
      "Raw 'high_guard': 100%|██████████| 800/800 [06:26<00:00,  2.07it/s]\n",
      "Raw 'parry': 100%|██████████| 800/800 [06:31<00:00,  2.04it/s]\n"
     ]
    },
    {
     "name": "stdout",
     "output_type": "stream",
     "text": [
      "\n",
      "===== Processing Augmented Data from 'block_augmented_data' =====\n"
     ]
    },
    {
     "name": "stderr",
     "output_type": "stream",
     "text": [
      "Augmented 'forearm_block/brightness_down': 100%|██████████| 800/800 [06:28<00:00,  2.06it/s]\n",
      "Augmented 'forearm_block/brightness_up': 100%|██████████| 800/800 [06:29<00:00,  2.05it/s]\n",
      "Augmented 'forearm_block/noise_5_percent': 100%|██████████| 800/800 [06:50<00:00,  1.95it/s]\n",
      "Augmented 'forearm_block/random_erase': 100%|██████████| 800/800 [06:36<00:00,  2.02it/s]\n",
      "Augmented 'forearm_block/rot_neg15': 100%|██████████| 800/800 [06:33<00:00,  2.03it/s]\n",
      "Augmented 'forearm_block/rot_pos15': 100%|██████████| 800/800 [06:34<00:00,  2.03it/s]\n",
      "Augmented 'forearm_block/scale_120': 100%|██████████| 800/800 [06:39<00:00,  2.00it/s]\n",
      "Augmented 'forearm_block/scale_80': 100%|██████████| 800/800 [06:34<00:00,  2.03it/s]\n",
      "Augmented 'forearm_block/slow_motion_50_percent': 100%|██████████| 800/800 [06:38<00:00,  2.01it/s]\n",
      "Augmented 'high_guard/brightness_down': 100%|██████████| 800/800 [06:35<00:00,  2.02it/s]\n",
      "Augmented 'high_guard/brightness_up': 100%|██████████| 800/800 [06:18<00:00,  2.12it/s]\n",
      "Augmented 'high_guard/noise_5_percent': 100%|██████████| 800/800 [06:32<00:00,  2.04it/s]\n",
      "Augmented 'high_guard/random_erase': 100%|██████████| 800/800 [06:16<00:00,  2.12it/s]\n",
      "Augmented 'high_guard/rot_neg15': 100%|██████████| 800/800 [06:13<00:00,  2.14it/s]\n",
      "Augmented 'high_guard/rot_pos15': 100%|██████████| 800/800 [06:12<00:00,  2.15it/s]\n",
      "Augmented 'high_guard/scale_120': 100%|██████████| 800/800 [06:12<00:00,  2.15it/s]\n",
      "Augmented 'high_guard/scale_80': 100%|██████████| 800/800 [06:08<00:00,  2.17it/s]\n",
      "Augmented 'high_guard/slow_motion_50_percent': 100%|██████████| 800/800 [06:07<00:00,  2.18it/s]\n",
      "Augmented 'parry/brightness_down': 100%|██████████| 800/800 [06:11<00:00,  2.15it/s]\n",
      "Augmented 'parry/brightness_up': 100%|██████████| 800/800 [06:14<00:00,  2.13it/s]\n",
      "Augmented 'parry/noise_5_percent': 100%|██████████| 800/800 [06:29<00:00,  2.05it/s]\n",
      "Augmented 'parry/random_erase': 100%|██████████| 800/800 [06:13<00:00,  2.14it/s]\n",
      "Augmented 'parry/rot_neg15': 100%|██████████| 800/800 [06:14<00:00,  2.13it/s]\n",
      "Augmented 'parry/rot_pos15': 100%|██████████| 800/800 [06:12<00:00,  2.15it/s]\n",
      "Augmented 'parry/scale_120': 100%|██████████| 800/800 [06:11<00:00,  2.16it/s]\n",
      "Augmented 'parry/scale_80': 100%|██████████| 800/800 [06:13<00:00,  2.14it/s]\n",
      "Augmented 'parry/slow_motion_50_percent': 100%|██████████| 800/800 [06:16<00:00,  2.13it/s]\n"
     ]
    },
    {
     "name": "stdout",
     "output_type": "stream",
     "text": [
      "\n",
      "===== Processing Mirrored Raw Data from 'mirrored_block_dataset' =====\n"
     ]
    },
    {
     "name": "stderr",
     "output_type": "stream",
     "text": [
      "Mirrored Raw 'forearm_block': 100%|██████████| 800/800 [06:19<00:00,  2.11it/s]\n",
      "Mirrored Raw 'high_guard': 100%|██████████| 800/800 [06:16<00:00,  2.12it/s]\n",
      "Mirrored Raw 'parry': 100%|██████████| 800/800 [06:24<00:00,  2.08it/s]\n"
     ]
    },
    {
     "name": "stdout",
     "output_type": "stream",
     "text": [
      "\n",
      "===== Processing Mirrored Augmented Data from 'mirrored_block_augmented_data' =====\n"
     ]
    },
    {
     "name": "stderr",
     "output_type": "stream",
     "text": [
      "Mirrored Augmented 'forearm_block/brightness_down': 100%|██████████| 800/800 [06:22<00:00,  2.09it/s]\n",
      "Mirrored Augmented 'forearm_block/brightness_up': 100%|██████████| 800/800 [06:22<00:00,  2.09it/s]\n",
      "Mirrored Augmented 'forearm_block/noise_5_percent': 100%|██████████| 800/800 [06:34<00:00,  2.03it/s]\n",
      "Mirrored Augmented 'forearm_block/random_erase': 100%|██████████| 800/800 [06:21<00:00,  2.10it/s]\n",
      "Mirrored Augmented 'forearm_block/rot_neg15': 100%|██████████| 800/800 [06:20<00:00,  2.10it/s]\n",
      "Mirrored Augmented 'forearm_block/rot_pos15': 100%|██████████| 800/800 [06:19<00:00,  2.11it/s]\n",
      "Mirrored Augmented 'forearm_block/scale_120': 100%|██████████| 800/800 [06:19<00:00,  2.11it/s]\n",
      "Mirrored Augmented 'forearm_block/scale_80': 100%|██████████| 800/800 [06:20<00:00,  2.10it/s]\n",
      "Mirrored Augmented 'forearm_block/slow_motion_50_percent': 100%|██████████| 800/800 [06:21<00:00,  2.10it/s]\n",
      "Mirrored Augmented 'high_guard/brightness_down': 100%|██████████| 800/800 [06:18<00:00,  2.11it/s]\n",
      "Mirrored Augmented 'high_guard/brightness_up': 100%|██████████| 800/800 [06:21<00:00,  2.10it/s]\n",
      "Mirrored Augmented 'high_guard/noise_5_percent': 100%|██████████| 800/800 [06:40<00:00,  2.00it/s]\n",
      "Mirrored Augmented 'high_guard/random_erase': 100%|██████████| 800/800 [06:23<00:00,  2.09it/s]\n",
      "Mirrored Augmented 'high_guard/rot_neg15': 100%|██████████| 800/800 [06:23<00:00,  2.09it/s]\n",
      "Mirrored Augmented 'high_guard/rot_pos15': 100%|██████████| 800/800 [06:23<00:00,  2.09it/s]\n",
      "Mirrored Augmented 'high_guard/scale_120': 100%|██████████| 800/800 [06:25<00:00,  2.07it/s]\n",
      "Mirrored Augmented 'high_guard/scale_80': 100%|██████████| 800/800 [06:28<00:00,  2.06it/s]\n",
      "Mirrored Augmented 'high_guard/slow_motion_50_percent': 100%|██████████| 800/800 [06:24<00:00,  2.08it/s]\n",
      "Mirrored Augmented 'parry/brightness_down': 100%|██████████| 800/800 [06:24<00:00,  2.08it/s]\n",
      "Mirrored Augmented 'parry/brightness_up': 100%|██████████| 800/800 [06:26<00:00,  2.07it/s]\n",
      "Mirrored Augmented 'parry/noise_5_percent': 100%|██████████| 800/800 [06:45<00:00,  1.97it/s]\n",
      "Mirrored Augmented 'parry/random_erase': 100%|██████████| 800/800 [06:28<00:00,  2.06it/s]\n",
      "Mirrored Augmented 'parry/rot_neg15': 100%|██████████| 800/800 [06:28<00:00,  2.06it/s]\n",
      "Mirrored Augmented 'parry/rot_pos15': 100%|██████████| 800/800 [06:30<00:00,  2.05it/s]\n",
      "Mirrored Augmented 'parry/scale_120': 100%|██████████| 800/800 [06:30<00:00,  2.05it/s]\n",
      "Mirrored Augmented 'parry/scale_80': 100%|██████████| 800/800 [06:27<00:00,  2.06it/s]\n",
      "Mirrored Augmented 'parry/slow_motion_50_percent': 100%|██████████| 800/800 [06:29<00:00,  2.06it/s]"
     ]
    },
    {
     "name": "stdout",
     "output_type": "stream",
     "text": [
      "\n",
      "✅ All processing complete. Processed keypoints saved in: block_processed_keypoints\n"
     ]
    },
    {
     "name": "stderr",
     "output_type": "stream",
     "text": [
      "\n"
     ]
    }
   ],
   "source": [
    "import os\n",
    "import cv2\n",
    "import torch\n",
    "import numpy as np\n",
    "from ultralytics import YOLO\n",
    "from tqdm import tqdm\n",
    "\n",
    "RAW_DATA_DIR = \"block_negative/block_dataset\"\n",
    "AUGMENTED_DATA_DIR = \"block_negative/block_augmented_data\"\n",
    "MIRRORED_RAW_DATA_DIR = \"block_negative/mirrored_block_dataset\"\n",
    "MIRRORED_AUGMENTED_DATA_DIR = \"block_negative/mirrored_block_augmented_data\"\n",
    "BASE_NPY_DIR = \"block_negative/processed_keypoints\"\n",
    "MODEL_NAME = \"yolo11m-pose.pt\"\n",
    "ACTIONS_TO_PROCESS = ['forearm_block', 'high_guard', 'parry', 'negative']\n",
    "SEQUENCE_LENGTH = 25\n",
    "KEYPOINT_INDICES = [5, 6, 7, 8, 9, 10, 11, 12]  \n",
    "\n",
    "\n",
    "def normalize_keypoints(keypoints_xy):\n",
    "    left_shoulder = keypoints_xy[0]\n",
    "    right_shoulder = keypoints_xy[1]\n",
    "\n",
    "    if np.all(left_shoulder == 0) or np.all(right_shoulder == 0):\n",
    "        return None\n",
    "\n",
    "    scale_dist = np.linalg.norm(left_shoulder - right_shoulder)\n",
    "    if scale_dist < 1e-4: \n",
    "        return None\n",
    "\n",
    "    center_point = (left_shoulder + right_shoulder) / 2\n",
    "\n",
    "    normalized_kps = (keypoints_xy - center_point) / scale_dist\n",
    "    return normalized_kps.flatten() \n",
    "\n",
    "def process_video_to_sequence(video_path, model):\n",
    "\n",
    "    cap = cv2.VideoCapture(video_path)\n",
    "    if not cap.isOpened():\n",
    "        return None\n",
    "\n",
    "    frame_keypoints_list = []\n",
    "    while cap.isOpened():\n",
    "        ret, frame = cap.read()\n",
    "        if not ret:\n",
    "            break\n",
    "\n",
    "        results = model(frame, verbose=False)\n",
    "\n",
    "        if len(results) > 0 and hasattr(results[0].keypoints, 'xy') and len(results[0].keypoints.xy) > 0:\n",
    "            kps_xy = results[0].keypoints.xy[0].cpu().numpy()\n",
    "            \n",
    "            if kps_xy.shape[0] == 17:\n",
    "                relevant_kps = kps_xy[KEYPOINT_INDICES]\n",
    "                normalized = normalize_keypoints(relevant_kps)\n",
    "                if normalized is not None:\n",
    "                    frame_keypoints_list.append(normalized)\n",
    "    cap.release()\n",
    "    \n",
    "    return frame_keypoints_list\n",
    "\n",
    "def main():\n",
    "    print(f\"Loading YOLO model: {MODEL_NAME}...\")\n",
    "    device = 'cuda' if torch.cuda.is_available() else 'cpu'\n",
    "    model = YOLO(MODEL_NAME).to(device)\n",
    "    print(f\"Model loaded on {device}.\")\n",
    "\n",
    "    all_data_sources = {\n",
    "        \"Raw\": (RAW_DATA_DIR, \"raw_\"),\n",
    "        \"Augmented\": (AUGMENTED_DATA_DIR, \"aug_\"),\n",
    "        \"Mirrored Raw\": (MIRRORED_RAW_DATA_DIR, \"mirrored_raw_\"),\n",
    "        \"Mirrored Augmented\": (MIRRORED_AUGMENTED_DATA_DIR, \"mirrored_aug_\")\n",
    "    }\n",
    "\n",
    "    for source_name, (source_dir, prefix) in all_data_sources.items():\n",
    "        print(f\"\\n===== Processing {source_name} Data from '{source_dir}' =====\")\n",
    "        if not os.path.isdir(source_dir):\n",
    "            print(f\"Directory not found, skipping.\")\n",
    "            continue\n",
    "\n",
    "        for action in ACTIONS_TO_PROCESS:\n",
    "            action_input_dir = os.path.join(source_dir, action)\n",
    "            action_output_dir = os.path.join(BASE_NPY_DIR, action)\n",
    "            os.makedirs(action_output_dir, exist_ok=True)\n",
    "\n",
    "            if not os.path.isdir(action_input_dir): continue\n",
    "\n",
    "            if \"Augmented\" in source_name:\n",
    "                for aug_type_folder in os.listdir(action_input_dir):\n",
    "                    aug_folder_path = os.path.join(action_input_dir, aug_type_folder)\n",
    "                    if not os.path.isdir(aug_folder_path): continue\n",
    "                    \n",
    "                    videos = [v for v in os.listdir(aug_folder_path) if v.endswith('.mp4')]\n",
    "                    desc = f\"{source_name} '{action}/{aug_type_folder}'\"\n",
    "                    \n",
    "                    for video_name in tqdm(videos, desc=desc):\n",
    "                        video_path = os.path.join(aug_folder_path, video_name)\n",
    "                        sequence = process_video_to_sequence(video_path, model)\n",
    "                        \n",
    "                        if sequence and len(sequence) > 0:\n",
    "                            num_features = sequence[0].shape[0]\n",
    "                            if len(sequence) < SEQUENCE_LENGTH:\n",
    "                                padding = np.zeros((SEQUENCE_LENGTH - len(sequence), num_features))\n",
    "                                final_sequence = np.vstack((sequence, padding))\n",
    "                            else:\n",
    "                                final_sequence = np.array(sequence[:SEQUENCE_LENGTH])\n",
    "                            \n",
    "                            base_name = os.path.splitext(video_name)[0]\n",
    "                            \n",
    "                            output_prefix = f\"{prefix}{aug_type_folder}_\"\n",
    "                            output_path = os.path.join(action_output_dir, f\"{output_prefix}{base_name}.npy\")\n",
    "                            np.save(output_path, final_sequence)\n",
    "            else: \n",
    "                videos = [v for v in os.listdir(action_input_dir) if v.endswith('.mp4')]\n",
    "                desc = f\"{source_name} '{action}'\"\n",
    "\n",
    "                for video_name in tqdm(videos, desc=desc):\n",
    "                    video_path = os.path.join(action_input_dir, video_name)\n",
    "                    sequence = process_video_to_sequence(video_path, model)\n",
    "                    \n",
    "                    if sequence and len(sequence) > 0:\n",
    "                        num_features = sequence[0].shape[0]\n",
    "                        if len(sequence) < SEQUENCE_LENGTH:\n",
    "                            padding = np.zeros((SEQUENCE_LENGTH - len(sequence), num_features))\n",
    "                            final_sequence = np.vstack((sequence, padding))\n",
    "                        else:\n",
    "                            final_sequence = np.array(sequence[:SEQUENCE_LENGTH])\n",
    "                        \n",
    "                        base_name = os.path.splitext(video_name)[0]\n",
    "                        output_path = os.path.join(action_output_dir, f\"{prefix}{base_name}.npy\")\n",
    "                        np.save(output_path, final_sequence)\n",
    "\n",
    "\n",
    "    print(f\"\\nAll processing complete. Processed keypoints saved in: {BASE_NPY_DIR}\")\n",
    "\n",
    "if __name__ == '__main__':\n",
    "    main()"
   ]
  },
  {
   "cell_type": "markdown",
   "id": "7f1736ed",
   "metadata": {},
   "source": [
    "#### Model Training"
   ]
  },
  {
   "cell_type": "markdown",
   "id": "896b1027",
   "metadata": {},
   "source": [
    "#### WITH MIRRORING FOR PUNCH"
   ]
  },
  {
   "cell_type": "code",
   "execution_count": null,
   "id": "f4fc381e",
   "metadata": {},
   "outputs": [
    {
     "name": "stdout",
     "output_type": "stream",
     "text": [
      "Using device: cuda\n",
      "Data loaded: 51200 training samples, 12800 validation samples.\n"
     ]
    },
    {
     "name": "stderr",
     "output_type": "stream",
     "text": [
      "Epoch 1/50 [Train]: 100%|██████████| 1600/1600 [00:39<00:00, 40.08it/s, loss=0.2887]\n"
     ]
    },
    {
     "name": "stdout",
     "output_type": "stream",
     "text": [
      "Epoch 1/50 | Validation Accuracy: 0.9641\n",
      "New best model saved with accuracy: 0.9641\n"
     ]
    },
    {
     "name": "stderr",
     "output_type": "stream",
     "text": [
      "Epoch 2/50 [Train]: 100%|██████████| 1600/1600 [00:26<00:00, 59.86it/s, loss=0.0852]\n"
     ]
    },
    {
     "name": "stdout",
     "output_type": "stream",
     "text": [
      "Epoch 2/50 | Validation Accuracy: 0.9666\n",
      "New best model saved with accuracy: 0.9666\n"
     ]
    },
    {
     "name": "stderr",
     "output_type": "stream",
     "text": [
      "Epoch 3/50 [Train]: 100%|██████████| 1600/1600 [00:23<00:00, 67.75it/s, loss=0.0619]\n"
     ]
    },
    {
     "name": "stdout",
     "output_type": "stream",
     "text": [
      "Epoch 3/50 | Validation Accuracy: 0.9787\n",
      "New best model saved with accuracy: 0.9787\n"
     ]
    },
    {
     "name": "stderr",
     "output_type": "stream",
     "text": [
      "Epoch 4/50 [Train]: 100%|██████████| 1600/1600 [00:23<00:00, 68.16it/s, loss=0.0497]\n"
     ]
    },
    {
     "name": "stdout",
     "output_type": "stream",
     "text": [
      "Epoch 4/50 | Validation Accuracy: 0.9847\n",
      "New best model saved with accuracy: 0.9847\n"
     ]
    },
    {
     "name": "stderr",
     "output_type": "stream",
     "text": [
      "Epoch 5/50 [Train]: 100%|██████████| 1600/1600 [00:24<00:00, 64.80it/s, loss=0.0401]\n"
     ]
    },
    {
     "name": "stdout",
     "output_type": "stream",
     "text": [
      "Epoch 5/50 | Validation Accuracy: 0.9861\n",
      "New best model saved with accuracy: 0.9861\n"
     ]
    },
    {
     "name": "stderr",
     "output_type": "stream",
     "text": [
      "Epoch 6/50 [Train]: 100%|██████████| 1600/1600 [00:25<00:00, 61.73it/s, loss=0.0332]\n"
     ]
    },
    {
     "name": "stdout",
     "output_type": "stream",
     "text": [
      "Epoch 6/50 | Validation Accuracy: 0.9830\n"
     ]
    },
    {
     "name": "stderr",
     "output_type": "stream",
     "text": [
      "Epoch 7/50 [Train]: 100%|██████████| 1600/1600 [00:38<00:00, 41.78it/s, loss=0.0306]\n"
     ]
    },
    {
     "name": "stdout",
     "output_type": "stream",
     "text": [
      "Epoch 7/50 | Validation Accuracy: 0.9898\n",
      "New best model saved with accuracy: 0.9898\n"
     ]
    },
    {
     "name": "stderr",
     "output_type": "stream",
     "text": [
      "Epoch 8/50 [Train]: 100%|██████████| 1600/1600 [00:30<00:00, 53.27it/s, loss=0.0261]\n"
     ]
    },
    {
     "name": "stdout",
     "output_type": "stream",
     "text": [
      "Epoch 8/50 | Validation Accuracy: 0.9880\n"
     ]
    },
    {
     "name": "stderr",
     "output_type": "stream",
     "text": [
      "Epoch 9/50 [Train]: 100%|██████████| 1600/1600 [00:27<00:00, 57.23it/s, loss=0.0265]\n"
     ]
    },
    {
     "name": "stdout",
     "output_type": "stream",
     "text": [
      "Epoch 9/50 | Validation Accuracy: 0.9924\n",
      "New best model saved with accuracy: 0.9924\n"
     ]
    },
    {
     "name": "stderr",
     "output_type": "stream",
     "text": [
      "Epoch 10/50 [Train]: 100%|██████████| 1600/1600 [00:27<00:00, 58.94it/s, loss=0.0215]\n"
     ]
    },
    {
     "name": "stdout",
     "output_type": "stream",
     "text": [
      "Epoch 10/50 | Validation Accuracy: 0.9922\n"
     ]
    },
    {
     "name": "stderr",
     "output_type": "stream",
     "text": [
      "Epoch 11/50 [Train]: 100%|██████████| 1600/1600 [00:29<00:00, 54.60it/s, loss=0.0217]\n"
     ]
    },
    {
     "name": "stdout",
     "output_type": "stream",
     "text": [
      "Epoch 11/50 | Validation Accuracy: 0.9891\n"
     ]
    },
    {
     "name": "stderr",
     "output_type": "stream",
     "text": [
      "Epoch 12/50 [Train]: 100%|██████████| 1600/1600 [00:26<00:00, 60.50it/s, loss=0.0190]\n"
     ]
    },
    {
     "name": "stdout",
     "output_type": "stream",
     "text": [
      "Epoch 12/50 | Validation Accuracy: 0.9923\n"
     ]
    },
    {
     "name": "stderr",
     "output_type": "stream",
     "text": [
      "Epoch 13/50 [Train]: 100%|██████████| 1600/1600 [00:27<00:00, 58.92it/s, loss=0.0193]\n"
     ]
    },
    {
     "name": "stdout",
     "output_type": "stream",
     "text": [
      "Epoch 13/50 | Validation Accuracy: 0.9923\n"
     ]
    },
    {
     "name": "stderr",
     "output_type": "stream",
     "text": [
      "Epoch 14/50 [Train]: 100%|██████████| 1600/1600 [00:29<00:00, 54.54it/s, loss=0.0161]\n"
     ]
    },
    {
     "name": "stdout",
     "output_type": "stream",
     "text": [
      "Epoch 14/50 | Validation Accuracy: 0.9941\n",
      "New best model saved with accuracy: 0.9941\n"
     ]
    },
    {
     "name": "stderr",
     "output_type": "stream",
     "text": [
      "Epoch 15/50 [Train]: 100%|██████████| 1600/1600 [00:29<00:00, 54.92it/s, loss=0.0164]\n"
     ]
    },
    {
     "name": "stdout",
     "output_type": "stream",
     "text": [
      "Epoch 15/50 | Validation Accuracy: 0.9945\n",
      "New best model saved with accuracy: 0.9945\n"
     ]
    },
    {
     "name": "stderr",
     "output_type": "stream",
     "text": [
      "Epoch 16/50 [Train]: 100%|██████████| 1600/1600 [00:27<00:00, 58.61it/s, loss=0.0165]\n"
     ]
    },
    {
     "name": "stdout",
     "output_type": "stream",
     "text": [
      "Epoch 16/50 | Validation Accuracy: 0.9962\n",
      "New best model saved with accuracy: 0.9962\n"
     ]
    },
    {
     "name": "stderr",
     "output_type": "stream",
     "text": [
      "Epoch 17/50 [Train]: 100%|██████████| 1600/1600 [00:24<00:00, 66.20it/s, loss=0.0149]\n"
     ]
    },
    {
     "name": "stdout",
     "output_type": "stream",
     "text": [
      "Epoch 17/50 | Validation Accuracy: 0.9947\n"
     ]
    },
    {
     "name": "stderr",
     "output_type": "stream",
     "text": [
      "Epoch 18/50 [Train]: 100%|██████████| 1600/1600 [00:25<00:00, 61.71it/s, loss=0.0149]\n"
     ]
    },
    {
     "name": "stdout",
     "output_type": "stream",
     "text": [
      "Epoch 18/50 | Validation Accuracy: 0.9924\n"
     ]
    },
    {
     "name": "stderr",
     "output_type": "stream",
     "text": [
      "Epoch 19/50 [Train]: 100%|██████████| 1600/1600 [00:30<00:00, 52.76it/s, loss=0.0132]\n"
     ]
    },
    {
     "name": "stdout",
     "output_type": "stream",
     "text": [
      "Epoch 19/50 | Validation Accuracy: 0.9953\n"
     ]
    },
    {
     "name": "stderr",
     "output_type": "stream",
     "text": [
      "Epoch 20/50 [Train]: 100%|██████████| 1600/1600 [00:30<00:00, 53.21it/s, loss=0.0133]\n"
     ]
    },
    {
     "name": "stdout",
     "output_type": "stream",
     "text": [
      "Epoch 20/50 | Validation Accuracy: 0.9961\n"
     ]
    },
    {
     "name": "stderr",
     "output_type": "stream",
     "text": [
      "Epoch 21/50 [Train]: 100%|██████████| 1600/1600 [00:26<00:00, 59.32it/s, loss=0.0108]\n"
     ]
    },
    {
     "name": "stdout",
     "output_type": "stream",
     "text": [
      "Epoch 21/50 | Validation Accuracy: 0.9962\n"
     ]
    },
    {
     "name": "stderr",
     "output_type": "stream",
     "text": [
      "Epoch 22/50 [Train]: 100%|██████████| 1600/1600 [00:27<00:00, 59.16it/s, loss=0.0142]\n"
     ]
    },
    {
     "name": "stdout",
     "output_type": "stream",
     "text": [
      "Epoch 22/50 | Validation Accuracy: 0.9961\n"
     ]
    },
    {
     "name": "stderr",
     "output_type": "stream",
     "text": [
      "Epoch 23/50 [Train]: 100%|██████████| 1600/1600 [00:27<00:00, 58.87it/s, loss=0.0117]\n"
     ]
    },
    {
     "name": "stdout",
     "output_type": "stream",
     "text": [
      "Epoch 23/50 | Validation Accuracy: 0.9940\n"
     ]
    },
    {
     "name": "stderr",
     "output_type": "stream",
     "text": [
      "Epoch 24/50 [Train]: 100%|██████████| 1600/1600 [00:27<00:00, 57.28it/s, loss=0.0126]\n"
     ]
    },
    {
     "name": "stdout",
     "output_type": "stream",
     "text": [
      "Epoch 24/50 | Validation Accuracy: 0.9955\n"
     ]
    },
    {
     "name": "stderr",
     "output_type": "stream",
     "text": [
      "Epoch 25/50 [Train]: 100%|██████████| 1600/1600 [00:26<00:00, 59.27it/s, loss=0.0115]\n"
     ]
    },
    {
     "name": "stdout",
     "output_type": "stream",
     "text": [
      "Epoch 25/50 | Validation Accuracy: 0.9959\n"
     ]
    },
    {
     "name": "stderr",
     "output_type": "stream",
     "text": [
      "Epoch 26/50 [Train]: 100%|██████████| 1600/1600 [00:26<00:00, 59.46it/s, loss=0.0136]\n"
     ]
    },
    {
     "name": "stdout",
     "output_type": "stream",
     "text": [
      "Epoch 26/50 | Validation Accuracy: 0.9956\n"
     ]
    },
    {
     "name": "stderr",
     "output_type": "stream",
     "text": [
      "Epoch 27/50 [Train]: 100%|██████████| 1600/1600 [00:26<00:00, 59.28it/s, loss=0.0110]\n"
     ]
    },
    {
     "name": "stdout",
     "output_type": "stream",
     "text": [
      "Epoch 27/50 | Validation Accuracy: 0.9941\n"
     ]
    },
    {
     "name": "stderr",
     "output_type": "stream",
     "text": [
      "Epoch 28/50 [Train]: 100%|██████████| 1600/1600 [00:27<00:00, 59.21it/s, loss=0.0103]\n"
     ]
    },
    {
     "name": "stdout",
     "output_type": "stream",
     "text": [
      "Epoch 28/50 | Validation Accuracy: 0.9954\n"
     ]
    },
    {
     "name": "stderr",
     "output_type": "stream",
     "text": [
      "Epoch 29/50 [Train]: 100%|██████████| 1600/1600 [00:27<00:00, 58.99it/s, loss=0.0120]\n"
     ]
    },
    {
     "name": "stdout",
     "output_type": "stream",
     "text": [
      "Epoch 29/50 | Validation Accuracy: 0.9945\n"
     ]
    },
    {
     "name": "stderr",
     "output_type": "stream",
     "text": [
      "Epoch 30/50 [Train]: 100%|██████████| 1600/1600 [00:26<00:00, 59.52it/s, loss=0.0113]\n"
     ]
    },
    {
     "name": "stdout",
     "output_type": "stream",
     "text": [
      "Epoch 30/50 | Validation Accuracy: 0.9938\n"
     ]
    },
    {
     "name": "stderr",
     "output_type": "stream",
     "text": [
      "Epoch 31/50 [Train]: 100%|██████████| 1600/1600 [00:28<00:00, 56.69it/s, loss=0.0102]\n"
     ]
    },
    {
     "name": "stdout",
     "output_type": "stream",
     "text": [
      "Epoch 31/50 | Validation Accuracy: 0.9927\n"
     ]
    },
    {
     "name": "stderr",
     "output_type": "stream",
     "text": [
      "Epoch 32/50 [Train]: 100%|██████████| 1600/1600 [00:26<00:00, 59.64it/s, loss=0.0099]\n"
     ]
    },
    {
     "name": "stdout",
     "output_type": "stream",
     "text": [
      "Epoch 32/50 | Validation Accuracy: 0.9955\n"
     ]
    },
    {
     "name": "stderr",
     "output_type": "stream",
     "text": [
      "Epoch 33/50 [Train]: 100%|██████████| 1600/1600 [00:26<00:00, 59.42it/s, loss=0.0123]\n"
     ]
    },
    {
     "name": "stdout",
     "output_type": "stream",
     "text": [
      "Epoch 33/50 | Validation Accuracy: 0.9943\n"
     ]
    },
    {
     "name": "stderr",
     "output_type": "stream",
     "text": [
      "Epoch 34/50 [Train]: 100%|██████████| 1600/1600 [00:27<00:00, 59.09it/s, loss=0.0118]\n"
     ]
    },
    {
     "name": "stdout",
     "output_type": "stream",
     "text": [
      "Epoch 34/50 | Validation Accuracy: 0.9955\n"
     ]
    },
    {
     "name": "stderr",
     "output_type": "stream",
     "text": [
      "Epoch 35/50 [Train]: 100%|██████████| 1600/1600 [00:26<00:00, 59.41it/s, loss=0.0086]\n"
     ]
    },
    {
     "name": "stdout",
     "output_type": "stream",
     "text": [
      "Epoch 35/50 | Validation Accuracy: 0.9962\n"
     ]
    },
    {
     "name": "stderr",
     "output_type": "stream",
     "text": [
      "Epoch 36/50 [Train]: 100%|██████████| 1600/1600 [00:26<00:00, 59.36it/s, loss=0.0112]\n"
     ]
    },
    {
     "name": "stdout",
     "output_type": "stream",
     "text": [
      "Epoch 36/50 | Validation Accuracy: 0.9948\n"
     ]
    },
    {
     "name": "stderr",
     "output_type": "stream",
     "text": [
      "Epoch 37/50 [Train]: 100%|██████████| 1600/1600 [00:27<00:00, 58.94it/s, loss=0.0103]\n"
     ]
    },
    {
     "name": "stdout",
     "output_type": "stream",
     "text": [
      "Epoch 37/50 | Validation Accuracy: 0.9959\n"
     ]
    },
    {
     "name": "stderr",
     "output_type": "stream",
     "text": [
      "Epoch 38/50 [Train]: 100%|██████████| 1600/1600 [00:26<00:00, 59.38it/s, loss=0.0083]\n"
     ]
    },
    {
     "name": "stdout",
     "output_type": "stream",
     "text": [
      "Epoch 38/50 | Validation Accuracy: 0.9962\n"
     ]
    },
    {
     "name": "stderr",
     "output_type": "stream",
     "text": [
      "Epoch 39/50 [Train]: 100%|██████████| 1600/1600 [00:27<00:00, 59.17it/s, loss=0.0109]\n"
     ]
    },
    {
     "name": "stdout",
     "output_type": "stream",
     "text": [
      "Epoch 39/50 | Validation Accuracy: 0.9916\n"
     ]
    },
    {
     "name": "stderr",
     "output_type": "stream",
     "text": [
      "Epoch 40/50 [Train]: 100%|██████████| 1600/1600 [00:28<00:00, 55.22it/s, loss=0.0103]\n"
     ]
    },
    {
     "name": "stdout",
     "output_type": "stream",
     "text": [
      "Epoch 40/50 | Validation Accuracy: 0.9972\n",
      "New best model saved with accuracy: 0.9972\n"
     ]
    },
    {
     "name": "stderr",
     "output_type": "stream",
     "text": [
      "Epoch 41/50 [Train]: 100%|██████████| 1600/1600 [00:23<00:00, 68.23it/s, loss=0.0112]\n"
     ]
    },
    {
     "name": "stdout",
     "output_type": "stream",
     "text": [
      "Epoch 41/50 | Validation Accuracy: 0.9974\n",
      "New best model saved with accuracy: 0.9974\n"
     ]
    },
    {
     "name": "stderr",
     "output_type": "stream",
     "text": [
      "Epoch 42/50 [Train]: 100%|██████████| 1600/1600 [00:23<00:00, 69.26it/s, loss=0.0063]\n"
     ]
    },
    {
     "name": "stdout",
     "output_type": "stream",
     "text": [
      "Epoch 42/50 | Validation Accuracy: 0.9969\n"
     ]
    },
    {
     "name": "stderr",
     "output_type": "stream",
     "text": [
      "Epoch 43/50 [Train]: 100%|██████████| 1600/1600 [00:24<00:00, 66.01it/s, loss=0.0108]\n"
     ]
    },
    {
     "name": "stdout",
     "output_type": "stream",
     "text": [
      "Epoch 43/50 | Validation Accuracy: 0.9972\n"
     ]
    },
    {
     "name": "stderr",
     "output_type": "stream",
     "text": [
      "Epoch 44/50 [Train]: 100%|██████████| 1600/1600 [00:23<00:00, 68.66it/s, loss=0.0090]\n"
     ]
    },
    {
     "name": "stdout",
     "output_type": "stream",
     "text": [
      "Epoch 44/50 | Validation Accuracy: 0.9936\n"
     ]
    },
    {
     "name": "stderr",
     "output_type": "stream",
     "text": [
      "Epoch 45/50 [Train]: 100%|██████████| 1600/1600 [00:25<00:00, 62.84it/s, loss=0.0116]\n"
     ]
    },
    {
     "name": "stdout",
     "output_type": "stream",
     "text": [
      "Epoch 45/50 | Validation Accuracy: 0.9968\n"
     ]
    },
    {
     "name": "stderr",
     "output_type": "stream",
     "text": [
      "Epoch 46/50 [Train]: 100%|██████████| 1600/1600 [00:26<00:00, 59.54it/s, loss=0.0083]\n"
     ]
    },
    {
     "name": "stdout",
     "output_type": "stream",
     "text": [
      "Epoch 46/50 | Validation Accuracy: 0.9971\n"
     ]
    },
    {
     "name": "stderr",
     "output_type": "stream",
     "text": [
      "Epoch 47/50 [Train]: 100%|██████████| 1600/1600 [00:25<00:00, 63.79it/s, loss=0.0092]\n"
     ]
    },
    {
     "name": "stdout",
     "output_type": "stream",
     "text": [
      "Epoch 47/50 | Validation Accuracy: 0.9966\n"
     ]
    },
    {
     "name": "stderr",
     "output_type": "stream",
     "text": [
      "Epoch 48/50 [Train]: 100%|██████████| 1600/1600 [00:29<00:00, 54.70it/s, loss=0.0107]\n"
     ]
    },
    {
     "name": "stdout",
     "output_type": "stream",
     "text": [
      "Epoch 48/50 | Validation Accuracy: 0.9962\n"
     ]
    },
    {
     "name": "stderr",
     "output_type": "stream",
     "text": [
      "Epoch 49/50 [Train]: 100%|██████████| 1600/1600 [00:29<00:00, 55.04it/s, loss=0.0104]\n"
     ]
    },
    {
     "name": "stdout",
     "output_type": "stream",
     "text": [
      "Epoch 49/50 | Validation Accuracy: 0.9953\n"
     ]
    },
    {
     "name": "stderr",
     "output_type": "stream",
     "text": [
      "Epoch 50/50 [Train]: 100%|██████████| 1600/1600 [00:27<00:00, 59.12it/s, loss=0.0080]\n"
     ]
    },
    {
     "name": "stdout",
     "output_type": "stream",
     "text": [
      "Epoch 50/50 | Validation Accuracy: 0.9959\n",
      "\n",
      "✅ Training complete! Best model saved as 'punch_classifier.pth'\n",
      "\n",
      "===== Final Performance Report (from best epoch) =====\n",
      "              precision    recall  f1-score   support\n",
      "\n",
      "         jab       1.00      1.00      1.00      3200\n",
      "       cross       1.00      1.00      1.00      3200\n",
      "        hook       1.00      1.00      1.00      3200\n",
      "    uppercut       1.00      1.00      1.00      3200\n",
      "\n",
      "    accuracy                           1.00     12800\n",
      "   macro avg       1.00      1.00      1.00     12800\n",
      "weighted avg       1.00      1.00      1.00     12800\n",
      "\n",
      "\n",
      "===== Confusion Matrix =====\n"
     ]
    },
    {
     "data": {
      "image/png": "[encoded data removed]",
      "text/plain": [
       "<Figure size 1000x700 with 2 Axes>"
      ]
     },
     "metadata": {},
     "output_type": "display_data"
    }
   ],
   "source": [
    "import os\n",
    "import torch\n",
    "import torch.nn as nn\n",
    "import torch.optim as optim\n",
    "from torch.utils.data import Dataset, DataLoader\n",
    "import numpy as np\n",
    "from sklearn.model_selection import train_test_split\n",
    "from sklearn.metrics import accuracy_score, classification_report, confusion_matrix\n",
    "from tqdm import tqdm\n",
    "import pandas as pd\n",
    "import seaborn as sns\n",
    "import matplotlib.pyplot as plt\n",
    "\n",
    "\n",
    "DATA_DIR = \"punch/processed_keypoints\"\n",
    "ACTIONS = ['jab', 'cross', 'hook', 'uppercut']\n",
    "\n",
    "EPOCHS = 50\n",
    "BATCH_SIZE = 32\n",
    "LEARNING_RATE = 0.001\n",
    "SEQUENCE_LENGTH = 25\n",
    "WEIGHT_DECAY = 1e-4\n",
    "\n",
    "class PoseDataset(Dataset):\n",
    "    def __init__(self, data_dir, actions):\n",
    "        self.data_dir = data_dir\n",
    "        self.actions = actions\n",
    "        self.data = []\n",
    "        self.labels = []\n",
    "\n",
    "        for action_idx, action in enumerate(actions):\n",
    "            action_path = os.path.join(data_dir, action)\n",
    "            if not os.path.isdir(action_path): continue\n",
    "\n",
    "            for filename in os.listdir(action_path):\n",
    "                if filename.endswith('.npy'):\n",
    "                    self.data.append(os.path.join(action_path, filename))\n",
    "                    self.labels.append(action_idx)\n",
    "\n",
    "    def __len__(self):\n",
    "        return len(self.data)\n",
    "\n",
    "    def __getitem__(self, idx):\n",
    "        path = self.data[idx]\n",
    "        sequence = np.load(path).astype(np.float32)\n",
    "        label = self.labels[idx]\n",
    "        return torch.tensor(sequence, dtype=torch.float32), torch.tensor(label, dtype=torch.long)\n",
    "\n",
    "class PunchClassifierLSTM(nn.Module):\n",
    "    def __init__(self, input_size, hidden_size, num_layers, num_classes):\n",
    "        super(PunchClassifierLSTM, self).__init__()\n",
    "        self.hidden_size = hidden_size\n",
    "        self.num_layers = num_layers\n",
    "        self.lstm = nn.LSTM(input_size, hidden_size, num_layers, batch_first=True, dropout=0.5)\n",
    "        self.fc = nn.Linear(hidden_size, num_classes)\n",
    "\n",
    "    def forward(self, x):\n",
    "        h0 = torch.zeros(self.num_layers, x.size(0), self.hidden_size).to(x.device)\n",
    "        c0 = torch.zeros(self.num_layers, x.size(0), self.hidden_size).to(x.device)\n",
    "        out, _ = self.lstm(x, (h0, c0))\n",
    "        out = self.fc(out[:, -1, :])\n",
    "        return out\n",
    "\n",
    "if __name__ == '__main__':\n",
    "    device = 'cuda' if torch.cuda.is_available() else 'cpu'\n",
    "    print(f\"Using device: {device}\")\n",
    "\n",
    "    dataset = PoseDataset(DATA_DIR, ACTIONS)\n",
    "    train_indices, val_indices = train_test_split(\n",
    "        list(range(len(dataset))),\n",
    "        test_size=0.2,\n",
    "        random_state=42,\n",
    "        stratify=dataset.labels\n",
    "    )\n",
    "    \n",
    "    train_sampler = torch.utils.data.SubsetRandomSampler(train_indices)\n",
    "    val_sampler = torch.utils.data.SubsetRandomSampler(val_indices)\n",
    "\n",
    "    train_loader = DataLoader(dataset, batch_size=BATCH_SIZE, sampler=train_sampler)\n",
    "    val_loader = DataLoader(dataset, batch_size=BATCH_SIZE, sampler=val_sampler)\n",
    "    \n",
    "    print(f\"Data loaded: {len(train_indices)} training samples, {len(val_indices)} validation samples.\")\n",
    "\n",
    "    sample_seq, _ = dataset[0]\n",
    "    input_size = sample_seq.shape[1]\n",
    "\n",
    "    model = PunchClassifierLSTM(\n",
    "        input_size=input_size, \n",
    "        hidden_size=128, \n",
    "        num_layers=2, \n",
    "        num_classes=len(ACTIONS)\n",
    "    ).to(device)\n",
    "    \n",
    "    criterion = nn.CrossEntropyLoss()\n",
    "    optimizer = optim.Adam(model.parameters(), lr=LEARNING_RATE, weight_decay=WEIGHT_DECAY)\n",
    "\n",
    "    best_val_accuracy = 0.0\n",
    "    final_val_preds, final_val_labels = [], []\n",
    "\n",
    "    for epoch in range(EPOCHS):\n",
    "        model.train()\n",
    "        running_loss = 0.0\n",
    "        \n",
    "        train_pbar = tqdm(train_loader, desc=f\"Epoch {epoch+1}/{EPOCHS} [Train]\")\n",
    "        for inputs, labels in train_pbar:\n",
    "            inputs, labels = inputs.to(device), labels.to(device)\n",
    "            \n",
    "            optimizer.zero_grad()\n",
    "            outputs = model(inputs)\n",
    "            loss = criterion(outputs, labels)\n",
    "            loss.backward()\n",
    "            optimizer.step()\n",
    "            \n",
    "            running_loss += loss.item()\n",
    "            train_pbar.set_postfix({'loss': f'{running_loss / len(train_loader):.4f}'})\n",
    "        \n",
    "        model.eval()\n",
    "        epoch_val_preds, epoch_val_labels = [], []\n",
    "        with torch.no_grad():\n",
    "            for inputs, labels in val_loader:\n",
    "                inputs, labels = inputs.to(device), labels.to(device)\n",
    "                outputs = model(inputs)\n",
    "                _, predicted = torch.max(outputs.data, 1)\n",
    "                epoch_val_preds.extend(predicted.cpu().numpy())\n",
    "                epoch_val_labels.extend(labels.cpu().numpy())\n",
    "\n",
    "        val_accuracy = accuracy_score(epoch_val_labels, epoch_val_preds)\n",
    "        print(f\"Epoch {epoch+1}/{EPOCHS} | Validation Accuracy: {val_accuracy:.4f}\")\n",
    "\n",
    "        if val_accuracy > best_val_accuracy:\n",
    "            best_val_accuracy = val_accuracy\n",
    "            final_val_preds = epoch_val_preds\n",
    "            final_val_labels = epoch_val_labels\n",
    "            torch.save(model.state_dict(), 'punch_classifier.pth')\n",
    "            print(f\"New best model saved with accuracy: {best_val_accuracy:.4f}\")\n",
    "\n",
    "    print(\"\\nTraining complete! Best model saved as 'punch_classifier.pth'\")\n",
    "\n",
    "    print(\"\\n===== Final Performance Report (from best epoch) =====\")\n",
    "    report = classification_report(final_val_labels, final_val_preds, target_names=ACTIONS)\n",
    "    print(report)\n",
    "\n",
    "    print(\"\\n===== Confusion Matrix =====\")\n",
    "    cm = confusion_matrix(final_val_labels, final_val_preds)\n",
    "    cm_df = pd.DataFrame(cm, index=ACTIONS, columns=ACTIONS)\n",
    "    plt.figure(figsize=(10, 7))\n",
    "    sns.heatmap(cm_df, annot=True, fmt='g', cmap='Blues')\n",
    "    plt.title('Confusion Matrix')\n",
    "    plt.ylabel('Actual Label')\n",
    "    plt.xlabel('Predicted Label')\n",
    "    plt.show()"
   ]
  },
  {
   "cell_type": "markdown",
   "id": "1f2039c8",
   "metadata": {},
   "source": [
    "#### WITH MIRRORING FOR BLOCK"
   ]
  },
  {
   "cell_type": "code",
   "execution_count": null,
   "id": "35ea25c8",
   "metadata": {},
   "outputs": [
    {
     "name": "stdout",
     "output_type": "stream",
     "text": [
      "Using device: cuda\n",
      "Data loaded: 51200 training samples, 12800 validation samples.\n"
     ]
    },
    {
     "name": "stderr",
     "output_type": "stream",
     "text": [
      "Epoch 1/50 [Train]: 100%|██████████| 1600/1600 [00:37<00:00, 43.06it/s, loss=0.3545]\n"
     ]
    },
    {
     "name": "stdout",
     "output_type": "stream",
     "text": [
      "Epoch 1/50 | Validation Accuracy: 0.9440\n",
      "New best model saved with accuracy: 0.9440\n"
     ]
    },
    {
     "name": "stderr",
     "output_type": "stream",
     "text": [
      "Epoch 2/50 [Train]: 100%|██████████| 1600/1600 [00:28<00:00, 55.91it/s, loss=0.1238]\n"
     ]
    },
    {
     "name": "stdout",
     "output_type": "stream",
     "text": [
      "Epoch 2/50 | Validation Accuracy: 0.9669\n",
      "New best model saved with accuracy: 0.9669\n"
     ]
    },
    {
     "name": "stderr",
     "output_type": "stream",
     "text": [
      "Epoch 3/50 [Train]: 100%|██████████| 1600/1600 [00:28<00:00, 56.25it/s, loss=0.0779]\n"
     ]
    },
    {
     "name": "stdout",
     "output_type": "stream",
     "text": [
      "Epoch 3/50 | Validation Accuracy: 0.9795\n",
      "New best model saved with accuracy: 0.9795\n"
     ]
    },
    {
     "name": "stderr",
     "output_type": "stream",
     "text": [
      "Epoch 4/50 [Train]: 100%|██████████| 1600/1600 [00:28<00:00, 56.55it/s, loss=0.0646]\n"
     ]
    },
    {
     "name": "stdout",
     "output_type": "stream",
     "text": [
      "Epoch 4/50 | Validation Accuracy: 0.9834\n",
      "New best model saved with accuracy: 0.9834\n"
     ]
    },
    {
     "name": "stderr",
     "output_type": "stream",
     "text": [
      "Epoch 5/50 [Train]: 100%|██████████| 1600/1600 [00:28<00:00, 56.26it/s, loss=0.0499]\n"
     ]
    },
    {
     "name": "stdout",
     "output_type": "stream",
     "text": [
      "Epoch 5/50 | Validation Accuracy: 0.9816\n"
     ]
    },
    {
     "name": "stderr",
     "output_type": "stream",
     "text": [
      "Epoch 6/50 [Train]: 100%|██████████| 1600/1600 [00:28<00:00, 56.51it/s, loss=0.0462]\n"
     ]
    },
    {
     "name": "stdout",
     "output_type": "stream",
     "text": [
      "Epoch 6/50 | Validation Accuracy: 0.9888\n",
      "New best model saved with accuracy: 0.9888\n"
     ]
    },
    {
     "name": "stderr",
     "output_type": "stream",
     "text": [
      "Epoch 7/50 [Train]: 100%|██████████| 1600/1600 [00:28<00:00, 56.29it/s, loss=0.0358]\n"
     ]
    },
    {
     "name": "stdout",
     "output_type": "stream",
     "text": [
      "Epoch 7/50 | Validation Accuracy: 0.9886\n"
     ]
    },
    {
     "name": "stderr",
     "output_type": "stream",
     "text": [
      "Epoch 8/50 [Train]: 100%|██████████| 1600/1600 [00:28<00:00, 56.40it/s, loss=0.0366]\n"
     ]
    },
    {
     "name": "stdout",
     "output_type": "stream",
     "text": [
      "Epoch 8/50 | Validation Accuracy: 0.9872\n"
     ]
    },
    {
     "name": "stderr",
     "output_type": "stream",
     "text": [
      "Epoch 9/50 [Train]: 100%|██████████| 1600/1600 [00:28<00:00, 56.61it/s, loss=0.0304]\n"
     ]
    },
    {
     "name": "stdout",
     "output_type": "stream",
     "text": [
      "Epoch 9/50 | Validation Accuracy: 0.9895\n",
      "New best model saved with accuracy: 0.9895\n"
     ]
    },
    {
     "name": "stderr",
     "output_type": "stream",
     "text": [
      "Epoch 10/50 [Train]: 100%|██████████| 1600/1600 [00:28<00:00, 56.35it/s, loss=0.0288]\n"
     ]
    },
    {
     "name": "stdout",
     "output_type": "stream",
     "text": [
      "Epoch 10/50 | Validation Accuracy: 0.9916\n",
      "New best model saved with accuracy: 0.9916\n"
     ]
    },
    {
     "name": "stderr",
     "output_type": "stream",
     "text": [
      "Epoch 11/50 [Train]: 100%|██████████| 1600/1600 [00:28<00:00, 56.94it/s, loss=0.0269]\n"
     ]
    },
    {
     "name": "stdout",
     "output_type": "stream",
     "text": [
      "Epoch 11/50 | Validation Accuracy: 0.9903\n"
     ]
    },
    {
     "name": "stderr",
     "output_type": "stream",
     "text": [
      "Epoch 12/50 [Train]: 100%|██████████| 1600/1600 [00:28<00:00, 56.13it/s, loss=0.0251]\n"
     ]
    },
    {
     "name": "stdout",
     "output_type": "stream",
     "text": [
      "Epoch 12/50 | Validation Accuracy: 0.9923\n",
      "New best model saved with accuracy: 0.9923\n"
     ]
    },
    {
     "name": "stderr",
     "output_type": "stream",
     "text": [
      "Epoch 13/50 [Train]: 100%|██████████| 1600/1600 [00:28<00:00, 56.33it/s, loss=0.0240]\n"
     ]
    },
    {
     "name": "stdout",
     "output_type": "stream",
     "text": [
      "Epoch 13/50 | Validation Accuracy: 0.9912\n"
     ]
    },
    {
     "name": "stderr",
     "output_type": "stream",
     "text": [
      "Epoch 14/50 [Train]: 100%|██████████| 1600/1600 [00:28<00:00, 56.23it/s, loss=0.0199]\n"
     ]
    },
    {
     "name": "stdout",
     "output_type": "stream",
     "text": [
      "Epoch 14/50 | Validation Accuracy: 0.9882\n"
     ]
    },
    {
     "name": "stderr",
     "output_type": "stream",
     "text": [
      "Epoch 15/50 [Train]: 100%|██████████| 1600/1600 [00:28<00:00, 56.14it/s, loss=0.0204]\n"
     ]
    },
    {
     "name": "stdout",
     "output_type": "stream",
     "text": [
      "Epoch 15/50 | Validation Accuracy: 0.9908\n"
     ]
    },
    {
     "name": "stderr",
     "output_type": "stream",
     "text": [
      "Epoch 16/50 [Train]: 100%|██████████| 1600/1600 [00:30<00:00, 52.08it/s, loss=0.0217]\n"
     ]
    },
    {
     "name": "stdout",
     "output_type": "stream",
     "text": [
      "Epoch 16/50 | Validation Accuracy: 0.9931\n",
      "New best model saved with accuracy: 0.9931\n"
     ]
    },
    {
     "name": "stderr",
     "output_type": "stream",
     "text": [
      "Epoch 17/50 [Train]: 100%|██████████| 1600/1600 [00:29<00:00, 53.60it/s, loss=0.0192]\n"
     ]
    },
    {
     "name": "stdout",
     "output_type": "stream",
     "text": [
      "Epoch 17/50 | Validation Accuracy: 0.9934\n",
      "New best model saved with accuracy: 0.9934\n"
     ]
    },
    {
     "name": "stderr",
     "output_type": "stream",
     "text": [
      "Epoch 18/50 [Train]: 100%|██████████| 1600/1600 [00:28<00:00, 55.95it/s, loss=0.0184]\n"
     ]
    },
    {
     "name": "stdout",
     "output_type": "stream",
     "text": [
      "Epoch 18/50 | Validation Accuracy: 0.9949\n",
      "New best model saved with accuracy: 0.9949\n"
     ]
    },
    {
     "name": "stderr",
     "output_type": "stream",
     "text": [
      "Epoch 19/50 [Train]: 100%|██████████| 1600/1600 [00:29<00:00, 54.44it/s, loss=0.0192]\n"
     ]
    },
    {
     "name": "stdout",
     "output_type": "stream",
     "text": [
      "Epoch 19/50 | Validation Accuracy: 0.9934\n"
     ]
    },
    {
     "name": "stderr",
     "output_type": "stream",
     "text": [
      "Epoch 20/50 [Train]: 100%|██████████| 1600/1600 [00:30<00:00, 52.02it/s, loss=0.0163]\n"
     ]
    },
    {
     "name": "stdout",
     "output_type": "stream",
     "text": [
      "Epoch 20/50 | Validation Accuracy: 0.9948\n"
     ]
    },
    {
     "name": "stderr",
     "output_type": "stream",
     "text": [
      "Epoch 21/50 [Train]: 100%|██████████| 1600/1600 [00:29<00:00, 54.58it/s, loss=0.0193]\n"
     ]
    },
    {
     "name": "stdout",
     "output_type": "stream",
     "text": [
      "Epoch 21/50 | Validation Accuracy: 0.9796\n"
     ]
    },
    {
     "name": "stderr",
     "output_type": "stream",
     "text": [
      "Epoch 22/50 [Train]: 100%|██████████| 1600/1600 [00:29<00:00, 54.31it/s, loss=0.0155]\n"
     ]
    },
    {
     "name": "stdout",
     "output_type": "stream",
     "text": [
      "Epoch 22/50 | Validation Accuracy: 0.9909\n"
     ]
    },
    {
     "name": "stderr",
     "output_type": "stream",
     "text": [
      "Epoch 23/50 [Train]: 100%|██████████| 1600/1600 [00:29<00:00, 53.40it/s, loss=0.0143]\n"
     ]
    },
    {
     "name": "stdout",
     "output_type": "stream",
     "text": [
      "Epoch 23/50 | Validation Accuracy: 0.9950\n",
      "New best model saved with accuracy: 0.9950\n"
     ]
    },
    {
     "name": "stderr",
     "output_type": "stream",
     "text": [
      "Epoch 24/50 [Train]: 100%|██████████| 1600/1600 [00:27<00:00, 58.42it/s, loss=0.0159]\n"
     ]
    },
    {
     "name": "stdout",
     "output_type": "stream",
     "text": [
      "Epoch 24/50 | Validation Accuracy: 0.9935\n"
     ]
    },
    {
     "name": "stderr",
     "output_type": "stream",
     "text": [
      "Epoch 25/50 [Train]: 100%|██████████| 1600/1600 [00:26<00:00, 60.22it/s, loss=0.0148]\n"
     ]
    },
    {
     "name": "stdout",
     "output_type": "stream",
     "text": [
      "Epoch 25/50 | Validation Accuracy: 0.9952\n",
      "New best model saved with accuracy: 0.9952\n"
     ]
    },
    {
     "name": "stderr",
     "output_type": "stream",
     "text": [
      "Epoch 26/50 [Train]: 100%|██████████| 1600/1600 [00:26<00:00, 61.31it/s, loss=0.0159]\n"
     ]
    },
    {
     "name": "stdout",
     "output_type": "stream",
     "text": [
      "Epoch 26/50 | Validation Accuracy: 0.9954\n",
      "New best model saved with accuracy: 0.9954\n"
     ]
    },
    {
     "name": "stderr",
     "output_type": "stream",
     "text": [
      "Epoch 27/50 [Train]: 100%|██████████| 1600/1600 [00:30<00:00, 52.45it/s, loss=0.0135]\n"
     ]
    },
    {
     "name": "stdout",
     "output_type": "stream",
     "text": [
      "Epoch 27/50 | Validation Accuracy: 0.9952\n"
     ]
    },
    {
     "name": "stderr",
     "output_type": "stream",
     "text": [
      "Epoch 28/50 [Train]: 100%|██████████| 1600/1600 [00:28<00:00, 56.00it/s, loss=0.0148]\n"
     ]
    },
    {
     "name": "stdout",
     "output_type": "stream",
     "text": [
      "Epoch 28/50 | Validation Accuracy: 0.9923\n"
     ]
    },
    {
     "name": "stderr",
     "output_type": "stream",
     "text": [
      "Epoch 29/50 [Train]: 100%|██████████| 1600/1600 [00:29<00:00, 54.86it/s, loss=0.0137]\n"
     ]
    },
    {
     "name": "stdout",
     "output_type": "stream",
     "text": [
      "Epoch 29/50 | Validation Accuracy: 0.9927\n"
     ]
    },
    {
     "name": "stderr",
     "output_type": "stream",
     "text": [
      "Epoch 30/50 [Train]: 100%|██████████| 1600/1600 [00:31<00:00, 50.66it/s, loss=0.0147]\n"
     ]
    },
    {
     "name": "stdout",
     "output_type": "stream",
     "text": [
      "Epoch 30/50 | Validation Accuracy: 0.9939\n"
     ]
    },
    {
     "name": "stderr",
     "output_type": "stream",
     "text": [
      "Epoch 31/50 [Train]: 100%|██████████| 1600/1600 [00:31<00:00, 51.59it/s, loss=0.0129]\n"
     ]
    },
    {
     "name": "stdout",
     "output_type": "stream",
     "text": [
      "Epoch 31/50 | Validation Accuracy: 0.9955\n",
      "New best model saved with accuracy: 0.9955\n"
     ]
    },
    {
     "name": "stderr",
     "output_type": "stream",
     "text": [
      "Epoch 32/50 [Train]: 100%|██████████| 1600/1600 [00:36<00:00, 43.87it/s, loss=0.0138]\n"
     ]
    },
    {
     "name": "stdout",
     "output_type": "stream",
     "text": [
      "Epoch 32/50 | Validation Accuracy: 0.9955\n",
      "New best model saved with accuracy: 0.9955\n"
     ]
    },
    {
     "name": "stderr",
     "output_type": "stream",
     "text": [
      "Epoch 33/50 [Train]: 100%|██████████| 1600/1600 [00:33<00:00, 47.99it/s, loss=0.0107]\n"
     ]
    },
    {
     "name": "stdout",
     "output_type": "stream",
     "text": [
      "Epoch 33/50 | Validation Accuracy: 0.9915\n"
     ]
    },
    {
     "name": "stderr",
     "output_type": "stream",
     "text": [
      "Epoch 34/50 [Train]: 100%|██████████| 1600/1600 [00:35<00:00, 45.26it/s, loss=0.0124]\n"
     ]
    },
    {
     "name": "stdout",
     "output_type": "stream",
     "text": [
      "Epoch 34/50 | Validation Accuracy: 0.9951\n"
     ]
    },
    {
     "name": "stderr",
     "output_type": "stream",
     "text": [
      "Epoch 35/50 [Train]: 100%|██████████| 1600/1600 [00:38<00:00, 41.93it/s, loss=0.0137]\n"
     ]
    },
    {
     "name": "stdout",
     "output_type": "stream",
     "text": [
      "Epoch 35/50 | Validation Accuracy: 0.9938\n"
     ]
    },
    {
     "name": "stderr",
     "output_type": "stream",
     "text": [
      "Epoch 36/50 [Train]: 100%|██████████| 1600/1600 [00:40<00:00, 39.92it/s, loss=0.0123]\n"
     ]
    },
    {
     "name": "stdout",
     "output_type": "stream",
     "text": [
      "Epoch 36/50 | Validation Accuracy: 0.9959\n",
      "New best model saved with accuracy: 0.9959\n"
     ]
    },
    {
     "name": "stderr",
     "output_type": "stream",
     "text": [
      "Epoch 37/50 [Train]: 100%|██████████| 1600/1600 [00:28<00:00, 55.26it/s, loss=0.0135]\n"
     ]
    },
    {
     "name": "stdout",
     "output_type": "stream",
     "text": [
      "Epoch 37/50 | Validation Accuracy: 0.9949\n"
     ]
    },
    {
     "name": "stderr",
     "output_type": "stream",
     "text": [
      "Epoch 38/50 [Train]: 100%|██████████| 1600/1600 [00:38<00:00, 41.23it/s, loss=0.0116]\n"
     ]
    },
    {
     "name": "stdout",
     "output_type": "stream",
     "text": [
      "Epoch 38/50 | Validation Accuracy: 0.9933\n"
     ]
    },
    {
     "name": "stderr",
     "output_type": "stream",
     "text": [
      "Epoch 39/50 [Train]: 100%|██████████| 1600/1600 [00:38<00:00, 41.10it/s, loss=0.0115]\n"
     ]
    },
    {
     "name": "stdout",
     "output_type": "stream",
     "text": [
      "Epoch 39/50 | Validation Accuracy: 0.9945\n"
     ]
    },
    {
     "name": "stderr",
     "output_type": "stream",
     "text": [
      "Epoch 40/50 [Train]: 100%|██████████| 1600/1600 [00:38<00:00, 41.91it/s, loss=0.0152]\n"
     ]
    },
    {
     "name": "stdout",
     "output_type": "stream",
     "text": [
      "Epoch 40/50 | Validation Accuracy: 0.9909\n"
     ]
    },
    {
     "name": "stderr",
     "output_type": "stream",
     "text": [
      "Epoch 41/50 [Train]: 100%|██████████| 1600/1600 [00:37<00:00, 43.05it/s, loss=0.0117]\n"
     ]
    },
    {
     "name": "stdout",
     "output_type": "stream",
     "text": [
      "Epoch 41/50 | Validation Accuracy: 0.9957\n"
     ]
    },
    {
     "name": "stderr",
     "output_type": "stream",
     "text": [
      "Epoch 42/50 [Train]: 100%|██████████| 1600/1600 [00:35<00:00, 45.59it/s, loss=0.0128]\n"
     ]
    },
    {
     "name": "stdout",
     "output_type": "stream",
     "text": [
      "Epoch 42/50 | Validation Accuracy: 0.9947\n"
     ]
    },
    {
     "name": "stderr",
     "output_type": "stream",
     "text": [
      "Epoch 43/50 [Train]: 100%|██████████| 1600/1600 [00:33<00:00, 47.85it/s, loss=0.0119]\n"
     ]
    },
    {
     "name": "stdout",
     "output_type": "stream",
     "text": [
      "Epoch 43/50 | Validation Accuracy: 0.9959\n"
     ]
    },
    {
     "name": "stderr",
     "output_type": "stream",
     "text": [
      "Epoch 44/50 [Train]: 100%|██████████| 1600/1600 [00:32<00:00, 49.94it/s, loss=0.0111]\n"
     ]
    },
    {
     "name": "stdout",
     "output_type": "stream",
     "text": [
      "Epoch 44/50 | Validation Accuracy: 0.9966\n",
      "New best model saved with accuracy: 0.9966\n"
     ]
    },
    {
     "name": "stderr",
     "output_type": "stream",
     "text": [
      "Epoch 45/50 [Train]: 100%|██████████| 1600/1600 [00:33<00:00, 47.73it/s, loss=0.0120]\n"
     ]
    },
    {
     "name": "stdout",
     "output_type": "stream",
     "text": [
      "Epoch 45/50 | Validation Accuracy: 0.9952\n"
     ]
    },
    {
     "name": "stderr",
     "output_type": "stream",
     "text": [
      "Epoch 46/50 [Train]: 100%|██████████| 1600/1600 [00:35<00:00, 45.16it/s, loss=0.0130]\n"
     ]
    },
    {
     "name": "stdout",
     "output_type": "stream",
     "text": [
      "Epoch 46/50 | Validation Accuracy: 0.9959\n"
     ]
    },
    {
     "name": "stderr",
     "output_type": "stream",
     "text": [
      "Epoch 47/50 [Train]: 100%|██████████| 1600/1600 [00:36<00:00, 43.97it/s, loss=0.0096]\n"
     ]
    },
    {
     "name": "stdout",
     "output_type": "stream",
     "text": [
      "Epoch 47/50 | Validation Accuracy: 0.9952\n"
     ]
    },
    {
     "name": "stderr",
     "output_type": "stream",
     "text": [
      "Epoch 48/50 [Train]: 100%|██████████| 1600/1600 [00:33<00:00, 47.84it/s, loss=0.0127]\n"
     ]
    },
    {
     "name": "stdout",
     "output_type": "stream",
     "text": [
      "Epoch 48/50 | Validation Accuracy: 0.9956\n"
     ]
    },
    {
     "name": "stderr",
     "output_type": "stream",
     "text": [
      "Epoch 49/50 [Train]: 100%|██████████| 1600/1600 [00:25<00:00, 62.52it/s, loss=0.0108]\n"
     ]
    },
    {
     "name": "stdout",
     "output_type": "stream",
     "text": [
      "Epoch 49/50 | Validation Accuracy: 0.9950\n"
     ]
    },
    {
     "name": "stderr",
     "output_type": "stream",
     "text": [
      "Epoch 50/50 [Train]: 100%|██████████| 1600/1600 [00:26<00:00, 60.49it/s, loss=0.0125]\n"
     ]
    },
    {
     "name": "stdout",
     "output_type": "stream",
     "text": [
      "Epoch 50/50 | Validation Accuracy: 0.9938\n",
      "\n",
      "✅ Training complete! Best model saved as 'block_classifier.pth'\n",
      "\n",
      "===== Final Performance Report (from best epoch) =====\n",
      "               precision    recall  f1-score   support\n",
      "\n",
      "forearm_block       1.00      0.99      1.00      3200\n",
      "   high_guard       1.00      1.00      1.00      3200\n",
      "        parry       0.99      1.00      0.99      3200\n",
      "     negative       1.00      1.00      1.00      3200\n",
      "\n",
      "     accuracy                           1.00     12800\n",
      "    macro avg       1.00      1.00      1.00     12800\n",
      " weighted avg       1.00      1.00      1.00     12800\n",
      "\n",
      "\n",
      "===== Confusion Matrix =====\n"
     ]
    },
    {
     "data": {
      "image/png": "[encoded data removed]",
      "text/plain": [
       "<Figure size 1000x700 with 2 Axes>"
      ]
     },
     "metadata": {},
     "output_type": "display_data"
    }
   ],
   "source": [
    "import os\n",
    "import torch\n",
    "import torch.nn as nn\n",
    "import torch.optim as optim\n",
    "from torch.utils.data import Dataset, DataLoader\n",
    "import numpy as np\n",
    "from sklearn.model_selection import train_test_split\n",
    "from sklearn.metrics import accuracy_score, classification_report, confusion_matrix\n",
    "from tqdm import tqdm\n",
    "import pandas as pd\n",
    "import seaborn as sns\n",
    "import matplotlib.pyplot as plt\n",
    "\n",
    "\n",
    "DATA_DIR = \"block_negative/processed_keypoints\"\n",
    "ACTIONS = ['forearm_block', 'high_guard', 'parry', 'negative']\n",
    "EPOCHS = 50\n",
    "BATCH_SIZE = 32\n",
    "LEARNING_RATE = 0.001\n",
    "SEQUENCE_LENGTH = 25\n",
    "WEIGHT_DECAY = 1e-4\n",
    "\n",
    "class PoseDataset(Dataset):\n",
    "    def __init__(self, data_dir, actions):\n",
    "        self.data_dir = data_dir\n",
    "        self.actions = actions\n",
    "        self.data = []\n",
    "        self.labels = []\n",
    "\n",
    "        for action_idx, action in enumerate(actions):\n",
    "            action_path = os.path.join(data_dir, action)\n",
    "            if not os.path.isdir(action_path): continue\n",
    "\n",
    "            for filename in os.listdir(action_path):\n",
    "                if filename.endswith('.npy'):\n",
    "                    self.data.append(os.path.join(action_path, filename))\n",
    "                    self.labels.append(action_idx)\n",
    "\n",
    "    def __len__(self):\n",
    "        return len(self.data)\n",
    "\n",
    "    def __getitem__(self, idx):\n",
    "        path = self.data[idx]\n",
    "        sequence = np.load(path).astype(np.float32)\n",
    "        label = self.labels[idx]\n",
    "        return torch.tensor(sequence, dtype=torch.float32), torch.tensor(label, dtype=torch.long)\n",
    "\n",
    "\n",
    "class BlockClassifierLSTM(nn.Module):\n",
    "    def __init__(self, input_size, hidden_size, num_layers, num_classes):\n",
    "        super(BlockClassifierLSTM, self).__init__()\n",
    "        self.hidden_size = hidden_size\n",
    "        self.num_layers = num_layers\n",
    "        self.lstm = nn.LSTM(input_size, hidden_size, num_layers, batch_first=True, dropout=0.5)\n",
    "        self.fc = nn.Linear(hidden_size, num_classes)\n",
    "\n",
    "    def forward(self, x):\n",
    "        h0 = torch.zeros(self.num_layers, x.size(0), self.hidden_size).to(x.device)\n",
    "        c0 = torch.zeros(self.num_layers, x.size(0), self.hidden_size).to(x.device)\n",
    "        out, _ = self.lstm(x, (h0, c0))\n",
    "        out = self.fc(out[:, -1, :])\n",
    "        return out\n",
    "\n",
    "\n",
    "if __name__ == '__main__':\n",
    "    device = 'cuda' if torch.cuda.is_available() else 'cpu'\n",
    "    print(f\"Using device: {device}\")\n",
    "\n",
    "    dataset = PoseDataset(DATA_DIR, ACTIONS)\n",
    "    train_indices, val_indices = train_test_split(\n",
    "        list(range(len(dataset))),\n",
    "        test_size=0.2,\n",
    "        random_state=42,\n",
    "        stratify=dataset.labels\n",
    "    )\n",
    "    \n",
    "    train_sampler = torch.utils.data.SubsetRandomSampler(train_indices)\n",
    "    val_sampler = torch.utils.data.SubsetRandomSampler(val_indices)\n",
    "\n",
    "    train_loader = DataLoader(dataset, batch_size=BATCH_SIZE, sampler=train_sampler)\n",
    "    val_loader = DataLoader(dataset, batch_size=BATCH_SIZE, sampler=val_sampler)\n",
    "    \n",
    "    print(f\"Data loaded: {len(train_indices)} training samples, {len(val_indices)} validation samples.\")\n",
    "\n",
    "    sample_seq, _ = dataset[0]\n",
    "    input_size = sample_seq.shape[1]\n",
    "\n",
    "    model = BlockClassifierLSTM(\n",
    "        input_size=input_size, \n",
    "        hidden_size=128, \n",
    "        num_layers=2, \n",
    "        num_classes=len(ACTIONS)\n",
    "    ).to(device)\n",
    "    \n",
    "    criterion = nn.CrossEntropyLoss()\n",
    "    optimizer = optim.Adam(model.parameters(), lr=LEARNING_RATE, weight_decay=WEIGHT_DECAY)\n",
    "\n",
    "    best_val_accuracy = 0.0\n",
    "    final_val_preds, final_val_labels = [], []\n",
    "\n",
    "    for epoch in range(EPOCHS):\n",
    "        model.train()\n",
    "        running_loss = 0.0\n",
    "        \n",
    "        train_pbar = tqdm(train_loader, desc=f\"Epoch {epoch+1}/{EPOCHS} [Train]\")\n",
    "        for inputs, labels in train_pbar:\n",
    "            inputs, labels = inputs.to(device), labels.to(device)\n",
    "            \n",
    "            optimizer.zero_grad()\n",
    "            outputs = model(inputs)\n",
    "            loss = criterion(outputs, labels)\n",
    "            loss.backward()\n",
    "            optimizer.step()\n",
    "            \n",
    "            running_loss += loss.item()\n",
    "            train_pbar.set_postfix({'loss': f'{running_loss / len(train_loader):.4f}'})\n",
    "        \n",
    "\n",
    "        model.eval()\n",
    "        epoch_val_preds, epoch_val_labels = [], []\n",
    "        with torch.no_grad():\n",
    "            for inputs, labels in val_loader:\n",
    "                inputs, labels = inputs.to(device), labels.to(device)\n",
    "                outputs = model(inputs)\n",
    "                _, predicted = torch.max(outputs.data, 1)\n",
    "                epoch_val_preds.extend(predicted.cpu().numpy())\n",
    "                epoch_val_labels.extend(labels.cpu().numpy())\n",
    "\n",
    "        val_accuracy = accuracy_score(epoch_val_labels, epoch_val_preds)\n",
    "        print(f\"Epoch {epoch+1}/{EPOCHS} | Validation Accuracy: {val_accuracy:.4f}\")\n",
    "\n",
    "        if val_accuracy > best_val_accuracy:\n",
    "            best_val_accuracy = val_accuracy\n",
    "            final_val_preds = epoch_val_preds\n",
    "            final_val_labels = epoch_val_labels\n",
    "            torch.save(model.state_dict(), 'block_classifier.pth')\n",
    "            print(f\"New best model saved with accuracy: {best_val_accuracy:.4f}\")\n",
    "\n",
    "    print(\"\\nTraining complete! Best model saved as 'block_classifier.pth'\")\n",
    "\n",
    "    print(\"\\n===== Final Performance Report (from best epoch) =====\")\n",
    "    report = classification_report(final_val_labels, final_val_preds, target_names=ACTIONS)\n",
    "    print(report)\n",
    "\n",
    "    print(\"\\n===== Confusion Matrix =====\")\n",
    "    cm = confusion_matrix(final_val_labels, final_val_preds)\n",
    "    cm_df = pd.DataFrame(cm, index=ACTIONS, columns=ACTIONS)\n",
    "    plt.figure(figsize=(10, 7))\n",
    "    sns.heatmap(cm_df, annot=True, fmt='g', cmap='Blues')\n",
    "    plt.title('Confusion Matrix')\n",
    "    plt.ylabel('Actual Label')\n",
    "    plt.xlabel('Predicted Label')\n",
    "    plt.show()"
   ]
  },
  {
   "cell_type": "markdown",
   "id": "9a4bb321",
   "metadata": {},
   "source": [
    "#### Testing"
   ]
  },
  {
   "cell_type": "markdown",
   "id": "3894f5dd",
   "metadata": {},
   "source": [
    "##### Only with punch"
   ]
  },
  {
   "cell_type": "code",
   "execution_count": null,
   "id": "8809987a",
   "metadata": {},
   "outputs": [
    {
     "name": "stdout",
     "output_type": "stream",
     "text": [
      "Using device: cuda\n"
     ]
    }
   ],
   "source": [
    "import cv2\n",
    "import torch\n",
    "import torch.nn as nn\n",
    "import numpy as np\n",
    "from ultralytics import YOLO\n",
    "from collections import deque\n",
    "\n",
    "YOLO_MODEL_PATH = \"yolo11m-pose.pt\"\n",
    "LSTM_MODEL_PATH = \"punch_classifier.pth\"\n",
    "SEQUENCE_LENGTH = 25\n",
    "ACTIONS = ['jab', 'cross', 'hook', 'uppercut']\n",
    "KEYPOINT_INDICES = [5, 6, 7, 8, 9, 10, 11, 12]  \n",
    "CONFIDENCE_THRESHOLD = 0.7\n",
    "COOLDOWN_FRAMES = 20\n",
    "PREVIEW_WIDTH = 1280\n",
    "PREVIEW_HEIGHT = 720\n",
    "L_WRIST, R_WRIST = 9, 10\n",
    "\n",
    "\n",
    "class PunchClassifierLSTM(nn.Module):\n",
    "    def __init__(self, input_size, hidden_size, num_layers, num_classes):\n",
    "        super(PunchClassifierLSTM, self).__init__()\n",
    "        self.lstm = nn.LSTM(input_size, hidden_size, num_layers, batch_first=True, dropout=0.5)\n",
    "        self.fc = nn.Linear(hidden_size, num_classes)\n",
    "        self.hidden_size = hidden_size\n",
    "        self.num_layers = num_layers\n",
    "\n",
    "    def forward(self, x):\n",
    "        h0 = torch.zeros(self.num_layers, x.size(0), self.hidden_size).to(x.device)\n",
    "        c0 = torch.zeros(self.num_layers, x.size(0), self.hidden_size).to(x.device)\n",
    "        out, _ = self.lstm(x, (h0, c0))\n",
    "        out = self.fc(out[:, -1, :])\n",
    "        return out\n",
    "\n",
    "def normalize_keypoints(kps_xy):\n",
    "    left_shoulder, right_shoulder = kps_xy[0], kps_xy[1]\n",
    "    if np.all(left_shoulder == 0) or np.all(right_shoulder == 0): return None\n",
    "    scale_dist = np.linalg.norm(left_shoulder - right_shoulder)\n",
    "    if scale_dist < 1e-4: return None\n",
    "    center_point = (left_shoulder + right_shoulder) / 2\n",
    "    normalized_kps = (kps_xy - center_point) / scale_dist\n",
    "    return normalized_kps.flatten()\n",
    "\n",
    "def detect_stance(keypoints):\n",
    "    left_shoulder, right_shoulder = keypoints[0], keypoints[1]\n",
    "    left_hip, right_hip = keypoints[6], keypoints[7]\n",
    "    if np.all(left_shoulder==0) or np.all(right_shoulder==0) or np.all(left_hip==0) or np.all(right_hip==0):\n",
    "        return \"Unknown\"\n",
    "    dist_left_side = np.linalg.norm(left_shoulder - left_hip)\n",
    "    dist_right_side = np.linalg.norm(right_shoulder - right_hip)\n",
    "    return 'Orthodox' if dist_left_side < dist_right_side else 'Southpaw'\n",
    "\n",
    "def main():\n",
    "    device = 'cuda' if torch.cuda.is_available() else 'cpu'\n",
    "    print(f\"Using device: {device}\")\n",
    "\n",
    "    yolo_model = YOLO(YOLO_MODEL_PATH).to(device)\n",
    "    input_size = len(KEYPOINT_INDICES) * 2\n",
    "    lstm_model = PunchClassifierLSTM(input_size, 128, 2, len(ACTIONS)).to(device)\n",
    "    lstm_model.load_state_dict(torch.load(LSTM_MODEL_PATH, map_location=device, weights_only=True))\n",
    "    lstm_model.eval()\n",
    "\n",
    "    cap = cv2.VideoCapture(0)\n",
    "    if not cap.isOpened():\n",
    "        print(\"Error: Cannot open camera. Please check the index (0, 1, 2, etc.) or connection.\")\n",
    "        return\n",
    "\n",
    "    player_data = {\n",
    "        1: {\"buffer\": deque(maxlen=SEQUENCE_LENGTH), \"cooldown\": 0, \"action\": \"\", \"count\": 0, \"stance\": \"\"},\n",
    "        2: {\"buffer\": deque(maxlen=SEQUENCE_LENGTH), \"cooldown\": 0, \"action\": \"\", \"count\": 0, \"stance\": \"\"}\n",
    "    }\n",
    "\n",
    "    while cap.isOpened():\n",
    "        ret, frame = cap.read()\n",
    "        if not ret: break\n",
    "\n",
    "        yolo_results = yolo_model.track(frame, persist=True, verbose=False, tracker=\"bytetrack.yaml\")\n",
    "        \n",
    "        if yolo_results[0].boxes.id is None or yolo_results[0].keypoints is None:\n",
    "            display_frame = cv2.resize(frame, (PREVIEW_WIDTH, PREVIEW_HEIGHT))\n",
    "            cv2.imshow('Real-Time Boxing Analysis', display_frame)\n",
    "            if cv2.waitKey(1) & 0xFF == ord('q'): break\n",
    "            continue\n",
    "\n",
    "        detected_people = []\n",
    "        keypoints_list = yolo_results[0].keypoints.xy.cpu().numpy()\n",
    "        boxes = yolo_results[0].boxes.xyxy.cpu().numpy()\n",
    "\n",
    "        for i in range(len(boxes)):\n",
    "            center_x = (boxes[i][0] + boxes[i][2]) / 2 \n",
    "            detected_people.append({\"kps\": keypoints_list[i], \"center_x\": center_x})\n",
    "        \n",
    "        detected_people.sort(key=lambda p: p[\"center_x\"])\n",
    "\n",
    "        for i, person in enumerate(detected_people):\n",
    "            if i >= 2: break  \n",
    "            \n",
    "            player_id = i + 1 \n",
    "            \n",
    "            person_kps = person[\"kps\"]\n",
    "            relevant_kps = person_kps[KEYPOINT_INDICES]\n",
    "            \n",
    "            player_data[player_id][\"stance\"] = detect_stance(relevant_kps)\n",
    "\n",
    "            norm_kps = normalize_keypoints(relevant_kps)\n",
    "            if norm_kps is not None:\n",
    "                player_data[player_id][\"buffer\"].append(norm_kps)\n",
    "\n",
    "            if len(player_data[player_id][\"buffer\"]) == SEQUENCE_LENGTH and player_data[player_id][\"cooldown\"] == 0:\n",
    "                sequence_tensor = torch.tensor(np.array(player_data[player_id][\"buffer\"]), dtype=torch.float32).unsqueeze(0).to(device)\n",
    "                \n",
    "                with torch.no_grad():\n",
    "                    output = lstm_model(sequence_tensor)\n",
    "                    confidence, pred_idx = torch.max(torch.softmax(output, dim=1), 1)\n",
    "\n",
    "                if confidence.item() > CONFIDENCE_THRESHOLD:\n",
    "                    action = ACTIONS[pred_idx.item()]\n",
    "                    \n",
    "                    if action != 'negative':\n",
    "                        player_data[player_id][\"action\"] = action.upper()\n",
    "                        player_data[player_id][\"cooldown\"] = COOLDOWN_FRAMES\n",
    "                        player_data[player_id][\"count\"] += 1\n",
    "            \n",
    "            if player_data[player_id][\"cooldown\"] > 0:\n",
    "                player_data[player_id][\"cooldown\"] -= 1\n",
    "            if player_data[player_id][\"cooldown\"] == 0:\n",
    "                player_data[player_id][\"action\"] = \"\"\n",
    "\n",
    "        display_frame = frame.copy()\n",
    "        \n",
    "        p1_stance_text = f\"Player 1 ({player_data[1]['stance']})\"\n",
    "        p1_score_text = f\"Score: {player_data[1]['count']}\"\n",
    "        cv2.putText(display_frame, p1_stance_text, (10, 50), cv2.FONT_HERSHEY_SIMPLEX, 1, (255, 255, 255), 2, cv2.LINE_AA)\n",
    "        cv2.putText(display_frame, p1_score_text, (10, 90), cv2.FONT_HERSHEY_SIMPLEX, 1, (255, 255, 255), 2, cv2.LINE_AA)\n",
    "        if player_data[1][\"action\"]:\n",
    "            cv2.putText(display_frame, player_data[1][\"action\"], (10, 140), cv2.FONT_HERSHEY_SIMPLEX, 1.5, (255, 200, 100), 3, cv2.LINE_AA)\n",
    "\n",
    "        p2_stance_text = f\"Player 2 ({player_data[2]['stance']})\"\n",
    "        p2_score_text = f\"Score: {player_data[2]['count']}\"\n",
    "        (w_stance, _), _ = cv2.getTextSize(p2_stance_text, cv2.FONT_HERSHEY_SIMPLEX, 1, 2)\n",
    "        (w_score, _), _ = cv2.getTextSize(p2_score_text, cv2.FONT_HERSHEY_SIMPLEX, 1, 2)\n",
    "        cv2.putText(display_frame, p2_stance_text, (frame.shape[1] - w_stance - 10, 50), cv2.FONT_HERSHEY_SIMPLEX, 1, (255, 255, 255), 2, cv2.LINE_AA)\n",
    "        cv2.putText(display_frame, p2_score_text, (frame.shape[1] - w_score - 10, 90), cv2.FONT_HERSHEY_SIMPLEX, 1, (255, 255, 255), 2, cv2.LINE_AA)\n",
    "        if player_data[2][\"action\"]:\n",
    "            (w_action, _), _ = cv2.getTextSize(player_data[2][\"action\"], cv2.FONT_HERSHEY_SIMPLEX, 1.5, 3)\n",
    "            cv2.putText(display_frame, player_data[2][\"action\"], (frame.shape[1] - w_action - 10, 140), cv2.FONT_HERSHEY_SIMPLEX, 1.5, (255, 200, 100), 3, cv2.LINE_AA)\n",
    "\n",
    "        resized_frame = cv2.resize(display_frame, (PREVIEW_WIDTH, PREVIEW_HEIGHT))\n",
    "        cv2.imshow('Real-Time Boxing Analysis', resized_frame)\n",
    "        \n",
    "        if cv2.waitKey(1) & 0xFF == ord('q'):\n",
    "            break\n",
    "\n",
    "    cap.release()\n",
    "    cv2.destroyAllWindows()\n",
    "\n",
    "if __name__ == '__main__':\n",
    "    main()"
   ]
  },
  {
   "cell_type": "markdown",
   "id": "79080e74",
   "metadata": {},
   "source": [
    "##### With block, punch, hit&miss logic"
   ]
  },
  {
   "cell_type": "code",
   "execution_count": null,
   "id": "fc621557",
   "metadata": {},
   "outputs": [
    {
     "name": "stdout",
     "output_type": "stream",
     "text": [
      "✅ Using device: cuda\n",
      "✅ All models loaded successfully.\n",
      "✅ Script finished.\n"
     ]
    }
   ],
   "source": [
    "import cv2\n",
    "import torch\n",
    "import torch.nn as nn\n",
    "import numpy as np\n",
    "from ultralytics import YOLO\n",
    "from collections import deque\n",
    "from pathlib import Path\n",
    "from enum import Enum, auto\n",
    "import time\n",
    "\n",
    "\n",
    "config = {\n",
    "    #\"ROOT_DIR\": Path(__file__).resolve().parent,\n",
    "    \"ROOT_DIR\": Path.cwd(),\n",
    "    \"YOLO_MODEL_NAME\": \"yolo11m-pose.pt\",\n",
    "    \"PUNCH_LSTM_MODEL_NAME\": \"punch_classifier.pth\",\n",
    "    \"BLOCK_LSTM_MODEL_NAME\": \"block_classifier.pth\",\n",
    "    \"PUNCH_ACTIONS\": ['jab', 'cross', 'hook', 'uppercut'],\n",
    "    \"BLOCK_ACTIONS\": ['forearm_block', 'high_guard', 'parry', 'negative'],\n",
    "    \"KEYPOINT_MAP\": {\n",
    "        'nose': 0, 'left_eye': 1, 'right_eye': 2, 'left_ear': 3, 'right_ear': 4,\n",
    "        'left_shoulder': 5, 'right_shoulder': 6, 'left_elbow': 7, 'right_elbow': 8,\n",
    "        'left_wrist': 9, 'right_wrist': 10, 'left_hip': 11, 'right_hip': 12,\n",
    "        'left_knee': 13, 'right_knee': 14, 'left_ankle': 15, 'right_ankle': 16\n",
    "    },\n",
    "\n",
    "    \"ACTION_KEYPOINTS\": [\n",
    "        'left_shoulder', 'right_shoulder', \n",
    "        'left_elbow', 'right_elbow', \n",
    "        'left_wrist', 'right_wrist',\n",
    "        'left_hip', 'right_hip'\n",
    "    ],\n",
    "\n",
    "    \"SEQUENCE_LENGTH\": 25,\n",
    "    \"CONFIDENCE_THRESHOLD\": 0.7,\n",
    "    \"KEYPOINT_CONF_THRESH\": 0.5,\n",
    "    \"PLAYER_TIMEOUT_FRAMES\": 150,\n",
    "    \"MIN_PUNCH_VELOCITY\": 1.0,\n",
    "    \"RECOVERY_FRAMES\": 15,\n",
    "    \"PREVIEW_WIDTH\": 1280,\n",
    "    \"PREVIEW_HEIGHT\": 720,\n",
    "    \"ACTION_TEXT_FADE_FRAMES\": 60,\n",
    "    \"PEAK_EXTENSION_THRESHOLD\": 0.1,\n",
    "    \"FPS_TARGET\": 30\n",
    "}\n",
    "\n",
    "class PlayerState(Enum):\n",
    "    IDLE = auto()\n",
    "    ATTACKING = auto()\n",
    "    BLOCKING = auto()\n",
    "    RECOVERING = auto()\n",
    "\n",
    "\n",
    "class ActionClassifierLSTM(nn.Module):\n",
    "    def __init__(self, input_size, hidden_size, num_layers, num_classes, dropout=0.5):\n",
    "        super(ActionClassifierLSTM, self).__init__()\n",
    "        self.lstm = nn.LSTM(input_size, hidden_size, num_layers, batch_first=True, dropout=dropout)\n",
    "        self.fc = nn.Linear(hidden_size, num_classes)\n",
    "        self.hidden_size = hidden_size\n",
    "        self.num_layers = num_layers\n",
    "    \n",
    "    def forward(self, x):\n",
    "        h0 = torch.zeros(self.num_layers, x.size(0), self.hidden_size).to(x.device)\n",
    "        c0 = torch.zeros(self.num_layers, x.size(0), self.hidden_size).to(x.device)\n",
    "        out, _ = self.lstm(x, (h0, c0))\n",
    "        out = self.fc(out[:, -1, :])\n",
    "        return out\n",
    "\n",
    "\n",
    "def normalize_keypoints(kps, confs):\n",
    "    k_map = config[\"KEYPOINT_MAP\"]\n",
    "    ls_idx, rs_idx = k_map['left_shoulder'], k_map['right_shoulder']\n",
    "    \n",
    "    if confs[ls_idx] < config[\"KEYPOINT_CONF_THRESH\"] or confs[rs_idx] < config[\"KEYPOINT_CONF_THRESH\"]:\n",
    "        return None\n",
    "    \n",
    "    left_shoulder, right_shoulder = kps[ls_idx], kps[rs_idx]\n",
    "    scale_dist = np.linalg.norm(left_shoulder - right_shoulder)\n",
    "    if scale_dist < 1e-4: \n",
    "        return None\n",
    "    \n",
    "    selected_indices = [k_map[name] for name in config[\"ACTION_KEYPOINTS\"]]\n",
    "    kps_subset = kps[selected_indices]\n",
    "    confs_subset = confs[selected_indices]\n",
    "    \n",
    "    center_point = (left_shoulder + right_shoulder) / 2\n",
    "    normalized_kps = np.zeros_like(kps_subset)\n",
    "    valid_mask = confs_subset > config[\"KEYPOINT_CONF_THRESH\"]\n",
    "    normalized_kps[valid_mask] = (kps_subset[valid_mask] - center_point) / scale_dist\n",
    "    \n",
    "    return normalized_kps.flatten()\n",
    "\n",
    "def detect_stance(kps, confs):\n",
    "    k_map = config[\"KEYPOINT_MAP\"]\n",
    "    required_points = ['left_shoulder', 'right_shoulder', 'left_hip', 'right_hip']\n",
    "    if any(confs[k_map[name]] < config[\"KEYPOINT_CONF_THRESH\"] for name in required_points):\n",
    "        return \"Unknown\"\n",
    "        \n",
    "    left_shoulder, right_shoulder = kps[k_map['left_shoulder']], kps[k_map['right_shoulder']]\n",
    "    left_hip, right_hip = kps[k_map['left_hip']], kps[k_map['right_hip']]\n",
    "    dist_left_side = np.linalg.norm(left_shoulder - left_hip)\n",
    "    dist_right_side = np.linalg.norm(right_shoulder - right_hip)\n",
    "    return 'Orthodox' if dist_left_side < dist_right_side else 'Southpaw'\n",
    "\n",
    "def calculate_limb_velocity(buffer, limb_idx, reference_idx, frame_interval):\n",
    "    if len(buffer) < frame_interval + 1:\n",
    "        return 0.0\n",
    "    \n",
    "    current_frame = buffer[-1]\n",
    "    prev_frame = buffer[-frame_interval-1]\n",
    "    \n",
    "    current_pos = current_frame[limb_idx]\n",
    "    prev_pos = prev_frame[reference_idx]\n",
    "    \n",
    "    if np.all(current_pos == 0) or np.all(prev_pos == 0):\n",
    "        return 0.0\n",
    "    \n",
    "    return np.linalg.norm(current_pos - prev_pos) / frame_interval\n",
    "\n",
    "def find_peak_extension_frame(buffer, wrist_idx, shoulder_idx):\n",
    "    max_extension = 0\n",
    "    peak_frame = -1\n",
    "    \n",
    "    for i, frame in enumerate(buffer):\n",
    "        wrist_pos = frame[wrist_idx]\n",
    "        shoulder_pos = frame[shoulder_idx]\n",
    "        \n",
    "        if np.all(wrist_pos == 0) or np.all(shoulder_pos == 0):\n",
    "            continue\n",
    "            \n",
    "        extension = np.linalg.norm(wrist_pos - shoulder_pos)\n",
    "        if extension > max_extension:\n",
    "            max_extension = extension\n",
    "            peak_frame = i\n",
    "    \n",
    "    return peak_frame if peak_frame != -1 else len(buffer) - 1\n",
    "\n",
    "def is_hit(attacker_buffer, defender_buffer, attacker_id, defender_id):\n",
    "    if len(attacker_buffer) < 5 or len(defender_buffer) < 1:\n",
    "        return False\n",
    "\n",
    "    k_map = config[\"KEYPOINT_MAP\"]\n",
    "    \n",
    "    wrist_deltas = []\n",
    "    if len(attacker_buffer) > 5:\n",
    "        start_frame = attacker_buffer[0][\"raw_kps\"]\n",
    "        end_frame = attacker_buffer[-1][\"raw_kps\"]\n",
    "        \n",
    "        left_wrist_delta = np.linalg.norm(\n",
    "            end_frame[k_map['left_wrist']] - start_frame[k_map['left_wrist']]\n",
    "        ) if (attacker_buffer[0][\"confs\"][k_map['left_wrist']] > config[\"KEYPOINT_CONF_THRESH\"] and\n",
    "               attacker_buffer[-1][\"confs\"][k_map['left_wrist']] > config[\"KEYPOINT_CONF_THRESH\"]) else 0\n",
    "               \n",
    "        right_wrist_delta = np.linalg.norm(\n",
    "            end_frame[k_map['right_wrist']] - start_frame[k_map['right_wrist']]\n",
    "        ) if (attacker_buffer[0][\"confs\"][k_map['right_wrist']] > config[\"KEYPOINT_CONF_THRESH\"] and\n",
    "               attacker_buffer[-1][\"confs\"][k_map['right_wrist']] > config[\"KEYPOINT_CONF_THRESH\"]) else 0\n",
    "        \n",
    "        wrist_idx = k_map['right_wrist'] if right_wrist_delta > left_wrist_delta else k_map['left_wrist']\n",
    "        shoulder_idx = k_map['right_shoulder'] if right_wrist_delta > left_wrist_delta else k_map['left_shoulder']\n",
    "    else:\n",
    "        wrist_idx = k_map['right_wrist']\n",
    "        shoulder_idx = k_map['right_shoulder']\n",
    "    \n",
    "    peak_idx = find_peak_extension_frame(\n",
    "        [f[\"raw_kps\"] for f in attacker_buffer],\n",
    "        wrist_idx,\n",
    "        shoulder_idx\n",
    "    )\n",
    "    \n",
    "    attacker_kps = attacker_buffer[peak_idx][\"raw_kps\"]\n",
    "    attacker_confs = attacker_buffer[peak_idx][\"confs\"]\n",
    "    \n",
    "    defender_kps = defender_buffer[-1][\"raw_kps\"]\n",
    "    defender_confs = defender_buffer[-1][\"confs\"]\n",
    "    \n",
    "    if peak_idx >= 2:\n",
    "        velocity = np.linalg.norm(\n",
    "            attacker_buffer[peak_idx][\"raw_kps\"][wrist_idx] - \n",
    "            attacker_buffer[peak_idx-2][\"raw_kps\"][wrist_idx]\n",
    "        ) / 2\n",
    "        if velocity < config[\"MIN_PUNCH_VELOCITY\"]:\n",
    "            return False\n",
    "\n",
    "    target_zones = {\n",
    "        \"head\": ['nose', 'left_eye', 'right_eye', 'left_ear', 'right_ear'],\n",
    "        \"torso\": ['left_shoulder', 'right_shoulder', 'left_hip', 'right_hip']\n",
    "    }\n",
    "    \n",
    "    for zone_name, keypoint_names in target_zones.items():\n",
    "        zone_points = []\n",
    "        for name in keypoint_names:\n",
    "            idx = k_map.get(name)\n",
    "            if idx is None:\n",
    "                continue\n",
    "            if defender_confs[idx] > config[\"KEYPOINT_CONF_THRESH\"]:\n",
    "                zone_points.append(defender_kps[idx])\n",
    "        \n",
    "        if len(zone_points) < 3:\n",
    "            continue\n",
    "        \n",
    "        hull = cv2.convexHull(np.array(zone_points, dtype=np.float32))\n",
    "        \n",
    "        for wrist_idx in [k_map['left_wrist'], k_map['right_wrist']]:\n",
    "            if attacker_confs[wrist_idx] > config[\"KEYPOINT_CONF_THRESH\"]:\n",
    "                wrist_point = tuple(attacker_kps[wrist_idx].astype(np.float32))\n",
    "                if cv2.pointPolygonTest(hull, wrist_point, False) >= 0:\n",
    "                    return True\n",
    "    return False\n",
    "\n",
    "def update_player_data(detections, player_data, player_roles, last_seen, frame_counter):\n",
    "    for track_id, data in detections.items():\n",
    "        if track_id not in player_data:\n",
    "            if len(player_roles) >= 2:\n",
    "                continue\n",
    "            available_roles = {1, 2} - set(player_roles.values())\n",
    "            if not available_roles:\n",
    "                continue\n",
    "            role_id = min(available_roles)\n",
    "            player_roles[track_id] = role_id\n",
    "            player_data[track_id] = {\n",
    "                \"buffer\": deque(maxlen=config[\"SEQUENCE_LENGTH\"]),\n",
    "                \"state\": PlayerState.IDLE,\n",
    "                \"recovery_timer\": 0,\n",
    "                \"action_text\": \"\",\n",
    "                \"action_timer\": 0,\n",
    "                \"hits\": 0,\n",
    "                \"misses\": 0,\n",
    "                \"stance\": \"Unknown\",\n",
    "                \"last_action_time\": 0\n",
    "            }\n",
    "        \n",
    "        kps = data[\"kps\"]\n",
    "        confs = data[\"confs\"]\n",
    "        \n",
    "        norm_kps = normalize_keypoints(kps, confs)\n",
    "        if norm_kps is not None:\n",
    "            player_data[track_id][\"buffer\"].append({\n",
    "                \"norm_kps\": norm_kps,\n",
    "                \"raw_kps\": kps.copy(),\n",
    "                \"confs\": confs.copy(),\n",
    "                \"timestamp\": time.time()\n",
    "            })\n",
    "        \n",
    "        last_seen[track_id] = frame_counter\n",
    "\n",
    "def manage_player_timeouts(player_data, player_roles, last_seen, frame_counter):\n",
    "    timed_out_ids = [tid for tid, frame in last_seen.items() \n",
    "                    if frame_counter - frame > config[\"PLAYER_TIMEOUT_FRAMES\"]]\n",
    "    for track_id in timed_out_ids:\n",
    "        if track_id in player_data: \n",
    "            del player_data[track_id]\n",
    "        if track_id in last_seen: \n",
    "            del last_seen[track_id]\n",
    "        if track_id in player_roles: \n",
    "            del player_roles[track_id]\n",
    "\n",
    "def evaluate_and_update_states(player_data, player_roles, models, device):\n",
    "    tracked_ids = list(player_roles.keys())\n",
    "    if len(tracked_ids) < 2:\n",
    "        return\n",
    "\n",
    "    potential_actions = {}\n",
    "    for player_id in tracked_ids:\n",
    "        p_data = player_data[player_id]\n",
    "        if (p_data[\"state\"] == PlayerState.IDLE and \n",
    "            len(p_data[\"buffer\"]) == config[\"SEQUENCE_LENGTH\"]):\n",
    "\n",
    "            if len(p_data[\"buffer\"][0][\"norm_kps\"]) != 16:\n",
    "                continue\n",
    "            \n",
    "            sequence = np.array([f[\"norm_kps\"] for f in p_data[\"buffer\"]])\n",
    "            sequence_tensor = torch.tensor(sequence, dtype=torch.float32).unsqueeze(0).to(device)\n",
    "            \n",
    "            with torch.no_grad():\n",
    "               \n",
    "                punch_output = models['punch'](sequence_tensor)\n",
    "                punch_conf, punch_idx = torch.max(torch.softmax(punch_output, dim=1), 1)\n",
    "                \n",
    "                if punch_conf.item() > config[\"CONFIDENCE_THRESHOLD\"]:\n",
    "                    action_name = config[\"PUNCH_ACTIONS\"][punch_idx.item()]\n",
    "                    potential_actions[player_id] = {\n",
    "                        \"type\": \"punch\", \n",
    "                        \"name\": action_name,\n",
    "                        \"confidence\": punch_conf.item()\n",
    "                    }\n",
    "                else:\n",
    "                  \n",
    "                    block_output = models['block'](sequence_tensor)\n",
    "                    block_conf, block_idx = torch.max(torch.softmax(block_output, dim=1), 1)\n",
    "                    \n",
    "                    if block_conf.item() > config[\"CONFIDENCE_THRESHOLD\"]:\n",
    "                        action_name = config[\"BLOCK_ACTIONS\"][block_idx.item()]\n",
    "                        potential_actions[player_id] = {\n",
    "                            \"type\": \"block\", \n",
    "                            \"name\": action_name,\n",
    "                            \"confidence\": block_conf.item()\n",
    "                        }\n",
    "\n",
    "\n",
    "    p1_id, p2_id = tracked_ids[0], tracked_ids[1]\n",
    "    p1_action = potential_actions.get(p1_id)\n",
    "    p2_action = potential_actions.get(p2_id)\n",
    "    \n",
    "\n",
    "    if p1_action and p1_action[\"type\"] == \"punch\":\n",
    "        outcome = \"\"\n",
    "        if p2_action and p2_action[\"type\"] == \"block\":\n",
    "            outcome = \"BLOCKED\"\n",
    "        else:\n",
    "            if is_hit(\n",
    "                list(player_data[p1_id][\"buffer\"]), \n",
    "                list(player_data[p2_id][\"buffer\"]),\n",
    "                p1_id,\n",
    "                p2_id\n",
    "            ):\n",
    "                outcome = \"HIT\"\n",
    "                player_data[p1_id][\"hits\"] += 1\n",
    "            else:\n",
    "                outcome = \"MISS\"\n",
    "                player_data[p1_id][\"misses\"] += 1\n",
    "        \n",
    "        player_data[p1_id][\"action_text\"] = f'{p1_action[\"name\"].upper()} ({outcome})'\n",
    "        player_data[p1_id][\"action_timer\"] = config[\"ACTION_TEXT_FADE_FRAMES\"]\n",
    "        player_data[p1_id][\"state\"] = PlayerState.RECOVERING\n",
    "        player_data[p1_id][\"recovery_timer\"] = config[\"RECOVERY_FRAMES\"]\n",
    "        player_data[p1_id][\"last_action_time\"] = time.time()\n",
    "    \n",
    "    if p2_action and p2_action[\"type\"] == \"punch\":\n",
    "        outcome = \"\"\n",
    "        if p1_action and p1_action[\"type\"] == \"block\":\n",
    "            outcome = \"BLOCKED\"\n",
    "        else:\n",
    "            if is_hit(\n",
    "                list(player_data[p2_id][\"buffer\"]), \n",
    "                list(player_data[p1_id][\"buffer\"]),\n",
    "                p2_id,\n",
    "                p1_id\n",
    "            ):\n",
    "                outcome = \"HIT\"\n",
    "                player_data[p2_id][\"hits\"] += 1\n",
    "            else:\n",
    "                outcome = \"MISS\"\n",
    "                player_data[p2_id][\"misses\"] += 1\n",
    "        \n",
    "        player_data[p2_id][\"action_text\"] = f'{p2_action[\"name\"].upper()} ({outcome})'\n",
    "        player_data[p2_id][\"action_timer\"] = config[\"ACTION_TEXT_FADE_FRAMES\"]\n",
    "        player_data[p2_id][\"state\"] = PlayerState.RECOVERING\n",
    "        player_data[p2_id][\"recovery_timer\"] = config[\"RECOVERY_FRAMES\"]\n",
    "        player_data[p2_id][\"last_action_time\"] = time.time()\n",
    "    \n",
    "\n",
    "    for player_id, action in potential_actions.items():\n",
    "        if action[\"type\"] == \"block\":\n",
    "            player_data[player_id][\"state\"] = PlayerState.BLOCKING\n",
    "            player_data[player_id][\"action_text\"] = f'{action[\"name\"].upper()}'\n",
    "            player_data[player_id][\"action_timer\"] = config[\"ACTION_TEXT_FADE_FRAMES\"]\n",
    "            player_data[player_id][\"last_action_time\"] = time.time()\n",
    "\n",
    "\n",
    "def draw_ui(frame, player_data, player_roles, detections):\n",
    "    h, w, _ = frame.shape\n",
    "    hud_h = 110\n",
    "    overlay = frame.copy()\n",
    "    cv2.rectangle(overlay, (0, h - hud_h), (w, h), (0, 0, 0), -1)\n",
    "    cv2.addWeighted(overlay, 0.6, frame, 0.4, 0, frame)\n",
    "\n",
    "    for track_id, role_id in player_roles.items():\n",
    "        if track_id not in player_data or track_id not in detections:\n",
    "            continue\n",
    "            \n",
    "        p_data = player_data[track_id]\n",
    "        box = detections[track_id][\"box\"].astype(int)\n",
    "        kps = detections[track_id][\"kps\"]\n",
    "        confs = detections[track_id][\"confs\"]\n",
    "        \n",
    "        \n",
    "        color = (0, 255, 0)  \n",
    "        if p_data[\"state\"] == PlayerState.ATTACKING:\n",
    "            color = (0, 0, 255)  \n",
    "        elif p_data[\"state\"] == PlayerState.BLOCKING:\n",
    "            color = (255, 0, 0) \n",
    "        elif p_data[\"state\"] == PlayerState.RECOVERING:\n",
    "            color = (0, 255, 255)  \n",
    "\n",
    "        cv2.rectangle(frame, (box[0], box[1]), (box[2], box[3]), color, 2)\n",
    "        \n",
    "        cv2.putText(frame, f\"Player {role_id}\", (box[0], box[1] - 10), \n",
    "                    cv2.FONT_HERSHEY_SIMPLEX, 0.9, color, 2)    \n",
    "        \n",
    "\n",
    "        k_map = config[\"KEYPOINT_MAP\"]\n",
    "        target_zones = {\n",
    "            \"head\": (['nose', 'left_eye', 'right_eye', 'left_ear', 'right_ear'], (0, 255, 255)),  \n",
    "            \"torso\": (['left_shoulder', 'right_shoulder', 'left_hip', 'right_hip'], (255, 0, 255))\n",
    "        }\n",
    "        \n",
    "        for zone_name, (keypoint_names, zone_color) in target_zones.items():\n",
    "            zone_points = []\n",
    "            for name in keypoint_names:\n",
    "                idx = k_map.get(name)\n",
    "                if idx is None:\n",
    "                    continue\n",
    "                if confs[idx] > config[\"KEYPOINT_CONF_THRESH\"]:\n",
    "                    point = (int(kps[idx][0]), int(kps[idx][1]))\n",
    "                    zone_points.append(point)\n",
    "                    cv2.circle(frame, point, 5, zone_color, -1)\n",
    "            \n",
    "            if len(zone_points) >= 3:\n",
    "                hull = cv2.convexHull(np.array(zone_points, dtype=np.int32))\n",
    "                cv2.drawContours(frame, [hull], 0, zone_color, 2)\n",
    "                \n",
    "                if hull.size > 0:\n",
    "                    M = cv2.moments(hull)\n",
    "                    if M[\"m00\"] != 0:\n",
    "                        cX = int(M[\"m10\"] / M[\"m00\"])\n",
    "                        cY = int(M[\"m01\"] / M[\"m00\"])\n",
    "                        cv2.putText(frame, zone_name, (cX, cY), \n",
    "                                    cv2.FONT_HERSHEY_SIMPLEX, 0.7, zone_color, 2)\n",
    "\n",
    "\n",
    "        if p_data[\"action_timer\"] > 0:\n",
    "            text_color = (100, 255, 100) if \"HIT\" in p_data[\"action_text\"] else \\\n",
    "                         (100, 100, 255) if \"MISS\" in p_data[\"action_text\"] else \\\n",
    "                         (255, 200, 100)\n",
    "            cv2.putText(frame, p_data[\"action_text\"], (box[0], box[1] - 40), \n",
    "                        cv2.FONT_HERSHEY_SIMPLEX, 1.2, text_color, 3, cv2.LINE_AA)\n",
    "        \n",
    "        x_pos = 50 if role_id == 1 else w - 450\n",
    "        stance_text = f\"Player {role_id} ({p_data.get('stance', 'N/A')})\"\n",
    "        cv2.putText(frame, stance_text, (x_pos, h - 70), \n",
    "                    cv2.FONT_HERSHEY_SIMPLEX, 0.8, (255, 255, 255), 2, cv2.LINE_AA)\n",
    "        \n",
    "        score_text = f\"Score: {p_data['hits']} / {p_data['misses']}\"\n",
    "        cv2.putText(frame, score_text, (x_pos, h - 40), \n",
    "                    cv2.FONT_HERSHEY_SIMPLEX, 0.8, (255, 255, 255), 2, cv2.LINE_AA)\n",
    "\n",
    "        state_text = f\"State: {p_data['state'].name}\"\n",
    "        cv2.putText(frame, state_text, (x_pos + 250, h - 70), \n",
    "                    cv2.FONT_HERSHEY_SIMPLEX, 0.8, (200, 200, 200), 2, cv2.LINE_AA)\n",
    "\n",
    "    return frame\n",
    "\n",
    "def main():\n",
    "    device = 'cuda' if torch.cuda.is_available() else 'cpu'\n",
    "    print(f\"Using device: {device}\")\n",
    "\n",
    "    try:\n",
    "        root = config[\"ROOT_DIR\"]\n",
    "        yolo_model = YOLO(root / config[\"YOLO_MODEL_NAME\"])\n",
    "        \n",
    "        input_size = len(config[\"ACTION_KEYPOINTS\"]) * 2\n",
    "        punch_model = ActionClassifierLSTM(input_size, 128, 2, len(config[\"PUNCH_ACTIONS\"])).to(device)\n",
    "        punch_model.load_state_dict(torch.load(root / config[\"PUNCH_LSTM_MODEL_NAME\"], map_location=device))\n",
    "        punch_model.eval()\n",
    "        \n",
    "        block_model = ActionClassifierLSTM(input_size, 128, 2, len(config[\"BLOCK_ACTIONS\"])).to(device)\n",
    "        block_model.load_state_dict(torch.load(root / config[\"BLOCK_LSTM_MODEL_NAME\"], map_location=device))\n",
    "        block_model.eval()\n",
    "        \n",
    "        models = {'punch': punch_model, 'block': block_model}\n",
    "        print(\"All models loaded successfully.\")\n",
    "    except Exception as e:\n",
    "        print(f\"Error loading models: {e}\")\n",
    "        return\n",
    "\n",
    "    cap = cv2.VideoCapture(0)\n",
    "    if not cap.isOpened():\n",
    "        print(\"Error: Cannot open camera.\")\n",
    "        return\n",
    "\n",
    "    player_data = {}\n",
    "    player_roles = {}\n",
    "    last_seen = {}\n",
    "    frame_counter = 0\n",
    "    last_time = time.time()\n",
    "    \n",
    "    while cap.isOpened():\n",
    "        current_time = time.time()\n",
    "        elapsed = current_time - last_time\n",
    "        last_time = current_time\n",
    "        \n",
    "        ret, frame = cap.read()\n",
    "        if not ret: \n",
    "            break\n",
    "        \n",
    "        frame_counter += 1\n",
    "        \n",
    "        yolo_results = yolo_model.track(\n",
    "            frame, \n",
    "            persist=True, \n",
    "            verbose=False, \n",
    "            tracker=\"bytetrack.yaml\",\n",
    "            device=device\n",
    "        )\n",
    "        \n",
    "        current_detections = {}\n",
    "        if yolo_results and yolo_results[0].boxes and yolo_results[0].boxes.id is not None:\n",
    "            boxes = yolo_results[0].boxes.xyxy.cpu().numpy()\n",
    "            keypoints_list = yolo_results[0].keypoints.data.cpu().numpy()\n",
    "            track_ids = yolo_results[0].boxes.id.int().cpu().tolist()\n",
    "\n",
    "            for i, track_id in enumerate(track_ids):\n",
    "                current_detections[track_id] = {\n",
    "                    \"kps\": keypoints_list[i][:, :2],\n",
    "                    \"confs\": keypoints_list[i][:, 2],\n",
    "                    \"box\": boxes[i]\n",
    "                }\n",
    "        \n",
    "        update_player_data(current_detections, player_data, player_roles, last_seen, frame_counter)\n",
    "        manage_player_timeouts(player_data, player_roles, last_seen, frame_counter)\n",
    "        \n",
    "        for p_data in player_data.values():\n",
    "            if p_data[\"state\"] == PlayerState.RECOVERING:\n",
    "                p_data[\"recovery_timer\"] -= 1\n",
    "                if p_data[\"recovery_timer\"] <= 0:\n",
    "                    p_data[\"state\"] = PlayerState.IDLE\n",
    "            elif p_data[\"state\"] == PlayerState.BLOCKING:\n",
    "                if time.time() - p_data[\"last_action_time\"] > 0.5:  \n",
    "                    p_data[\"state\"] = PlayerState.IDLE\n",
    "        \n",
    "        evaluate_and_update_states(player_data, player_roles, models, device)\n",
    "        \n",
    "        for track_id, p_data in player_data.items():\n",
    "            if track_id in current_detections:\n",
    "                p_data['stance'] = detect_stance(\n",
    "                    current_detections[track_id]['kps'], \n",
    "                    current_detections[track_id]['confs']\n",
    "                )\n",
    "            if p_data[\"action_timer\"] > 0:\n",
    "                p_data[\"action_timer\"] -= 1\n",
    "        \n",
    "        display_frame = draw_ui(frame, player_data, player_roles, current_detections)\n",
    "        resized_frame = cv2.resize(display_frame, (config[\"PREVIEW_WIDTH\"], config[\"PREVIEW_HEIGHT\"]))\n",
    "        cv2.imshow('Boxing Analysis System', resized_frame)\n",
    "        \n",
    "        processing_time = time.time() - current_time\n",
    "        delay = max(1, int((1/config[\"FPS_TARGET\"] - processing_time) * 1000))\n",
    "        if cv2.waitKey(delay) & 0xFF == ord('q'):\n",
    "            break\n",
    "\n",
    "    cap.release()\n",
    "    cv2.destroyAllWindows()\n",
    "    print(\"✅ Script finished.\")\n",
    "\n",
    "if __name__ == '__main__':\n",
    "    main()"
   ]
  },
  {
   "cell_type": "code",
   "execution_count": null,
   "id": "3ac7ec6a",
   "metadata": {},
   "outputs": [
    {
     "name": "stdout",
     "output_type": "stream",
     "text": [
      "✅ Using device: cuda\n",
      "✅ All models loaded successfully.\n",
      "✅ Audio system initialized. Loaded 28 audio files.\n",
      "\n",
      "📋 Audio Files Summary:\n",
      "  - JAB: 4 files\n",
      "  - CROSS: 4 files\n",
      "  - HOOK: 3 files\n",
      "  - UPPERCUT: 4 files\n",
      "  - COMBO: 4 files\n",
      "  - ENCOURAGEMENT: 5 files\n",
      "  - TECHNIQUE: 4 files\n",
      "\n",
      "✅ Shadow boxing session completed!\n",
      "📊 Session Summary:\n",
      "   Duration: 00:13\n",
      "   Total Punches: 0\n",
      "   Max Combo: 0\n"
     ]
    }
   ],
   "source": [
    "import cv2\n",
    "import torch\n",
    "import torch.nn as nn\n",
    "import numpy as np\n",
    "from ultralytics import YOLO\n",
    "from collections import deque\n",
    "from pathlib import Path\n",
    "from enum import Enum, auto\n",
    "import time\n",
    "import threading\n",
    "import pygame  \n",
    "from queue import Queue\n",
    "import random\n",
    "import os\n",
    "\n",
    "config = {\n",
    "    \"ROOT_DIR\": Path.cwd(),\n",
    "    \"YOLO_MODEL_NAME\": \"yolo11m-pose.pt\",\n",
    "    \"PUNCH_LSTM_MODEL_NAME\": \"punch_classifier.pth\",\n",
    "    \"BLOCK_LSTM_MODEL_NAME\": \"block_classifier.pth\",\n",
    "    \"PUNCH_ACTIONS\": ['jab', 'cross', 'hook', 'uppercut'],\n",
    "    \"BLOCK_ACTIONS\": ['forearm_block', 'high_guard', 'parry', 'negative'],\n",
    "    \"KEYPOINT_MAP\": {\n",
    "        'nose': 0, 'left_eye': 1, 'right_eye': 2, 'left_ear': 3, 'right_ear': 4,\n",
    "        'left_shoulder': 5, 'right_shoulder': 6, 'left_elbow': 7, 'right_elbow': 8,\n",
    "        'left_wrist': 9, 'right_wrist': 10, 'left_hip': 11, 'right_hip': 12,\n",
    "        'left_knee': 13, 'right_knee': 14, 'left_ankle': 15, 'right_ankle': 16\n",
    "    },\n",
    "    \"ACTION_KEYPOINTS\": [\n",
    "        'left_shoulder', 'right_shoulder', \n",
    "        'left_elbow', 'right_elbow', \n",
    "        'left_wrist', 'right_wrist',\n",
    "        'left_hip', 'right_hip'\n",
    "    ],\n",
    "    \"SEQUENCE_LENGTH\": 25,\n",
    "    \"CONFIDENCE_THRESHOLD\": 0.7,\n",
    "    \"KEYPOINT_CONF_THRESH\": 0.5,\n",
    "    \"RECOVERY_FRAMES\": 15,\n",
    "    \"PREVIEW_WIDTH\": 1280,\n",
    "    \"PREVIEW_HEIGHT\": 720,\n",
    "    \"ACTION_TEXT_FADE_FRAMES\": 90,\n",
    "    \"FPS_TARGET\": 30,\n",
    "    \n",
    "    \"MIN_PUNCH_SPEED\": 2.0,\n",
    "    \"COMBO_TIMEOUT\": 3.0,  \n",
    "    \"AUDIO_ENABLED\": True,\n",
    "    \"ENCOURAGEMENT_FREQUENCY\": 5,  \n",
    "    \"TECHNIQUE_FEEDBACK\": True,\n",
    "\n",
    "    \"AUDIO_DIR\": \"audio\",  \n",
    "    \"AUDIO_VOLUME\": 1.0,\n",
    "    \"AUDIO_FORMAT\": [\".wav\", \".mp3\", \".ogg\"],\n",
    "      \"AUDIO_COOLDOWN\": 2.0\n",
    "}\n",
    "\n",
    "AUDIO_FILE_MAPPING = {\n",
    "    'jab': ['CLEAN JAB.wav','SHARP JAB.wav', 'GOOD JAB.wav','NICE JAB.wav'],\n",
    "    'cross': ['POWERFUL CROSS.wav','GOOD CROSS.wav','NICE CROSS.wav','STRONG CROSS.wav'],\n",
    "    'hook': ['SOLID HOOK.wav','GOOD HOOK.wav','NICE HOOK.wav'],\n",
    "    'uppercut': ['Solid uppercut.wav','Good uppercut.wav','Nice uppercut.wav','Strong uppercut.wav'],\n",
    "    #'combo': ['Great combo.wav','Nice combination.wav','Good flow.wav','Keep it up.wav'],\n",
    "    #'encouragement': ['Keep going.wav','Excellent form.wav','You\\'re doing great.wav','Nice work.wav','Good ryhthm.wav'],\n",
    "    #'technique': ['Keep your gaurd up.wav','nice form.wav','Good technique.wav','Stay balanced.wav']\n",
    "}\n",
    "\n",
    "\n",
    "class BoxerState(Enum):\n",
    "    IDLE = auto()\n",
    "    PUNCHING = auto()\n",
    "    RECOVERING = auto()\n",
    "\n",
    "\n",
    "class AudioFeedback:\n",
    "    def __init__(self):\n",
    "        try:\n",
    "            pygame.mixer.pre_init(frequency=44100, size=-16, channels=2, buffer=512)\n",
    "            pygame.mixer.init()\n",
    "            pygame.mixer.set_num_channels(8)  \n",
    "        except pygame.error as e:\n",
    "            print(f\"Pygame mixer could not be initialized: {e}. Audio will be disabled.\")\n",
    "            config[\"AUDIO_ENABLED\"] = False\n",
    "            return\n",
    "        \n",
    "        self.audio_queue = Queue()\n",
    "        self.audio_files = {}\n",
    "        self.audio_dir = Path(config[\"AUDIO_DIR\"])\n",
    "        self.last_played_time = 0\n",
    "        \n",
    "        self.punch_channel = pygame.mixer.Channel(0)\n",
    "\n",
    "        self._load_audio_files()\n",
    "        \n",
    "        if config[\"AUDIO_ENABLED\"]:\n",
    "            self.audio_thread = threading.Thread(target=self._audio_worker, daemon=True)\n",
    "            self.audio_thread.start()\n",
    "            \n",
    "            total_files = sum(len(files) for files in self.audio_files.values())\n",
    "            print(f\"Audio system initialized. Loaded {total_files} audio files.\")\n",
    "            self._print_loaded_files()\n",
    "\n",
    "    def _load_audio_files(self):\n",
    "        if not self.audio_dir.is_dir():\n",
    "            print(f\"Audio directory '{self.audio_dir}' not found. Audio will be disabled.\")\n",
    "            config[\"AUDIO_ENABLED\"] = False\n",
    "            return\n",
    "        \n",
    "        for category in AUDIO_FILE_MAPPING.keys():\n",
    "            self.audio_files[category] = []\n",
    "            \n",
    "        for category, filenames in AUDIO_FILE_MAPPING.items():\n",
    "            for filename in filenames:\n",
    "                file_path = self.audio_dir / filename\n",
    "                if file_path.exists():\n",
    "                    try:\n",
    "                        sound = pygame.mixer.Sound(str(file_path))\n",
    "                        sound.set_volume(config[\"AUDIO_VOLUME\"])\n",
    "                        self.audio_files[category].append(sound)\n",
    "                    except pygame.error as e:\n",
    "                        print(f\"Could not load '{file_path}': {e}\")\n",
    "                else:\n",
    "                    print(f\"File not found, skipping: {file_path}\")\n",
    "        \n",
    "        self._create_fallbacks()\n",
    "\n",
    "    def _create_fallbacks(self):\n",
    "        if not self.audio_files.get('combo'):\n",
    "            all_punch_sounds = []\n",
    "            for punch_type in ['jab', 'cross', 'hook', 'uppercut']:\n",
    "                all_punch_sounds.extend(self.audio_files.get(punch_type, []))\n",
    "            self.audio_files['combo'] = all_punch_sounds\n",
    "        \n",
    "        if not self.audio_files.get('encouragement'):\n",
    "            all_sounds = [s for cat_sounds in self.audio_files.values() for s in cat_sounds]\n",
    "            self.audio_files['encouragement'] = random.sample(all_sounds, min(len(all_sounds), 5))\n",
    "        \n",
    "        if not self.audio_files.get('technique'):\n",
    "            all_sounds = [s for cat_sounds in self.audio_files.values() for s in cat_sounds]\n",
    "            self.audio_files['technique'] = random.sample(all_sounds, min(len(all_sounds), 5))\n",
    "\n",
    "    def _print_loaded_files(self):\n",
    "        print(\"\\nAudio Files Summary:\")\n",
    "        for category, sounds in self.audio_files.items():\n",
    "            count = len(sounds)\n",
    "            if count > 0:\n",
    "                print(f\"  - {category.upper()}: {count} files\")\n",
    "            else:\n",
    "                print(f\"  - {category.upper()}: No files (will use fallbacks or skip)\")\n",
    "        print()\n",
    "\n",
    "    def _audio_worker(self):\n",
    "        while True:\n",
    "            category = self.audio_queue.get()\n",
    "            if category in self.audio_files and self.audio_files[category]:\n",
    "                try:\n",
    "                    sound = random.choice(self.audio_files[category])\n",
    "\n",
    "                    if category in config[\"PUNCH_ACTIONS\"]:\n",
    "                        self.punch_channel.play(sound)\n",
    "                    else:\n",
    "\n",
    "                        found_channel = None\n",
    "                        for i in range(1, pygame.mixer.get_num_channels()):\n",
    "                            ch = pygame.mixer.Channel(i)\n",
    "                            if not ch.get_busy():\n",
    "                                found_channel = ch\n",
    "                                break\n",
    "                        if found_channel:\n",
    "                            found_channel.play(sound)\n",
    "\n",
    "                except Exception as e:\n",
    "                    print(f\"Error playing audio: {e}\")\n",
    "            self.audio_queue.task_done()\n",
    "\n",
    "    def play_audio(self, category):\n",
    "        current_time = time.time()\n",
    "        if (config[\"AUDIO_ENABLED\"] and \n",
    "            category in self.audio_files and\n",
    "            current_time - self.last_played_time > config[\"AUDIO_COOLDOWN\"]):\n",
    "            \n",
    "            if self.audio_files[category]:\n",
    "                while not self.audio_queue.empty():\n",
    "                    try:\n",
    "                        self.audio_queue.get_nowait()\n",
    "                    except queue.Empty:\n",
    "                        break\n",
    "                \n",
    "                self.audio_queue.put(category)\n",
    "                self.last_played_time = current_time\n",
    "\n",
    "    def set_volume(self, volume):\n",
    "        new_volume = max(0.0, min(1.0, volume))\n",
    "        config[\"AUDIO_VOLUME\"] = new_volume\n",
    "        for category_sounds in self.audio_files.values():\n",
    "            for sound in category_sounds:\n",
    "                sound.set_volume(new_volume)\n",
    "\n",
    "\n",
    "class ActionClassifierLSTM(nn.Module):\n",
    "    def __init__(self, input_size, hidden_size, num_layers, num_classes, dropout=0.5):\n",
    "        super(ActionClassifierLSTM, self).__init__()\n",
    "        self.lstm = nn.LSTM(input_size, hidden_size, num_layers, batch_first=True, dropout=dropout)\n",
    "        self.fc = nn.Linear(hidden_size, num_classes)\n",
    "        self.hidden_size = hidden_size\n",
    "        self.num_layers = num_layers\n",
    "    \n",
    "    def forward(self, x):\n",
    "        h0 = torch.zeros(self.num_layers, x.size(0), self.hidden_size).to(x.device)\n",
    "        c0 = torch.zeros(self.num_layers, x.size(0), self.hidden_size).to(x.device)\n",
    "        out, _ = self.lstm(x, (h0, c0))\n",
    "        out = self.fc(out[:, -1, :])\n",
    "        return out\n",
    "\n",
    "def normalize_keypoints(kps, confs):\n",
    "    k_map = config[\"KEYPOINT_MAP\"]\n",
    "    ls_idx, rs_idx = k_map['left_shoulder'], k_map['right_shoulder']\n",
    "    \n",
    "    if confs[ls_idx] < config[\"KEYPOINT_CONF_THRESH\"] or confs[rs_idx] < config[\"KEYPOINT_CONF_THRESH\"]:\n",
    "        return None\n",
    "    \n",
    "    left_shoulder, right_shoulder = kps[ls_idx], kps[rs_idx]\n",
    "    scale_dist = np.linalg.norm(left_shoulder - right_shoulder)\n",
    "    if scale_dist < 1e-4: \n",
    "        return None\n",
    "    \n",
    "    selected_indices = [k_map[name] for name in config[\"ACTION_KEYPOINTS\"]]\n",
    "    kps_subset = kps[selected_indices]\n",
    "    confs_subset = confs[selected_indices]\n",
    "    \n",
    "    center_point = (left_shoulder + right_shoulder) / 2\n",
    "    normalized_kps = np.zeros_like(kps_subset)\n",
    "    valid_mask = confs_subset > config[\"KEYPOINT_CONF_THRESH\"]\n",
    "    normalized_kps[valid_mask] = (kps_subset[valid_mask] - center_point) / scale_dist\n",
    "    \n",
    "    return normalized_kps.flatten()\n",
    "\n",
    "def detect_stance(kps, confs):\n",
    "    k_map = config[\"KEYPOINT_MAP\"]\n",
    "    required_points = ['left_shoulder', 'right_shoulder', 'left_hip', 'right_hip']\n",
    "    if any(confs[k_map[name]] < config[\"KEYPOINT_CONF_THRESH\"] for name in required_points):\n",
    "        return \"Unknown\"\n",
    "        \n",
    "    left_shoulder, right_shoulder = kps[k_map['left_shoulder']], kps[k_map['right_shoulder']]\n",
    "    left_hip, right_hip = kps[k_map['left_hip']], kps[k_map['right_hip']]\n",
    "    dist_left_side = np.linalg.norm(left_shoulder - left_hip)\n",
    "    dist_right_side = np.linalg.norm(right_shoulder - right_hip)\n",
    "    return 'Orthodox' if dist_left_side < dist_right_side else 'Southpaw'\n",
    "\n",
    "def calculate_punch_speed(buffer):\n",
    "    if len(buffer) < 5:\n",
    "        return 0.0\n",
    "    \n",
    "    k_map = config[\"KEYPOINT_MAP\"]\n",
    "    recent_frames = list(buffer)[-5:]\n",
    "    \n",
    "    speeds = []\n",
    "    for wrist_key in ['left_wrist', 'right_wrist']:\n",
    "        wrist_idx = k_map[wrist_key]\n",
    "        positions = []\n",
    "        \n",
    "        for frame in recent_frames:\n",
    "            if frame[\"confs\"][wrist_idx] > config[\"KEYPOINT_CONF_THRESH\"]:\n",
    "                positions.append(frame[\"raw_kps\"][wrist_idx])\n",
    "        \n",
    "        if len(positions) >= 2:\n",
    "            total_distance = sum(np.linalg.norm(positions[i+1] - positions[i]) \n",
    "                               for i in range(len(positions)-1))\n",
    "            speed = total_distance / len(positions)\n",
    "            speeds.append(speed)\n",
    "    \n",
    "    return max(speeds) if speeds else 0.0\n",
    "\n",
    "class ShadowBoxingAnalyzer:\n",
    "    def __init__(self, models, audio_feedback):\n",
    "        self.models = models\n",
    "        self.audio = audio_feedback\n",
    "        self.boxer_data = {\n",
    "            \"buffer\": deque(maxlen=config[\"SEQUENCE_LENGTH\"]),\n",
    "            \"state\": BoxerState.IDLE,\n",
    "            \"recovery_timer\": 0,\n",
    "            \"action_text\": \"\",\n",
    "            \"action_timer\": 0,\n",
    "            \"punch_count\": 0,\n",
    "            \"combo_count\": 0,\n",
    "            \"last_punch_time\": 0,\n",
    "            \"combo_history\": deque(maxlen=5),\n",
    "            \"stance\": \"Unknown\",\n",
    "            \"session_start\": time.time()\n",
    "        }\n",
    "    \n",
    "    def update_boxer_data(self, kps, confs):\n",
    "        norm_kps = normalize_keypoints(kps, confs)\n",
    "        if norm_kps is not None:\n",
    "            self.boxer_data[\"buffer\"].append({\n",
    "                \"norm_kps\": norm_kps,\n",
    "                \"raw_kps\": kps.copy(),\n",
    "                \"confs\": confs.copy(),\n",
    "                \"timestamp\": time.time()\n",
    "            })\n",
    "        \n",
    "        \n",
    "        self.boxer_data['stance'] = detect_stance(kps, confs)\n",
    "    \n",
    "    def analyze_action(self, device):\n",
    "        if (self.boxer_data[\"state\"] == BoxerState.IDLE and \n",
    "            len(self.boxer_data[\"buffer\"]) == config[\"SEQUENCE_LENGTH\"]):\n",
    "            \n",
    "            if len(self.boxer_data[\"buffer\"][0][\"norm_kps\"]) != 16:\n",
    "                return\n",
    "            \n",
    "            sequence = np.array([f[\"norm_kps\"] for f in self.boxer_data[\"buffer\"]])\n",
    "            sequence_tensor = torch.tensor(sequence, dtype=torch.float32).unsqueeze(0).to(device)\n",
    "            \n",
    "            with torch.no_grad():\n",
    "                punch_output = self.models['punch'](sequence_tensor)\n",
    "                punch_conf, punch_idx = torch.max(torch.softmax(punch_output, dim=1), 1)\n",
    "                \n",
    "                if punch_conf.item() > config[\"CONFIDENCE_THRESHOLD\"]:\n",
    "                    action_name = config[\"PUNCH_ACTIONS\"][punch_idx.item()]\n",
    "                    \n",
    "                    punch_speed = calculate_punch_speed(self.boxer_data[\"buffer\"])\n",
    "                    \n",
    "                    if punch_speed > config[\"MIN_PUNCH_SPEED\"]:\n",
    "                        self._handle_punch_detected(action_name, punch_conf.item())\n",
    "    \n",
    "    def _handle_punch_detected(self, punch_type, confidence):\n",
    "        current_time = time.time()\n",
    "        \n",
    "        self.boxer_data[\"punch_count\"] += 1\n",
    "        \n",
    "        is_combo = (current_time - self.boxer_data[\"last_punch_time\"]) < config[\"COMBO_TIMEOUT\"]\n",
    "        if is_combo:\n",
    "            self.boxer_data[\"combo_count\"] += 1\n",
    "        else:\n",
    "            self.boxer_data[\"combo_count\"] = 1\n",
    "        \n",
    "        self.boxer_data[\"last_punch_time\"] = current_time\n",
    "        self.boxer_data[\"combo_history\"].append(punch_type)\n",
    "        \n",
    "        quality_text = \"EXCELLENT\" if confidence > 0.9 else \"GOOD\" if confidence > 0.8 else \"NICE\"\n",
    "        self.boxer_data[\"action_text\"] = f'{quality_text} {punch_type.upper()}!'\n",
    "        self.boxer_data[\"action_timer\"] = config[\"ACTION_TEXT_FADE_FRAMES\"]\n",
    "        \n",
    "        self.boxer_data[\"state\"] = BoxerState.RECOVERING\n",
    "        self.boxer_data[\"recovery_timer\"] = config[\"RECOVERY_FRAMES\"]\n",
    "        \n",
    "        self._provide_audio_feedback(punch_type)\n",
    "    \n",
    "    def _provide_audio_feedback(self, punch_type):\n",
    "\n",
    "        if self.boxer_data[\"combo_count\"] >= 3:\n",
    "            self.audio.play_audio('combo')\n",
    "        elif self.boxer_data[\"punch_count\"] % config[\"ENCOURAGEMENT_FREQUENCY\"] == 0:\n",
    "            self.audio.play_audio('encouragement')\n",
    "        else:\n",
    "            self.audio.play_audio(punch_type)\n",
    "    \n",
    "    def update_state(self):\n",
    "        if self.boxer_data[\"state\"] == BoxerState.RECOVERING:\n",
    "            self.boxer_data[\"recovery_timer\"] -= 1\n",
    "            if self.boxer_data[\"recovery_timer\"] <= 0:\n",
    "                self.boxer_data[\"state\"] = BoxerState.IDLE\n",
    "\n",
    "        if self.boxer_data[\"action_timer\"] > 0:\n",
    "            self.boxer_data[\"action_timer\"] -= 1\n",
    "\n",
    "\n",
    "def draw_shadow_boxing_ui(frame, analyzer, detection=None):\n",
    "    h, w, _ = frame.shape\n",
    "    boxer_data = analyzer.boxer_data\n",
    "    \n",
    "    hud_h = 170\n",
    "    overlay = frame.copy()\n",
    "    cv2.rectangle(overlay, (0, h - hud_h), (w, h), (0, 0, 0), -1)\n",
    "    cv2.addWeighted(overlay, 0.7, frame, 0.3, 0, frame)\n",
    "    \n",
    "    if detection:\n",
    "        box = detection[\"box\"].astype(int)\n",
    "        kps = detection[\"kps\"]\n",
    "        confs = detection[\"confs\"]\n",
    "        \n",
    "        color = (0, 255, 0)  \n",
    "        if boxer_data[\"state\"] == BoxerState.PUNCHING:\n",
    "            color = (0, 0, 255)  \n",
    "        elif boxer_data[\"state\"] == BoxerState.RECOVERING:\n",
    "            color = (0, 255, 255)  \n",
    "        \n",
    "        cv2.rectangle(frame, (box[0], box[1]), (box[2], box[3]), color, 2)\n",
    "        \n",
    "\n",
    "        k_map = config[\"KEYPOINT_MAP\"]\n",
    "        important_points = ['left_wrist', 'right_wrist', 'left_elbow', 'right_elbow', \n",
    "                          'left_shoulder', 'right_shoulder']\n",
    "        \n",
    "        for point_name in important_points:\n",
    "            idx = k_map[point_name]\n",
    "            if confs[idx] > config[\"KEYPOINT_CONF_THRESH\"]:\n",
    "                point = (int(kps[idx][0]), int(kps[idx][1]))\n",
    "                cv2.circle(frame, point, 8, (0, 255, 255), -1)\n",
    "        \n",
    "        if boxer_data[\"action_timer\"] > 0:\n",
    "            text_color = (0, 255, 0)  \n",
    "            cv2.putText(frame, boxer_data[\"action_text\"], \n",
    "                       (box[0], box[1] - 40), \n",
    "                       cv2.FONT_HERSHEY_SIMPLEX, 1.5, text_color, 3, cv2.LINE_AA)\n",
    "    \n",
    "    session_time = int(time.time() - boxer_data[\"session_start\"])\n",
    "    minutes, seconds = divmod(session_time, 60)\n",
    "    \n",
    "    stats_y = h - 140\n",
    "    cv2.putText(frame, f\"Session Time: {minutes:02d}:{seconds:02d}\", \n",
    "                (20, stats_y), cv2.FONT_HERSHEY_SIMPLEX, 0.8, (255, 255, 255), 2)\n",
    "    \n",
    "    cv2.putText(frame, f\"Total Punches: {boxer_data['punch_count']}\", \n",
    "                (20, stats_y + 30), cv2.FONT_HERSHEY_SIMPLEX, 0.8, (255, 255, 255), 2)\n",
    "    \n",
    "    cv2.putText(frame, f\"Current Combo: {boxer_data['combo_count']}\", \n",
    "                (20, stats_y + 60), cv2.FONT_HERSHEY_SIMPLEX, 0.8, (255, 255, 255), 2)\n",
    "    \n",
    "    cv2.putText(frame, f\"Stance: {boxer_data['stance']}\", \n",
    "                (20, stats_y + 90), cv2.FONT_HERSHEY_SIMPLEX, 0.8, (255, 255, 255), 2)\n",
    "    \n",
    "    audio_status = \"ON\" if config[\"AUDIO_ENABLED\"] else \"OFF\"\n",
    "    audio_color = (0, 255, 0) if config[\"AUDIO_ENABLED\"] else (0, 0, 255)\n",
    "    cv2.putText(frame, f\"Audio: {audio_status} | Vol: {int(config['AUDIO_VOLUME']*100)}%\", \n",
    "                (20, stats_y + 120), cv2.FONT_HERSHEY_SIMPLEX, 0.7, audio_color, 2)\n",
    "\n",
    "    state_color = (0, 255, 0) if boxer_data[\"state\"] == BoxerState.IDLE else \\\n",
    "                  (0, 0, 255) if boxer_data[\"state\"] == BoxerState.PUNCHING else (0, 255, 255)\n",
    "    cv2.putText(frame, f\"State: {boxer_data['state'].name}\", \n",
    "                (w - 300, stats_y), cv2.FONT_HERSHEY_SIMPLEX, 0.8, state_color, 2)\n",
    "\n",
    "    if boxer_data[\"combo_history\"]:\n",
    "        combo_text = \" → \".join(list(boxer_data[\"combo_history\"])[-3:])  # Last 3 punches\n",
    "        cv2.putText(frame, f\"Recent: {combo_text}\", \n",
    "                    (w - 400, stats_y + 30), cv2.FONT_HERSHEY_SIMPLEX, 0.7, (200, 200, 200), 2)\n",
    "    \n",
    "    return frame\n",
    "\n",
    "\n",
    "def main():\n",
    "    device = 'cuda' if torch.cuda.is_available() else 'cpu'\n",
    "    print(f\"Using device: {device}\")\n",
    "    \n",
    "    try:\n",
    "        root = config[\"ROOT_DIR\"]\n",
    "        yolo_model = YOLO(root / config[\"YOLO_MODEL_NAME\"])\n",
    "        \n",
    "        input_size = len(config[\"ACTION_KEYPOINTS\"]) * 2\n",
    "        punch_model = ActionClassifierLSTM(input_size, 128, 2, len(config[\"PUNCH_ACTIONS\"])).to(device)\n",
    "        punch_model.load_state_dict(torch.load(root / config[\"PUNCH_LSTM_MODEL_NAME\"], map_location=device))\n",
    "        punch_model.eval()\n",
    "        \n",
    "        block_model = ActionClassifierLSTM(input_size, 128, 2, len(config[\"BLOCK_ACTIONS\"])).to(device)\n",
    "        block_model.load_state_dict(torch.load(root / config[\"BLOCK_LSTM_MODEL_NAME\"], map_location=device))\n",
    "        block_model.eval()\n",
    "        \n",
    "        models = {'punch': punch_model, 'block': block_model}\n",
    "        print(\"All models loaded successfully.\")\n",
    "    except Exception as e:\n",
    "        print(f\"Error loading models: {e}\")\n",
    "        return\n",
    "\n",
    "    try:\n",
    "        audio_feedback = AudioFeedback()\n",
    "    except Exception as e:\n",
    "        print(f\"Audio system failed to initialize: {e}\")\n",
    "        config[\"AUDIO_ENABLED\"] = False\n",
    "        audio_feedback = None\n",
    "        return\n",
    "    \n",
    "    analyzer = ShadowBoxingAnalyzer(models, audio_feedback)\n",
    "    \n",
    "    cap = cv2.VideoCapture(0)\n",
    "    if not cap.isOpened():\n",
    "        print(\"Error: Cannot open camera.\")\n",
    "        return\n",
    "    \n",
    "    last_time = time.time()\n",
    "    \n",
    "    while cap.isOpened():\n",
    "        current_time = time.time()\n",
    "        elapsed = current_time - last_time\n",
    "        last_time = current_time\n",
    "        \n",
    "        ret, frame = cap.read()\n",
    "        if not ret: \n",
    "            break\n",
    "        \n",
    "        yolo_results = yolo_model(frame, verbose=False, device=device)\n",
    "        \n",
    "        current_detection = None\n",
    "        if yolo_results and yolo_results[0].boxes is not None and len(yolo_results[0].boxes) > 0:\n",
    "            boxes = yolo_results[0].boxes.xyxy.cpu().numpy()\n",
    "            keypoints_list = yolo_results[0].keypoints.data.cpu().numpy()\n",
    "            \n",
    "            if len(boxes) > 0 and len(keypoints_list) > 0:\n",
    "                current_detection = {\n",
    "                    \"kps\": keypoints_list[0][:, :2],\n",
    "                    \"confs\": keypoints_list[0][:, 2],\n",
    "                    \"box\": boxes[0]\n",
    "                }\n",
    "                \n",
    "                analyzer.update_boxer_data(current_detection[\"kps\"], current_detection[\"confs\"])\n",
    "        \n",
    "        analyzer.analyze_action(device)\n",
    "        \n",
    "        analyzer.update_state()\n",
    "        \n",
    "        display_frame = draw_shadow_boxing_ui(frame, analyzer, current_detection)\n",
    "        resized_frame = cv2.resize(display_frame, (config[\"PREVIEW_WIDTH\"], config[\"PREVIEW_HEIGHT\"]))\n",
    "        cv2.imshow('Shadow Boxing Trainer', resized_frame)\n",
    "        \n",
    "        key = cv2.waitKey(1) & 0xFF\n",
    "        if key == ord('q'):\n",
    "            break\n",
    "        elif key == ord('s'):\n",
    "            config[\"AUDIO_ENABLED\"] = not config[\"AUDIO_ENABLED\"]\n",
    "            status = \"enabled\" if config[\"AUDIO_ENABLED\"] else \"disabled\"\n",
    "            print(f\"Audio feedback {status}\")\n",
    "        elif key == ord('+') or key == ord('='):\n",
    "            new_volume = min(1.0, config[\"AUDIO_VOLUME\"] + 0.1)\n",
    "            audio_feedback.set_volume(new_volume)\n",
    "            print(f\"Volume: {int(new_volume*100)}%\")\n",
    "        elif key == ord('-'):\n",
    "            new_volume = max(0.0, config[\"AUDIO_VOLUME\"] - 0.1)\n",
    "            audio_feedback.set_volume(new_volume)\n",
    "            print(f\"Volume: {int(new_volume*100)}%\")\n",
    "        \n",
    "        processing_time = time.time() - current_time\n",
    "        delay = max(1, int((1/config[\"FPS_TARGET\"] - processing_time) * 1000))\n",
    "    \n",
    "    cap.release()\n",
    "    cv2.destroyAllWindows()\n",
    "    pygame.mixer.quit()\n",
    "    print(\"Shadow boxing session completed!\")\n",
    "    \n",
    "    total_time = int(time.time() - analyzer.boxer_data[\"session_start\"])\n",
    "    minutes, seconds = divmod(total_time, 60)\n",
    "    print(f\"Session Summary:\")\n",
    "    print(f\"   Duration: {minutes:02d}:{seconds:02d}\")\n",
    "    print(f\"   Total Punches: {analyzer.boxer_data['punch_count']}\")\n",
    "    print(f\"   Max Combo: {max(analyzer.boxer_data.get('max_combo', 0), analyzer.boxer_data['combo_count'])}\")\n",
    "\n",
    "if __name__ == '__main__':\n",
    "    main()"
   ]
  },
  {
   "cell_type": "code",
   "execution_count": null,
   "id": "0fb20226",
   "metadata": {},
   "outputs": [],
   "source": []
  }
 ],
 "metadata": {
  "kernelspec": {
   "display_name": "boxingtf",
   "language": "python",
   "name": "python3"
  },
  "language_info": {
   "codemirror_mode": {
    "name": "ipython",
    "version": 3
   },
   "file_extension": ".py",
   "mimetype": "text/x-python",
   "name": "python",
   "nbconvert_exporter": "python",
   "pygments_lexer": "ipython3",
   "version": "3.10.18"
  }
 },
 "nbformat": 4,
 "nbformat_minor": 5
}
